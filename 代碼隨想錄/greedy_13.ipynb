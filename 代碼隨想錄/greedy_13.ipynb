{
 "cells": [
  {
   "cell_type": "markdown",
   "metadata": {},
   "source": [
    "# 无重叠区间\n",
    "\n",
    "## 问题\n",
    "\n",
    "给定一个区间的集合，找到需要移除区间的最小数量，使剩余区间互不重叠。\n",
    "\n",
    "注意: 可以认为区间的终点总是大于它的起点。 区间 [1,2] 和 [2,3] 的边界相互“接触”，但没有相互重叠。\n",
    "\n",
    "示例 1:\n",
    "\n",
    "- 输入: [ [1,2], [2,3], [3,4], [1,3] ]\n",
    "- 输出: 1\n",
    "- 解释: 移除 [1,3] 后，剩下的区间没有重叠。\n",
    "\n",
    "## 代码\n",
    "\n",
    "相信很多同学看到这道题目都冥冥之中感觉要排序，但是究竟是按照右边界排序，还是按照左边界排序呢？\n",
    "\n",
    "这其实是一个难点！\n",
    "\n",
    "- 按照右边界排序，就要从左向右遍历，因为右边界越小越好，只要右边界越小，留给下一个区间的空间就越大，所以从左向右遍历，优先选右边界小的。\n",
    "\n",
    "- 按照左边界排序，就要从右向左遍历，因为左边界数值越大越好（越靠右），这样就给前一个区间的空间就越大，所以可以从右向左遍历。\n",
    "\n"
   ]
  },
  {
   "cell_type": "markdown",
   "metadata": {},
   "source": [
    "**我来按照右边界排序，从左向右记录非交叉区间的个数。最后用区间总数减去非交叉区间的个数就是需要移除的区间个数了。**"
   ]
  },
  {
   "cell_type": "code",
   "execution_count": null,
   "metadata": {},
   "outputs": [],
   "source": [
    "class Solution(object):\n",
    "    def eraseOverlapIntervals(self, intervals):\n",
    "        \"\"\"\n",
    "        :type intervals: List[List[int]]\n",
    "        :rtype: int\n",
    "        按照区间右边界排序\n",
    "        \"\"\"\n",
    "        if len(intervals)==0:\n",
    "            return 0 \n",
    "        # 排序\n",
    "        intervals.sort(key =lambda x:x[1])\n",
    "        \n",
    "        # 记录非交叉区间的个数\n",
    "        count = 1 \n",
    "        # 记录区间分割点\n",
    "        end = intervals[0][1]\n",
    "        for i in range(1,len(intervals)):\n",
    "            if end <= intervals[i][0]:\n",
    "                end = intervals[i][1]\n",
    "                count+=1\n",
    "        return len(intervals)-count\n"
   ]
  }
 ],
 "metadata": {
  "kernelspec": {
   "display_name": "Python 3.9.2 64-bit",
   "language": "python",
   "name": "python3"
  },
  "language_info": {
   "name": "python",
   "version": "3.9.2"
  },
  "orig_nbformat": 4,
  "vscode": {
   "interpreter": {
    "hash": "397704579725e15f5c7cb49fe5f0341eb7531c82d19f2c29d197e8b64ab5776b"
   }
  }
 },
 "nbformat": 4,
 "nbformat_minor": 2
}
