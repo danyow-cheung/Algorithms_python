{
 "cells": [
  {
   "attachments": {},
   "cell_type": "markdown",
   "metadata": {},
   "source": [
    "# 目標和\n",
    "\n",
    "## 問題\n",
    "给定一个非负整数数组，a1, a2, ..., an, 和一个目标数，S。现在你有两个符号 + 和 -。对于数组中的任意一个整数，你都可以从 + 或 -中选择一个符号添加在前面。\n",
    "\n",
    "返回可以使最终数组和为目标数 S 的所有添加符号的方法数。\n",
    "\n",
    "示例：\n",
    "\n",
    "输入：nums: [1, 1, 1, 1, 1], S: 3\n",
    "\n",
    "输出：5\n",
    "\n",
    "解释：\n",
    "- -1+1+1+1+1 = 3\n",
    "- +1-1+1+1+1 = 3\n",
    "- +1+1-1+1+1 = 3\n",
    "- +1+1+1-1+1 = 3\n",
    "- +1+1+1+1-1 = 3\n",
    "\n",
    "一共有5种方法让最终目标和为3。\n",
    "\n",
    "提示：\n",
    "\n",
    "数组非空，且长度不会超过 20 。\n",
    "初始的数组的和不会超过 1000 。\n",
    "保证返回的最终结果能被 32 位整数存下。\n",
    "\n",
    "\n",
    "## 代碼\n"
   ]
  },
  {
   "attachments": {},
   "cell_type": "markdown",
   "metadata": {},
   "source": [
    "公式来了， left - (sum - left) = target 推导出 left = (target + sum)/2 。\n",
    "\n",
    "target是固定的，sum是固定的，left就可以求出来。\n",
    "\n",
    "此时问题就是在集合nums中找出和为left的组合。\n",
    "\n",
    "\n"
   ]
  },
  {
   "attachments": {},
   "cell_type": "markdown",
   "metadata": {},
   "source": [
    "### 動態規劃\n",
    "\n",
    "如何转化为01背包问题呢。\n",
    "\n",
    "假设加法的总和为x，那么减法对应的总和就是sum - x。\n",
    "\n",
    "所以我们要求的是 x - (sum - x) = target\n",
    "\n",
    "x = (target + sum) / 2\n",
    "\n",
    "此时问题就转化为，装满容量为x背包，有几种方法。\n",
    "\n",
    "这里的x，就是bagSize，也就是我们后面要求的背包容量。\n",
    "\n",
    "大家看到(target + sum) / 2 应该担心计算的过程中向下取整有没有影响。\n",
    "\n"
   ]
  },
  {
   "cell_type": "code",
   "execution_count": null,
   "metadata": {},
   "outputs": [],
   "source": [
    "class Solution(object):\n",
    "    def findTargetSumWays(self, nums, target):\n",
    "        \"\"\"\n",
    "        :type nums: List[int]\n",
    "        :type target: int\n",
    "        :rtype: int\n",
    "        \n",
    "        \"\"\"\n",
    "        "
   ]
  },
  {
   "attachments": {},
   "cell_type": "markdown",
   "metadata": {},
   "source": [
    "本题还是有点难度，大家也可以记住，在求装满背包有几种方法的情况下，递推公式一般为：\n",
    "\n",
    "> dp[j] += dp[j - nums[i]];\n"
   ]
  },
  {
   "cell_type": "code",
   "execution_count": 4,
   "metadata": {},
   "outputs": [],
   "source": [
    "class Solution(object):\n",
    "    def findTargetSumWays(self, nums, target):\n",
    "        \"\"\"\n",
    "        :type nums: List[int]\n",
    "        :type target: int\n",
    "        :rtype: int\n",
    "        \n",
    "        \"\"\"\n",
    "        sumValue = sum(nums)\n",
    "        # 注意邊界條件是target>sumValue 或者target<=sumValue 或者(sumValue + target) % 2 == 1\n",
    "        if abs(target)>sumValue or (sumValue+target)%2==1 :\n",
    "            return 0 \n",
    "        bagSize = (sumValue+target)//2 \n",
    "        dp = [0]*(bagSize+1)\n",
    "        dp[0]=1 \n",
    "        for i in range(len(nums)):\n",
    "            for j in range(bagSize,nums[i]-1,-1):\n",
    "                dp[j] += dp[j-nums[i]]\n",
    "        print(dp[bagSize])\n",
    "        return dp[bagSize]\n",
    "\n",
    "nums = [1,1,1,1]\n",
    "target =3 \n",
    "obj = Solution().findTargetSumWays(nums,target)"
   ]
  },
  {
   "cell_type": "code",
   "execution_count": null,
   "metadata": {},
   "outputs": [],
   "source": []
  }
 ],
 "metadata": {
  "kernelspec": {
   "display_name": "Python 3",
   "language": "python",
   "name": "python3"
  },
  "language_info": {
   "codemirror_mode": {
    "name": "ipython",
    "version": 3
   },
   "file_extension": ".py",
   "mimetype": "text/x-python",
   "name": "python",
   "nbconvert_exporter": "python",
   "pygments_lexer": "ipython3",
   "version": "3.9.2"
  },
  "orig_nbformat": 4,
  "vscode": {
   "interpreter": {
    "hash": "397704579725e15f5c7cb49fe5f0341eb7531c82d19f2c29d197e8b64ab5776b"
   }
  }
 },
 "nbformat": 4,
 "nbformat_minor": 2
}
