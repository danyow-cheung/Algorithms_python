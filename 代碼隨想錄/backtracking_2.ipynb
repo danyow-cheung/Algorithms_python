{
 "cells": [
  {
   "cell_type": "markdown",
   "metadata": {},
   "source": [
    "# 组合优化\n",
    "\n",
    "上一道题的内容\n",
    "https://leetcode.com/problems/combinations/\n",
    "\n",
    "## 问题\n",
    "\n",
    "可优化的地方\n",
    "**可以剪枝的地方就在递归中每一层的for循环选择起始的位置。**\n",
    "**如果for循环选择的起始位置之后的元素个数已经不足我们所需要的个数，那么就没必要搜素**\n",
    "## 代码\n",
    "\n"
   ]
  },
  {
   "cell_type": "code",
   "execution_count": 1,
   "metadata": {},
   "outputs": [],
   "source": [
    "class Solution(object):\n",
    "    def combine(self, n, k):\n",
    "        \"\"\"\n",
    "        :type n: int\n",
    "        :type k: int\n",
    "        :rtype: List[List[int]]\n",
    "        \"\"\"\n",
    "        result = []\n",
    "        path = []\n",
    "        def backtracking(n,k,startIdx):\n",
    "            if len(path)==k:\n",
    "                result.append(path[:])\n",
    "                return \n",
    "\n",
    "            \n",
    "            for i in range(startIdx,n-(k-len(path))+2):# 优化地方\n",
    "                path.append(i)\n",
    "                backtracking(n,k,i+1)\n",
    "                path.pop()\n",
    "        \n",
    "        backtracking(n,k,1)\n",
    "        return result \n",
    "\n"
   ]
  },
  {
   "cell_type": "code",
   "execution_count": null,
   "metadata": {},
   "outputs": [],
   "source": []
  }
 ],
 "metadata": {
  "kernelspec": {
   "display_name": "Python 3.9.2 64-bit",
   "language": "python",
   "name": "python3"
  },
  "language_info": {
   "codemirror_mode": {
    "name": "ipython",
    "version": 3
   },
   "file_extension": ".py",
   "mimetype": "text/x-python",
   "name": "python",
   "nbconvert_exporter": "python",
   "pygments_lexer": "ipython3",
   "version": "3.9.2"
  },
  "orig_nbformat": 4,
  "vscode": {
   "interpreter": {
    "hash": "397704579725e15f5c7cb49fe5f0341eb7531c82d19f2c29d197e8b64ab5776b"
   }
  }
 },
 "nbformat": 4,
 "nbformat_minor": 2
}
