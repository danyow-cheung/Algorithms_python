{
 "cells": [
  {
   "cell_type": "markdown",
   "metadata": {},
   "source": [
    "# 二叉树的最大深度\n",
    "\n",
    "## 问题\n",
    "\n",
    "给定一个二叉树，找出其最大深度。\n",
    "\n",
    "二叉树的深度为根节点到最远叶子节点的最长路径上的节点数。\n",
    "\n",
    "说明: 叶子节点是指没有子节点的节点。\n",
    "\n",
    "示例： 给定二叉树 [3,9,20,null,null,15,7]，\n",
    "<img src =\"https://img-blog.csdnimg.cn/20210203153031914.png\">\n",
    "\n",
    "返回最大深度3\n",
    "\n",
    "## 代码\n",
    "**递归法**\n",
    "使用前序（中左右），也可以用后序（左右中），使用前序就是求深度，使用后序就是求高度\n",
    "- 二叉树节点的深度：指从根节点到该节点的最长简单路径的条数，或者节点数（取决于深度从0开始还是1开始）\n",
    "- 二叉树节点的高度：指从该节点到叶子节点的最长简单路径边的条数或者节点数\n",
    "  "
   ]
  },
  {
   "cell_type": "code",
   "execution_count": null,
   "metadata": {},
   "outputs": [],
   "source": [
    "# Definition for a binary tree node.\n",
    "# class TreeNode(object):\n",
    "#     def __init__(self, val=0, left=None, right=None):\n",
    "#         self.val = val\n",
    "#         self.left = left\n",
    "#         self.right = right\n",
    "class Solution(object):\n",
    "    def maxDepth(self, root):\n",
    "        \"\"\"\n",
    "        :type root: TreeNode\n",
    "        :rtype: int\n",
    "        递归前序遍历\n",
    "        \"\"\"\n",
    "        def getDepth(root):\n",
    "            if root is None:\n",
    "                return 0 \n",
    "            left_depth = getDepth(root.left)\n",
    "            right_depth = getDepth(root.right)\n",
    "            depth = 1+max(left_depth,right_depth)\n",
    "            return depth\n",
    "        return getDepth(root)\n",
    "    def maxDepth_v2(self,root):\n",
    "        '''递归法，层序遍历\n",
    "        使用迭代法的话，使用层序遍历是最为合适的，因为最大的深度就是二叉树的层数，和层序遍历的方式极其吻合。\n",
    "        '''\n",
    "        if root is None:\n",
    "            return 0 \n",
    "        # 记录深度\n",
    "        depth = 0\n",
    "        import collections\n",
    "        queue = collections.deque(root)\n",
    "        while queue:\n",
    "            size = len(queue)\n",
    "            depth+=1\n",
    "            for i in range(size):\n",
    "                node = queue.popleft()\n",
    "                if node.left:\n",
    "                    queue.append(node.left)\n",
    "                if node.right:\n",
    "                    queue.append(node.right)\n",
    "        return depth \n",
    "        \n"
   ]
  },
  {
   "cell_type": "markdown",
   "metadata": {},
   "source": [
    "# N叉树的最大深度\n",
    "\n",
    "## 问题\n",
    "\n",
    "给定一个 n 叉树，找到其最大深度。\n",
    "\n",
    "最大深度是指从根节点到最远叶子节点的最长路径上的节点总数。\n",
    "\n",
    "例如，给定一个 3叉树 :\n",
    "\n",
    "\n",
    "<img src =\"https://img-blog.csdnimg.cn/2021020315313214.png\">\n",
    "\n",
    "我们应返回其最大深度，3。\n",
    "\n",
    "\n",
    "## 代码\n",
    "\n"
   ]
  },
  {
   "cell_type": "code",
   "execution_count": null,
   "metadata": {},
   "outputs": [],
   "source": [
    "\"\"\"\n",
    "# Definition for a Node.\n",
    "class Node(object):\n",
    "    def __init__(self, val=None, children=None):\n",
    "        self.val = val\n",
    "        self.children = children\n",
    "\"\"\"\n",
    "\n",
    "class Solution(object):\n",
    "    def maxDepth(self, root):\n",
    "        \"\"\"\n",
    "        :type root: Node\n",
    "        :rtype: int\n",
    "        \"\"\"\n",
    "        def getDepth(root):\n",
    "            if root is None:\n",
    "                return 0 \n",
    "            depth =0 \n",
    "            for i in range(len(root.children)):\n",
    "                depth = max(depth,getDepth(root.children[i]))\n",
    "\n",
    "            return depth +1 \n",
    "        return getDepth(root)"
   ]
  }
 ],
 "metadata": {
  "kernelspec": {
   "display_name": "Python 3.9.2 64-bit",
   "language": "python",
   "name": "python3"
  },
  "language_info": {
   "name": "python",
   "version": "3.9.2"
  },
  "orig_nbformat": 4,
  "vscode": {
   "interpreter": {
    "hash": "397704579725e15f5c7cb49fe5f0341eb7531c82d19f2c29d197e8b64ab5776b"
   }
  }
 },
 "nbformat": 4,
 "nbformat_minor": 2
}
