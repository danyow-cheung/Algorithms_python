{
 "cells": [
  {
   "attachments": {},
   "cell_type": "markdown",
   "metadata": {},
   "source": [
    "# 寻找数组的中心坐标\n",
    "\n",
    "## 问题\n",
    "给你一个整数数组 nums ，请计算数组的 中心下标 。\n",
    "\n",
    "数组 中心下标 是数组的一个下标，其左侧所有元素相加的和等于右侧所有元素相加的和。\n",
    "\n",
    "如果中心下标位于数组最左端，那么左侧数之和视为 0 ，因为在下标的左侧不存在元素。这一点对于中心下标位于数组最右端同样适用。\n",
    "\n",
    "如果数组有多个中心下标，应该返回 最靠近左边 的那一个。如果数组不存在中心下标，返回 -1 。\n",
    "\n",
    "示例 1：\n",
    "\n",
    "- 输入：nums = [1, 7, 3, 6, 5, 6]\n",
    "- 输出：3\n",
    "- 解释：中心下标是 3。左侧数之和 sum = nums[0] + nums[1] + nums[2] = 1 + 7 + 3 = 11 ，右侧数之和 sum = nums[4] + nums[5] = 5 + 6 = 11 ，二者相等。\n",
    "\n",
    "\n",
    "## 代码\n"
   ]
  },
  {
   "cell_type": "code",
   "execution_count": 4,
   "metadata": {},
   "outputs": [
    {
     "name": "stdout",
     "output_type": "stream",
     "text": [
      "i= 3\n"
     ]
    }
   ],
   "source": [
    "class Solution(object):\n",
    "    def pivotIndex(self, nums):\n",
    "        \"\"\"\n",
    "        :type nums: List[int]\n",
    "        :rtype: int\n",
    "        \"\"\"\n",
    "        for i in range(len(nums)):\n",
    "            # print(nums[:i],nums[i+1:])\n",
    "            if sum(nums[:i]) == sum(nums[i+1:]):\n",
    "                print('i=',i)\n",
    "                return i \n",
    "nums = [1,7,3,6,5,6] \n",
    "obj = Solution().pivotIndex(nums) "
   ]
  },
  {
   "cell_type": "code",
   "execution_count": null,
   "metadata": {},
   "outputs": [],
   "source": []
  }
 ],
 "metadata": {
  "kernelspec": {
   "display_name": "Python 3",
   "language": "python",
   "name": "python3"
  },
  "language_info": {
   "codemirror_mode": {
    "name": "ipython",
    "version": 3
   },
   "file_extension": ".py",
   "mimetype": "text/x-python",
   "name": "python",
   "nbconvert_exporter": "python",
   "pygments_lexer": "ipython3",
   "version": "3.9.2"
  },
  "orig_nbformat": 4,
  "vscode": {
   "interpreter": {
    "hash": "397704579725e15f5c7cb49fe5f0341eb7531c82d19f2c29d197e8b64ab5776b"
   }
  }
 },
 "nbformat": 4,
 "nbformat_minor": 2
}
