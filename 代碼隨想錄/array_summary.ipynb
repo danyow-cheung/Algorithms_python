{
 "cells": [
  {
   "cell_type": "markdown",
   "metadata": {},
   "source": [
    "## 數組理論基礎\n",
    "數組是存放在**連續空間**上的相同類型數據的集合\n",
    "- 數組下標從0開始\n",
    "- 數組內存空間的地址是連續的"
   ]
  },
  {
   "cell_type": "markdown",
   "metadata": {},
   "source": [
    "數組在內存空間的地址是連續的，所以在刪除或增添元素時候，難免移動其他元素的地址\n",
    "<u>數組元素是無法刪除，只能覆蓋</u>"
   ]
  }
 ],
 "metadata": {
  "kernelspec": {
   "display_name": "Python 3.9.2 64-bit",
   "language": "python",
   "name": "python3"
  },
  "language_info": {
   "name": "python",
   "version": "3.9.2"
  },
  "orig_nbformat": 4,
  "vscode": {
   "interpreter": {
    "hash": "397704579725e15f5c7cb49fe5f0341eb7531c82d19f2c29d197e8b64ab5776b"
   }
  }
 },
 "nbformat": 4,
 "nbformat_minor": 2
}
