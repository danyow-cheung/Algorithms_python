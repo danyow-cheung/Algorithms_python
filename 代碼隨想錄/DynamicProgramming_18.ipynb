{
 "cells": [
  {
   "cell_type": "markdown",
   "id": "8dbe0468",
   "metadata": {},
   "source": [
    "# 单词拆分\n",
    "\n",
    "## 问题\n",
    "\n",
    "给定一个非空字符串 s 和一个包含非空单词的列表 wordDict，判定 s 是否可以被空格拆分为一个或多个在字典中出现的单词。\n",
    "\n",
    "说明：\n",
    "\n",
    "拆分时可以重复使用字典中的单词。\n",
    "\n",
    "你可以假设字典中没有重复的单词。\n",
    "\n",
    "示例 1：\n",
    "\n",
    "输入: s = \"leetcode\", wordDict = [\"leet\", \"code\"]\n",
    "输出: true\n",
    "解释: 返回 true 因为 \"leetcode\" 可以被拆分成 \"leet code\"。\n",
    "\n",
    "## 代码\n"
   ]
  },
  {
   "cell_type": "markdown",
   "id": "5970286e",
   "metadata": {},
   "source": [
    "单词就是物品，字符串s就是背包，单词能否组成字符串s，就是问物品能不能把背包装满。\n",
    "\n",
    "拆分时可以重复使用字典中的单词，说明就是一个完全背包！"
   ]
  },
  {
   "cell_type": "code",
   "execution_count": null,
   "id": "f63ff0d5",
   "metadata": {},
   "outputs": [],
   "source": [
    "class Solution(object):\n",
    "    def wordBreak(self, s, wordDict):\n",
    "        \"\"\"\n",
    "        :type s: str\n",
    "        :type wordDict: List[str]\n",
    "        :rtype: bool\n",
    "        \"\"\"\n",
    "        '''排列'''\n",
    "        dp = [False]*(len(s)+1)\n",
    "        dp[0]= True \n",
    "        # 遍历背包\n",
    "        for j in range(1,len(s)+1):\n",
    "            for word in wordDict:\n",
    "                if j>= len(word):\n",
    "                    dp[j] = dp[j] or (dp[j - len(word)] and word == s[j - len(word):j])\n",
    "        return dp[len(s)]\n",
    "    "
   ]
  }
 ],
 "metadata": {
  "kernelspec": {
   "display_name": "Python 3 (ipykernel)",
   "language": "python",
   "name": "python3"
  },
  "language_info": {
   "codemirror_mode": {
    "name": "ipython",
    "version": 3
   },
   "file_extension": ".py",
   "mimetype": "text/x-python",
   "name": "python",
   "nbconvert_exporter": "python",
   "pygments_lexer": "ipython3",
   "version": "3.9.13"
  }
 },
 "nbformat": 4,
 "nbformat_minor": 5
}
