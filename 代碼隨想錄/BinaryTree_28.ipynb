{
 "cells": [
  {
   "cell_type": "markdown",
   "metadata": {},
   "source": [
    "# 把二叉搜索树转换为累加树\n",
    "\n",
    "## 问题\n",
    "\n",
    "给出二叉 搜索 树的根节点，该树的节点值各不相同，请你将其转换为累加树（Greater Sum Tree），使每个节点 node 的新值等于原树中大于或等于 node.val 的值之和。\n",
    "\n",
    "提醒一下，二叉搜索树满足下列约束条件：\n",
    "\n",
    "节点的左子树仅包含键 小于 节点键的节点。 节点的右子树仅包含键 大于 节点键的节点。 左右子树也必须是二叉搜索树。\n",
    "\n",
    "示例 1：\n",
    "\n",
    "输入：[4,1,6,0,2,5,7,null,null,null,3,null,null,null,8]\n",
    "\n",
    "\n",
    "\n",
    "输出：[30,36,21,36,35,26,15,null,null,null,33,null,null,null,8]\n",
    "\n",
    "<img src = 'https://img-blog.csdnimg.cn/20201023160751832.png'>\n",
    "\n",
    "## 代码\n"
   ]
  },
  {
   "cell_type": "code",
   "execution_count": null,
   "metadata": {},
   "outputs": [],
   "source": [
    "# Definition for a binary tree node.\n",
    "class TreeNode(object):\n",
    "    def __init__(self, val=0, left=None, right=None):\n",
    "        self.val = val\n",
    "        self.left = left\n",
    "        self.right = right\n",
    "        \n",
    "class Solution(object):\n",
    "    def __init__(self):\n",
    "        self.pre = TreeNode()\n",
    "\n",
    "    def convertBST(self, root):\n",
    "        \"\"\"\n",
    "        :type root: TreeNode\n",
    "        :rtype: TreeNode\n",
    "        \"\"\"\n",
    "    \n",
    "        def loop(root):\n",
    "            '''因为要遍历整颗树，所以递归函数不需要返回值'''\n",
    "            if not root:\n",
    "                return  None  \n",
    "            loop(root.right)\n",
    "            root.val += self.pre.val \n",
    "            self.pre = root.val \n",
    "            loop(root.left)\n",
    "\n",
    "\n",
    "        \n",
    "        loop(root)\n",
    "        return root \n",
    "\n",
    "        "
   ]
  }
 ],
 "metadata": {
  "language_info": {
   "name": "python"
  },
  "orig_nbformat": 4
 },
 "nbformat": 4,
 "nbformat_minor": 2
}
