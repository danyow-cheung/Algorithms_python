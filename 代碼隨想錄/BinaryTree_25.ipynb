{
 "cells": [
  {
   "cell_type": "markdown",
   "metadata": {},
   "source": [
    "# 删除二叉搜索树中的节点\n",
    "\n",
    "## 问题\n",
    "\n",
    "给定一个二叉搜索树的根节点 root 和一个值 key，删除二叉搜索树中的 key 对应的节点，并保证二叉搜索树的性质不变。返回二叉搜索树（有可能被更新）的根节点的引用。\n",
    "\n",
    "一般来说，删除节点可分为两个步骤：\n",
    "\n",
    "首先找到需要删除的节点； 如果找到了，删除它。 说明： 要求算法时间复杂度为 $O(h)$，h 为树的高度。\n",
    "\n",
    "示例:\n",
    "\n",
    "\n",
    "<img src = 'https://img-blog.csdnimg.cn/20201020171048265.png'>\n",
    "\n",
    "## 代码\n",
    "\n"
   ]
  },
  {
   "cell_type": "markdown",
   "metadata": {},
   "source": [
    "有以下五种情况：\n",
    "\n",
    "- 第一种情况：没找到删除的节点，遍历到空节点直接返回了找到删除的节点\n",
    "- 第二种情况：左右孩子都为空（叶子节点），直接删除节点， 返回NULL为根节点\n",
    "- 第三种情况：删除节点的左孩子为空，右孩子不为空，删除节点，右孩子补位，返回右孩子为根节点\n",
    "- 第四种情况：删除节点的右孩子为空，左孩子不为空，删除节点，左孩子补位，返回左孩子为根节点\n",
    "- 第五种情况：左右孩子节点都不为空，则将删除节点的左子树头结点（左孩子）放到删除节点的右子树的最左面节点的左孩子上，返回删除节点右孩子为新的根节点。"
   ]
  },
  {
   "cell_type": "code",
   "execution_count": null,
   "metadata": {},
   "outputs": [],
   "source": [
    "# Definition for a binary tree node.\n",
    "# class TreeNode(object):\n",
    "#     def __init__(self, val=0, left=None, right=None):\n",
    "#         self.val = val\n",
    "#         self.left = left\n",
    "#         self.right = right\n",
    "class Solution(object):\n",
    "    def deleteNode(self, root, key):\n",
    "        \"\"\"\n",
    "        :type root: TreeNode\n",
    "        :type key: int\n",
    "        :rtype: TreeNode\n",
    "        \"\"\"\n",
    "        # 第一种情况\n",
    "        if not root:\n",
    "            return None\n",
    "\n",
    "        if root.val <key:\n",
    "            root.right = self.deleteNode(root.right,key)\n",
    "        elif root.val > key:\n",
    "            root.left = self.deleteNode(root.left,key)\n",
    "\n",
    "        else:\n",
    "            # 【第三种情况】当前节点的左子树为空，返回当前的右子树 \n",
    "            if not root.left:\n",
    "                return root.right \n",
    "            #  【第四种情况】\n",
    "            if not root.right:\n",
    "                return root.left \n",
    "            \n",
    "            # 左右子树都不为空，找到右孩子的最左节点记为p\n",
    "            node = root.right \n",
    "            while node.left:\n",
    "                node = node.left \n",
    "            # # 将当前节点的左子树挂在p的左孩子上\n",
    "            # node.left = root.left \n",
    "            # # 当前节点的右子树替换为当前节点，完成当前节点的删除\n",
    "            # root = root.right \n",
    "            root.val = node.val\n",
    "            root.right = self.deleteNode(root.right, root.val)\n",
    "        return root \n"
   ]
  }
 ],
 "metadata": {
  "language_info": {
   "name": "python"
  },
  "orig_nbformat": 4
 },
 "nbformat": 4,
 "nbformat_minor": 2
}
