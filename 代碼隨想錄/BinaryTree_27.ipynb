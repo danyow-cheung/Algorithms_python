{
 "cells": [
  {
   "cell_type": "markdown",
   "metadata": {},
   "source": [
    "# 将有序数组转换为二叉搜索树\n",
    "\n",
    "\n",
    "## 问题\n",
    "将一个按照升序排列的有序数组，转换为一棵高度平衡二叉搜索树。\n",
    "\n",
    "本题中，一个高度平衡二叉树是指一个二叉树每个节点 的左右两个子树的高度差的绝对值不超过 1。\n",
    "\n",
    "示例:\n",
    "<img src= 'https://img-blog.csdnimg.cn/20201022164420763.png'>\n",
    "\n",
    "## 代码\n",
    "\n"
   ]
  },
  {
   "cell_type": "code",
   "execution_count": null,
   "metadata": {},
   "outputs": [],
   "source": [
    "# Definition for a binary tree node.\n",
    "class TreeNode(object):\n",
    "    def __init__(self, val=0, left=None, right=None):\n",
    "        self.val = val\n",
    "        self.left = left\n",
    "        self.right = right\n",
    "class Solution(object):\n",
    "    def sortedArrayToBST(self, nums):\n",
    "        \"\"\"\n",
    "        :type nums: List[int]\n",
    "        :rtype: TreeNode\n",
    "        \"\"\"\n",
    "        def loop(root,left,right):\n",
    "            if left>right:\n",
    "                return None \n",
    "            mid = left + ((right-left)/2)\n",
    "            # 构建二叉树的根节点\n",
    "            root = TreeNode(nums[mid])\n",
    "            root.left = loop(nums,left,mid-1)\n",
    "            root.right = loop(nums,mid+1,right)\n",
    "            return root \n",
    "        root = loop(nums,0,len(nums)-1)\n",
    "        return root "
   ]
  }
 ],
 "metadata": {
  "language_info": {
   "name": "python"
  },
  "orig_nbformat": 4
 },
 "nbformat": 4,
 "nbformat_minor": 2
}
