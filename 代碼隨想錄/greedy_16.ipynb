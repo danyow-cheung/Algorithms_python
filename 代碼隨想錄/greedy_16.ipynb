{
 "cells": [
  {
   "cell_type": "markdown",
   "metadata": {},
   "source": [
    "# 单调递增的数字\n",
    "\n",
    "## 问题\n",
    "\n",
    "\n",
    "给定一个非负整数 N，找出小于或等于 N 的最大的整数，同时这个整数需要满足其各个位数上的数字是单调递增。\n",
    "\n",
    "（当且仅当每个相邻位数上的数字 x 和 y 满足 x <= y 时，我们称这个整数是单调递增的。）\n",
    "\n",
    "示例 1:\n",
    "\n",
    "- 输入: N = 10\n",
    "- 输出: 9\n",
    "\n",
    "示例 2:\n",
    "\n",
    "- 输入: N = 1234\n",
    "- 输出: 1234\n",
    "\n",
    "示例 3:\n",
    "\n",
    "- 输入: N = 332\n",
    "- 输出: 299\n",
    "说明: N 是在 [0, 10^9] 范围内的一个整数。\n",
    "\n",
    "## 代码\n",
    "\n"
   ]
  },
  {
   "cell_type": "markdown",
   "metadata": {},
   "source": [
    "**局部最优：遇到strNum[i - 1] > strNum[i]的情况，让strNum[i - 1]--，然后strNum[i]给为9，可以保证这两位变成最大单调递增整数。**\n",
    "\n",
    "**全局最优：得到小于等于N的最大单调递增的整数。**\n",
    "\n",
    "**但这里局部最优推出全局最优，还需要其他条件，即遍历顺序，和标记从哪一位开始统一改成9。**"
   ]
  },
  {
   "cell_type": "markdown",
   "metadata": {},
   "source": [
    "<u>后向遍历</u>"
   ]
  },
  {
   "cell_type": "code",
   "execution_count": 3,
   "metadata": {},
   "outputs": [],
   "source": [
    "class Solution(object):\n",
    "    def monotoneIncreasingDigits(self, n):\n",
    "        \"\"\"\n",
    "        :type n: int\n",
    "        :rtype: int\n",
    "        \"\"\"\n",
    "        a = list(str(n))\n",
    "        for i in range(len(a)-1,0,-1):\n",
    "            if int(a[i])<int(a[i-1]):\n",
    "                a[i-1] = str(int(a[i-1])-1)\n",
    "                a[i:] = '9'*(len(a)-i)\n",
    "        return int(''.join(a))"
   ]
  },
  {
   "cell_type": "code",
   "execution_count": null,
   "metadata": {},
   "outputs": [],
   "source": []
  }
 ],
 "metadata": {
  "kernelspec": {
   "display_name": "Python 3.9.2 64-bit",
   "language": "python",
   "name": "python3"
  },
  "language_info": {
   "codemirror_mode": {
    "name": "ipython",
    "version": 3
   },
   "file_extension": ".py",
   "mimetype": "text/x-python",
   "name": "python",
   "nbconvert_exporter": "python",
   "pygments_lexer": "ipython3",
   "version": "3.9.2"
  },
  "orig_nbformat": 4,
  "vscode": {
   "interpreter": {
    "hash": "397704579725e15f5c7cb49fe5f0341eb7531c82d19f2c29d197e8b64ab5776b"
   }
  }
 },
 "nbformat": 4,
 "nbformat_minor": 2
}
