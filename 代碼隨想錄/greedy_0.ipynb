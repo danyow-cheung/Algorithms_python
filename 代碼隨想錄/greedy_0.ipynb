{
 "cells": [
  {
   "cell_type": "markdown",
   "metadata": {},
   "source": [
    "# 贪心\n",
    "\n",
    "贪心的本质：选择每一阶段的局部最优，从而达到全局最优\n",
    "\n",
    "\n",
    "最好的策略就是举反例"
   ]
  },
  {
   "cell_type": "markdown",
   "metadata": {},
   "source": [
    "贪心算法一般分为如下四步：\n",
    "\n",
    "- 将问题分解为若干个子问题\n",
    "- 找出适合的贪心策略\n",
    "- 求解每一个子问题的最优解\n",
    "- 将局部最优解堆叠成全局最优解"
   ]
  }
 ],
 "metadata": {
  "kernelspec": {
   "display_name": "Python 3.9.2 64-bit",
   "language": "python",
   "name": "python3"
  },
  "language_info": {
   "name": "python",
   "version": "3.9.2"
  },
  "orig_nbformat": 4,
  "vscode": {
   "interpreter": {
    "hash": "397704579725e15f5c7cb49fe5f0341eb7531c82d19f2c29d197e8b64ab5776b"
   }
  }
 },
 "nbformat": 4,
 "nbformat_minor": 2
}
