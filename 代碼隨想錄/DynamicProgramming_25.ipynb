{
 "cells": [
  {
   "attachments": {},
   "cell_type": "markdown",
   "metadata": {},
   "source": [
    "# 買賣股票的最佳時機III\n",
    "## 問題\n",
    "\n",
    "给定一个数组，它的第 i 个元素是一支给定的股票在第 i 天的价格。\n",
    "\n",
    "设计一个算法来计算你所能获取的最大利润。你最多可以完成 两笔 交易。\n",
    "\n",
    "注意：你不能同时参与多笔交易（你必须在再次购买前出售掉之前的股票）。\n",
    "\n",
    "示例 1: \n",
    "\n",
    "输入：prices = [3,3,5,0,0,3,1,4] \n",
    "输出：6 \n",
    "\n",
    "解释：在第 4 天（股票价格 = 0）的时候买入，在第 6 天（股票价格 = 3）的时候卖出，这笔交易所能获得利润 = 3-0 = 3 。随后，在第 7 天（股票价格 = 1）的时候买入，在第 8 天 （股票价格 = 4）的时候卖出，这笔交易所能获得利润 = 4-1 = 3。\n",
    "\n",
    "## 代碼\n"
   ]
  },
  {
   "attachments": {},
   "cell_type": "markdown",
   "metadata": {},
   "source": [
    "一天一共就有五个状态，\n",
    "\n",
    "0. 没有操作 （其实我们也可以不设置这个状态）\n",
    "1. 第一次持有股票\n",
    "2. 第一次不持有股票\n",
    "3. 第二次持有股票\n",
    "4. 第二次不持有股票\n",
    "\n",
    "<img src= 'https://img-blog.csdnimg.cn/20201228181724295.png'>"
   ]
  },
  {
   "cell_type": "code",
   "execution_count": 1,
   "metadata": {},
   "outputs": [
    {
     "name": "stdout",
     "output_type": "stream",
     "text": [
      "[[0, 0, 0, 0, 0], [0, 0, 0, 0, 0], [0, 0, 0, 0, 0], [0, 0, 0, 0, 0], [0, 0, 0, 0, 0], [0, 0, 0, 0, 0], [0, 0, 0, 0, 0], [0, 0, 0, 0, 0]]\n"
     ]
    }
   ],
   "source": [
    "class Solution(object):\n",
    "    def maxProfit(self, prices):\n",
    "        \"\"\"\n",
    "        :type prices: List[int]\n",
    "        :rtype: int\n",
    "        \"\"\"\n",
    "        if len(prices)==0:\n",
    "            return 0 \n",
    "        dp = [[0]*5 for _ in range(len(prices))]\n",
    "        # print(dp)\n",
    "        dp[0][1] = -prices[0]\n",
    "        dp[0][3] = -prices[0]\n",
    "\n",
    "        for i in range(1,len(prices)):\n",
    "            dp[i][0] = dp[i-1][0]\n",
    "            dp[i][1] = max(dp[i-1][1],dp[i-1][0]-prices[i])\n",
    "            dp[i][2] = max(dp[i-1][2],dp[i-1][1]+prices[i])\n",
    "            dp[i][3] = max(dp[i-1][3],dp[i-1][2]-prices[i])\n",
    "            dp[i][4] = max(dp[i-1][4],dp[i-1][3]+prices[i])\n",
    "\n",
    "        return dp[-1][4]\n",
    "prices = [3,3,5,0,0,3,1,4]\n",
    "obj = Solution().maxProfit(prices)"
   ]
  },
  {
   "cell_type": "code",
   "execution_count": null,
   "metadata": {},
   "outputs": [],
   "source": []
  }
 ],
 "metadata": {
  "kernelspec": {
   "display_name": "Python 3",
   "language": "python",
   "name": "python3"
  },
  "language_info": {
   "codemirror_mode": {
    "name": "ipython",
    "version": 3
   },
   "file_extension": ".py",
   "mimetype": "text/x-python",
   "name": "python",
   "nbconvert_exporter": "python",
   "pygments_lexer": "ipython3",
   "version": "3.9.2"
  },
  "orig_nbformat": 4,
  "vscode": {
   "interpreter": {
    "hash": "397704579725e15f5c7cb49fe5f0341eb7531c82d19f2c29d197e8b64ab5776b"
   }
  }
 },
 "nbformat": 4,
 "nbformat_minor": 2
}
