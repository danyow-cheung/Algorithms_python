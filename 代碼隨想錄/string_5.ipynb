{
 "cells": [
  {
   "cell_type": "markdown",
   "metadata": {},
   "source": [
    "# 左旋转字符串\n",
    "\n",
    "## 问题\n",
    "字符串的左旋转操作是把字符串前面的若干个字符转移到字符串的尾部。请定义一个函数实现字符串左旋转操作的功能。比如，输入字符串\"abcdefg\"和数字2，该函数将返回左旋转两位得到的结果\"cdefgab\"\n",
    "\n",
    "<u>示例 1：</u><br>\n",
    "输入: s = \"abcdefg\", k = 2\n",
    "\n",
    "输出: \"cdefgab\"\n",
    "\n",
    "## 代码"
   ]
  },
  {
   "cell_type": "code",
   "execution_count": 3,
   "metadata": {},
   "outputs": [
    {
     "name": "stdout",
     "output_type": "stream",
     "text": [
      "cdefgab\n"
     ]
    }
   ],
   "source": [
    "class Solution(object):\n",
    "    def RotateStringLeft(self,s,k):\n",
    "        # right = s[k:]\n",
    "        # left = s[:k]\n",
    "        # print(right+left)\n",
    "        return s[k:]+s[:k]\n",
    "        \n",
    "\n",
    "s = \"abcdefg\"\n",
    "k = 2 \n",
    "obj = Solution().RotateStringLeft(s,k)"
   ]
  }
 ],
 "metadata": {
  "kernelspec": {
   "display_name": "Python 3.9.2 64-bit",
   "language": "python",
   "name": "python3"
  },
  "language_info": {
   "codemirror_mode": {
    "name": "ipython",
    "version": 3
   },
   "file_extension": ".py",
   "mimetype": "text/x-python",
   "name": "python",
   "nbconvert_exporter": "python",
   "pygments_lexer": "ipython3",
   "version": "3.9.2"
  },
  "orig_nbformat": 4,
  "vscode": {
   "interpreter": {
    "hash": "397704579725e15f5c7cb49fe5f0341eb7531c82d19f2c29d197e8b64ab5776b"
   }
  }
 },
 "nbformat": 4,
 "nbformat_minor": 2
}
