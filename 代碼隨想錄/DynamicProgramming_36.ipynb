{
 "cells": [
  {
   "attachments": {},
   "cell_type": "markdown",
   "metadata": {},
   "source": [
    "# 两个字符串的删除操作\n",
    "\n",
    "## 问题\n",
    "给定两个单词 word1 和 word2，找到使得 word1 和 word2 相同所需的最小步数，每步可以删除任意一个字符串中的一个字符。\n",
    "\n",
    "示例：\n",
    "\n",
    "输入: \"sea\", \"eat\"\n",
    "输出: 2 \n",
    "\n",
    "解释: 第一步将\"sea\"变为\"ea\"，第二步将\"eat\"变为\"ea\"\n",
    "\n",
    "\n",
    "\n",
    "## 代码\n",
    "\n",
    "- 当word1[i - 1] 与 word2[j - 1]相同的时候\n",
    "  - 当word1[i - 1] 与 word2[j - 1]相同的时候，dp[i][j] = dp[i - 1][j - 1];\n",
    "  因为dp[i - 1][j - 1] + 1等于 dp[i - 1][j] 或 dp[i][j - 1]，\n",
    "  所以递推公式可简化为：**dp[i][j] = min(dp[i - 1][j] + 1, dp[i][j - 1] + 1);**\n",
    "\n",
    "\n",
    "\n",
    "- 当word1[i - 1] 与 word2[j - 1]不相同的时候\n",
    "  - 情况一：删word1[i - 1]，最少操作次数为dp[i - 1][j] + 1\n",
    "\n",
    "  - 情况二：删word2[j - 1]，最少操作次数为dp[i][j - 1] + 1\n",
    "\n",
    "  - 情况三：同时删word1[i - 1]和word2[j - 1]，操作的最少次数为dp[i - 1][j - 1] + 2\n",
    "\n",
    "\n",
    "  那最后当然是取最小值，所以当word1[i - 1] 与 word2[j - 1]不相同的时候，\n",
    "  递推公式：d**p[i][j] = min({dp[i - 1][j - 1] + 2, dp[i - 1][j] + 1, dp[i][j - 1] + 1});**\n",
    "\n"
   ]
  },
  {
   "cell_type": "code",
   "execution_count": null,
   "metadata": {},
   "outputs": [],
   "source": [
    "class Solution(object):\n",
    "    def minDistance(self, word1, word2):\n",
    "        \"\"\"\n",
    "        :type word1: str\n",
    "        :type word2: str\n",
    "        :rtype: int\n",
    "        \"\"\"\n",
    "        dp = [[0]*(len(word2)+1) for i in range(len(word1)+1)]\n",
    "\n",
    "        for i in range(len(word1)+1):\n",
    "            dp[i][0] = i\n",
    "        for j in range(len(word2)+1):\n",
    "            dp[0][j] = j\n",
    "            \n",
    "        for i in range(1,len(word1)+1):\n",
    "            for j in range(1,len(word2)+1):\n",
    "                if word1[i-1]==word2[j-1]:\n",
    "                    dp[i][j] = dp[i-1][j-1]\n",
    "                else:\n",
    "                    dp[i][j] = min(dp[i-1][j]+2,dp[i-1][j]+1,dp[i][j-1]+1)\n",
    "        return dp[-1][-1]\n"
   ]
  }
 ],
 "metadata": {
  "language_info": {
   "name": "python"
  },
  "orig_nbformat": 4
 },
 "nbformat": 4,
 "nbformat_minor": 2
}
