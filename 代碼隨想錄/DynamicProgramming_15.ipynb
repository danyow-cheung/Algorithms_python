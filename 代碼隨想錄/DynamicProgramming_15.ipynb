{
 "cells": [
  {
   "attachments": {},
   "cell_type": "markdown",
   "metadata": {},
   "source": [
    "# 爬樓梯\n",
    "\n",
    "## 問題\n",
    "假设你正在爬楼梯。需要 n 阶你才能到达楼顶。\n",
    "\n",
    "每次你可以爬 1 或 2 个台阶。你有多少种不同的方法可以爬到楼顶呢？\n",
    "\n",
    "注意：给定 n 是一个正整数。\n",
    "\n",
    "示例 1： 输入： 2 输出： 2 解释： 有两种方法可以爬到楼顶。\n",
    "\n",
    "- 1 阶 + 1 阶\n",
    "- 2 阶\n",
    "\n",
    "示例 2： 输入： 3 输出： 3 解释： 有三种方法可以爬到楼顶。\n",
    "\n",
    "- 1 阶 + 1 阶 + 1 阶\n",
    "- 1 阶 + 2 阶\n",
    "- 2 阶 + 1 阶\n",
    "\n",
    "\n",
    "## 代碼\n"
   ]
  },
  {
   "cell_type": "code",
   "execution_count": null,
   "metadata": {},
   "outputs": [],
   "source": [
    "class Solution(object):\n",
    "    def climbStairs(self, n):\n",
    "        \"\"\"\n",
    "        :type n: int\n",
    "        :rtype: int\n",
    "        完全背包版本\n",
    "        \"\"\"\n",
    "        m = 2 \n",
    "        dp = [0]*(n+1)\n",
    "        for i in range(n+1):\n",
    "            for j in range(1,m+1):\n",
    "                if i>=j:\n",
    "                    dp[i]+= dp[i-j]\n",
    "        return dp[n]\n",
    "\n",
    "        "
   ]
  }
 ],
 "metadata": {
  "language_info": {
   "name": "python"
  },
  "orig_nbformat": 4
 },
 "nbformat": 4,
 "nbformat_minor": 2
}
