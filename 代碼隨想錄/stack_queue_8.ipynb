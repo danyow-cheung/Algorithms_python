{
 "cells": [
  {
   "cell_type": "markdown",
   "metadata": {},
   "source": [
    "# 前k个高频元素\n",
    "\n",
    "## 问题\n",
    "给定一个非空的整数数组，返回其中出现频率前 k 高的元素。\n",
    "\n",
    "**示例 1**\n",
    "输入: nums = [1,1,1,2,2,3], k = 2<br>\n",
    "输出: [1,2]\n",
    "\n",
    "## 代码\n"
   ]
  },
  {
   "cell_type": "code",
   "execution_count": 14,
   "metadata": {},
   "outputs": [
    {
     "name": "stdout",
     "output_type": "stream",
     "text": [
      "<built-in method get of Counter object at 0x7fe895946900>\n",
      "[1, 2]\n"
     ]
    }
   ],
   "source": [
    "from collections import Counter\n",
    "import heapq\n",
    "\n",
    "class Solution(object):\n",
    "    def topKFrequent(self, nums, k):\n",
    "        \"\"\"\n",
    "        :type nums: List[int]\n",
    "        :type k: int\n",
    "        :rtype: List[int]\n",
    "        \"\"\"\n",
    "        count  = Counter(nums)\n",
    "        print(count)\n",
    "\n",
    "        # if count.values()>k:\n",
    "        #     print(count.get())\n",
    "        res = []\n",
    "        for key,value in count.items():\n",
    "            print(f\"{key},{value}\")\n",
    "            if value>=k:\n",
    "                res.append(key)\n",
    "        print(res)\n",
    "        return res \n",
    "\n",
    "    def topKFrequent_tutorial(self, nums, k):\n",
    "        '''统计元素出现频率'''\n",
    "        map_ = {}\n",
    "        for i in range(len(nums)):\n",
    "            map_[nums[i]] = map_.get(nums[i],0)+1 \n",
    "        # {1: 3, 2: 2, 3: 1}\n",
    "        # print(map_)\n",
    "        \n",
    "        '''对频率进行排序，定义一个小顶堆，大小为k'''\n",
    "        pri_que = []\n",
    "        \n",
    "        # 用固定大小为k的小顶堆，扫面所有频率的数值\n",
    "        for key,freq in map_.items():\n",
    "            heapq.heappush(pri_que,(freq,key))\n",
    "            # 如果堆的大小大于了K，则队列弹出，保证堆的大小一直为k\n",
    "            if len(pri_que)>k:\n",
    "                heapq.heappop(pri_que)            \n",
    "        \n",
    "\n",
    "        '''找出前k个高频元素，因为小顶堆最先弹出的是最小的，所以倒序输出到数组'''\n",
    "        result = [0]*k \n",
    "        for i in range(k-1,-1,-1):\n",
    "            result[i] = heapq.heappop(pri_que)[1]\n",
    "        print(result)\n",
    "        return result\n",
    "\n",
    "    def topKFrequent_leetcode(self, nums, k):\n",
    "        count = Counter(nums)\n",
    "        print(count.get)\n",
    "        print(sorted(count,key=count.get,reverse=True)[:k])\n",
    "\n",
    "\n",
    "\n",
    "nums = [1,1,1,2,2,3]\n",
    "k = 2\n",
    "obj = Solution().topKFrequent_leetcode(nums,k)"
   ]
  },
  {
   "cell_type": "code",
   "execution_count": null,
   "metadata": {},
   "outputs": [],
   "source": []
  }
 ],
 "metadata": {
  "kernelspec": {
   "display_name": "Python 3.9.2 64-bit",
   "language": "python",
   "name": "python3"
  },
  "language_info": {
   "codemirror_mode": {
    "name": "ipython",
    "version": 3
   },
   "file_extension": ".py",
   "mimetype": "text/x-python",
   "name": "python",
   "nbconvert_exporter": "python",
   "pygments_lexer": "ipython3",
   "version": "3.9.2"
  },
  "orig_nbformat": 4,
  "vscode": {
   "interpreter": {
    "hash": "397704579725e15f5c7cb49fe5f0341eb7531c82d19f2c29d197e8b64ab5776b"
   }
  }
 },
 "nbformat": 4,
 "nbformat_minor": 2
}
