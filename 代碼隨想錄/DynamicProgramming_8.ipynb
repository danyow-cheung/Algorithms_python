{
 "cells": [
  {
   "attachments": {},
   "cell_type": "markdown",
   "metadata": {},
   "source": [
    "# 分割等和子集\n",
    "\n",
    "## 问题\n",
    "\n",
    "给定一个只包含正整数的非空数组。是否可以将这个数组分割成两个子集，使得两个子集的元素和相等。\n",
    "\n",
    "注意: 每个数组中的元素不会超过 100 数组的大小不会超过 200\n",
    "\n",
    "示例 1: 输入: [1, 5, 11, 5] 输出: true 解释: 数组可以分割成 [1, 5, 5] 和 [11].\n",
    "\n",
    "示例 2: 输入: [1, 2, 3, 5] 输出: false 解释: 数组不能分割成两个元素和相等的子集.\n",
    "\n",
    "\n",
    "\n",
    "## 代码\n"
   ]
  },
  {
   "attachments": {},
   "cell_type": "markdown",
   "metadata": {},
   "source": [
    "只有确定了如下四点，才能把01背包问题套到本题上来。\n",
    "\n",
    "- 背包的体积为sum / 2\n",
    "- 背包要放入的商品（集合里的元素）重量为 元素的数值，价值也为元素的数值\n",
    "- 背包如果正好装满，说明找到了总和为 sum / 2 的子集。\n",
    "- 背包中每一个元素是不可重复放入。"
   ]
  },
  {
   "attachments": {},
   "cell_type": "markdown",
   "metadata": {},
   "source": [
    "1. 确定dp數組以及下標含義\n",
    "   > dp[j]表示背包總容量（所能裝的總重量）是j，放進物品後，背的最大重量是dp[j]\n",
    "2. 確定遞歸公式\n",
    "   > dp[j] = max(dp[j],dp[j-nums[j]]+nums[i])\n",
    "   "
   ]
  },
  {
   "cell_type": "code",
   "execution_count": 7,
   "metadata": {},
   "outputs": [
    {
     "name": "stdout",
     "output_type": "stream",
     "text": [
      "nums[i]=1,j=11,dp[j]=11\n",
      "dp[j]=1,dp[j-nums[i]]+nums[i]=1\n",
      "nums[i]=1,j=10,dp[j]=10\n",
      "dp[j]=1,dp[j-nums[i]]+nums[i]=1\n",
      "nums[i]=1,j=9,dp[j]=9\n",
      "dp[j]=1,dp[j-nums[i]]+nums[i]=1\n",
      "nums[i]=1,j=8,dp[j]=8\n",
      "dp[j]=1,dp[j-nums[i]]+nums[i]=1\n",
      "nums[i]=1,j=7,dp[j]=7\n",
      "dp[j]=1,dp[j-nums[i]]+nums[i]=1\n",
      "nums[i]=1,j=6,dp[j]=6\n",
      "dp[j]=1,dp[j-nums[i]]+nums[i]=1\n",
      "nums[i]=1,j=5,dp[j]=5\n",
      "dp[j]=1,dp[j-nums[i]]+nums[i]=1\n",
      "nums[i]=1,j=4,dp[j]=4\n",
      "dp[j]=1,dp[j-nums[i]]+nums[i]=1\n",
      "nums[i]=1,j=3,dp[j]=3\n",
      "dp[j]=1,dp[j-nums[i]]+nums[i]=1\n",
      "nums[i]=1,j=2,dp[j]=2\n",
      "dp[j]=1,dp[j-nums[i]]+nums[i]=1\n",
      "nums[i]=1,j=1,dp[j]=1\n",
      "dp[j]=1,dp[j-nums[i]]+nums[i]=1\n",
      "nums[i]=5,j=11,dp[j]=11\n",
      "dp[j]=6,dp[j-nums[i]]+nums[i]=6\n",
      "nums[i]=5,j=10,dp[j]=10\n",
      "dp[j]=6,dp[j-nums[i]]+nums[i]=6\n",
      "nums[i]=5,j=9,dp[j]=9\n",
      "dp[j]=6,dp[j-nums[i]]+nums[i]=6\n",
      "nums[i]=5,j=8,dp[j]=8\n",
      "dp[j]=6,dp[j-nums[i]]+nums[i]=6\n",
      "nums[i]=5,j=7,dp[j]=7\n",
      "dp[j]=6,dp[j-nums[i]]+nums[i]=6\n",
      "nums[i]=5,j=6,dp[j]=6\n",
      "dp[j]=6,dp[j-nums[i]]+nums[i]=6\n",
      "nums[i]=5,j=5,dp[j]=5\n",
      "dp[j]=5,dp[j-nums[i]]+nums[i]=5\n",
      "nums[i]=11,j=11,dp[j]=11\n",
      "dp[j]=11,dp[j-nums[i]]+nums[i]=11\n",
      "nums[i]=5,j=11,dp[j]=11\n",
      "dp[j]=11,dp[j-nums[i]]+nums[i]=11\n",
      "nums[i]=5,j=10,dp[j]=10\n",
      "dp[j]=10,dp[j-nums[i]]+nums[i]=10\n",
      "nums[i]=5,j=9,dp[j]=9\n",
      "dp[j]=6,dp[j-nums[i]]+nums[i]=6\n",
      "nums[i]=5,j=8,dp[j]=8\n",
      "dp[j]=6,dp[j-nums[i]]+nums[i]=6\n",
      "nums[i]=5,j=7,dp[j]=7\n",
      "dp[j]=6,dp[j-nums[i]]+nums[i]=6\n",
      "nums[i]=5,j=6,dp[j]=6\n",
      "dp[j]=6,dp[j-nums[i]]+nums[i]=6\n",
      "nums[i]=5,j=5,dp[j]=5\n",
      "dp[j]=5,dp[j-nums[i]]+nums[i]=5\n"
     ]
    }
   ],
   "source": [
    "class Solution(object):\n",
    "    def canPartition(self, nums):\n",
    "        \"\"\"\n",
    "        :type nums: List[int]\n",
    "        :rtype: bool\n",
    "        \"\"\"\n",
    "        target = sum(nums)\n",
    "        \n",
    "        if target%2==1:return False \n",
    "        target //=2 \n",
    "        # 保證找的是最大的\n",
    "        dp = [0]*10001\n",
    "        # print(dp)\n",
    "        for i in range(len(nums)):\n",
    "            for j in range(target,nums[i]-1,-1):\n",
    "                # print(f'nums[i]={nums[i]},j={j},dp[j]={j}')\n",
    "                dp[j] = max(dp[j],dp[j-nums[i]]+nums[i])\n",
    "                # print(f'dp[j]={dp[j]},dp[j-nums[i]]+nums[i]={dp[j-nums[i]]+nums[i]}')\n",
    "        return target==dp[target]\n",
    "\n",
    "nums = [1,5,11,5]\n",
    "\n",
    "obj = Solution().canPartition(nums)"
   ]
  },
  {
   "cell_type": "code",
   "execution_count": null,
   "metadata": {},
   "outputs": [],
   "source": []
  }
 ],
 "metadata": {
  "kernelspec": {
   "display_name": "Python 3",
   "language": "python",
   "name": "python3"
  },
  "language_info": {
   "codemirror_mode": {
    "name": "ipython",
    "version": 3
   },
   "file_extension": ".py",
   "mimetype": "text/x-python",
   "name": "python",
   "nbconvert_exporter": "python",
   "pygments_lexer": "ipython3",
   "version": "3.9.2 (v3.9.2:1a79785e3e, Feb 19 2021, 09:06:10) \n[Clang 6.0 (clang-600.0.57)]"
  },
  "orig_nbformat": 4,
  "vscode": {
   "interpreter": {
    "hash": "397704579725e15f5c7cb49fe5f0341eb7531c82d19f2c29d197e8b64ab5776b"
   }
  }
 },
 "nbformat": 4,
 "nbformat_minor": 2
}
