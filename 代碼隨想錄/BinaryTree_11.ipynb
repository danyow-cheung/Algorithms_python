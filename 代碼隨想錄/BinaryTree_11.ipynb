{
 "cells": [
  {
   "cell_type": "markdown",
   "metadata": {},
   "source": [
    "# 平衡二叉树\n",
    "\n",
    "\n",
    "## 问题\n",
    "\n",
    "给定一个二叉树，判断它是否是高度平衡的二叉树。\n",
    "\n",
    "本题中，一棵高度平衡二叉树定义为：一个二叉树每个节点 的左右两个子树的高度差的绝对值不超过1。\n",
    "\n",
    "示例 1:\n",
    "给定二叉树 [3,9,20,null,null,15,7]\n",
    "<img src = \"https://img-blog.csdnimg.cn/2021020315542230.png\" >\n",
    "\n",
    "返回 true 。\n",
    "\n",
    "## 代码\n",
    "- 递归\n",
    "- 迭代\n",
    "  \n"
   ]
  },
  {
   "cell_type": "code",
   "execution_count": null,
   "metadata": {},
   "outputs": [],
   "source": [
    "# Definition for a binary tree node.\n",
    "# class TreeNode(object):\n",
    "#     def __init__(self, val=0, left=None, right=None):\n",
    "#         self.val = val\n",
    "#         self.left = left\n",
    "#         self.right = right\n",
    "class Solution(object):\n",
    "    def isBalanced(self, root):\n",
    "        \"\"\"\n",
    "        :type root: TreeNode\n",
    "        :rtype: bool\n",
    "        递归\n",
    "        \"\"\"\n",
    "        def getHeight(node):\n",
    "            if node is None:\n",
    "                return 0\n",
    "            leftHeight = getHeight(node.left)\n",
    "            if leftHeight==-1:\n",
    "                return -1 \n",
    "            rightHeight = getHeight(node.right)\n",
    "            if rightHeight ==-1:\n",
    "                return -1 \n",
    "            \n",
    "            res = 0 \n",
    "            if abs(leftHeight-rightHeight)>1:\n",
    "                res =-1\n",
    "            res = 1+max(leftHeight,rightHeight)\n",
    "            return res \n",
    "        return getHeight(root)==-1\n"
   ]
  }
 ],
 "metadata": {
  "kernelspec": {
   "display_name": "Python 3.9.2 64-bit",
   "language": "python",
   "name": "python3"
  },
  "language_info": {
   "name": "python",
   "version": "3.9.2"
  },
  "orig_nbformat": 4,
  "vscode": {
   "interpreter": {
    "hash": "397704579725e15f5c7cb49fe5f0341eb7531c82d19f2c29d197e8b64ab5776b"
   }
  }
 },
 "nbformat": 4,
 "nbformat_minor": 2
}
