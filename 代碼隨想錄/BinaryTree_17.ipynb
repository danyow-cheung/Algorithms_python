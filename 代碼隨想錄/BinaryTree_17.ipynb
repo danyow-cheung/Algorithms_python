{
 "cells": [
  {
   "cell_type": "markdown",
   "metadata": {},
   "source": [
    "# 最大二叉树\n",
    "\n",
    "## 问题\n",
    "\n",
    "给定一个不含重复元素的整数数组。一个以此数组构建的最大二叉树定义如下：\n",
    "\n",
    "二叉树的根是数组中的最大元素。\n",
    "左子树是通过数组中最大值左边部分构造出的最大二叉树。\n",
    "右子树是通过数组中最大值右边部分构造出的最大二叉树。\n",
    "通过给定的数组构建最大二叉树，并且输出这个树的根节点。\n",
    "\n",
    "示例 ：\n",
    "<img src = \"https://img-blog.csdnimg.cn/20210204154534796.png\">\n",
    "\n",
    "\n",
    "## 代码\n",
    "\n",
    "构造树一般采用前序遍历，先构造中节点，然后递归构造左子树和右子树"
   ]
  },
  {
   "cell_type": "code",
   "execution_count": null,
   "metadata": {},
   "outputs": [],
   "source": [
    "# Definition for a binary tree node.\n",
    "class TreeNode(object):\n",
    "    def __init__(self, val=0, left=None, right=None):\n",
    "        self.val = val\n",
    "        self.left = left\n",
    "        self.right = right\n",
    "class Solution(object):\n",
    "    def constructMaximumBinaryTree(self, nums):\n",
    "        \"\"\"\n",
    "        :type nums: List[int]\n",
    "        :rtype: TreeNode\n",
    "        递归\n",
    "        \"\"\"\n",
    "        if not nums:\n",
    "            return None\n",
    "\n",
    "        maxValue = max(nums)\n",
    "        index = nums.index(maxValue)\n",
    "\n",
    "        root = TreeNode(maxValue)\n",
    "\n",
    "        left = nums[:index]\n",
    "        right = nums[index+1:]\n",
    "\n",
    "        root.left = self.constructMaximumBinaryTree(left)\n",
    "        root.right = self.constructMaximumBinaryTree(right)\n",
    "        return root \n",
    "        "
   ]
  }
 ],
 "metadata": {
  "language_info": {
   "name": "python"
  },
  "orig_nbformat": 4
 },
 "nbformat": 4,
 "nbformat_minor": 2
}
