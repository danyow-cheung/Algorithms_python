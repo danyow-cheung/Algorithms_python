{
 "cells": [
  {
   "cell_type": "markdown",
   "metadata": {},
   "source": [
    "# 找树左下角的值\n",
    "\n",
    "## 问题\n",
    "\n",
    "给定一个二叉树，在树的最后一行找到最左边的值。\n",
    "\n",
    "<img src = 'https://img-blog.csdnimg.cn/20210204152956836.png'>\n",
    "\n",
    "## 代码\n",
    "本地要找出树的最后一行找到最左边的值。此时大家应该想起用层序遍历是非常简单的了，反而用递归的话会比较难一点。\n"
   ]
  },
  {
   "cell_type": "markdown",
   "metadata": {},
   "source": [
    "使用递归，如何判断最后一行，是深度最大的叶子节点一定是最后一行。\n",
    "〉〉所以要找深度最大的叶子节点"
   ]
  },
  {
   "cell_type": "code",
   "execution_count": null,
   "metadata": {},
   "outputs": [],
   "source": [
    "# Definition for a binary tree node.\n",
    "# class TreeNode(object):\n",
    "#     def __init__(self, val=0, left=None, right=None):\n",
    "#         self.val = val\n",
    "#         self.left = left\n",
    "#         self.right = right\n",
    "class Solution(object):\n",
    "    def findBottomLeftValue(self, root):\n",
    "        \"\"\"\n",
    "        :type root: TreeNode\n",
    "        :rtype: int\n",
    "        递归\n",
    "        \"\"\"\n",
    "        max_depth = -float('INF')\n",
    "        leftmost_val = 0 \n",
    "        def _loop(root,cur_path):\n",
    "            nonlocal max_depth,leftmost_val\n",
    "            # 如果不存在左右节点，即为叶子节点\n",
    "            if not root.left and not root.right:\n",
    "                if cur_path>max_depth:\n",
    "                    max_depth = cur_path\n",
    "                    leftmost_val  = root.val \n",
    "            if root.left:\n",
    "                cur_path += 1\n",
    "                _loop(root.left,cur_path)\n",
    "                cur_path-=1\n",
    "            \n",
    "            if root.right:\n",
    "                cur_path+=1\n",
    "                _loop(root.right,cur_path)\n",
    "                cur_path-=1\n",
    "        _loop(root,0)\n",
    "        return leftmost_val\n",
    "        "
   ]
  },
  {
   "cell_type": "markdown",
   "metadata": {},
   "source": [
    "## 使用迭代的层序遍历，比较合适\n"
   ]
  },
  {
   "cell_type": "code",
   "execution_count": null,
   "metadata": {},
   "outputs": [],
   "source": [
    "# Definition for a binary tree node.\n",
    "# class TreeNode(object):\n",
    "#     def __init__(self, val=0, left=None, right=None):\n",
    "#         self.val = val\n",
    "#         self.left = left\n",
    "#         self.right = right\n",
    "class Solution(object):\n",
    "    def findBottomLeftValue(self, root):\n",
    "        \"\"\"\n",
    "        :type root: TreeNode\n",
    "        :rtype: int\n",
    "        \"\"\"\n",
    "        # 构建队列\n",
    "        from collections import deque\n",
    "        que =deque()\n",
    "        if root:\n",
    "            que.append(root)\n",
    "        \n",
    "        res = 0 \n",
    "\n",
    "        while que:\n",
    "            size = len(que)\n",
    "            for _ in range(size):\n",
    "                # 所求的数值\n",
    "                if _ == 0:\n",
    "                    res = que[_].val\n",
    "                \n",
    "                cur = que.popleft()\n",
    "                if cur.left:\n",
    "                    que.append(cur.left)\n",
    "                if cur.right:\n",
    "                    que.append(cur.right)\n",
    "            \n",
    "        return res \n"
   ]
  }
 ],
 "metadata": {
  "kernelspec": {
   "display_name": "Python 3.9.2 64-bit",
   "language": "python",
   "name": "python3"
  },
  "language_info": {
   "name": "python",
   "version": "3.9.2"
  },
  "orig_nbformat": 4,
  "vscode": {
   "interpreter": {
    "hash": "397704579725e15f5c7cb49fe5f0341eb7531c82d19f2c29d197e8b64ab5776b"
   }
  }
 },
 "nbformat": 4,
 "nbformat_minor": 2
}
