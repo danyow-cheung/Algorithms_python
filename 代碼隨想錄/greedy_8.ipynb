{
 "cells": [
  {
   "cell_type": "markdown",
   "metadata": {},
   "source": [
    "# 加油站\n",
    "\n",
    "## 问题\n",
    "\n",
    "在一条环路上有 N 个加油站，其中第 i 个加油站有汽油 gas[i] 升。\n",
    "\n",
    "你有一辆油箱容量无限的的汽车，从第 i 个加油站开往第 i+1 个加油站需要消耗汽油 cost[i] 升。你从其中的一个加油站出发，开始时油箱为空。\n",
    "\n",
    "如果你可以绕环路行驶一周，则返回出发时加油站的编号，否则返回 -1。\n",
    "\n",
    "说明:\n",
    "\n",
    "- 如果题目有解，该答案即为唯一答案。\n",
    "- 输入数组均为非空数组，且长度相同。\n",
    "- 输入数组中的元素均为非负数。\n",
    "\n",
    "\n",
    "示例 1: 输入:\n",
    "\n",
    "- gas = [1,2,3,4,5]\n",
    "- cost = [3,4,5,1,2]\n",
    "\n",
    "\n",
    "输出: 3 解释:\n",
    "\n",
    "- 从 3 号加油站(索引为 3 处)出发，可获得 4 升汽油。此时油箱有 = 0 + 4 = 4 升汽油\n",
    "- 开往 4 号加油站，此时油箱有 4 - 1 + 5 = 8 升汽油\n",
    "- 开往 0 号加油站，此时油箱有 8 - 2 + 1 = 7 升汽油\n",
    "- 开往 1 号加油站，此时油箱有 7 - 3 + 2 = 6 升汽油\n",
    "- 开往 2 号加油站，此时油箱有 6 - 4 + 3 = 5 升汽油\n",
    "- 开往 3 号加油站，你需要消耗 5 升汽油，正好足够你返回到 3 号加油站。\n",
    "因此，3 可为起始索引。\n",
    "\n",
    "\n",
    "## 代码\n",
    "\n"
   ]
  },
  {
   "cell_type": "markdown",
   "metadata": {},
   "source": [
    "- 暴力解法<br>\n",
    "  for循环适合模拟从头到尾的遍历，while循环适合模拟环形遍历，"
   ]
  },
  {
   "cell_type": "code",
   "execution_count": null,
   "metadata": {},
   "outputs": [],
   "source": [
    "class Solution(object):\n",
    "    def canCompleteCircuit(self, gas, cost):\n",
    "        \"\"\"\n",
    "        :type gas: List[int]\n",
    "        :type cost: List[int]\n",
    "        :rtype: int\n",
    "        \"\"\"\n",
    "        for i in range(len(cost)):\n",
    "            # 记录剩余油量\n",
    "            rest  = gas[i]-cost[i]\n",
    "            index = (i+1)//len(cost)\n",
    "            # 模拟以i为起点，行驶一圈\n",
    "            while rest>0 and index!=i:\n",
    "                rest += gas[index]-cost[index]\n",
    "                index = (index+1)//len(cost)\n",
    "            if (rest>=0 and index==i):\n",
    "                return i \n",
    "        return -1 "
   ]
  },
  {
   "cell_type": "markdown",
   "metadata": {},
   "source": [
    "- 贪心解法（method 1 ）\n",
    "  - 情况一：如果gas总和小于cost总和，无论从哪里出发都跑不完一圈\n",
    "  - 情况二：rest[i] = gas[i]-cost[i]为一天剩下的油，i从0开始累加到最后一站。如果累加没有出现负数，说明从0出发，油没断过，那么0就是起点\n",
    "  - 情况三：如果累加的最小值是负数，汽车就要从非0节点出发，从后向前，看哪个节点能这个负数填平，能把这个负数填平的节点就是出发节点。"
   ]
  },
  {
   "cell_type": "code",
   "execution_count": null,
   "metadata": {},
   "outputs": [],
   "source": [
    "class Solution(object):\n",
    "    def canCompleteCircuit(self, gas, cost):\n",
    "        \"\"\"\n",
    "        :type gas: List[int]\n",
    "        :type cost: List[int]\n",
    "        :rtype: int\n",
    "        \"\"\"\n",
    "        "
   ]
  },
  {
   "cell_type": "markdown",
   "metadata": {},
   "source": [
    "- 贪心解法（method 2）<br>\n",
    "  可以换一个思路，首先如果总油量减去总消耗大于等于零那么一定可以跑完一圈，说明 各个站点的加油站 剩油量rest[i]相加一定是大于等于零的。\n",
    "  \n",
    "  <img src = 'https://img-blog.csdnimg.cn/20201213162821958.png'>"
   ]
  },
  {
   "cell_type": "markdown",
   "metadata": {},
   "source": [
    "每个加油站的剩余量rest[i]为gas[i] - cost[i]。\n",
    "\n",
    "i从0开始累加rest[i]，和记为curSum，一旦curSum小于零，说明[0, i]区间都不能作为起始位置，起始位置从i+1算起，再从0计算curSum。"
   ]
  },
  {
   "cell_type": "code",
   "execution_count": null,
   "metadata": {},
   "outputs": [],
   "source": [
    "class Solution(object):\n",
    "    def canCompleteCircuit(self, gas, cost):\n",
    "        \"\"\"\n",
    "        :type gas: List[int]\n",
    "        :type cost: List[int]\n",
    "        :rtype: int\n",
    "        \"\"\"\n",
    "        curSum = 0\n",
    "        totalSum = 0\n",
    "        start = 0 \n",
    "        for i in range(len(gas)):\n",
    "            curSum += gas[i]-cost[i]\n",
    "            totalSum += gas[i]-cost[i]\n",
    "            # 当前累加rest[i]和curSum一旦小于0\n",
    "            if curSum<0:\n",
    "                # 起始位置更新为i+1\n",
    "                start = i+1 \n",
    "                # curSum重新为0\n",
    "                curSum = 0\n",
    "        if totalSum<0:\n",
    "            return -1 \n",
    "        return start"
   ]
  }
 ],
 "metadata": {
  "language_info": {
   "name": "python"
  },
  "orig_nbformat": 4
 },
 "nbformat": 4,
 "nbformat_minor": 2
}
