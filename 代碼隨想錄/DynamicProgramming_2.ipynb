{
 "cells": [
  {
   "cell_type": "markdown",
   "metadata": {},
   "source": [
    "# 爬樓梯\n",
    "\n",
    "## 問題\n",
    "假设你正在爬楼梯。需要 n 阶你才能到达楼顶。\n",
    "\n",
    "每次你可以爬 1 或 2 个台阶。你有多少种不同的方法可以爬到楼顶呢？\n",
    "\n",
    "注意：给定 n 是一个正整数。\n",
    "\n",
    "示例 1：\n",
    "\n",
    "- 输入： 2\n",
    "- 输出： 2\n",
    "- 解释： 有两种方法可以爬到楼顶。\n",
    "    - 1 阶 + 1 阶\n",
    "    - 2 阶\n",
    "\n",
    "示例 2：\n",
    "\n",
    "- 输入： 3\n",
    "- 输出： 3\n",
    "- 解释： 有三种方法可以爬到楼顶。\n",
    "  - 1 阶 + 1 阶 + 1 阶\n",
    "  - 1 阶 + 2 阶\n",
    "  - 2 阶 + 1 阶\n",
    "\n",
    "\n",
    "## 代碼\n",
    "\n"
   ]
  },
  {
   "cell_type": "markdown",
   "metadata": {},
   "source": [
    "dp[i]:爬到第i層樓梯，有dp[i]種方法\n",
    "**確定遞推公式**\n",
    "1. dp[i-1]上i-1層樓梯，有dp[i-1]種方法，那麼再一步跳一個台階就是dp[i]\n",
    "2. dp[i-2]上i-2層樓梯，有dp[i-2]種方法，那麼再一步跳兩個台階就是dp[i]"
   ]
  },
  {
   "cell_type": "markdown",
   "metadata": {},
   "source": [
    "不考虑dp[0]如果初始化，只初始化dp[1] = 1，dp[2] = 2，然后从i = 3开始递推，这样才符合dp[i]的定义。\n",
    "\n"
   ]
  },
  {
   "cell_type": "code",
   "execution_count": 1,
   "metadata": {},
   "outputs": [],
   "source": [
    "class Solution(object):\n",
    "    def climbStairs(self, n):\n",
    "        \"\"\"\n",
    "        :type n: int\n",
    "        :rtype: int\n",
    "        \"\"\"\n",
    "        if n<=1:\n",
    "            return n \n",
    "        dp = [0]*(n+1)\n",
    " \n",
    "        dp[1]=1\n",
    "        dp[2]=2\n",
    "        for i in range(3,n+1):\n",
    "            dp[i] = dp[i-1]+dp[i-2]\n",
    "        return dp[n]"
   ]
  },
  {
   "cell_type": "code",
   "execution_count": null,
   "metadata": {},
   "outputs": [],
   "source": []
  }
 ],
 "metadata": {
  "kernelspec": {
   "display_name": "Python 3.9.2 64-bit",
   "language": "python",
   "name": "python3"
  },
  "language_info": {
   "codemirror_mode": {
    "name": "ipython",
    "version": 3
   },
   "file_extension": ".py",
   "mimetype": "text/x-python",
   "name": "python",
   "nbconvert_exporter": "python",
   "pygments_lexer": "ipython3",
   "version": "3.9.2"
  },
  "orig_nbformat": 4,
  "vscode": {
   "interpreter": {
    "hash": "397704579725e15f5c7cb49fe5f0341eb7531c82d19f2c29d197e8b64ab5776b"
   }
  }
 },
 "nbformat": 4,
 "nbformat_minor": 2
}
