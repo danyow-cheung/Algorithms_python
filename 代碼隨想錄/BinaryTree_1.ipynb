{
 "cells": [
  {
   "cell_type": "markdown",
   "metadata": {},
   "source": [
    "# 二叉树理论基础\n",
    "\n",
    "## 二叉树的种类\n",
    "1. 满二叉树\n",
    "   > 也可以说是 深度为k，有2^k-1 个节点的二叉树<br>\n",
    "   > 如果一颗二叉树只有度为0的节点和度为2的节点，并且度为0的节点在同一层上，则这颗二叉树为满二叉树\n",
    "   > <img src =\"https://img-blog.csdnimg.cn/20200806185805576.png\">\n",
    "   \n",
    "2. 完全二叉树\n",
    "   > 除了最底层节点可能没填满外，其余每层节点数都达到最大值，并且最下面一层的节点都集中在该层最左边的若干位置，<br>\n",
    "   > 若最底层为h层，则该层包含1~2^(h-1)个节点\n",
    "   > <img src =\"https://img-blog.csdnimg.cn/20200920221638903.png\" >\n",
    "\n",
    "3. 二叉搜索树\n",
    "   > 二叉搜索树是一个有序树<br>\n",
    "   > - 若她的左子树不为空，则左子树上所有节点的值都小于它的根节点的值<br>\n",
    "   > - 若她的右子树不为空，则右子树上所有节点的值都大于它的根节点的值<br>\n",
    "   > - 她的左，右子树分别为二叉排序树<br>\n",
    "   >  常见搜索树<img src =\"https://img-blog.csdnimg.cn/20200806190304693.png\">\n",
    "   \n",
    "\n",
    "4. 平衡二叉搜索树\n",
    "   > 又称为二叉搜索树，AVL树，具有以下性质:她是一颗空树或者它的左右两个子树的高度差的绝对值不超过1，并且左右两个子树都是一颗平衡二叉树<br>\n",
    "   > <img src =\"https://img-blog.csdnimg.cn/20200806190511967.png\"><br>\n",
    "   > <br>\n",
    "   > <br>\n",
    "   > <br>\n",
    "   "
   ]
  },
  {
   "cell_type": "markdown",
   "metadata": {},
   "source": [
    "## 二叉树的存储方式\n",
    "- 链式存储\n",
    "  > 使用指针<br>\n",
    "  > <img src = \"https://img-blog.csdnimg.cn/2020092019554618.png\">\n",
    "- 顺序存储\n",
    "  > 使用数组<br>\n",
    "  > <img src ='https://img-blog.csdnimg.cn/20200920200429452.png'>\n",
    "  > 用数组来顺序遍历二叉树\n",
    "  > - 如果母节点是i，左孩子是i*2+1，左孩子是 i*2+2， <br>\n",
    "\n",
    "  "
   ]
  },
  {
   "cell_type": "markdown",
   "metadata": {},
   "source": [
    "## 二叉树的遍历方式\n",
    "- 深度优先遍历:先往深走，遇到叶子节点再往回走\n",
    "- 广度优先遍历:一层一层去遍历\n",
    "\n",
    "### 深度优先遍历\n",
    "> 前序遍历：🀄️⬅️➡️<br>\n",
    "> 中序遍历：⬅️🀄️➡️<br>\n",
    "> 后序遍历：⬅️➡️🀄️<br>\n",
    "> <img src = 'https://img-blog.csdnimg.cn/20200806191109896.png'>\n",
    "- 前序遍历(递归法，迭代法)\n",
    "- 中序遍历(递归法，迭代法)\n",
    "- 后序遍历(递归法，迭代法)\n",
    "\n",
    "### 广度优先遍历\n",
    "- 层次遍历(迭代法)\n",
    "\n",
    "### 通常情况下，使用栈来实现递归，广度优先一般使用队列"
   ]
  },
  {
   "cell_type": "markdown",
   "metadata": {},
   "source": [
    "## 二叉树的定义"
   ]
  },
  {
   "cell_type": "code",
   "execution_count": null,
   "metadata": {},
   "outputs": [],
   "source": [
    "class TreeNode():\n",
    "    def __init__(self,value):\n",
    "        self.value = value \n",
    "        self.left  = None \n",
    "        self.right = None"
   ]
  }
 ],
 "metadata": {
  "kernelspec": {
   "display_name": "Python 3.9.2 64-bit",
   "language": "python",
   "name": "python3"
  },
  "language_info": {
   "name": "python",
   "version": "3.9.2"
  },
  "orig_nbformat": 4,
  "vscode": {
   "interpreter": {
    "hash": "397704579725e15f5c7cb49fe5f0341eb7531c82d19f2c29d197e8b64ab5776b"
   }
  }
 },
 "nbformat": 4,
 "nbformat_minor": 2
}
