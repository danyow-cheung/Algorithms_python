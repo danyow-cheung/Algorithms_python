{
 "cells": [
  {
   "attachments": {},
   "cell_type": "markdown",
   "id": "2330e683",
   "metadata": {},
   "source": [
    "# 打家劫舍II\n",
    "## 问题\n",
    "\n",
    "你是一个专业的小偷，计划偷窃沿街的房屋，每间房内都藏有一定的现金。这个地方所有的房屋都 围成一圈 ，这意味着第一个房屋和最后一个房屋是紧挨着的。同时，相邻的房屋装有相互连通的防盗系统，如果两间相邻的房屋在同一晚上被小偷闯入，系统会自动报警 。\n",
    "\n",
    "给定一个代表每个房屋存放金额的非负整数数组，计算你 在不触动警报装置的情况下 ，能够偷窃到的最高金额。\n",
    "\n",
    "示例 1：\n",
    "\n",
    "输入：nums = [2,3,2] \n",
    "\n",
    "输出：3 \n",
    "\n",
    "解释：你不能先偷窃 1 号房屋（金额 = 2），然后偷窃 3 号房屋（金额 = 2）, 因为他们是相邻的。\n",
    "\n",
    "## 代码\n",
    "与198.打家劫舍是差不多的，唯一的区别是**成环**\n",
    "\n",
    "对于一个数组，成环的话主要有如下三种情况：\n",
    "\n",
    "- 情况一：考虑不包含首尾元素\n",
    "        <img src ='https://img-blog.csdnimg.cn/20210129160748643.jpg'>\n",
    "\n",
    "- 情况二：考虑包含首元素，不包含尾元素\n",
    "    <img src ='https://img-blog.csdnimg.cn/20210129160821374.jpg'>\n",
    "        \n",
    "- 情况三：考虑包含尾元素，不包含首元素\n",
    "    <img src ='https://img-blog.csdnimg.cn/20210129160842491.jpg'>\n",
    "        "
   ]
  },
  {
   "cell_type": "code",
   "execution_count": 3,
   "id": "80cb2fd3",
   "metadata": {},
   "outputs": [
    {
     "name": "stdout",
     "output_type": "stream",
     "text": [
      "[2, 3, 0]\n",
      "[0, 3, 3]\n",
      "3 3\n"
     ]
    }
   ],
   "source": [
    "class Solution(object):\n",
    "    def robRange(self,nums):\n",
    "        l = len(nums)\n",
    "        dp = [0]*l \n",
    "        dp[0] = nums[0]\n",
    "        for i in range(1,l):\n",
    "            if i==1:\n",
    "                dp[i]=max(dp[i-1],nums[i])\n",
    "            else:\n",
    "                dp[i]= max(dp[i-1],dp[i-2]+nums[i])\n",
    "        return dp[-1]\n",
    "        \n",
    "\n",
    "    def rob(self, nums):\n",
    "        \"\"\"\n",
    "        :type nums: List[int]\n",
    "        :rtype: int\n",
    "        \"\"\"\n",
    "        if len(nums)==1:\n",
    "            return nums[0]\n",
    "        \n",
    "        # result1 = self.robRange(nums,0,len(nums)-2)\n",
    "        # result2 = self.robRange(nums,1,len(nums)-1)\n",
    "        result1 = self.robRange(nums[1:])   # 不偷第一间房\n",
    "        result2 = self.robRange(nums[:-1])  # 不偷最后一间房\n",
    "        \n",
    "        print(result1,result2)\n",
    "        return max(result1,result2)\n",
    "nums = [2,3,3]\n",
    "obj = Solution().rob(nums)"
   ]
  },
  {
   "cell_type": "code",
   "execution_count": null,
   "id": "098dd5fa",
   "metadata": {},
   "outputs": [],
   "source": []
  }
 ],
 "metadata": {
  "kernelspec": {
   "display_name": "Python 3",
   "language": "python",
   "name": "python3"
  },
  "language_info": {
   "codemirror_mode": {
    "name": "ipython",
    "version": 3
   },
   "file_extension": ".py",
   "mimetype": "text/x-python",
   "name": "python",
   "nbconvert_exporter": "python",
   "pygments_lexer": "ipython3",
   "version": "3.9.2"
  },
  "vscode": {
   "interpreter": {
    "hash": "397704579725e15f5c7cb49fe5f0341eb7531c82d19f2c29d197e8b64ab5776b"
   }
  }
 },
 "nbformat": 4,
 "nbformat_minor": 5
}
