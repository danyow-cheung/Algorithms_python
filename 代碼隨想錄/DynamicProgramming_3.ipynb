{
 "cells": [
  {
   "cell_type": "markdown",
   "metadata": {},
   "source": [
    "# 使用最小花費爬樓梯\n",
    "\n",
    "## 問題\n",
    "\n",
    "给你一个整数数组 cost ，其中 cost[i] 是从楼梯第 i 个台阶向上爬需要支付的费用。一旦你支付此费用，即可选择向上爬一个或者两个台阶。\n",
    "\n",
    "你可以选择从下标为 0 或下标为 1 的台阶开始爬楼梯。\n",
    "\n",
    "请你计算并返回达到楼梯顶部的最低花费。\n",
    "<img src = 'https://code-thinking-1253855093.file.myqcloud.com/pics/20221031170131.png'>\n",
    "\n",
    "示例 1：\n",
    "\n",
    "- 输入：cost = [10, 15, 20] \n",
    "- 输出：15 \n",
    "- 解释：最低花费是从 cost[1] 开始，然后走两步即可到阶梯顶，一共花费 15 。 \n",
    "\n",
    "\n",
    "示例 2：\n",
    "\n",
    "- 输入：cost = [1, 100, 1, 1, 1, 100, 1, 1, 100, 1] \n",
    "- 输出：6 \n",
    "- 解释：最低花费方式是从 cost[0] 开始，逐个经过那些 1 ，跳过 cost[3] ，一共花费 6 。\n",
    "\n",
    "## 代碼\n",
    "\n"
   ]
  },
  {
   "cell_type": "markdown",
   "metadata": {},
   "source": [
    "- 確定dp數組以及下標的含義\n",
    "  > dp[i]:到達第i台階所花費的最少體力為dp[i]\n",
    "  \n",
    "- 確定遞推公式\n",
    "  > dp[i-1]跳到dp[i]需要花費dp[i-1]+cost[i-1]\n",
    "  > dp[i-2]跳到dp[i]需要花費dp[i-2]+cost[i-2]\n",
    "  > 選擇最小的:dp[i]=min(dp[i-1]+cost[i-1],dp[i-2]+cost[i-2])\n",
    "  "
   ]
  },
  {
   "cell_type": "markdown",
   "metadata": {},
   "source": [
    "<img src = 'src/dp.png'>"
   ]
  },
  {
   "cell_type": "code",
   "execution_count": null,
   "metadata": {},
   "outputs": [],
   "source": [
    "class Solution(object):\n",
    "    def minCostClimbingStairs(self, cost):\n",
    "        \"\"\"\n",
    "        :type cost: List[int]\n",
    "        :rtype: int\n",
    "        \"\"\"\n",
    "        n = len(cost)+1\n",
    "        dp =[0]*n\n",
    "        # 默認第一步都是不花力氣的\n",
    "        dp[0]=0\n",
    "        dp[1]=0\n",
    "        for i in range(2,len(cost)+1):\n",
    "            dp[i] = min(dp[i-1]+cost[i-1],dp[i-2]+cost[i-2])\n",
    "        return dp[len(cost)]"
   ]
  }
 ],
 "metadata": {
  "language_info": {
   "name": "python"
  },
  "orig_nbformat": 4
 },
 "nbformat": 4,
 "nbformat_minor": 2
}
