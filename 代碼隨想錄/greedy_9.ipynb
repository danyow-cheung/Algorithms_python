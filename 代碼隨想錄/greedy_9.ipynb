{
 "cells": [
  {
   "cell_type": "markdown",
   "metadata": {},
   "source": [
    "# 分发糖果\n",
    "\n",
    "## 问题\n",
    "老师想给孩子们分发糖果，有 N 个孩子站成了一条直线，老师会根据每个孩子的表现，预先给他们评分。\n",
    "\n",
    "你需要按照以下要求，帮助老师给这些孩子分发糖果：\n",
    "\n",
    "每个孩子至少分配到 1 个糖果。\n",
    "相邻的孩子中，评分高的孩子必须获得更多的糖果。\n",
    "那么这样下来，老师至少需要准备多少颗糖果呢？\n",
    "\n",
    "示例 1:\n",
    "\n",
    "- 输入: [1,0,2]\n",
    "- 输出: 5\n",
    "- 解释: 你可以分别给这三个孩子分发 2、1、2 颗糖果。\n",
    "\n",
    "## 代码\n",
    "- 局部最优：只要右边评分比左边大，右边的孩子就多一个糖果，\n",
    "- 全局最优：评分高的右孩子获得比左孩子更多的糖果\n",
    "<img src ='https://img-blog.csdnimg.cn/20201117114916878.png'>"
   ]
  },
  {
   "cell_type": "markdown",
   "metadata": {},
   "source": [
    "**因为如果从前向后遍历，根据 ratings[i + 1] 来确定 ratings[i] 对应的糖果，那么每次都不能利用上前一次的比较结果了。**\n",
    "\n",
    "**所以确定左孩子大于右孩子的情况一定要从后向前遍历！**"
   ]
  },
  {
   "cell_type": "code",
   "execution_count": null,
   "metadata": {},
   "outputs": [],
   "source": [
    "class Solution(object):\n",
    "    def candy(self, ratings):\n",
    "        \"\"\"\n",
    "        :type ratings: List[int]\n",
    "        :rtype: int\n",
    "        \"\"\"\n",
    "        # 每个孩子最少获得一个糖果\n",
    "        # res = len(ratings)\n",
    "        candy = [1]*len(ratings)\n",
    "        for i in range(1,len(ratings)):\n",
    "            if ratings[i]>ratings[i-1]:\n",
    "                candy[i] = candy[i-1]+1\n",
    "        for j in reversed(range(1,len(ratings))):\n",
    "            if ratings[j-1]>ratings[j]:\n",
    "                candy[j-1] = max(candy[j-1],candy[j]+1)\n",
    "\n",
    "        return sum(candy)"
   ]
  }
 ],
 "metadata": {
  "language_info": {
   "name": "python"
  },
  "orig_nbformat": 4
 },
 "nbformat": 4,
 "nbformat_minor": 2
}
