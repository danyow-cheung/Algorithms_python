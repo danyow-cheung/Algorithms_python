{
 "cells": [
  {
   "attachments": {},
   "cell_type": "markdown",
   "metadata": {},
   "source": [
    "# 判断子序列\n",
    "\n",
    "## 问题\n",
    "给定字符串 s 和 t ，判断 s 是否为 t 的子序列。\n",
    "\n",
    "字符串的一个子序列是原始字符串删除一些（也可以不删除）字符而不改变剩余字符相对位置形成的新字符串。（例如，\"ace\"是\"abcde\"的一个子序列，而\"aec\"不是）。\n",
    "\n",
    "示例 1： \n",
    "\n",
    "输入：s = \"abc\", t = \"ahbgdc\" \n",
    "输出：true\n",
    "\n",
    "\n",
    "## 代码\n",
    "<img src = 'https://img-blog.csdnimg.cn/2021030317364166.jpg'>"
   ]
  },
  {
   "cell_type": "code",
   "execution_count": null,
   "metadata": {},
   "outputs": [],
   "source": [
    "class Solution(object):\n",
    "    def isSubsequence(self, s, t):\n",
    "        \"\"\"\n",
    "        :type s: str\n",
    "        :type t: str\n",
    "        :rtype: bool\n",
    "        \"\"\"\n",
    "        dp = [[0]*(len(t)+1) for i in range(len(s)+1)]\n",
    "        for i in range(1,len(s)+1):\n",
    "            for j in range(1,len(t)+1):\n",
    "                if s[i-1]==t[j-1]:\n",
    "                    dp[i][j] = dp[i-1][j-1]+1 \n",
    "                else:\n",
    "                    dp[i][j] = dp[i][j-1]\n",
    "        if dp[-1][-1]==len(s):\n",
    "            return True\n",
    "        return False\n"
   ]
  }
 ],
 "metadata": {
  "language_info": {
   "name": "python"
  },
  "orig_nbformat": 4
 },
 "nbformat": 4,
 "nbformat_minor": 2
}
