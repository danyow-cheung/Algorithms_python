{
 "cells": [
  {
   "attachments": {},
   "cell_type": "markdown",
   "metadata": {},
   "source": [
    "# 最长重复子数组\n",
    "\n",
    "## 问题\n",
    "给两个整数数组 A 和 B ，返回两个数组中公共的、长度最长的子数组的长度。\n",
    "\n",
    "示例：\n",
    "\n",
    "输入：\n",
    "\n",
    "A: [1,2,3,2,1]\n",
    "\n",
    "B: [3,2,1,4,7]\n",
    "\n",
    "输出：3\n",
    "\n",
    "解释：长度最长的公共子数组是 [3, 2, 1] 。\n",
    "\n",
    "\n",
    "## 代码\n"
   ]
  },
  {
   "attachments": {},
   "cell_type": "markdown",
   "metadata": {},
   "source": [
    "<img src = 'https://img-blog.csdnimg.cn/2021011215282060.jpg'>"
   ]
  },
  {
   "cell_type": "code",
   "execution_count": null,
   "metadata": {},
   "outputs": [],
   "source": [
    "class Solution(object):\n",
    "    def findLength(self, nums1, nums2):\n",
    "        \"\"\"\n",
    "        :type nums1: List[int]\n",
    "        :type nums2: List[int]\n",
    "        :rtype: int\n",
    "        \"\"\"\n",
    "        dp = [[0]*(len(nums2)+1)for _ in range(len(nums1)+1)]\n",
    "        result = 0\n",
    "        for i in range(1,len(nums1)+1):\n",
    "            for j in range(1,len(nums2)+1):\n",
    "                if nums1[i-1]==nums2[j-1]:\n",
    "                    dp[i][j] = dp[i-1][j-1]+1\n",
    "                result = max(result,dp[i][j])\n",
    "        return result\n",
    "        \n"
   ]
  },
  {
   "attachments": {},
   "cell_type": "markdown",
   "metadata": {},
   "source": [
    "滚动数组\n"
   ]
  },
  {
   "cell_type": "code",
   "execution_count": 2,
   "metadata": {},
   "outputs": [],
   "source": [
    "class Solution(object):\n",
    "    def findLength(self, nums1, nums2):\n",
    "        \"\"\"\n",
    "        :type nums1: List[int]\n",
    "        :type nums2: List[int]\n",
    "        :rtype: int\n",
    "        \"\"\"\n",
    "        dp = [0]*(len(nums2)+1)\n",
    "        result = 0 \n",
    "        for i in range(1,len(nums1)+1):\n",
    "            for j in range(len(nums2),0,-1):\n",
    "                if nums1[i-1]==nums2[j-1]:\n",
    "                    dp[j]=dp[j-1]+1\n",
    "                else:\n",
    "                    dp[j]=0\n",
    "                result = max(result,dp[j])\n",
    "        return result"
   ]
  },
  {
   "cell_type": "code",
   "execution_count": null,
   "metadata": {},
   "outputs": [],
   "source": []
  }
 ],
 "metadata": {
  "kernelspec": {
   "display_name": "Python 3",
   "language": "python",
   "name": "python3"
  },
  "language_info": {
   "codemirror_mode": {
    "name": "ipython",
    "version": 3
   },
   "file_extension": ".py",
   "mimetype": "text/x-python",
   "name": "python",
   "nbconvert_exporter": "python",
   "pygments_lexer": "ipython3",
   "version": "3.9.2"
  },
  "orig_nbformat": 4,
  "vscode": {
   "interpreter": {
    "hash": "397704579725e15f5c7cb49fe5f0341eb7531c82d19f2c29d197e8b64ab5776b"
   }
  }
 },
 "nbformat": 4,
 "nbformat_minor": 2
}
