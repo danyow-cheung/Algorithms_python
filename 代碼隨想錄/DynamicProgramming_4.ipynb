{
 "cells": [
  {
   "cell_type": "markdown",
   "metadata": {},
   "source": [
    "# 不同路徑\n",
    "\n",
    "## 問題\n",
    "一个机器人位于一个 m x n 网格的左上角 （起始点在下图中标记为 “Start” ）。\n",
    "\n",
    "机器人每次只能向下或者向右移动一步。机器人试图达到网格的右下角（在下图中标记为 “Finish” ）。\n",
    "\n",
    "问总共有多少条不同的路径？\n",
    "\n",
    "示例 1：\n",
    "<img src = 'https://img-blog.csdnimg.cn/20210110174033215.png'>\n",
    "\n",
    "- 输入：m = 3, n = 7\n",
    "- 输出：28\n",
    "\n",
    "## 代碼\n",
    "\n"
   ]
  },
  {
   "cell_type": "markdown",
   "metadata": {},
   "source": [
    "- 確定dp數組\n",
    "  > dp[i][j] 代表從(0，0)出發到(i,j)有dp[i][j]條不同的路徑\n",
    "- 確定遞推公式\n",
    "  > 根據運動方向，只有dp[i-1][j]和dp[i][j-1]兩個方向\n",
    "  > dp[i][j] = dp[i-1][j]+dp[i][j-1]只有從這兩個方向過來\n",
    "  \n",
    "- 初始化dp數組\n",
    "  > ```python\n",
    "  > for i in range(m):dp[i][0]=1\n",
    "  > for j in range(n):dp[0][j]=1\n",
    "  > ```\n",
    "\n",
    "- 確定遍歷順序\n",
    "  \n",
    "<img src ='https://img-blog.csdnimg.cn/20201209113631392.png'>"
   ]
  },
  {
   "cell_type": "code",
   "execution_count": 8,
   "metadata": {},
   "outputs": [
    {
     "name": "stdout",
     "output_type": "stream",
     "text": [
      "[[1, 1, 1], [1, 2, 3], [1, 3, 6], [1, 4, 10], [1, 5, 15], [1, 6, 21], [1, 7, 28]]\n"
     ]
    }
   ],
   "source": [
    "class Solution(object):\n",
    "    def uniquePaths(self, m, n):\n",
    "        \"\"\"\n",
    "        :type m: int\n",
    "        :type n: int\n",
    "        :rtype: int\n",
    "        \"\"\"\n",
    "        # 初始化dp數組\n",
    "        # [[1, 1, 1], [1, 1, 1], [1, 1, 1], [1, 1, 1], [1, 1, 1], [1, 1, 1], [1, 1, 1]]\n",
    "        dp = [[0 for i in range(n)] for j in range(m)]\n",
    "        # print(dp)\n",
    "        for  i in range(m):\n",
    "            dp[i][0]=1\n",
    "        for j in range(n):\n",
    "            dp[0][j]=1\n",
    "\n",
    "        for i in range(1,m):\n",
    "            for j in range(1,n):\n",
    "                dp[i][j] = dp[i-1][j]+dp[i][j-1]\n",
    "                \n",
    "        print(dp)\n",
    "        return dp[m-1][n-1]\n",
    "m = 7 \n",
    "n =3 \n",
    "obj =Solution().uniquePaths(m,n)"
   ]
  },
  {
   "cell_type": "code",
   "execution_count": null,
   "metadata": {},
   "outputs": [],
   "source": []
  }
 ],
 "metadata": {
  "kernelspec": {
   "display_name": "Python 3.9.2 64-bit",
   "language": "python",
   "name": "python3"
  },
  "language_info": {
   "codemirror_mode": {
    "name": "ipython",
    "version": 3
   },
   "file_extension": ".py",
   "mimetype": "text/x-python",
   "name": "python",
   "nbconvert_exporter": "python",
   "pygments_lexer": "ipython3",
   "version": "3.9.2 (v3.9.2:1a79785e3e, Feb 19 2021, 09:06:10) \n[Clang 6.0 (clang-600.0.57)]"
  },
  "orig_nbformat": 4,
  "vscode": {
   "interpreter": {
    "hash": "397704579725e15f5c7cb49fe5f0341eb7531c82d19f2c29d197e8b64ab5776b"
   }
  }
 },
 "nbformat": 4,
 "nbformat_minor": 2
}
