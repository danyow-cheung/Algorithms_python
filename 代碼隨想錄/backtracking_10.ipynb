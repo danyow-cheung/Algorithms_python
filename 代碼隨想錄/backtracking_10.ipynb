{
 "cells": [
  {
   "cell_type": "markdown",
   "metadata": {},
   "source": [
    "# 子集II\n",
    "\n",
    "## 问题\n",
    "给定一个可能包含重复元素的整数数组 nums，返回该数组所有可能的子集（幂集）。\n",
    "\n",
    "说明：解集不能包含重复的子集。\n",
    "\n",
    "示例:\n",
    "\n",
    "输入: [1,2,2]\n",
    "输出: [ [2], [1], [1,2,2], [2,2], [1,2], [] ]\n",
    "\n",
    "\n",
    "## 代码\n",
    "<img src = 'https://img-blog.csdnimg.cn/20201124195411977.png'>\n",
    "\n",
    "\n",
    "去重之前要对数组进行排序"
   ]
  },
  {
   "cell_type": "code",
   "execution_count": null,
   "metadata": {},
   "outputs": [],
   "source": [
    "class Solution(object):\n",
    "    def subsetsWithDup(self, nums):\n",
    "        \"\"\"\n",
    "        :type nums: List[int]\n",
    "        :rtype: List[List[int]]\n",
    "        \"\"\"\n",
    "        if not nums:\n",
    "            return nums\n",
    "\n",
    "        # 对原数组进行排序        \n",
    "        nums.sort()\n",
    "        # 使用used来检测有没有重复元素\n",
    "        used = [False]*len(nums)\n",
    "\n",
    "        path = []\n",
    "        res = []\n",
    "\n",
    "        def backtracking(nums,startIdx):\n",
    "            # 要记得[:]中间的分号啊\n",
    "            res.append(path[:])\n",
    "            if startIdx==len(nums):\n",
    "                return \n",
    "            for i in range(startIdx,len(nums)):\n",
    "                if i>0 and nums[i]==nums[i-1] and used[i-1]==False:\n",
    "                    continue\n",
    "                path.append(nums[i])\n",
    "                used[i]=True \n",
    "                # i+1不是原来index的值\n",
    "                backtracking(nums,i+1)\n",
    "                path.pop()\n",
    "                used[i] = False \n",
    "        backtracking(nums,0)\n",
    "        return res \n",
    "    def subsetsWithDup_not_used(self,nums):\n",
    "        '''不使用used数组去重'''\n",
    "        res = []\n",
    "        path = []\n",
    "        nums.sort()\n",
    "        def backtracking(nums,startIdx):\n",
    "            res.append(path[:])\n",
    "            if startIdx==len(nums):\n",
    "                return \n",
    "            for i in range(startIdx,len(nums)):\n",
    "                '''数层去重'''\n",
    "                if i>startIdx and nums[i]==nums[i-1]:\n",
    "                    continue\n",
    "                path.append(nums[i])\n",
    "                backtracking(nums,i+1)\n",
    "                path.pop()\n",
    "        backtracking(nums,0)\n",
    "        return res \n",
    "        "
   ]
  }
 ],
 "metadata": {
  "kernelspec": {
   "display_name": "Python 3.9.2 64-bit",
   "language": "python",
   "name": "python3"
  },
  "language_info": {
   "name": "python",
   "version": "3.9.2"
  },
  "orig_nbformat": 4,
  "vscode": {
   "interpreter": {
    "hash": "397704579725e15f5c7cb49fe5f0341eb7531c82d19f2c29d197e8b64ab5776b"
   }
  }
 },
 "nbformat": 4,
 "nbformat_minor": 2
}
