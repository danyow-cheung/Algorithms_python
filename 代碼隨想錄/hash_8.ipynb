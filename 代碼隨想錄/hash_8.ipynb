{
 "cells": [
  {
   "cell_type": "markdown",
   "metadata": {},
   "source": [
    "# 四數之和(需要多多複習)\n",
    "\n",
    "## 問題\n",
    "题意：给定一个包含 n 个整数的数组 nums 和一个目标值 target，判断 nums 中是否存在四个元素 a，b，c 和 d ，使得 a + b + c + d 的值与 target 相等？找出所有满足条件且不重复的四元组。\n",
    "\n",
    "注意：\n",
    "\n",
    "答案中不可以包含重复的四元组。\n",
    "\n",
    "示例： 给定数组 nums = [1, 0, -1, 0, -2, 2]，和 target = 0。 满足要求的四元组集合为： [ [-1, 0, 0, 1], [-2, -1, 1, 2], [-2, 0, 0, 2] ]\n",
    "\n",
    "\n",
    "## 代碼\n",
    "1. 雙指針放\n",
    "2. 哈希表法\n"
   ]
  },
  {
   "cell_type": "code",
   "execution_count": 5,
   "metadata": {},
   "outputs": [
    {
     "name": "stdout",
     "output_type": "stream",
     "text": [
      "hashmap={1: 1, 0: 2, -1: 1, -2: 1, 2: 1}\n",
      "[(-2, 0, 1, 2), (-1, 0, 0, 2)]\n"
     ]
    }
   ],
   "source": [
    "class Solution(object):\n",
    "    def fourSum(self, nums, target):\n",
    "        \"\"\"\n",
    "        :type nums: List[int]\n",
    "        :type target: int\n",
    "        :rtype: List[List[int]]\n",
    "        哈希表法\n",
    "        \"\"\"\n",
    "        hashmap = dict()\n",
    "        for n in nums:\n",
    "            if n in hashmap:\n",
    "                hashmap[n]+=1 \n",
    "            else:\n",
    "                hashmap[n]=1 \n",
    "\n",
    "        print(f\"hashmap={hashmap}\")\n",
    "        \n",
    "        # 使用集合來存儲結果\n",
    "        ans = set()\n",
    "\n",
    "        for i in range(len(nums)):\n",
    "            for j in range(i+1,len(nums)):\n",
    "                for k in range(j+1,len(nums)):\n",
    "                    val = target - (nums[i]+nums[j]+nums[k])\n",
    "                    if val in hashmap:\n",
    "                        # 確保沒有重複\n",
    "                        count = (nums[i]==val) + (nums[j]==val)+(nums[k]==val)\n",
    "                        if hashmap[val]>count:\n",
    "                            ans_tmp = tuple(sorted([nums[i],nums[j],nums[k],val]))\n",
    "                            ans.add(ans_tmp)\n",
    "                    else:\n",
    "                        continue\n",
    "        print(list(ans))     \n",
    "        return list(ans)\n",
    "\n",
    "nums = [1,0,-1,0,-2,2]\n",
    "target = 1\n",
    "obj = Solution().fourSum(nums,target)   \n",
    "        "
   ]
  },
  {
   "cell_type": "code",
   "execution_count": 7,
   "metadata": {},
   "outputs": [
    {
     "name": "stdout",
     "output_type": "stream",
     "text": [
      "[[-2, 0, 1, 2], [-1, 0, 0, 2]]\n"
     ]
    }
   ],
   "source": [
    "class Solution(object):\n",
    "    def fourSum(self, nums, target):\n",
    "        \"\"\"\n",
    "        :type nums: List[int]\n",
    "        :type target: int\n",
    "        :rtype: List[List[int]]\n",
    "        雙指針法\n",
    "        \"\"\"\n",
    "        nums.sort()\n",
    "        n = len(nums)\n",
    "        res = []\n",
    "\n",
    "        # i是左邊元素\n",
    "        for i in range(n):\n",
    "            # 去除重複元素\n",
    "            if i>0 and nums[i] ==nums[i-1]:continue\n",
    "\n",
    "            # k是右邊元素\n",
    "            for k in range(i+1,n):\n",
    "                # 去除重複元素\n",
    "                if k>i+1 and nums[k]==nums[k-1]:continue\n",
    "                p = k+1 \n",
    "                q = n-1 \n",
    "\n",
    "                while p<q:\n",
    "                    if nums[i]+nums[k]+nums[p]+nums[q]>target:q-=1 \n",
    "                    elif nums[i]+nums[k]+nums[p]+nums[q]<target:p+=1 \n",
    "                    else:\n",
    "                        res.append([nums[i],nums[k],nums[p],nums[q]])\n",
    "                        while p<q and nums[p]==nums[p+1]:p+=1 \n",
    "                        while p<q and nums[q]==nums[q-1]:q-=1 \n",
    "                        p+=1 \n",
    "                        q-=1 \n",
    "        print(res)\n",
    "        return res \n",
    "\n",
    "\n",
    "\n",
    "nums = [1,0,-1,0,-2,2]\n",
    "target = 1\n",
    "obj = Solution().fourSum(nums,target)           "
   ]
  },
  {
   "cell_type": "markdown",
   "metadata": {},
   "source": [
    "雙指針的思維導圖\n",
    "<img src =\"src/hash-foursum.jpeg\">"
   ]
  }
 ],
 "metadata": {
  "kernelspec": {
   "display_name": "Python 3.9.2 64-bit",
   "language": "python",
   "name": "python3"
  },
  "language_info": {
   "codemirror_mode": {
    "name": "ipython",
    "version": 3
   },
   "file_extension": ".py",
   "mimetype": "text/x-python",
   "name": "python",
   "nbconvert_exporter": "python",
   "pygments_lexer": "ipython3",
   "version": "3.9.2"
  },
  "orig_nbformat": 4,
  "vscode": {
   "interpreter": {
    "hash": "397704579725e15f5c7cb49fe5f0341eb7531c82d19f2c29d197e8b64ab5776b"
   }
  }
 },
 "nbformat": 4,
 "nbformat_minor": 2
}
