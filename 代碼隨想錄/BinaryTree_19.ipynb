{
 "cells": [
  {
   "cell_type": "markdown",
   "metadata": {},
   "source": [
    "# 二叉搜索树中的搜索\n",
    "\n",
    "## 问题\n",
    "\n",
    "给定二叉搜索树（BST）的根节点和一个值。 你需要在BST中找到节点值等于给定值的节点。 返回以该节点为根的子树。 如果节点不存在，则返回 NULL\n",
    "\n",
    "<img src='https://img-blog.csdnimg.cn/20210204155522476.png'>\n",
    "\n",
    "\n",
    "\n",
    "## 知识补充\n",
    "二叉搜索树是一个有序树\n",
    "- 若他的左子树不空，则左子树上所有节点的值均小于它的根节点的值\n",
    "- 若他的右子树不空，则右子树上所有节点的值均大于它的根节点的值\n",
    "- 她的左右子树也分别为二叉搜索树\n",
    "  \n",
    "  \n",
    "## 代码\n",
    "\n"
   ]
  },
  {
   "cell_type": "code",
   "execution_count": null,
   "metadata": {},
   "outputs": [],
   "source": [
    "# Definition for a binary tree node.\n",
    "# class TreeNode(object):\n",
    "#     def __init__(self, val=0, left=None, right=None):\n",
    "#         self.val = val\n",
    "#         self.left = left\n",
    "#         self.right = right\n",
    "class Solution(object):\n",
    "    def searchBST(self, root, val):\n",
    "        \"\"\"\n",
    "        :type root: TreeNode\n",
    "        :type val: int\n",
    "        :rtype: TreeNode\n",
    "        \"\"\"\n",
    "        if root is None or root.val == val:\n",
    "            return root \n",
    "        \n",
    "        # res = 0\n",
    "        if (root.val < val):\n",
    "            res = self.searchBST(root.right,val)\n",
    "        if (root.val>val):\n",
    "            res = self.searchBST(root.left,val)\n",
    "        return res \n",
    "\n",
    "    def searchBST(self,root,val):\n",
    "        '''迭代法'''\n",
    "        while root is not None:\n",
    "            if val < root.val:\n",
    "                root=root.left \n",
    "            if val>root.val:\n",
    "                root = root.right \n",
    "            else:\n",
    "                return root \n",
    "        return None \n",
    "        \n",
    "        \n"
   ]
  }
 ],
 "metadata": {
  "kernelspec": {
   "display_name": "Python 3.9.2 64-bit",
   "language": "python",
   "name": "python3"
  },
  "language_info": {
   "name": "python",
   "version": "3.9.2"
  },
  "orig_nbformat": 4,
  "vscode": {
   "interpreter": {
    "hash": "397704579725e15f5c7cb49fe5f0341eb7531c82d19f2c29d197e8b64ab5776b"
   }
  }
 },
 "nbformat": 4,
 "nbformat_minor": 2
}
