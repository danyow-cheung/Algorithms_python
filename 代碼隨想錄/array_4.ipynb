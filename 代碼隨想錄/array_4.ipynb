{
 "cells": [
  {
   "cell_type": "markdown",
   "metadata": {},
   "source": [
    "# 有序數組的平方"
   ]
  },
  {
   "cell_type": "markdown",
   "metadata": {},
   "source": [
    "## 題目\n",
    "给你一个按非递减顺序排序的整数数组 nums，返回 每个数字的平方 组成的新数组，要求也按 非递减顺序 排序。\n",
    "\n",
    "<u>示例</u>\n",
    "- 输入：nums = [-4,-1,0,3,10] 输出：[0,1,9,16,100] 解释：平方后，数组变为 [16,1,0,9,100]，排序后，数组变为 [0,1,9,16,100]\n",
    "- 输入：nums = [-7,-3,2,3,11] 输出：[4,9,9,49,121]"
   ]
  },
  {
   "cell_type": "markdown",
   "metadata": {},
   "source": [
    "## 代碼\n",
    "1. 暴力排序 func_1()\n",
    "2. 雙指針  func_2()"
   ]
  },
  {
   "cell_type": "code",
   "execution_count": 7,
   "metadata": {},
   "outputs": [],
   "source": [
    "def func_1(nums):\n",
    "    for i in range(len(nums)):\n",
    "        nums[i] *= nums[i]\n",
    "    return sorted(nums)"
   ]
  },
  {
   "cell_type": "code",
   "execution_count": 13,
   "metadata": {},
   "outputs": [],
   "source": [
    "def func_2(nums):\n",
    "    low = 0 \n",
    "    high = len(nums)-1\n",
    "    res = []\n",
    "\n",
    "    # 要比較左右指針數值之後再寫入res\n",
    "    # 等號有，見array_a.ipynb\n",
    "    while low<=high:\n",
    "        if abs(nums[low])<=abs(nums[high]):\n",
    "            res.insert(0,nums[high]**2)\n",
    "            high -= 1 \n",
    "        else:\n",
    "            res.insert(0,nums[low]**2)\n",
    "            low+=1\n",
    "    return res\n",
    "       \n"
   ]
  },
  {
   "cell_type": "code",
   "execution_count": 14,
   "metadata": {},
   "outputs": [
    {
     "data": {
      "text/plain": [
       "[0, 1, 9, 16, 100]"
      ]
     },
     "execution_count": 14,
     "metadata": {},
     "output_type": "execute_result"
    }
   ],
   "source": [
    "nums = [-4,-1,0,3,10] \n",
    "# nums = [-7,-3,2,3,11]\n",
    "# func_1(nums)\n",
    "func_2(nums)"
   ]
  }
 ],
 "metadata": {
  "kernelspec": {
   "display_name": "Python 3.9.2 64-bit",
   "language": "python",
   "name": "python3"
  },
  "language_info": {
   "codemirror_mode": {
    "name": "ipython",
    "version": 3
   },
   "file_extension": ".py",
   "mimetype": "text/x-python",
   "name": "python",
   "nbconvert_exporter": "python",
   "pygments_lexer": "ipython3",
   "version": "3.9.2"
  },
  "orig_nbformat": 4,
  "vscode": {
   "interpreter": {
    "hash": "397704579725e15f5c7cb49fe5f0341eb7531c82d19f2c29d197e8b64ab5776b"
   }
  }
 },
 "nbformat": 4,
 "nbformat_minor": 2
}
