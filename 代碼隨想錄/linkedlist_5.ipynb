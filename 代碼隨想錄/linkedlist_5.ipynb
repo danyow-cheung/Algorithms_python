{
 "cells": [
  {
   "cell_type": "markdown",
   "metadata": {},
   "source": [
    "# 兩兩交換鏈表中的節點\n",
    "## 問題\n",
    "给定一个链表，两两交换其中相邻的节点，并返回交换后的链表。\n",
    "你不能只是单纯的改变节点内部的值，而是需要实际的进行节点交换。\n",
    "\n",
    "\n",
    "<u>示例</u><br>\n",
    "head = [1,2,3,4],output = [2,1,4,3]\n",
    "\n",
    "## 代碼\n",
    "<img src =\"src/IMG_0288.jpg\">"
   ]
  },
  {
   "cell_type": "code",
   "execution_count": null,
   "metadata": {},
   "outputs": [],
   "source": [
    "# Definition for singly-linked list.\n",
    "class ListNode(object):\n",
    "    def __init__(self, val=0, next=None):\n",
    "        self.val = val\n",
    "        self.next = next\n",
    "\n",
    "class Solution(object):\n",
    "    def swapPairs(self, head):\n",
    "        \"\"\"\n",
    "        :type head: ListNode\n",
    "        :rtype: ListNode\n",
    "        \"\"\"\n",
    "        # 虛擬節點\n",
    "        res = ListNode(next = head)\n",
    "        pre = res \n",
    "        \n",
    "        # 只有pre有後兩個才有交換，否則說明交換已經結束\n",
    "        while pre.next and pre.next.next :\n",
    "            cur = pre.next \n",
    "            post = pre.next.next \n",
    "\n",
    "            # pre，cur，post對應左邊，中間和右邊的節點\n",
    "            # 移動cur\n",
    "            \n",
    "            cur.next = post.next \n",
    "            post.next = cur\n",
    "            # 移動pre\n",
    "            pre.next = post \n",
    "            pre = pre.next.next \n",
    "\n",
    "        return res.next"
   ]
  }
 ],
 "metadata": {
  "kernelspec": {
   "display_name": "Python 3.9.2 64-bit",
   "language": "python",
   "name": "python3"
  },
  "language_info": {
   "name": "python",
   "version": "3.9.2"
  },
  "orig_nbformat": 4,
  "vscode": {
   "interpreter": {
    "hash": "397704579725e15f5c7cb49fe5f0341eb7531c82d19f2c29d197e8b64ab5776b"
   }
  }
 },
 "nbformat": 4,
 "nbformat_minor": 2
}
