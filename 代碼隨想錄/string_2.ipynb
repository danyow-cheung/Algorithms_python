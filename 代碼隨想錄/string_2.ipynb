{
 "cells": [
  {
   "cell_type": "markdown",
   "metadata": {},
   "source": [
    "# 反转字符串II\n",
    "## 问题\n",
    "给定一个字符串 s 和一个整数 k，从字符串开头算起, 每计数至 2k 个字符，就反转这 2k 个字符中的前 k 个字符。\n",
    "\n",
    "如果剩余字符少于 k 个，则将剩余字符全部反转。\n",
    "\n",
    "如果剩余字符小于 2k 但大于或等于 k 个，则反转前 k 个字符，其余字符保持原样。\n",
    "\n",
    "<u>示例:</u><br>\n",
    "输入: s = \"abcdefg\", k = 2\n",
    "输出: \"bacdfeg\"\n",
    "\n",
    "\n",
    "## 代码\n",
    "\n",
    "一些同学可能为了处理逻辑：每隔2k个字符的前k的字符，写了一堆逻辑代码或者再搞一个计数器，来统计2k，再统计前k个字符。\n",
    "\n",
    "其实在遍历字符串的过程中，只要让 i += (2 * k)，i 每次移动 2 * k 就可以了，然后判断是否需要有反转的区间。\n",
    "\n",
    "\n"
   ]
  },
  {
   "cell_type": "code",
   "execution_count": null,
   "metadata": {},
   "outputs": [],
   "source": [
    "class Solution(object):\n",
    "    def reverseStr(self, s, k):\n",
    "        \"\"\"\n",
    "        :type s: str\n",
    "        :type k: int\n",
    "        :rtype: str\n",
    "        \"\"\"\n",
    "        \"\"\"\n",
    "        1. 使用range(start, end, step)来确定需要调换的初始位置\n",
    "        2. 对于字符串s = 'abc'，如果使用s[0:999] ===> 'abc'。字符串末尾如果超过最大长度，则会返回至字符串最后一个值，这个特性可以避免一些边界条件的处理。\n",
    "        3. 用切片整体替换，而不是一个个替换.\n",
    "        \"\"\"\n",
    "        \n",
    "        def loop(s):\n",
    "            left = 0 \n",
    "            right = len(s)-1 \n",
    "            while left<right:\n",
    "                s[left],s[right] = s[right],s[left]\n",
    "                left+=1\n",
    "                right-=1 \n",
    "            return s \n",
    "        \n",
    "        res =list(s)\n",
    "        for cur in range(0,len(s),2*k):\n",
    "            res[cur:cur+k] = loop(res[cur:cur+k])\n",
    "        return \"\".join(res)\n",
    "\n",
    "\n",
    "    def reverseStr_leetcode(self, s, k):\n",
    "        '''\n",
    "        leetcode tutorial\n",
    "        '''\n",
    "        a = list(s)\n",
    "        for i in xrange(0, len(a), 2*k):\n",
    "            a[i:i+k] = reversed(a[i:i+k])\n",
    "        return \"\".join(a)"
   ]
  }
 ],
 "metadata": {
  "language_info": {
   "name": "python"
  },
  "orig_nbformat": 4
 },
 "nbformat": 4,
 "nbformat_minor": 2
}
