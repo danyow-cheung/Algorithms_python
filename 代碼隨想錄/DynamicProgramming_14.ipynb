{
 "cells": [
  {
   "attachments": {},
   "cell_type": "markdown",
   "metadata": {},
   "source": [
    "# 組合總和IV\n",
    "## 問題\n",
    "\n",
    "给定一个由正整数组成且不存在重复数字的数组，找出和为给定目标正整数的组合的个数。\n",
    "\n",
    "示例:\n",
    "\n",
    "nums = [1, 2, 3] target = 4\n",
    "\n",
    "所有可能的组合为： (1, 1, 1, 1) (1, 1, 2) (1, 2, 1) (1, 3) (2, 1, 1) (2, 2) (3, 1)\n",
    "\n",
    "请注意，顺序不同的序列被视作不同的组合。\n",
    "\n",
    "因此输出为 7。\n",
    "\n",
    "## 代碼\n"
   ]
  },
  {
   "attachments": {},
   "cell_type": "markdown",
   "metadata": {},
   "source": [
    "本题题目描述说是求组合，但又说是可以元素相同顺序不同的组合算两个组合，其实就是求排列！\n",
    "\n",
    "弄清什么是组合，什么是排列很重要。\n",
    "\n",
    "<u>组合不强调顺序，(1,5)和(5,1)是同一个组合。</u>\n",
    "\n",
    "<u>排列强调顺序，(1,5)和(5,1)是两个不同的排列。</u>"
   ]
  },
  {
   "attachments": {},
   "cell_type": "markdown",
   "metadata": {},
   "source": [
    "**如果求组合数就是外层for循环遍历物品，内层for遍历背包。**\n",
    "\n",
    "\n",
    "**如果求排列数就是外层for遍历背包，内层for循环遍历物品。**"
   ]
  },
  {
   "cell_type": "code",
   "execution_count": null,
   "metadata": {},
   "outputs": [],
   "source": [
    "class Solution(object):\n",
    "    def combinationSum4(self, nums, target):\n",
    "        \"\"\"\n",
    "        :type nums: List[int]\n",
    "        :type target: int\n",
    "        :rtype: int\n",
    "        \"\"\"\n",
    "        dp =[0]*(target+1)\n",
    "        dp[0] =1 \n",
    "        for i in range(target):\n",
    "            for j in range(len(nums)):\n",
    "                if i-nums[j]>=0 :\n",
    "                    dp[i]+= dp[i-nums[j]]\n",
    "        return dp[target]\n",
    "        "
   ]
  }
 ],
 "metadata": {
  "kernelspec": {
   "display_name": "Python 3",
   "language": "python",
   "name": "python3"
  },
  "language_info": {
   "name": "python",
   "version": "3.9.2 (v3.9.2:1a79785e3e, Feb 19 2021, 09:06:10) \n[Clang 6.0 (clang-600.0.57)]"
  },
  "orig_nbformat": 4,
  "vscode": {
   "interpreter": {
    "hash": "397704579725e15f5c7cb49fe5f0341eb7531c82d19f2c29d197e8b64ab5776b"
   }
  }
 },
 "nbformat": 4,
 "nbformat_minor": 2
}
