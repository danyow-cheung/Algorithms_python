{
 "cells": [
  {
   "cell_type": "markdown",
   "metadata": {},
   "source": [
    "# 反转字符串里的单词\n",
    "\n",
    "## 问题\n",
    "给定一个字符串，逐个翻转字符串中的每个单词。\n",
    "\n",
    "<u>示例 1</u><br>\n",
    "输入: \"the sky is blue\"\n",
    "输出: \"blue is sky the\"\n",
    "\n",
    "<u>示例 2：</u><br>\n",
    "输入: \"  hello world!  \"\n",
    "输出: \"world! hello\"\n",
    "\n",
    "解释: 输入字符串可以在前面或者后面包含多余的空格，但是反转后的字符不能包括。\n",
    "\n",
    "\n",
    "\n",
    "## 代码\n"
   ]
  },
  {
   "cell_type": "code",
   "execution_count": 13,
   "metadata": {},
   "outputs": [
    {
     "name": "stdout",
     "output_type": "stream",
     "text": [
      "world hello\n"
     ]
    }
   ],
   "source": [
    "class Solution(object):\n",
    "    def reverseWords(self, s):\n",
    "        \"\"\"\n",
    "        :type s: str\n",
    "        :rtype: str\n",
    "        \"\"\"\n",
    "        s = s.split()\n",
    "        s = s[::-1]\n",
    "        return \" \".join(s)\n",
    "\n",
    "s = \"the sky is blue\" \n",
    "s = \"  hello world  \"\n",
    "obj = Solution().reverseWords(s)"
   ]
  },
  {
   "cell_type": "code",
   "execution_count": null,
   "metadata": {},
   "outputs": [],
   "source": []
  }
 ],
 "metadata": {
  "kernelspec": {
   "display_name": "Python 3.9.2 64-bit",
   "language": "python",
   "name": "python3"
  },
  "language_info": {
   "codemirror_mode": {
    "name": "ipython",
    "version": 3
   },
   "file_extension": ".py",
   "mimetype": "text/x-python",
   "name": "python",
   "nbconvert_exporter": "python",
   "pygments_lexer": "ipython3",
   "version": "3.9.2"
  },
  "orig_nbformat": 4,
  "vscode": {
   "interpreter": {
    "hash": "397704579725e15f5c7cb49fe5f0341eb7531c82d19f2c29d197e8b64ab5776b"
   }
  }
 },
 "nbformat": 4,
 "nbformat_minor": 2
}
