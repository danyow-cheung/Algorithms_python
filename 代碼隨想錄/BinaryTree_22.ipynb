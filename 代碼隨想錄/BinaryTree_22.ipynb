{
 "cells": [
  {
   "cell_type": "markdown",
   "metadata": {},
   "source": [
    "# 二叉搜索树中的众数\n",
    "\n",
    "## 问题\n",
    "\n",
    "给定一个有相同值的二叉搜索树（BST），找出 BST 中的所有众数（出现频率最高的元素）。\n",
    "\n",
    "假定 BST 有如下定义：\n",
    "\n",
    "结点左子树中所含结点的值小于等于当前结点的值\n",
    "结点右子树中所含结点的值大于等于当前结点的值\n",
    "左子树和右子树都是二叉搜索树\n",
    "\n",
    "<img src = 'https://img-blog.csdnimg.cn/20201014221532206.png'>\n",
    "## 代码"
   ]
  },
  {
   "cell_type": "code",
   "execution_count": null,
   "metadata": {},
   "outputs": [],
   "source": [
    "# Definition for a binary tree node.\n",
    "# class TreeNode(object):\n",
    "#     def __init__(self, val=0, left=None, right=None):\n",
    "#         self.val = val\n",
    "#         self.left = left\n",
    "#         self.right = right\n",
    "class Solution(object):\n",
    "    def findMode(self, root):\n",
    "        \"\"\"\n",
    "        :type root: TreeNode\n",
    "        :rtype: List[int]\n",
    "        \"\"\"\n",
    "        # 中序遍历得到数组\n",
    "        stack = []\n",
    "        def buildList(root):\n",
    "            if not root:\n",
    "                return None \n",
    "            if root.left:\n",
    "                buildList(root.left)\n",
    "            stack.append(root.val)\n",
    "            if root.right:\n",
    "                buildList(root.right)\n",
    "            return stack\n",
    "        \n",
    "        buildList(root)\n",
    "        # 统计出现频率最多的元素\n",
    "        from collections import Counter\n",
    "        stack_counter = Counter(stack)\n",
    "\n",
    "        res = max(stack_counter.keys(), key=stack_counter.get)\n",
    "        return [res]"
   ]
  }
 ],
 "metadata": {
  "kernelspec": {
   "display_name": "Python 3.9.2 64-bit",
   "language": "python",
   "name": "python3"
  },
  "language_info": {
   "name": "python",
   "version": "3.9.2"
  },
  "orig_nbformat": 4,
  "vscode": {
   "interpreter": {
    "hash": "397704579725e15f5c7cb49fe5f0341eb7531c82d19f2c29d197e8b64ab5776b"
   }
  }
 },
 "nbformat": 4,
 "nbformat_minor": 2
}
