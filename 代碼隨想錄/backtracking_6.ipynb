{
 "cells": [
  {
   "cell_type": "markdown",
   "metadata": {},
   "source": [
    "# 组合总和II\n",
    "\n",
    "## 问题\n",
    "\n",
    "给定一个数组 candidates 和一个目标数 target ，找出 candidates 中所有可以使数字和为 target 的组合。\n",
    "\n",
    "candidates 中的每个数字在每个组合中只能使用一次。\n",
    "\n",
    "说明： 所有数字（包括目标数）都是正整数。 解集不能包含重复的组合。\n",
    "\n",
    "示例 1: 输入: candidates = [10,1,2,7,6,1,5], target = 8, 所求解集为: [ [1, 7], [1, 2, 5], [2, 6], [1, 1, 6] ]\n",
    "\n",
    "示例 2:<br> \n",
    "输入: candidates = [2,5,2,1,2], target = 5, 所求解集为: [   [1,2,2],   [5] ]\n",
    "\n",
    "\n",
    "\n",
    "## 代码\n",
    "\n",
    "\n",
    "树层去重，要对数组排序\n",
    "<img src = 'https://img-blog.csdnimg.cn/20201123202736384.png'>\n"
   ]
  },
  {
   "cell_type": "code",
   "execution_count": null,
   "metadata": {},
   "outputs": [],
   "source": [
    "class Solution(object):\n",
    "    def combinationSum2(self, candidates, target):\n",
    "        \"\"\"\n",
    "        :type candidates: List[int]\n",
    "        :type target: int\n",
    "        :rtype: List[List[int]]\n",
    "        \"\"\"\n",
    "        if not candidates:\n",
    "            return candidates\n",
    "        res = []\n",
    "\n",
    "        path = []\n",
    "        # 初始化，以免used[i]下标报错\n",
    "        used = [False]*len(candidates)\n",
    "        # 首先要给原数组排序，让所有元素都挨在一起\n",
    "        candidates.sort()\n",
    "\n",
    "        def backtracking(nums,targetSum,sum,StartIdx,used):\n",
    "            if sum>target:\n",
    "                return \n",
    "            if sum ==targetSum:\n",
    "                res.append(path[:])\n",
    "                return \n",
    "            # 单层递归的逻辑\n",
    "            for i in range(StartIdx,len(nums)):\n",
    "                if i>0 and nums[i]==nums[i-1] and used[i-1]==False:\n",
    "                    continue\n",
    "\n",
    "                # 增加操作\n",
    "                sum += nums[i]\n",
    "                path.append(nums[i])\n",
    "                used[i]=True \n",
    "                # 回溯\n",
    "                backtracking(nums,target,sum,i+1,used)\n",
    "                # 减少操作\n",
    "                sum -= nums[i]\n",
    "                path.pop()\n",
    "                used[i]=False \n",
    "\n",
    "        backtracking(candidates,target,0,0,used)\n",
    "        return res \n",
    "\n",
    "\n"
   ]
  }
 ],
 "metadata": {
  "kernelspec": {
   "display_name": "Python 3.9.2 64-bit",
   "language": "python",
   "name": "python3"
  },
  "language_info": {
   "name": "python",
   "version": "3.9.2"
  },
  "orig_nbformat": 4,
  "vscode": {
   "interpreter": {
    "hash": "397704579725e15f5c7cb49fe5f0341eb7531c82d19f2c29d197e8b64ab5776b"
   }
  }
 },
 "nbformat": 4,
 "nbformat_minor": 2
}
