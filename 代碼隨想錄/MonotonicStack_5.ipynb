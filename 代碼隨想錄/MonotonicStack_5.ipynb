{
 "cells": [
  {
   "attachments": {},
   "cell_type": "markdown",
   "metadata": {},
   "source": [
    "# .柱状图中最大的矩形\n",
    "## 問題\n",
    "\n",
    "给定 n 个非负整数，用来表示柱状图中各个柱子的高度。每个柱子彼此相邻，且宽度为 1 。\n",
    "\n",
    "求在该柱状图中，能够勾勒出来的矩形的最大面积。\n",
    "<img src= 'https://code-thinking-1253855093.file.myqcloud.com/pics/20210803220437.png'>\n",
    "## 代碼\n"
   ]
  },
  {
   "attachments": {},
   "cell_type": "markdown",
   "metadata": {},
   "source": [
    "雙指針\n",
    "> 超時"
   ]
  },
  {
   "cell_type": "code",
   "execution_count": null,
   "metadata": {},
   "outputs": [],
   "source": [
    "class Solution(object):\n",
    "    def largestRectangleArea(self, heights):\n",
    "        \"\"\"\n",
    "        :type heights: List[int]\n",
    "        :rtype: int\n",
    "        \"\"\"\n",
    "        res =0 \n",
    "        for i in range(len(heights)):\n",
    "            left = i \n",
    "            right = i \n",
    "            # 向左遍歷，尋找第一個矮一級的柱子\n",
    "            for _ in range(left,-1,-1):\n",
    "                if heights[left]<heights[i]:\n",
    "                    break\n",
    "                left -= 1 \n",
    "            # 向右遍歷，尋找第一個矮一級的柱子\n",
    "            for _ in range(right,len(heights)):\n",
    "                if heights[right]<heights[i]:\n",
    "                    break\n",
    "                right+=1 \n",
    "            width = right - left+1 \n",
    "            heights = heights[i]\n",
    "            res = max(res,width*heights)\n",
    "        return res \n",
    "        "
   ]
  },
  {
   "attachments": {},
   "cell_type": "markdown",
   "metadata": {},
   "source": [
    "動態規劃"
   ]
  },
  {
   "cell_type": "code",
   "execution_count": null,
   "metadata": {},
   "outputs": [],
   "source": [
    "class Solution(object):\n",
    "    def largestRectangleArea(self, heights):\n",
    "        \"\"\"\n",
    "        :type heights: List[int]\n",
    "        :rtype: int\n",
    "        \"\"\"\n",
    "        size = len(heights)\n",
    "        minLeft = [0]*size\n",
    "        minRight = [0]*size \n",
    "\n",
    "        \n",
    "        # 紀錄每一個柱子，左邊第一個小於該柱子的下標\n",
    "        \n",
    "        minLeft[0] = -1 \n",
    "        \n",
    "        for i in range(1,size):\n",
    "            t = i-1 \n",
    "            # 不斷向左尋找的過程\n",
    "            while t>=0 and heights[t]>= heights[i]:\n",
    "                t = minLeft[t]\n",
    "            minLeft[i]= t \n",
    "        \n",
    "        # 紀錄每一個柱子，右邊第一個小於該柱子的下標\n",
    "        minRight[size-1] = size \n",
    "        for i in range(size-1,-1,-1):\n",
    "            t = i+1 \n",
    "            while t<size and heights[t]>= heights[i]:\n",
    "                t = minRight[t]\n",
    "            minRight[i] =t \n",
    "        # 求和\n",
    "        result = 0 \n",
    "        for i in range(0,size):\n",
    "            cur = heights[i]*(minRight[i]-minLeft[i]-1)\n",
    "            res = max(res,cur)\n",
    "        return res \n",
    "\n",
    "\n",
    "        "
   ]
  },
  {
   "attachments": {},
   "cell_type": "markdown",
   "metadata": {},
   "source": [
    "單調輚"
   ]
  },
  {
   "cell_type": "code",
   "execution_count": null,
   "metadata": {},
   "outputs": [],
   "source": [
    "class Solution(object):\n",
    "    def largestRectangleArea(self, heights):\n",
    "        \"\"\"\n",
    "        :type heights: List[int]\n",
    "        :rtype: int\n",
    "        找每个柱子左右侧的第一个高度值小于该柱子的柱子\n",
    "        单调栈：栈顶到栈底：从大到小（每插入一个新的小数值时，都要弹出先前的大数值）\n",
    "        栈顶，栈顶的下一个元素，即将入栈的元素：这三个元素组成了最大面积的高度和宽度\n",
    "        情况一：当前遍历的元素heights[i]大于栈顶元素的情况\n",
    "        情况二：当前遍历的元素heights[i]等于栈顶元素的情况\n",
    "        情况三：当前遍历的元素heights[i]小于栈顶元素的情况\n",
    "        \"\"\"\n",
    "        # 輸入數組首尾各補上一個0\n",
    "        heights.insert(0,0)\n",
    "        heights.append(0)\n",
    "        stack = [0]\n",
    "        result = 0 \n",
    "\n",
    "        for i in range(1,len(heights)):\n",
    "            # 情況1\n",
    "            if heights[i]>heights[stack[-1]]:\n",
    "                stack.append(i)\n",
    "            # 情況2\n",
    "            elif heights[i] == heights[stack[-1]]:\n",
    "                stack.pop()\n",
    "                stack.append(i)\n",
    "            # 情況3\n",
    "            else:\n",
    "                # 拋出所有較高的柱子\n",
    "                while stack and heights[i]<heights[stack[-1]]:\n",
    "                    # 輚頂就是中間柱子,主心骨\n",
    "                    min_index = stack[-1]\n",
    "                    stack.pop()\n",
    "                    if stack:\n",
    "                        left_index = stack[-1]\n",
    "                        right_index = i \n",
    "                        width = right_index-left_index-1 \n",
    "                        height = heights[min_index]\n",
    "                        result = max(result,width*height)\n",
    "                stack.append(i)\n",
    "        return result\n",
    "        "
   ]
  }
 ],
 "metadata": {
  "language_info": {
   "name": "python"
  },
  "orig_nbformat": 4
 },
 "nbformat": 4,
 "nbformat_minor": 2
}
