{
 "cells": [
  {
   "cell_type": "markdown",
   "metadata": {},
   "source": [
    "# 翻轉鏈表\n",
    "\n",
    "\n",
    "## 問題\n",
    "题意：反转一个单链表。\n",
    "\n",
    "示例: 输入: 1->2->3->4->5->NULL 输出: 5->4->3->2->1->NULL\n",
    "\n",
    "\n",
    "## 代碼\n",
    "1. 雙指針法\n",
    "2. 迭代"
   ]
  },
  {
   "cell_type": "code",
   "execution_count": null,
   "metadata": {},
   "outputs": [],
   "source": [
    "# Definition for singly-linked list.\n",
    "class ListNode(object):\n",
    "    def __init__(self, val=0, next=None):\n",
    "        self.val = val\n",
    "        self.next = next\n",
    "class Solution(object):\n",
    "    def reverseList_1(self, head):\n",
    "        \"\"\"\n",
    "        :type head: ListNode\n",
    "        :rtype: ListNode\n",
    "        \"\"\"\n",
    "        cur = head \n",
    "        pre = None\n",
    "        while cur != None:\n",
    "            temp = cur.next\n",
    "            #此时已经反转了第一个节点了\n",
    "            cur.next = pre \n",
    "            # 更新pre，cur指針\n",
    "            pre = cur \n",
    "            cur =temp \n",
    "        return pre \n",
    "    \n",
    "    def reverseList_2(self,head):\n",
    "        def reverse(pre,cur):\n",
    "            if not cur:\n",
    "                return pre\n",
    "            '''【核心代碼】''' \n",
    "            temp = cur.next \n",
    "            cur.next= pre \n",
    "            return reverse(cur,temp)\n",
    "        return reverse(None,head)\n",
    "            "
   ]
  }
 ],
 "metadata": {
  "kernelspec": {
   "display_name": "Python 3.9.2 64-bit",
   "language": "python",
   "name": "python3"
  },
  "language_info": {
   "name": "python",
   "version": "3.9.2"
  },
  "orig_nbformat": 4,
  "vscode": {
   "interpreter": {
    "hash": "397704579725e15f5c7cb49fe5f0341eb7531c82d19f2c29d197e8b64ab5776b"
   }
  }
 },
 "nbformat": 4,
 "nbformat_minor": 2
}
