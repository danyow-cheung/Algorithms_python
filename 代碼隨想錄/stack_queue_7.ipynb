{
 "cells": [
  {
   "cell_type": "markdown",
   "metadata": {},
   "source": [
    "# 滑动窗口最大值\n",
    "\n",
    "## 问题\n",
    "给定一个数组 nums，有一个大小为 k 的滑动窗口从数组的最左侧移动到数组的最右侧。你只可以看到在滑动窗口内的 k 个数字。滑动窗口每次只向右移动一位。\n",
    "\n",
    "返回滑动窗口中的最大值。\n",
    "\n",
    "\n",
    "## 代码\n",
    "【hard】😯😢"
   ]
  },
  {
   "cell_type": "code",
   "execution_count": 15,
   "metadata": {},
   "outputs": [
    {
     "ename": "IndexError",
     "evalue": "list index out of range",
     "output_type": "error",
     "traceback": [
      "\u001b[0;31m---------------------------------------------------------------------------\u001b[0m",
      "\u001b[0;31mIndexError\u001b[0m                                Traceback (most recent call last)",
      "\u001b[1;32m/Users/danyow/code/代碼隨想錄/stack_queue_7.ipynb Cell 2\u001b[0m in \u001b[0;36m<cell line: 20>\u001b[0;34m()\u001b[0m\n\u001b[1;32m     <a href='vscode-notebook-cell:/Users/danyow/code/%E4%BB%A3%E7%A2%BC%E9%9A%A8%E6%83%B3%E9%8C%84/stack_queue_7.ipynb#W2sZmlsZQ%3D%3D?line=17'>18</a>\u001b[0m nums \u001b[39m=\u001b[39m [\u001b[39m1\u001b[39m,\u001b[39m3\u001b[39m,\u001b[39m-\u001b[39m\u001b[39m1\u001b[39m,\u001b[39m-\u001b[39m\u001b[39m3\u001b[39m,\u001b[39m5\u001b[39m,\u001b[39m3\u001b[39m,\u001b[39m6\u001b[39m,\u001b[39m7\u001b[39m]\n\u001b[1;32m     <a href='vscode-notebook-cell:/Users/danyow/code/%E4%BB%A3%E7%A2%BC%E9%9A%A8%E6%83%B3%E9%8C%84/stack_queue_7.ipynb#W2sZmlsZQ%3D%3D?line=18'>19</a>\u001b[0m k \u001b[39m=\u001b[39m \u001b[39m3\u001b[39m\n\u001b[0;32m---> <a href='vscode-notebook-cell:/Users/danyow/code/%E4%BB%A3%E7%A2%BC%E9%9A%A8%E6%83%B3%E9%8C%84/stack_queue_7.ipynb#W2sZmlsZQ%3D%3D?line=19'>20</a>\u001b[0m obj  \u001b[39m=\u001b[39m Solution()\u001b[39m.\u001b[39;49mmaxSlidingWindow(nums,k)\n",
      "\u001b[1;32m/Users/danyow/code/代碼隨想錄/stack_queue_7.ipynb Cell 2\u001b[0m in \u001b[0;36mSolution.maxSlidingWindow\u001b[0;34m(self, nums, k)\u001b[0m\n\u001b[1;32m     <a href='vscode-notebook-cell:/Users/danyow/code/%E4%BB%A3%E7%A2%BC%E9%9A%A8%E6%83%B3%E9%8C%84/stack_queue_7.ipynb#W2sZmlsZQ%3D%3D?line=9'>10</a>\u001b[0m \u001b[39mwhile\u001b[39;00m fast \u001b[39m<\u001b[39m \u001b[39mlen\u001b[39m(nums):\n\u001b[1;32m     <a href='vscode-notebook-cell:/Users/danyow/code/%E4%BB%A3%E7%A2%BC%E9%9A%A8%E6%83%B3%E9%8C%84/stack_queue_7.ipynb#W2sZmlsZQ%3D%3D?line=10'>11</a>\u001b[0m     \u001b[39mif\u001b[39;00m fast \u001b[39m-\u001b[39m slow \u001b[39m<\u001b[39m\u001b[39m=\u001b[39m \u001b[39m3\u001b[39m:\n\u001b[0;32m---> <a href='vscode-notebook-cell:/Users/danyow/code/%E4%BB%A3%E7%A2%BC%E9%9A%A8%E6%83%B3%E9%8C%84/stack_queue_7.ipynb#W2sZmlsZQ%3D%3D?line=11'>12</a>\u001b[0m         res[slow]\u001b[39m+\u001b[39m\u001b[39m=\u001b[39mres[slow:]\n\u001b[1;32m     <a href='vscode-notebook-cell:/Users/danyow/code/%E4%BB%A3%E7%A2%BC%E9%9A%A8%E6%83%B3%E9%8C%84/stack_queue_7.ipynb#W2sZmlsZQ%3D%3D?line=12'>13</a>\u001b[0m         slow \u001b[39m+\u001b[39m\u001b[39m=\u001b[39m\u001b[39m1\u001b[39m \n\u001b[1;32m     <a href='vscode-notebook-cell:/Users/danyow/code/%E4%BB%A3%E7%A2%BC%E9%9A%A8%E6%83%B3%E9%8C%84/stack_queue_7.ipynb#W2sZmlsZQ%3D%3D?line=13'>14</a>\u001b[0m     fast \u001b[39m+\u001b[39m\u001b[39m=\u001b[39m\u001b[39m1\u001b[39m \n",
      "\u001b[0;31mIndexError\u001b[0m: list index out of range"
     ]
    }
   ],
   "source": [
    "class Solution(object):\n",
    "    def maxSlidingWindow(self, nums, k):\n",
    "        \"\"\"\n",
    "        :type nums: List[int]\n",
    "        :type k: int\n",
    "        :rtype: List[int]\n",
    "        \"\"\"\n",
    "        # 设置一个队列，放进去窗口里的元素，随着窗口的移动，队列也一进一出\n",
    "        res = []\n",
    "        for i in range(len(nums)):\n",
    "            if len(res)\n",
    "        \n",
    "            \n",
    "\n",
    "nums = [1,3,-1,-3,5,3,6,7]\n",
    "k = 3\n",
    "obj  = Solution().maxSlidingWindow(nums,k)"
   ]
  },
  {
   "cell_type": "code",
   "execution_count": null,
   "metadata": {},
   "outputs": [],
   "source": []
  }
 ],
 "metadata": {
  "kernelspec": {
   "display_name": "Python 3.9.2 64-bit",
   "language": "python",
   "name": "python3"
  },
  "language_info": {
   "codemirror_mode": {
    "name": "ipython",
    "version": 3
   },
   "file_extension": ".py",
   "mimetype": "text/x-python",
   "name": "python",
   "nbconvert_exporter": "python",
   "pygments_lexer": "ipython3",
   "version": "3.9.2"
  },
  "orig_nbformat": 4,
  "vscode": {
   "interpreter": {
    "hash": "397704579725e15f5c7cb49fe5f0341eb7531c82d19f2c29d197e8b64ab5776b"
   }
  }
 },
 "nbformat": 4,
 "nbformat_minor": 2
}
