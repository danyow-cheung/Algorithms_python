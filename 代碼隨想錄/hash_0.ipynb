{
 "cells": [
  {
   "cell_type": "markdown",
   "metadata": {},
   "source": [
    "# 哈希表的理論基礎\n",
    "\n",
    "## 哈希表：\n",
    "根據關鍵碼的值而直接進行訪問的數據結構\n",
    "\n",
    "解決問題：<br>\n",
    "一般哈希表用來快速判斷一個元素是否出現在集合里  \n",
    "\n",
    "## 哈希函數\n",
    "通过hashCode把名字转化为数值，一般hashcode是通过特定编码方式，可以将其他数据格式转化为不同的数值，这样就把学生名字映射为哈希表上的索引数字了。\n",
    "<img src =\"https://img-blog.csdnimg.cn/2021010423484818.png\">\n",
    "\n",
    "\n",
    "## 哈希碰撞\n",
    "<img src =\"https://img-blog.csdnimg.cn/2021010423494884.png\">\n",
    "<br>小李小王都映射到索引下標1的位置，這一現象叫做哈希碰撞\n",
    "\n",
    "<u>解決方法：</u>\n",
    "- 拉鍊法<br>\n",
    "  發生的元素都被存儲在鏈表中，這就我們就可以通過索引找到小李和小王了\n",
    "  <img src=\"https://img-blog.csdnimg.cn/20210104235015226.png\">\n",
    "- 線性探測法<br>\n",
    "  保證tableSize>dataSize，我們要用哈希表中的空位解決碰撞問題\n",
    "  <img src =\"https://img-blog.csdnimg.cn/20210104235109950.png\">\n"
   ]
  },
  {
   "cell_type": "markdown",
   "metadata": {},
   "source": [
    "## 常見的哈希表結構\n",
    "1. 數組\n",
    "2. set集合\n",
    "3. map映射"
   ]
  },
  {
   "cell_type": "markdown",
   "metadata": {},
   "source": [
    "## 總結\n",
    "遇到一個元素是否出現在集合的時候，就要考慮哈希法\n",
    "\n",
    "哈希法是犧牲空間換時間"
   ]
  }
 ],
 "metadata": {
  "kernelspec": {
   "display_name": "Python 3.9.2 64-bit",
   "language": "python",
   "name": "python3"
  },
  "language_info": {
   "name": "python",
   "version": "3.9.2"
  },
  "orig_nbformat": 4,
  "vscode": {
   "interpreter": {
    "hash": "397704579725e15f5c7cb49fe5f0341eb7531c82d19f2c29d197e8b64ab5776b"
   }
  }
 },
 "nbformat": 4,
 "nbformat_minor": 2
}
