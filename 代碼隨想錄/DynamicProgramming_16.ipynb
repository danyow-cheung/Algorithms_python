{
 "cells": [
  {
   "attachments": {},
   "cell_type": "markdown",
   "metadata": {},
   "source": [
    "# 零錢兌換\n",
    "\n",
    "## 問題\n",
    "\n",
    "给定不同面额的硬币 coins 和一个总金额 amount。编写一个函数来计算可以凑成总金额所需的最少的硬币个数。如果没有任何一种硬币组合能组成总金额，返回 -1。\n",
    "\n",
    "你可以认为每种硬币的数量是无限的。\n",
    "\n",
    "示例 1： 输入：coins = [1, 2, 5], amount = 11 输出：3 解释：11 = 5 + 5 + 1\n",
    "\n",
    "示例 2： 输入：coins = [2], amount = 3 输出：-1\n",
    "\n",
    "示例 3： 输入：coins = [1], amount = 0 输出：0\n",
    "\n",
    "示例 4： 输入：coins = [1], amount = 1 输出：1\n",
    "\n",
    "示例 5： 输入：coins = [1], amount = 2 输出：2\n",
    "\n",
    "## 代碼\n"
   ]
  },
  {
   "attachments": {},
   "cell_type": "markdown",
   "metadata": {},
   "source": [
    "**递推公式：dp[j] = min(dp[j - coins[i]] + 1, dp[j]);**"
   ]
  },
  {
   "cell_type": "code",
   "execution_count": 1,
   "metadata": {},
   "outputs": [
    {
     "name": "stdout",
     "output_type": "stream",
     "text": [
      "[inf, inf, inf, inf, inf, inf, inf, inf, inf, inf, inf, inf]\n"
     ]
    }
   ],
   "source": [
    "class Solution(object):\n",
    "    def coinChange(self, coins, amount):\n",
    "        \"\"\"\n",
    "        :type coins: List[int]\n",
    "        :type amount: int\n",
    "        :rtype: int\n",
    "        \"\"\"\n",
    "        dp = [amount+1]*(amount+1)\n",
    "        # print(dp)\n",
    "        dp[0]=0\n",
    "        # 遍歷物品\n",
    "        for i in range(len(coins)):\n",
    "            # 遍歷背包\n",
    "            for j in range(coins[i],amount+1):\n",
    "                # 如果dp[j-coints[i]]是初始值則跳過\n",
    "                dp[j] = min(dp[j-coins[i]]+1,dp[j])\n",
    "\n",
    "        return dp[amount]if dp[amount]<amount+1 else -1\n",
    "\n",
    "coins = [1,2,5]\n",
    "amount = 11\n",
    "obj = Solution().coinChange(coins,amount)"
   ]
  },
  {
   "cell_type": "code",
   "execution_count": null,
   "metadata": {},
   "outputs": [],
   "source": []
  }
 ],
 "metadata": {
  "kernelspec": {
   "display_name": "Python 3",
   "language": "python",
   "name": "python3"
  },
  "language_info": {
   "codemirror_mode": {
    "name": "ipython",
    "version": 3
   },
   "file_extension": ".py",
   "mimetype": "text/x-python",
   "name": "python",
   "nbconvert_exporter": "python",
   "pygments_lexer": "ipython3",
   "version": "3.9.2"
  },
  "orig_nbformat": 4,
  "vscode": {
   "interpreter": {
    "hash": "397704579725e15f5c7cb49fe5f0341eb7531c82d19f2c29d197e8b64ab5776b"
   }
  }
 },
 "nbformat": 4,
 "nbformat_minor": 2
}
