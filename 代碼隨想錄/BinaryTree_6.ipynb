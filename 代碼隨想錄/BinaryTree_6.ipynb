{
 "cells": [
  {
   "cell_type": "markdown",
   "metadata": {},
   "source": [
    "# 翻转二叉树"
   ]
  },
  {
   "cell_type": "markdown",
   "metadata": {},
   "source": [
    "## 问题\n",
    "<img src =\"https://img-blog.csdnimg.cn/20210203192644329.png\">\n",
    "\n",
    "## 代码\n",
    "只要把每一个节点的左右孩子进行翻转，就可以达到整体翻转的效果\n",
    "- 迭代法\n",
    "- 递归法\n"
   ]
  },
  {
   "cell_type": "code",
   "execution_count": null,
   "metadata": {},
   "outputs": [],
   "source": [
    "# Definition for a binary tree node.\n",
    "class TreeNode(object):\n",
    "    def __init__(self, val=0, left=None, right=None):\n",
    "        self.val = val\n",
    "        self.left = left\n",
    "        self.right = right\n",
    "class Solution(object):\n",
    "    def invertTree(self, root):\n",
    "        \"\"\"\n",
    "        :type root: TreeNode\n",
    "        :rtype: TreeNode\n",
    "        递归法 前序遍历 \n",
    "        \"\"\"\n",
    "        if not root :\n",
    "            return None \n",
    "        # 左右孩子进行互换\n",
    "        root.left,root.right = root.right,root.left\n",
    "        \n",
    "        self.invertTree(root.left)\n",
    "        self.invertTree(root.right)\n",
    "        return root \n",
    "    def invertTree_v1(self,root):\n",
    "        '''迭代法，深度优先遍历，前序遍历'''\n",
    "        if not root:\n",
    "            return None \n",
    "        \n",
    "        stack = [root]\n",
    "        res = []\n",
    "        while stack:\n",
    "            node = stack.pop()\n",
    "            res.append(node.val)\n",
    "            node.right,node.left = node.left,node.right\n",
    "            if node.right:\n",
    "                stack.append(node.right)\n",
    "            if node.left:\n",
    "                stack.append(node.left)\n",
    "        return root\n",
    "\n",
    "\n",
    "    \n",
    "    \n"
   ]
  }
 ],
 "metadata": {
  "kernelspec": {
   "display_name": "Python 3.9.2 64-bit",
   "language": "python",
   "name": "python3"
  },
  "language_info": {
   "name": "python",
   "version": "3.9.2"
  },
  "orig_nbformat": 4,
  "vscode": {
   "interpreter": {
    "hash": "397704579725e15f5c7cb49fe5f0341eb7531c82d19f2c29d197e8b64ab5776b"
   }
  }
 },
 "nbformat": 4,
 "nbformat_minor": 2
}
