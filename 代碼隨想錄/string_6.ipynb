{
 "cells": [
  {
   "cell_type": "markdown",
   "metadata": {},
   "source": [
    "# 实现strStr()\n",
    "# 找出字符串中第一个匹配项的下标\n",
    "\n",
    "## 问题\n",
    "实现 strStr() 函数。\n",
    "\n",
    "给定一个 haystack 字符串和一个 needle 字符串，在 haystack 字符串中找出 needle 字符串出现的第一个位置 (从0开始)。如果不存在，则返回  -1。\n",
    "\n",
    "示例 1: 输入: haystack = \"hello\", needle = \"ll\" 输出: 2\n",
    "\n",
    "示例 2: 输入: haystack = \"aaaaa\", needle = \"bba\" 输出: -1\n",
    "\n",
    "说明: 当 needle 是空字符串时，我们应当返回什么值呢？这是一个在面试中很好的问题。 对于本题而言，当 needle 是空字符串时我们应当返回 0 。这与C语言的 strstr() 以及 Java的 indexOf() 定义相符。\n",
    "\n",
    "\n",
    "## 代码\n",
    "\n",
    "### KMP经典题目\n",
    "KMP的经典思想就是:**当出现字符串不匹配时，可以记录一部分之前已经匹配的文本内容，利用这些信息避免从头再去做匹配。**\n",
    "\n",
    "- 什么是KMP\n",
    "  <br>当出现字符串不匹配时，可以记录一部分之前已经匹配的文本内容，利用这些信息避免从头再去做匹配。<br>\n",
    "- 什么是前缀表\n",
    "  <br>前缀表用来回退，它记录了模式串和主串（文本串）不匹配的时候，模式串应该从哪里开始重新匹配。\n",
    "  <br>\n",
    "- 为什么一定要用前缀表\n",
    "- 如何计算前缀表\n",
    "- 前缀表与next数组\n",
    "- 使用next数组来匹配\n",
    "- 时间复杂度分析\n",
    "- 构造next数组\n",
    "- 使用next数组来做匹配\n",
    "- 前缀表统一减一 C++代码实现\n",
    "- 前缀表（不减一）C++实现\n",
    "- 总结"
   ]
  },
  {
   "cell_type": "code",
   "execution_count": 3,
   "metadata": {},
   "outputs": [],
   "source": [
    "from re import L\n",
    "\n",
    "\n",
    "class Solution(object):\n",
    "    def strStr(self, haystack, needle):\n",
    "        \"\"\"\n",
    "        :type haystack: str\n",
    "        :type needle: str\n",
    "        :rtype: int\n",
    "        Brue force\n",
    "        \"\"\"\n",
    "        if needle==\"\":\n",
    "            return 0\n",
    "\n",
    "        for i in range(len(haystack)+1 - len(needle)):\n",
    "            for j in range(len(needle)):\n",
    "                if haystack[i+j]!= needle[j]:\n",
    "                    break\n",
    "                if j ==len(needle)-1:\n",
    "                    return i \n",
    "            \n",
    "        return -1 \n",
    "\n",
    "    def strStr_v2(self, haystack, needle):\n",
    "        for i in range(len(haystack)+1-len(needle)):\n",
    "            if haystack[i:i+len(needle)] == needle:\n",
    "                return i \n",
    "        return -1 \n",
    "\n",
    "haystack = \"sadbutsad\"\n",
    "needle = \"sad\"\n",
    "obj = Solution().strStr(haystack,needle)"
   ]
  },
  {
   "cell_type": "code",
   "execution_count": null,
   "metadata": {},
   "outputs": [],
   "source": []
  }
 ],
 "metadata": {
  "kernelspec": {
   "display_name": "Python 3.9.2 64-bit",
   "language": "python",
   "name": "python3"
  },
  "language_info": {
   "codemirror_mode": {
    "name": "ipython",
    "version": 3
   },
   "file_extension": ".py",
   "mimetype": "text/x-python",
   "name": "python",
   "nbconvert_exporter": "python",
   "pygments_lexer": "ipython3",
   "version": "3.9.2"
  },
  "orig_nbformat": 4,
  "vscode": {
   "interpreter": {
    "hash": "397704579725e15f5c7cb49fe5f0341eb7531c82d19f2c29d197e8b64ab5776b"
   }
  }
 },
 "nbformat": 4,
 "nbformat_minor": 2
}
