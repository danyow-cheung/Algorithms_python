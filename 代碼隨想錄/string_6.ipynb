{
 "cells": [
  {
   "cell_type": "markdown",
   "metadata": {},
   "source": [
    "# 实现strStr()\n",
    "# 找出字符串中第一个匹配项的下标\n",
    "\n",
    "## 问题\n",
    "实现 strStr() 函数。\n",
    "\n",
    "给定一个 haystack 字符串和一个 needle 字符串，在 haystack 字符串中找出 needle 字符串出现的第一个位置 (从0开始)。如果不存在，则返回  -1。\n",
    "\n",
    "示例 1: 输入: haystack = \"hello\", needle = \"ll\" 输出: 2\n",
    "\n",
    "示例 2: 输入: haystack = \"aaaaa\", needle = \"bba\" 输出: -1\n",
    "\n",
    "说明: 当 needle 是空字符串时，我们应当返回什么值呢？这是一个在面试中很好的问题。 对于本题而言，当 needle 是空字符串时我们应当返回 0 。这与C语言的 strstr() 以及 Java的 indexOf() 定义相符。\n",
    "\n",
    "\n",
    "## 代码\n",
    "\n",
    "### KMP经典题目\n",
    "KMP的经典思想就是:**当出现字符串不匹配时，可以记录一部分之前已经匹配的文本内容，利用这些信息避免从头再去做匹配。**\n",
    "\n",
    "- 什么是KMP\n",
    "  <br>当出现字符串不匹配时，可以记录一部分之前已经匹配的文本内容，利用这些信息避免从头再去做匹配。<br>\n",
    "- 什么是前缀表\n",
    "  <br>前缀表用来回退，它记录了模式串和主串（文本串）不匹配的时候，模式串应该从哪里开始重新匹配。\n",
    "  <br>\n",
    "- 为什么一定要用前缀表\n",
    "- 如何计算前缀表\n",
    "- 前缀表与next数组\n",
    "- 使用next数组来匹配\n",
    "- 时间复杂度分析\n",
    "- 构造next数组\n",
    "- 使用next数组来做匹配\n",
    "- 前缀表统一减一 C++代码实现\n",
    "- 前缀表（不减一）C++实现\n",
    "- 总结"
   ]
  },
  {
   "cell_type": "code",
   "execution_count": 1,
   "metadata": {},
   "outputs": [
    {
     "ename": "IndexError",
     "evalue": "string index out of range",
     "output_type": "error",
     "traceback": [
      "\u001b[0;31m---------------------------------------------------------------------------\u001b[0m",
      "\u001b[0;31mIndexError\u001b[0m                                Traceback (most recent call last)",
      "\u001b[1;32m/Users/danyow/算法/代碼隨想錄/string_6.ipynb Cell 2\u001b[0m in \u001b[0;36m<cell line: 21>\u001b[0;34m()\u001b[0m\n\u001b[1;32m     <a href='vscode-notebook-cell:/Users/danyow/%E7%AE%97%E6%B3%95/%E4%BB%A3%E7%A2%BC%E9%9A%A8%E6%83%B3%E9%8C%84/string_6.ipynb#W2sZmlsZQ%3D%3D?line=18'>19</a>\u001b[0m haystack \u001b[39m=\u001b[39m \u001b[39m\"\u001b[39m\u001b[39msadbutsad\u001b[39m\u001b[39m\"\u001b[39m\n\u001b[1;32m     <a href='vscode-notebook-cell:/Users/danyow/%E7%AE%97%E6%B3%95/%E4%BB%A3%E7%A2%BC%E9%9A%A8%E6%83%B3%E9%8C%84/string_6.ipynb#W2sZmlsZQ%3D%3D?line=19'>20</a>\u001b[0m needle \u001b[39m=\u001b[39m \u001b[39m\"\u001b[39m\u001b[39msad\u001b[39m\u001b[39m\"\u001b[39m\n\u001b[0;32m---> <a href='vscode-notebook-cell:/Users/danyow/%E7%AE%97%E6%B3%95/%E4%BB%A3%E7%A2%BC%E9%9A%A8%E6%83%B3%E9%8C%84/string_6.ipynb#W2sZmlsZQ%3D%3D?line=20'>21</a>\u001b[0m obj \u001b[39m=\u001b[39m Solution()\u001b[39m.\u001b[39;49mstrStr(haystack,needle)\n",
      "\u001b[1;32m/Users/danyow/算法/代碼隨想錄/string_6.ipynb Cell 2\u001b[0m in \u001b[0;36mSolution.strStr\u001b[0;34m(self, haystack, needle)\u001b[0m\n\u001b[1;32m     <a href='vscode-notebook-cell:/Users/danyow/%E7%AE%97%E6%B3%95/%E4%BB%A3%E7%A2%BC%E9%9A%A8%E6%83%B3%E9%8C%84/string_6.ipynb#W2sZmlsZQ%3D%3D?line=9'>10</a>\u001b[0m temp \u001b[39m=\u001b[39m \u001b[39m0\u001b[39m \n\u001b[1;32m     <a href='vscode-notebook-cell:/Users/danyow/%E7%AE%97%E6%B3%95/%E4%BB%A3%E7%A2%BC%E9%9A%A8%E6%83%B3%E9%8C%84/string_6.ipynb#W2sZmlsZQ%3D%3D?line=10'>11</a>\u001b[0m \u001b[39mwhile\u001b[39;00m i \u001b[39m<\u001b[39m \u001b[39mlen\u001b[39m(haystack):\n\u001b[0;32m---> <a href='vscode-notebook-cell:/Users/danyow/%E7%AE%97%E6%B3%95/%E4%BB%A3%E7%A2%BC%E9%9A%A8%E6%83%B3%E9%8C%84/string_6.ipynb#W2sZmlsZQ%3D%3D?line=11'>12</a>\u001b[0m     \u001b[39mif\u001b[39;00m haystack[i]\u001b[39m==\u001b[39mneedle[j]:\n\u001b[1;32m     <a href='vscode-notebook-cell:/Users/danyow/%E7%AE%97%E6%B3%95/%E4%BB%A3%E7%A2%BC%E9%9A%A8%E6%83%B3%E9%8C%84/string_6.ipynb#W2sZmlsZQ%3D%3D?line=12'>13</a>\u001b[0m         temp \u001b[39m=\u001b[39m j\u001b[39m+\u001b[39m\u001b[39m1\u001b[39m\n\u001b[1;32m     <a href='vscode-notebook-cell:/Users/danyow/%E7%AE%97%E6%B3%95/%E4%BB%A3%E7%A2%BC%E9%9A%A8%E6%83%B3%E9%8C%84/string_6.ipynb#W2sZmlsZQ%3D%3D?line=13'>14</a>\u001b[0m         j\u001b[39m+\u001b[39m\u001b[39m=\u001b[39m\u001b[39m1\u001b[39m \n",
      "\u001b[0;31mIndexError\u001b[0m: string index out of range"
     ]
    }
   ],
   "source": [
    "class Solution(object):\n",
    "    def strStr(self, haystack, needle):\n",
    "        \"\"\"\n",
    "        :type haystack: str\n",
    "        :type needle: str\n",
    "        :rtype: int\n",
    "        \"\"\"\n",
    "        i = 0\n",
    "        j = 0 \n",
    "        temp = 0 \n",
    "        while i < len(haystack):\n",
    "            if haystack[i]==needle[j]:\n",
    "                temp = j+1\n",
    "                j+=1 \n",
    "            i+=1 \n",
    "        print(temp)\n",
    "        # return max(temp,j+1)\n",
    "\n",
    "haystack = \"sadbutsad\"\n",
    "needle = \"sad\"\n",
    "obj = Solution().strStr(haystack,needle)"
   ]
  },
  {
   "cell_type": "code",
   "execution_count": null,
   "metadata": {},
   "outputs": [],
   "source": []
  }
 ],
 "metadata": {
  "kernelspec": {
   "display_name": "Python 3.9.2 64-bit",
   "language": "python",
   "name": "python3"
  },
  "language_info": {
   "codemirror_mode": {
    "name": "ipython",
    "version": 3
   },
   "file_extension": ".py",
   "mimetype": "text/x-python",
   "name": "python",
   "nbconvert_exporter": "python",
   "pygments_lexer": "ipython3",
   "version": "3.9.2"
  },
  "orig_nbformat": 4,
  "vscode": {
   "interpreter": {
    "hash": "397704579725e15f5c7cb49fe5f0341eb7531c82d19f2c29d197e8b64ab5776b"
   }
  }
 },
 "nbformat": 4,
 "nbformat_minor": 2
}
