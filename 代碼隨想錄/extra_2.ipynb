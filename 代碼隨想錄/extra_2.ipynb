{
 "cells": [
  {
   "attachments": {},
   "cell_type": "markdown",
   "metadata": {},
   "source": [
    "# 有效的山脈數組\n",
    "\n",
    "## 問題\n",
    "\n",
    "给定一个整数数组 arr，如果它是有效的山脉数组就返回 true，否则返回 false。\n",
    "\n",
    "让我们回顾一下，如果 A 满足下述条件，那么它是一个山脉数组：\n",
    "\n",
    "- arr.length >= 3\n",
    "- 在 0 < i < arr.length - 1 条件下，存在 i 使得：\n",
    "    - arr[0] < arr[1] < ... arr[i-1] < arr[i]\n",
    "    - arr[i] > arr[i+1] > ... > arr[arr.length - 1]\n",
    "\n",
    "<img src = 'https://code-thinking-1253855093.file.myqcloud.com/pics/20210729103604.png'>"
   ]
  },
  {
   "attachments": {},
   "cell_type": "markdown",
   "metadata": {},
   "source": [
    "## 代碼\n"
   ]
  },
  {
   "attachments": {},
   "cell_type": "markdown",
   "metadata": {},
   "source": [
    "判断是山峰，主要就是要严格的保存左边到中间，和右边到中间是递增的。\n",
    "\n",
    "这样可以使用两个指针，left和right，让其按照如下规则移动，如图：\n",
    "\n",
    "<img src = 'https://code-thinking.cdn.bcebos.com/pics/941.%E6%9C%89%E6%95%88%E7%9A%84%E5%B1%B1%E8%84%89%E6%95%B0%E7%BB%84.png'>"
   ]
  },
  {
   "cell_type": "code",
   "execution_count": 44,
   "metadata": {},
   "outputs": [
    {
     "name": "stdout",
     "output_type": "stream",
     "text": [
      "9 9 10\n"
     ]
    }
   ],
   "source": [
    "class Solution(object):\n",
    "    def validMountainArray(self, arr):\n",
    "        \"\"\"\n",
    "        :type arr: List[int]\n",
    "        :rtype: bool\n",
    "        \"\"\"\n",
    "        if len(arr)<3:\n",
    "            return False \n",
    "\n",
    "        \n",
    "        left = 0 \n",
    "        right = len(arr)-1 \n",
    "        while left<len(arr)-1 and arr[left+1]>arr[left]:\n",
    "            left+=1 \n",
    "        while right>0 and arr[right-1]>arr[right]:\n",
    "            right-=1 \n",
    "        \n",
    "        return left==right and right!=0 and left!= len(arr)-1\n",
    "\n",
    "\n",
    "\n",
    "\n",
    "arr = [0,3,2,1]\n",
    "arr = [0,1,2,3,4,5,6,7,8,9]\n",
    "# arr = [0,2,3,4,5,2,1,0]\n",
    "obj = Solution().validMountainArray(arr)"
   ]
  },
  {
   "cell_type": "code",
   "execution_count": null,
   "metadata": {},
   "outputs": [],
   "source": []
  }
 ],
 "metadata": {
  "kernelspec": {
   "display_name": "Python 3",
   "language": "python",
   "name": "python3"
  },
  "language_info": {
   "codemirror_mode": {
    "name": "ipython",
    "version": 3
   },
   "file_extension": ".py",
   "mimetype": "text/x-python",
   "name": "python",
   "nbconvert_exporter": "python",
   "pygments_lexer": "ipython3",
   "version": "3.9.2"
  },
  "orig_nbformat": 4,
  "vscode": {
   "interpreter": {
    "hash": "397704579725e15f5c7cb49fe5f0341eb7531c82d19f2c29d197e8b64ab5776b"
   }
  }
 },
 "nbformat": 4,
 "nbformat_minor": 2
}
