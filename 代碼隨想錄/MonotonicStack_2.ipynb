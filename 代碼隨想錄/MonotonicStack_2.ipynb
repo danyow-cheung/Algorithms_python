{
 "cells": [
  {
   "attachments": {},
   "cell_type": "markdown",
   "metadata": {},
   "source": [
    "# 下一個更大元素I\n",
    "\n",
    "## 問題\n",
    "\n",
    "给你两个 没有重复元素 的数组 nums1 和 nums2 ，其中nums1 是 nums2 的子集。\n",
    "\n",
    "请你找出 nums1 中每个元素在 nums2 中的下一个比其大的值。\n",
    "\n",
    "nums1 中数字 x 的下一个更大元素是指 x 在 nums2 中对应位置的右边的第一个比 x 大的元素。如果不存在，对应位置输出 -1 。\n",
    "\n",
    "示例 1:\n",
    "\n",
    "输入: nums1 = [4,1,2], nums2 = [1,3,4,2].\n",
    "\n",
    "输出: [-1,3,-1]\n",
    "\n",
    "解释:\n",
    "对于 num1 中的数字 4 ，你无法在第二个数组中找到下一个更大的数字，因此输出 -1 。\n",
    "对于 num1 中的数字 1 ，第二个数组中数字1右边的下一个较大数字是 3 。\n",
    "对于 num1 中的数字 2 ，第二个数组中没有下一个更大的数字，因此输出 -1 。\n",
    "\n",
    "\n",
    "## 代碼\n"
   ]
  },
  {
   "attachments": {},
   "cell_type": "markdown",
   "metadata": {},
   "source": [
    "接下来就要分析如下三种情况，一定要分析清楚。\n",
    "\n",
    "- 情况一：当前遍历的元素T[i]小于栈顶元素T[st.top()]的情况\n",
    "此时满足递增栈（栈头到栈底的顺序），所以直接入栈。\n",
    "\n",
    "- 情况二：当前遍历的元素T[i]等于栈顶元素T[st.top()]的情况\n",
    "如果相等的话，依然直接入栈，因为我们要求的是右边第一个比自己大的元素，而不是大于等于！\n",
    "\n",
    "- 情况三：当前遍历的元素T[i]大于栈顶元素T[st.top()]的情况\n",
    "此时如果入栈就不满足递增栈了，这也是找到右边第一个比自己大的元素的时候。\n",
    "\n",
    "判断栈顶元素是否在nums1里出现过，（注意栈里的元素是nums2的元素），如果出现过，开始记录结果。"
   ]
  },
  {
   "cell_type": "code",
   "execution_count": null,
   "metadata": {},
   "outputs": [],
   "source": [
    "class Solution(object):\n",
    "    def nextGreaterElement(self, nums1, nums2):\n",
    "        \"\"\"\n",
    "        :type nums1: List[int]\n",
    "        :type nums2: List[int]\n",
    "        :rtype: List[int]\n",
    "        \"\"\"\n",
    "        res = [-1]*len(nums1)\n",
    "        stack =[0]\n",
    "        for i in range(1,len(nums2)):\n",
    "            # 情況1和情況2\n",
    "            if nums2[i]<=nums2[stack[-1]]:\n",
    "                stack.append(i)\n",
    "            # 情況3\n",
    "            else:\n",
    "                while len(stack)!= 0 and nums2[i]>nums2[stack[-1]]:\n",
    "                    if nums2[stack[-1]] in nums1:\n",
    "                        index = nums1.index(nums2[stack[-1]])\n",
    "                        res[index] = nums2[i]\n",
    "                    stack.pop()\n",
    "                stack.append(i)\n",
    "        return res \n"
   ]
  }
 ],
 "metadata": {
  "kernelspec": {
   "display_name": "Python 3",
   "language": "python",
   "name": "python3"
  },
  "language_info": {
   "name": "python",
   "version": "3.9.2 (v3.9.2:1a79785e3e, Feb 19 2021, 09:06:10) \n[Clang 6.0 (clang-600.0.57)]"
  },
  "orig_nbformat": 4,
  "vscode": {
   "interpreter": {
    "hash": "397704579725e15f5c7cb49fe5f0341eb7531c82d19f2c29d197e8b64ab5776b"
   }
  }
 },
 "nbformat": 4,
 "nbformat_minor": 2
}
