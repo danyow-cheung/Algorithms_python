{
 "cells": [
  {
   "cell_type": "markdown",
   "metadata": {},
   "source": [
    "# 回溯理论基础\n",
    "一般解决以下的问题\n",
    "\n",
    "- 组合问题\n",
    "  N个数里面按一定规划找出k个数的集合\n",
    "\n",
    "\n",
    "- 切割问题\n",
    "  一个字符按一定规则有几种切割方式\n",
    "\n",
    "\n",
    "- 子集问题\n",
    "  一个N个数的集合有多少种符合条件的子集\n",
    "\n",
    "\n",
    "- 排列问题\n",
    "  \n",
    "  N个数按一定规则全排列，有几种排列方式\n",
    "\n",
    "- 棋盘问题\n",
    "  N皇后，解数独等\n",
    "\n",
    "\n",
    "<img src= 'https://img-blog.csdnimg.cn/20210130173631174.png'>\n"
   ]
  },
  {
   "cell_type": "markdown",
   "metadata": {},
   "source": [
    "## 回溯模版\n",
    "\n",
    "```\n",
    "void backtracking(参数) {\n",
    "    if (终止条件) {\n",
    "        存放结果;\n",
    "        return;\n",
    "    }\n",
    "\n",
    "    for (选择：本层集合中元素（树中节点孩子的数量就是集合的大小）) {\n",
    "        处理节点;\n",
    "        backtracking(路径，选择列表); // 递归\n",
    "        回溯，撤销处理结果\n",
    "    }\n",
    "}\n",
    "```"
   ]
  }
 ],
 "metadata": {
  "kernelspec": {
   "display_name": "Python 3.9.2 64-bit",
   "language": "python",
   "name": "python3"
  },
  "language_info": {
   "name": "python",
   "version": "3.9.2"
  },
  "orig_nbformat": 4,
  "vscode": {
   "interpreter": {
    "hash": "397704579725e15f5c7cb49fe5f0341eb7531c82d19f2c29d197e8b64ab5776b"
   }
  }
 },
 "nbformat": 4,
 "nbformat_minor": 2
}
