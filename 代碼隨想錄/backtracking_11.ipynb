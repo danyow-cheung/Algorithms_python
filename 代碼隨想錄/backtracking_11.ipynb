{
 "cells": [
  {
   "cell_type": "markdown",
   "metadata": {},
   "source": [
    "# 递增子序列\n",
    "\n",
    "## 问题\n",
    "给定一个整型数组, 你的任务是找到所有该数组的递增子序列，递增子序列的长度至少是2。\n",
    "\n",
    "示例:\n",
    "\n",
    "输入: [4, 6, 7, 7]<br>\n",
    "\n",
    "输出: [[4, 6], [4, 7], [4, 6, 7], [4, 6, 7, 7], [6, 7], [6, 7, 7], [7,7], [4,7,7]]\n",
    "说明:\n",
    "\n",
    "- 给定数组的长度不会超过15。\n",
    "- 数组中的整数范围是 [-100,100]。\n",
    "- 给定数组中可能包含重复数字，相等的数字应该被视为递增的一种情况。\n",
    "\n",
    "## 代码\n",
    "<img src = 'https://img-blog.csdnimg.cn/20201124200229824.png'>"
   ]
  },
  {
   "cell_type": "code",
   "execution_count": null,
   "metadata": {},
   "outputs": [],
   "source": [
    "class Solution(object):\n",
    "    def findSubsequences(self, nums):\n",
    "        \"\"\"\n",
    "        :type nums: List[int]\n",
    "        :rtype: List[List[int]]\n",
    "        \"\"\"\n",
    "        res = []\n",
    "        path = []\n",
    "\n",
    "        def backtracking(nums,startIdx):\n",
    "            # 记录本层元素是否重复使用，新一层的uset都会重新定义（清空）\n",
    "            uset = set()\n",
    "            # 题目要求递增子序列大小至少为2\n",
    "            if len(path)>=2:\n",
    "                res.append(path[:])\n",
    "            # 单层搜索代码\n",
    "            for i in range(startIdx,len(nums)):\n",
    "                '''预留去重操作'''\n",
    "                if (path and nums[i]<path[-1] )or( nums[i]in uset):\n",
    "                    continue\n",
    "                \n",
    "                uset.add(nums[i])\n",
    "                path.append(nums[i])\n",
    "                backtracking(nums,i+1)\n",
    "                path.pop()\n",
    "        \n",
    "        # 本题求解自增子序列，所以不需要对原数组进行排序\n",
    "        backtracking(nums,0)\n",
    "        return res \n",
    "    "
   ]
  }
 ],
 "metadata": {
  "kernelspec": {
   "display_name": "Python 3.9.2 64-bit",
   "language": "python",
   "name": "python3"
  },
  "language_info": {
   "name": "python",
   "version": "3.9.2"
  },
  "orig_nbformat": 4,
  "vscode": {
   "interpreter": {
    "hash": "397704579725e15f5c7cb49fe5f0341eb7531c82d19f2c29d197e8b64ab5776b"
   }
  }
 },
 "nbformat": 4,
 "nbformat_minor": 2
}
