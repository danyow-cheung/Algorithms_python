{
 "cells": [
  {
   "attachments": {},
   "cell_type": "markdown",
   "metadata": {},
   "source": [
    "# 動態規劃：完全背包\n",
    "\n",
    "有N件物品和一个最多能背重量为W的背包。第i件物品的重量是weight[i]，得到的价值是value[i] 。每件物品都有无限个（也就是可以放入背包多次），求解将哪些物品装入背包里物品价值总和最大。\n",
    "\n",
    "完全背包和01背包问题唯一不同的地方就是，每种物品有无限件。\n",
    "\n",
    "\n",
    "\n"
   ]
  },
  {
   "cell_type": "code",
   "execution_count": 1,
   "metadata": {},
   "outputs": [
    {
     "name": "stdout",
     "output_type": "stream",
     "text": [
      "60\n",
      "60\n"
     ]
    }
   ],
   "source": [
    "# 先遍歷物品，再遍歷背包\n",
    "def test_complete_pack1():\n",
    "    weight = [1,3,4]\n",
    "    value =  [15,20,30]\n",
    "    bag_weight= 4 \n",
    "    dp = [0]*(bag_weight+1)\n",
    "    for i in range(len(weight)):\n",
    "        for j in range(weight[i],bag_weight+1):\n",
    "            dp[j] = max(dp[j],dp[j-weight[i]]+value[i])\n",
    "    print(dp[bag_weight])\n",
    "\n",
    "\n",
    "# 先遍歷背包，在遍歷物品\n",
    "def test_complete_pack2():\n",
    "    weight = [1,3,4]\n",
    "    value =  [15,20,30]\n",
    "    bag_weight= 4 \n",
    "    dp = [0]*(bag_weight+1)\n",
    "\n",
    "    for j in range(bag_weight+1):\n",
    "        for i in range(len(weight)):\n",
    "            if j>=weight[i]:\n",
    "                dp[j] = max(dp[j],dp[j-weight[i]]+value[i])\n",
    "    print(dp[bag_weight])\n",
    "if __name__ == '__main__':\n",
    "    test_complete_pack1()\n",
    "    test_complete_pack2()\n",
    "    "
   ]
  },
  {
   "cell_type": "code",
   "execution_count": null,
   "metadata": {},
   "outputs": [],
   "source": []
  }
 ],
 "metadata": {
  "kernelspec": {
   "display_name": "Python 3",
   "language": "python",
   "name": "python3"
  },
  "language_info": {
   "codemirror_mode": {
    "name": "ipython",
    "version": 3
   },
   "file_extension": ".py",
   "mimetype": "text/x-python",
   "name": "python",
   "nbconvert_exporter": "python",
   "pygments_lexer": "ipython3",
   "version": "3.9.2"
  },
  "orig_nbformat": 4,
  "vscode": {
   "interpreter": {
    "hash": "397704579725e15f5c7cb49fe5f0341eb7531c82d19f2c29d197e8b64ab5776b"
   }
  }
 },
 "nbformat": 4,
 "nbformat_minor": 2
}
