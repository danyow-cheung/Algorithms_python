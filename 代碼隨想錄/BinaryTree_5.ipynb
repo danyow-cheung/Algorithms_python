{
 "cells": [
  {
   "cell_type": "markdown",
   "metadata": {},
   "source": [
    "#  二叉树的层序遍历\n",
    "\n",
    "## 问题\n",
    "给你一个二叉树，请你返回其按 层序遍历 得到的节点值。 （即逐层地，从左到右访问所有节点）。\n",
    "\n",
    "**tips:**\n",
    "\n",
    "需要借用一个辅助数据结构即队列来实现，**队列先进先出，符合一层一层遍历的逻辑，而是用栈先进后出适合模拟深度优先遍历也就是递归的逻辑。**\n",
    "\n",
    "**而这种层序遍历方式就是图论中的广度优先遍历，只不过我们应用在二叉树上。**\n",
    "\n",
    "## 代码\n",
    "- 遍历迭代解法\n",
    "- 递归法"
   ]
  },
  {
   "cell_type": "code",
   "execution_count": null,
   "metadata": {},
   "outputs": [],
   "source": [
    "# Definition for a binary tree node.\n",
    "class TreeNode(object):\n",
    "    def __init__(self, val=0, left=None, right=None):\n",
    "        self.val = val\n",
    "        self.left = left\n",
    "        self.right = right\n",
    "class Solution(object):\n",
    "    def levelOrder_v1(self, root):\n",
    "        \"\"\"\n",
    "        :type root: TreeNode\n",
    "        :rtype: List[List[int]]\n",
    "        二叉树层序遍历迭代解法\n",
    "        \"\"\"\n",
    "        results = []\n",
    "        if not root:\n",
    "            return results\n",
    "        \n",
    "        from collections import deque\n",
    "        que = deque([root])\n",
    "        while que:\n",
    "            size =len(que)\n",
    "            result = []\n",
    "            for _ in range(size):\n",
    "                cur = que.popleft()\n",
    "                result.append(cur.val)\n",
    "                if cur.left:\n",
    "                    que.append(cur.left)\n",
    "                if cur.right:\n",
    "                    que.append(cur.right)\n",
    "            results.append(result)\n",
    "        return results\n",
    "\n",
    "    def levelOrder_v2(self, root):\n",
    "        \"\"\"\n",
    "        :type root: TreeNode\n",
    "        :rtype: List[List[int]]\n",
    "        递归法\n",
    "        \"\"\"\n",
    "        res = []\n",
    "\n",
    "        def loop(root,depth):\n",
    "            if not root:return []\n",
    "            # 开始当前的深度\n",
    "            if len(res)==depth:res.append([])\n",
    "            res[depth].append(root.val)\n",
    "            if root.left:loop(root.left,depth+1)\n",
    "            if root.right:loop(root.right,depth+1)\n",
    "        loop(root,0)\n",
    "        return res \n",
    "        "
   ]
  },
  {
   "cell_type": "code",
   "execution_count": 12,
   "metadata": {},
   "outputs": [
    {
     "name": "stdout",
     "output_type": "stream",
     "text": [
      "[3.0, 14.5, 11.0]\n"
     ]
    }
   ],
   "source": [
    "result = [[3],[9,20],[15,7]]\n",
    "from statistics import mean \n",
    "# for i in range(len(res)):\n",
    "#     final  = mean(res[i])\n",
    "#     print(final)\n",
    "for i in range(len(result)):\n",
    "    #result[i] = mean(result[i])\n",
    "    result[i] = sum(result[i]) / len(result[i])\n",
    "print(result)"
   ]
  },
  {
   "cell_type": "code",
   "execution_count": null,
   "metadata": {},
   "outputs": [],
   "source": []
  }
 ],
 "metadata": {
  "kernelspec": {
   "display_name": "Python 3.9.2 64-bit",
   "language": "python",
   "name": "python3"
  },
  "language_info": {
   "codemirror_mode": {
    "name": "ipython",
    "version": 3
   },
   "file_extension": ".py",
   "mimetype": "text/x-python",
   "name": "python",
   "nbconvert_exporter": "python",
   "pygments_lexer": "ipython3",
   "version": "3.9.2"
  },
  "orig_nbformat": 4,
  "vscode": {
   "interpreter": {
    "hash": "397704579725e15f5c7cb49fe5f0341eb7531c82d19f2c29d197e8b64ab5776b"
   }
  }
 },
 "nbformat": 4,
 "nbformat_minor": 2
}
