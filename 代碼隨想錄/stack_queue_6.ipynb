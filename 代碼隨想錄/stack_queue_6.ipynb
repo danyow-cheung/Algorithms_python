{
 "cells": [
  {
   "cell_type": "markdown",
   "metadata": {},
   "source": [
    "# 逆波兰表达式求值\n",
    "\n",
    "## 问题\n",
    "根据 逆波兰表示法，求表达式的值。\n",
    "\n",
    "有效的运算符包括 + ,  - ,  * ,  / 。每个运算对象可以是整数，也可以是另一个逆波兰表达式。\n",
    "\n",
    "说明：\n",
    "\n",
    "整数除法只保留整数部分。 给定逆波兰表达式总是有效的。换句话说，表达式总会得出有效数值且不存在除数为 0 的情况。\n",
    "\n",
    "**示例 1**\n",
    "\n",
    "输入: [\"2\", \"1\", \"+\", \"3\", \" * \"]<br>\n",
    "输出: 9<br>\n",
    "解释: 该算式转化为常见的中缀算术表达式为：((2 + 1) * 3) = 9<br>\n",
    "\n",
    "\n",
    "## 代码\n"
   ]
  },
  {
   "cell_type": "code",
   "execution_count": 24,
   "metadata": {},
   "outputs": [
    {
     "name": "stdout",
     "output_type": "stream",
     "text": [
      "6\n"
     ]
    }
   ],
   "source": [
    "class Solution(object):\n",
    "    def evalRPN(self, tokens):\n",
    "        \"\"\"\n",
    "        :type tokens: List[str]\n",
    "        :rtype: int\n",
    "        \"\"\"\n",
    "        res = []\n",
    "        \n",
    "        \n",
    "        for i in tokens:\n",
    "            if i.isnumeric() is True:\n",
    "                res.append(int(i))\n",
    "            else:\n",
    "                # num_1是先进入的,num_2 是后进入的，\n",
    "                num_1,num_2 = res.pop(),res.pop()\n",
    "                if i ==\"+\":ans = num_2+num_1\n",
    "                if i ==\"-\":ans = num_2-num_1\n",
    "                if i ==\"*\":ans = num_2*num_1\n",
    "                if i ==\"/\":ans = num_2//num_1\n",
    "                \n",
    "                res.append(ans)\n",
    "\n",
    "        print(res.pop())\n",
    "    \n",
    "    \n",
    "s = ['2','1','+','3','*']\n",
    "s = [\"4\", \"13\", \"5\", \"/\", \"+\"]\n",
    "obj = Solution().evalRPN(s)"
   ]
  },
  {
   "cell_type": "code",
   "execution_count": null,
   "metadata": {},
   "outputs": [],
   "source": []
  }
 ],
 "metadata": {
  "kernelspec": {
   "display_name": "Python 3.9.2 64-bit",
   "language": "python",
   "name": "python3"
  },
  "language_info": {
   "codemirror_mode": {
    "name": "ipython",
    "version": 3
   },
   "file_extension": ".py",
   "mimetype": "text/x-python",
   "name": "python",
   "nbconvert_exporter": "python",
   "pygments_lexer": "ipython3",
   "version": "3.9.2"
  },
  "orig_nbformat": 4,
  "vscode": {
   "interpreter": {
    "hash": "397704579725e15f5c7cb49fe5f0341eb7531c82d19f2c29d197e8b64ab5776b"
   }
  }
 },
 "nbformat": 4,
 "nbformat_minor": 2
}
