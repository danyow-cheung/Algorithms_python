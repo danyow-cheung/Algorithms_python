{
 "cells": [
  {
   "attachments": {},
   "cell_type": "markdown",
   "metadata": {},
   "source": [
    "# 最大子序和\n",
    "\n",
    "## 问题\n",
    "\n",
    "给定一个整数数组 nums ，找到一个具有最大和的连续子数组（子数组最少包含一个元素），返回其最大和。\n",
    "\n",
    "示例: \n",
    "\n",
    "输入: [-2,1,-3,4,-1,2,1,-5,4] \n",
    "\n",
    "输出: 6 \n",
    "\n",
    "解释: 连续子数组 [4,-1,2,1] 的和最大，为 6。\n",
    "\n",
    "\n",
    "## 代码\n",
    "<img src ='https://img-blog.csdnimg.cn/20210303104129101.png'>\n"
   ]
  },
  {
   "cell_type": "code",
   "execution_count": null,
   "metadata": {},
   "outputs": [],
   "source": [
    "class Solution(object):\n",
    "    def maxSubArray(self, nums):\n",
    "        \"\"\"\n",
    "        :type nums: List[int]\n",
    "        :rtype: int\n",
    "        \"\"\"\n",
    "        if len(nums)==0:\n",
    "            return 0 \n",
    "        dp = [0]*len(nums)\n",
    "\n",
    "        dp[0] = nums[0]\n",
    "        result = dp[0]\n",
    "\n",
    "        for i in range(1,len(nums)):\n",
    "            # 状态转移公式\n",
    "            dp[i] = max(dp[i-1]+nums[i],nums[i])\n",
    "            # result保存dp[i]最大值\n",
    "            result = max(result,dp[i])\n",
    "        return result"
   ]
  }
 ],
 "metadata": {
  "language_info": {
   "name": "python"
  },
  "orig_nbformat": 4
 },
 "nbformat": 4,
 "nbformat_minor": 2
}
