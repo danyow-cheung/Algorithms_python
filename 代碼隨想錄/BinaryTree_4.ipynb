{
 "cells": [
  {
   "cell_type": "markdown",
   "metadata": {},
   "source": [
    "# 二叉树的统一迭代法\n",
    "\n",
    "将访问的节点放入栈，把要处理的节点也放入栈中但是要做标记\n",
    "> 如何标记，就是要把处理的节点放入栈之后，紧接着放入一个空指针作为标记"
   ]
  },
  {
   "cell_type": "markdown",
   "metadata": {},
   "source": [
    "### 迭代前序遍历\n",
    "\n"
   ]
  },
  {
   "cell_type": "code",
   "execution_count": null,
   "metadata": {},
   "outputs": [],
   "source": [
    "def preorderTraversal(root):\n",
    "    result = []\n",
    "    st = []\n",
    "    if root:\n",
    "        st.append(root)\n",
    "    while st:\n",
    "        node = st.pop()\n",
    "        if node != None:\n",
    "            if node.right:\n",
    "                st.append(node.right)\n",
    "            if node.left:\n",
    "                st.append(node.left)\n",
    "            st.append(node)\n",
    "            st.append(None)\n",
    "        else:\n",
    "            node = st.pop()\n",
    "            result.append(node.val)\n",
    "    return result"
   ]
  },
  {
   "cell_type": "markdown",
   "metadata": {},
   "source": [
    "\n",
    "### 迭代中序遍历"
   ]
  },
  {
   "cell_type": "code",
   "execution_count": null,
   "metadata": {},
   "outputs": [],
   "source": [
    "def inorderTraversal(root):\n",
    "    result = []\n",
    "    st = []\n",
    "    if root:\n",
    "        st.append(root)\n",
    "\n",
    "    while st:\n",
    "        node = st.pop()\n",
    "        if node != None:\n",
    "            # 添加右节点（空节点不入栈）\n",
    "            if node.right:\n",
    "                st.append(node.right)\n",
    "            # 添加中节点\n",
    "            st.append(node)\n",
    "            # 中节点访问过，但没有处理，加入空节点作为标记\n",
    "            st.append(None)\n",
    "            # 添加左节点\n",
    "            if node.left:\n",
    "                st.append(node.left)\n",
    "        # 遇到空节点，才会将下一个节点放进结果集\n",
    "        else:\n",
    "            # 重新取出栈中元素\n",
    "            node = st.pop()\n",
    "            result.append(node.val)"
   ]
  },
  {
   "cell_type": "markdown",
   "metadata": {},
   "source": [
    "### 迭代后序遍历"
   ]
  },
  {
   "cell_type": "code",
   "execution_count": null,
   "metadata": {},
   "outputs": [],
   "source": [
    "def postorderTraversal(root):\n",
    "    result = []\n",
    "    st = []\n",
    "    if root:\n",
    "        st.append(root)\n",
    "    while st:\n",
    "        node = st.pop()\n",
    "        if node!= None:\n",
    "            st.append(node)\n",
    "            st.append(None)\n",
    "            if node.right:\n",
    "                st.append(node.right)\n",
    "            if node.left:\n",
    "                st.append(node.left)\n",
    "        else:\n",
    "            node = st.pop()\n",
    "            result.append(node.val)\n",
    "    return result"
   ]
  }
 ],
 "metadata": {
  "kernelspec": {
   "display_name": "Python 3.9.2 64-bit",
   "language": "python",
   "name": "python3"
  },
  "language_info": {
   "name": "python",
   "version": "3.9.2"
  },
  "orig_nbformat": 4,
  "vscode": {
   "interpreter": {
    "hash": "397704579725e15f5c7cb49fe5f0341eb7531c82d19f2c29d197e8b64ab5776b"
   }
  }
 },
 "nbformat": 4,
 "nbformat_minor": 2
}
