{
 "cells": [
  {
   "attachments": {},
   "cell_type": "markdown",
   "metadata": {},
   "source": [
    "# 有多少小於當前數字的數字\n",
    "\n",
    "## 問題\n",
    "给你一个数组 nums，对于其中每个元素 nums[i]，请你统计数组中比它小的所有数字的数目。\n",
    "\n",
    "换而言之，对于每个 nums[i] 你必须计算出有效的 j 的数量，其中 j 满足 j != i 且 nums[j] < nums[i] 。\n",
    "\n",
    "以数组形式返回答案。\n",
    "\n",
    "输入：nums = [8,1,2,2,3]\n",
    "\n",
    "输出：[4,0,1,1,3]\n",
    "\n",
    "解释： 对于 nums[0]=8 存在四个比它小的数字：（1，2，2 和 3）。\n",
    "\n",
    "- 对于 nums[1]=1 不存在比它小的数字。\n",
    "- 对于 nums[2]=2 存在一个比它小的数字：（1）。\n",
    "- 对于 nums[3]=2 存在一个比它小的数字：（1）。\n",
    "- 对于 nums[4]=3 存在三个比它小的数字：（1，2 和 2）。\n",
    "\n",
    "## 代碼\n"
   ]
  },
  {
   "cell_type": "code",
   "execution_count": 3,
   "metadata": {},
   "outputs": [
    {
     "name": "stdout",
     "output_type": "stream",
     "text": [
      "[1, 2, 2, 3, 8]\n",
      "[4, 0, 1, 1, 3]\n"
     ]
    }
   ],
   "source": [
    "class Solution(object):\n",
    "    def smallerNumbersThanCurrent(self, nums):\n",
    "        \"\"\"\n",
    "        :type nums: List[int]\n",
    "        :rtype: List[int]\n",
    "        \"\"\"\n",
    "        cur = sorted(nums)\n",
    "        print(cur)\n",
    "        print([cur.index(i) for i in nums])\n",
    "nums = [8,1,2,2,3]\n",
    "obj = Solution().smallerNumbersThanCurrent(nums)"
   ]
  },
  {
   "cell_type": "code",
   "execution_count": null,
   "metadata": {},
   "outputs": [],
   "source": []
  }
 ],
 "metadata": {
  "kernelspec": {
   "display_name": "Python 3",
   "language": "python",
   "name": "python3"
  },
  "language_info": {
   "codemirror_mode": {
    "name": "ipython",
    "version": 3
   },
   "file_extension": ".py",
   "mimetype": "text/x-python",
   "name": "python",
   "nbconvert_exporter": "python",
   "pygments_lexer": "ipython3",
   "version": "3.9.2"
  },
  "orig_nbformat": 4,
  "vscode": {
   "interpreter": {
    "hash": "397704579725e15f5c7cb49fe5f0341eb7531c82d19f2c29d197e8b64ab5776b"
   }
  }
 },
 "nbformat": 4,
 "nbformat_minor": 2
}
