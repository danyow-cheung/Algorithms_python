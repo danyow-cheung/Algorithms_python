{
 "cells": [
  {
   "cell_type": "markdown",
   "metadata": {},
   "source": [
    "# 兩數之和\n",
    "\n",
    "## 問題\n",
    "给定一个整数数组 nums 和一个目标值 target，请你在该数组中找出和为目标值的那 两个 整数，并返回他们的数组下标。\n",
    "\n",
    "你可以假设每种输入只会对应一个答案。但是，数组中同一个元素不能使用两遍。\n",
    "\n",
    "## 代碼\n",
    "嘗試使用哈希表\n",
    "\n",
    "\n",
    "- 数组的大小是受限制的，而且如果元素很少，而哈希值太大会造成内存空间的浪费。\n",
    "- set是一个集合，里面放的元素只能是一个key，而两数之和这道题目，不仅要判断y是否存在而且还要记录y的下标位置，因为要返回x 和 y的下标。所以set 也不能用。\n",
    "\n",
    "\n",
    "\n",
    "<img src = \"https://code-thinking-1253855093.file.myqcloud.com/pics/20220711202638.png\">\n",
    "<img src = \"https://code-thinking-1253855093.file.myqcloud.com/pics/20220711202708.png\">\n"
   ]
  }
 ],
 "metadata": {
  "language_info": {
   "name": "python"
  },
  "orig_nbformat": 4
 },
 "nbformat": 4,
 "nbformat_minor": 2
}
