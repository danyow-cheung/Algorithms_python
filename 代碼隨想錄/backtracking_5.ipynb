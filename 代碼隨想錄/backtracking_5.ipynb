{
 "cells": [
  {
   "cell_type": "markdown",
   "metadata": {},
   "source": [
    "# 组合总和\n",
    "\n",
    "## 问题\n",
    "给定一个无重复元素的数组 candidates 和一个目标数 target ，找出 candidates 中所有可以使数字和为 target 的组合。\n",
    "\n",
    "candidates 中的数字可以无限制重复被选取。\n",
    "\n",
    "说明：\n",
    "\n",
    "- 所有数字（包括 target）都是正整数。\n",
    "- 解集不能包含重复的组合。\n",
    "\n",
    "\n",
    "示例 1： <br>输入：candidates = [2,3,6,7], target = 7, 所求解集为： [ [7], [2,2,3] ]\n",
    "\n",
    "示例 2： <br>输入：candidates = [2,3,5], target = 8, 所求解集为： [   [2,2,2,2],   [2,3,3],   [3,5] ]\n",
    "\n",
    "\n",
    "\n",
    "## 代码\n"
   ]
  },
  {
   "cell_type": "code",
   "execution_count": null,
   "metadata": {},
   "outputs": [],
   "source": [
    "class Solution(object):\n",
    "    def combinationSum(self, candidates, target):\n",
    "        \"\"\"\n",
    "        :type candidates: List[int]\n",
    "        :type target: int\n",
    "        :rtype: List[List[int]]\n",
    "        \"\"\"\n",
    "        if not candidates:\n",
    "            return candidates\n",
    "        res = []\n",
    "        path = []\n",
    "\n",
    "        def backtracking(nums,targetSum,sum,StartIdx):\n",
    "            if sum>target:\n",
    "                return \n",
    "            if sum ==targetSum:\n",
    "                res.append(path[:])\n",
    "                return \n",
    "            # 单层递归的逻辑\n",
    "            for i in range(StartIdx,len(nums)):\n",
    "                '''这一步可以优化为剪枝\n",
    "                if sum+nums[i]>target:\n",
    "                    return\n",
    "                '''\n",
    "                # 增加操作\n",
    "                sum += nums[i]\n",
    "                path.append(nums[i])\n",
    "                # 回溯\n",
    "                backtracking(nums,target,sum,i)\n",
    "                # 减少操作\n",
    "                sum -= nums[i]\n",
    "                path.pop()\n",
    "        backtracking(candidates,target,0,0)\n",
    "        return res \n",
    "            \n"
   ]
  }
 ],
 "metadata": {
  "kernelspec": {
   "display_name": "Python 3.9.2 64-bit",
   "language": "python",
   "name": "python3"
  },
  "language_info": {
   "name": "python",
   "version": "3.9.2"
  },
  "orig_nbformat": 4,
  "vscode": {
   "interpreter": {
    "hash": "397704579725e15f5c7cb49fe5f0341eb7531c82d19f2c29d197e8b64ab5776b"
   }
  }
 },
 "nbformat": 4,
 "nbformat_minor": 2
}
