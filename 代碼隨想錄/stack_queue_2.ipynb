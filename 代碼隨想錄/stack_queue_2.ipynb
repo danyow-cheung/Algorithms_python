{
 "cells": [
  {
   "cell_type": "markdown",
   "metadata": {},
   "source": [
    "# 用栈实现队列\n",
    "\n",
    "## 问题\n",
    "使用栈实现队列的下列操作：\n",
    "\n",
    "1. push(x) -- 将一个元素放入队列的尾部。\n",
    "2. pop() -- 从队列首部移除元素。\n",
    "3. peek() -- 返回队列首部的元素。\n",
    "4. empty() -- 返回队列是否为空。\n",
    "\n",
    "## 代码\n",
    "（以学习为主）\n"
   ]
  },
  {
   "cell_type": "code",
   "execution_count": null,
   "metadata": {},
   "outputs": [],
   "source": [
    "class MyQueue(object):\n",
    "\n",
    "    def __init__(self):\n",
    "        self.stack_in = []\n",
    "        self.stack_out = []\n",
    "        \n",
    "\n",
    "    def push(self, x):\n",
    "        \"\"\"\n",
    "        :type x: int\n",
    "        :rtype: None\n",
    "        有新元素进来，就往in里面push\n",
    "        \"\"\"\n",
    "        self.stack_in.append(x)\n",
    "        \n",
    "\n",
    "    def pop(self):\n",
    "        \"\"\"\n",
    "        :rtype: int\n",
    "        \"\"\"\n",
    "        #如果队列里面已经是空的，就直接返回None\n",
    "        if self.empty():\n",
    "            return None\n",
    "        \n",
    "        # 如果stack_out存在元素\n",
    "        if self.stack_out:\n",
    "            return self.stack_out.pop()\n",
    "\n",
    "        else:\n",
    "            for i in range(len(self.stack_in)):\n",
    "                self.stack_out.append(self.stack_in.pop())\n",
    "            return self.stack_out.pop()\n",
    "        \n",
    "    def peek(self):\n",
    "        \"\"\"\n",
    "        :rtype: int\n",
    "        返回列表中的第一个元素\n",
    "        \"\"\"\n",
    "        # 先进先出\n",
    "        ans = self.pop()\n",
    "        self.stack_out.append(ans)\n",
    "        return ans \n",
    "\n",
    "    def empty(self):\n",
    "        \"\"\"\n",
    "        :rtype: bool\n",
    "        只要self.stack_in 或self.stack_out有元素，说明队列不为空\n",
    "        \"\"\"\n",
    "        return not(self.stack_in or self.stack_out)\n",
    "        \n",
    "\n",
    "        \n",
    "\n",
    "\n",
    "# Your MyQueue object will be instantiated and called as such:\n",
    "# obj = MyQueue()\n",
    "# obj.push(x)\n",
    "# param_2 = obj.pop()\n",
    "# param_3 = obj.peek()\n",
    "# param_4 = obj.empty()"
   ]
  }
 ],
 "metadata": {
  "kernelspec": {
   "display_name": "Python 3.9.2 64-bit",
   "language": "python",
   "name": "python3"
  },
  "language_info": {
   "name": "python",
   "version": "3.9.2"
  },
  "orig_nbformat": 4,
  "vscode": {
   "interpreter": {
    "hash": "397704579725e15f5c7cb49fe5f0341eb7531c82d19f2c29d197e8b64ab5776b"
   }
  }
 },
 "nbformat": 4,
 "nbformat_minor": 2
}
