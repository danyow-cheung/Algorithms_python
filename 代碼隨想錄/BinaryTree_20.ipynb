{
 "cells": [
  {
   "cell_type": "markdown",
   "metadata": {},
   "source": [
    "# 验证二叉搜索树\n",
    "\n",
    "## 问题\n",
    "\n",
    "给定一个二叉树，判断其是否是一个有效的二叉搜索树。\n",
    "\n",
    "假设一个二叉搜索树具有如下特征：\n",
    "\n",
    "- 节点的左子树只包含小于当前节点的数。\n",
    "- 节点的右子树只包含大于当前节点的数。\n",
    "- 所有左子树和右子树自身必须也是二叉搜索树。\n",
    "  \n",
    "<img src = 'https://img-blog.csdnimg.cn/20210203144334501.png'>\n",
    "\n",
    "## 代码\n",
    "\n",
    "中序遍历下，输出的二叉搜索树节点的数值就是有序序列\n",
    "有了这个特征，**验证二叉搜索树，就相当于变成了一个判断一个序列是不是递增的**\n"
   ]
  },
  {
   "cell_type": "code",
   "execution_count": null,
   "metadata": {},
   "outputs": [],
   "source": [
    "# Definition for a binary tree node.\n",
    "# class TreeNode(object):\n",
    "#     def __init__(self, val=0, left=None, right=None):\n",
    "#         self.val = val\n",
    "#         self.left = left\n",
    "#         self.right = right\n",
    "class Solution(object):\n",
    "    def isValidBST(self, root):\n",
    "        \"\"\"\n",
    "        :type root: TreeNode\n",
    "        :rtype: bool\n",
    "        递归法\n",
    "        \"\"\"\n",
    "        if root is None:\n",
    "            return True \n",
    "        # 表示最大的浮点数\n",
    "        ans = float('inf')\n",
    "        \n",
    "\n",
    "        left = self.isValidBST(root.left)\n",
    "        # 中序遍历，验证遍历元素是不是从小到大\n",
    "        if ans < root.val:\n",
    "            ans = root.val \n",
    "        else:\n",
    "            return False \n",
    "        right = self.isValidBST(root.right)\n",
    "        return left and right\n",
    "\n",
    "        \n",
    "    def isValidBST_leetcode(self,root):\n",
    "        # 数组\n",
    "        stack = [None]\n",
    "        # 最小值\n",
    "        prev = -float(\"inf\")\n",
    "        # 当数组不为空\n",
    "        while stack:\n",
    "            # 存在root\n",
    "            while root:\n",
    "                stack.append(root)\n",
    "                root = root.left\n",
    "            x = stack.pop()\n",
    "            #  # 对第一个节点只做记录，对后面的节点进行比较\n",
    "            \n",
    "            if x:\n",
    "                if x.val <= prev:\n",
    "                    return False\n",
    "                prev = x.val\n",
    "                root = x.right\n",
    "                \n",
    "        return True\n",
    "\n"
   ]
  }
 ],
 "metadata": {
  "kernelspec": {
   "display_name": "Python 3.9.2 64-bit",
   "language": "python",
   "name": "python3"
  },
  "language_info": {
   "name": "python",
   "version": "3.9.2"
  },
  "orig_nbformat": 4,
  "vscode": {
   "interpreter": {
    "hash": "397704579725e15f5c7cb49fe5f0341eb7531c82d19f2c29d197e8b64ab5776b"
   }
  }
 },
 "nbformat": 4,
 "nbformat_minor": 2
}
