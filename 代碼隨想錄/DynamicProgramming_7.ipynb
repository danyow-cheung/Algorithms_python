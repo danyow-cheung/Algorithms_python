{
 "cells": [
  {
   "attachments": {},
   "cell_type": "markdown",
   "metadata": {},
   "source": [
    "# 背包問題\n",
    "\n",
    "<img src = 'https://img-blog.csdnimg.cn/20210117171307407.png'>"
   ]
  },
  {
   "attachments": {},
   "cell_type": "markdown",
   "metadata": {},
   "source": [
    "面試中主要考察**01背包**和**完全背包**"
   ]
  },
  {
   "attachments": {},
   "cell_type": "markdown",
   "metadata": {},
   "source": [
    "## 01背包\n",
    "\n",
    "### 問題\n",
    "有n件物品和一个最多能背重量为w 的背包。第i件物品的重量是weight[i]，得到的价值是value[i] 。每件物品只能用一次，求解将哪些物品装入背包里物品价值总和最大。\n",
    "<img src ='https://img-blog.csdnimg.cn/20210117175428387.jpg'>\n"
   ]
  },
  {
   "attachments": {},
   "cell_type": "markdown",
   "metadata": {},
   "source": [
    "https://programmercarl.com/%E8%83%8C%E5%8C%85%E7%90%86%E8%AE%BA%E5%9F%BA%E7%A1%8001%E8%83%8C%E5%8C%85-1.html#%E4%BA%8C%E7%BB%B4dp%E6%95%B0%E7%BB%8401%E8%83%8C%E5%8C%85"
   ]
  },
  {
   "cell_type": "code",
   "execution_count": 3,
   "metadata": {},
   "outputs": [
    {
     "name": "stdout",
     "output_type": "stream",
     "text": [
      "[[0, 0, 0, 0, 0], [0, 0, 0, 0, 0], [0, 0, 0, 0, 0]]\n",
      "[[0, 15, 15, 15, 15], [0, 0, 0, 0, 0], [0, 0, 0, 0, 0]]\n"
     ]
    }
   ],
   "source": [
    "def test_2_wei_bag_problem(bag_size,weight,value):\n",
    "    rows,cols = len(weight),bag_size+1\n",
    "    dp =[[0 for _ in range(cols)] for _ in range(rows)]\n",
    "    print(dp)\n",
    "\n",
    "    # 初始化dp數組\n",
    "    for i in range(rows):\n",
    "        dp[i][0] = 0 \n",
    "    first_item_weight,first_item_value = weight[0],value[0]\n",
    "    for j in range(1,cols):\n",
    "        if first_item_weight<=j:\n",
    "            dp[0][j] = first_item_value\n",
    "    print(dp)\n",
    "\n",
    "\n",
    "if __name__ =='__main__':\n",
    "    bag_size = 4 \n",
    "    weight = [1,3,4]\n",
    "    value = [15,20,30]\n",
    "    test_2_wei_bag_problem(bag_size,weight,value)"
   ]
  },
  {
   "attachments": {},
   "cell_type": "markdown",
   "metadata": {},
   "source": [
    "<img src = 'https://img-blog.csdnimg.cn/2021011010314055.png'>"
   ]
  },
  {
   "cell_type": "code",
   "execution_count": 5,
   "metadata": {},
   "outputs": [
    {
     "name": "stdout",
     "output_type": "stream",
     "text": [
      "[[0, 15, 15, 15, 15], [0, 0, 0, 0, 0], [0, 0, 0, 0, 0]]\n",
      "3 20\n",
      "4 30\n",
      "[[0, 15, 15, 15, 15], [0, 15, 15, 20, 35], [0, 15, 15, 20, 35]]\n"
     ]
    }
   ],
   "source": [
    "def test_2_wei_bag_problem(bag_size,weight,value):\n",
    "    rows,cols = len(weight),bag_size+1\n",
    "    dp =[[0 for _ in range(cols)] for _ in range(rows)]\n",
    "   \n",
    "\n",
    "    # 初始化dp數組\n",
    "    for i in range(rows):\n",
    "        dp[i][0] = 0 \n",
    "    first_item_weight,first_item_value = weight[0],value[0]\n",
    "    for j in range(1,cols):\n",
    "        if first_item_weight<=j:\n",
    "            dp[0][j] = first_item_value\n",
    "    print(dp)\n",
    "\n",
    "    # 更新dp數組，先遍歷物品，在遍歷背包\n",
    "    for i in range(1,len(weight)):\n",
    "        cur_weight,cur_val = weight[i],value[i]\n",
    "        print(cur_weight,cur_val)\n",
    "        for j in range(1,cols):\n",
    "            # 說明背包裝不下當前物品\n",
    "            if cur_weight>j:\n",
    "                # 所以不裝當前物品\n",
    "                dp[i][j] = dp[i-1][j]\n",
    "            else:\n",
    "                # 定義dp數組，dp[i][j]前i個物品裡，放進容量為j的背包，價值總和最大是多少\n",
    "                dp[i][j] = max(dp[i-1][j],dp[i-1][j-cur_weight]+cur_val)\n",
    "    print(dp)\n",
    "\n",
    "if __name__ =='__main__':\n",
    "    bag_size = 4 \n",
    "    weight = [1,3,4]\n",
    "    value = [15,20,30]\n",
    "    test_2_wei_bag_problem(bag_size,weight,value)"
   ]
  },
  {
   "attachments": {},
   "cell_type": "markdown",
   "metadata": {},
   "source": [
    "## 滾動數組"
   ]
  },
  {
   "attachments": {},
   "cell_type": "markdown",
   "metadata": {},
   "source": [
    "今天我们就来说一说滚动数组，其实在前面的题目中我们已经用到过滚动数组了，就是把二维dp降为一维dp，一些录友当时还表示比较困惑。\n",
    "> 還是使用上面那個參數"
   ]
  },
  {
   "attachments": {},
   "cell_type": "markdown",
   "metadata": {},
   "source": [
    "使用二维数组的时候，递推公式：dp[i][j] = max(dp[i - 1][j], dp[i - 1][j - weight[i]] + value[i]);\n",
    "\n",
    "其实可以发现如果把dp[i - 1]那一层拷贝到dp[i]上，表达式完全可以是：dp[i][j] = max(dp[i][j], dp[i][j - weight[i]] + value[i]);\n",
    "\n",
    "与其把dp[i - 1]这一层拷贝到dp[i]上，不如只用一个一维数组了，只用dp[j]（一维数组，也可以理解是一个滚动数组）。\n",
    "\n",
    "这就是滚动数组的由来，需要满足的条件是上一层可以重复利用，直接拷贝到当前层。"
   ]
  },
  {
   "attachments": {},
   "cell_type": "markdown",
   "metadata": {},
   "source": [
    "**dp[i][j]表示從下標[0-i]的物品裡任意取，放進容量為j的背包，價值總和最大是多少**\n",
    "\n",
    "遞歸公式更新為\n",
    "\n",
    "<u>dp[j] = max(dp[j],dp[j-weight[i]]+value[i]</u>"
   ]
  },
  {
   "cell_type": "code",
   "execution_count": null,
   "metadata": {},
   "outputs": [],
   "source": []
  }
 ],
 "metadata": {
  "kernelspec": {
   "display_name": "Python 3",
   "language": "python",
   "name": "python3"
  },
  "language_info": {
   "codemirror_mode": {
    "name": "ipython",
    "version": 3
   },
   "file_extension": ".py",
   "mimetype": "text/x-python",
   "name": "python",
   "nbconvert_exporter": "python",
   "pygments_lexer": "ipython3",
   "version": "3.9.2"
  },
  "orig_nbformat": 4,
  "vscode": {
   "interpreter": {
    "hash": "397704579725e15f5c7cb49fe5f0341eb7531c82d19f2c29d197e8b64ab5776b"
   }
  }
 },
 "nbformat": 4,
 "nbformat_minor": 2
}
