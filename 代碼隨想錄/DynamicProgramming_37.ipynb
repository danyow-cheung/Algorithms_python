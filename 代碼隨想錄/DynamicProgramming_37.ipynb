{
 "cells": [
  {
   "attachments": {},
   "cell_type": "markdown",
   "metadata": {},
   "source": [
    "# 编辑距离\n",
    "## 问题\n",
    "\n",
    "给你两个单词 word1 和 word2，请你计算出将 word1 转换成 word2 所使用的最少操作数 。\n",
    "\n",
    "你可以对一个单词进行如下三种操作：\n",
    "\n",
    "- 插入一个字符\n",
    "- 删除一个字符\n",
    "- 替换一个字符\n",
    "\n",
    "示例 1： \n",
    "输入：word1 = \"horse\", word2 = \"ros\" \n",
    "\n",
    "输出：3 \n",
    "\n",
    "解释： horse -> rorse (将 'h' 替换为 'r') rorse -> rose (删除 'r') rose -> ros (删除 'e')\n",
    "\n",
    "\n",
    "## 代码\n"
   ]
  },
  {
   "attachments": {},
   "cell_type": "markdown",
   "metadata": {},
   "source": [
    "1. 確定dp數組以及下標的含義\n",
    "   > dp[i][j] 表示以下标i-1为结尾的字符串word1，和以下标j-1为结尾的字符串word2，最近编辑距离为dp[i][j]。\n",
    "\n",
    "2. 確定遞歸公式\n",
    "   > if (word1[i - 1] == word2[j - 1])\n",
    "   > <br> 不操作\n",
    "   > <br> if (word1[i - 1] != word2[j - 1])\n",
    "   > <br> 增\n",
    "   > <br> 删\n",
    "   > <br> 换\n",
    "\n",
    "<img src = 'https://img-blog.csdnimg.cn/20210114162132300.jpg'>"
   ]
  },
  {
   "cell_type": "code",
   "execution_count": null,
   "metadata": {},
   "outputs": [],
   "source": [
    "class Solution(object):\n",
    "    def minDistance(self, word1, word2):\n",
    "        \"\"\"\n",
    "        :type word1: str\n",
    "        :type word2: str\n",
    "        :rtype: int\n",
    "        \"\"\"\n",
    "        dp = [[0]*(len(word2)+1) for _ in range(len(word1)+1)]\n",
    "        for i in range(len(word1)+1):\n",
    "            dp[i][0] = i \n",
    "        for j in range(len(word2)+1):\n",
    "            dp[0][j] = j \n",
    "        \n",
    "        for i in range(1,len(word1)+1):\n",
    "            for j in range(1,len(word2)+1):\n",
    "                if word1[i-1]==word2[j-1]:\n",
    "                    dp[i][j] = dp[i-1][j-1]\n",
    "                else:\n",
    "                    dp[i][j] = min(dp[i-1][j-1],dp[i-1][j],dp[i][j-1])+1\n",
    "        return dp[-1][-1]"
   ]
  }
 ],
 "metadata": {
  "kernelspec": {
   "display_name": "Python 3",
   "language": "python",
   "name": "python3"
  },
  "language_info": {
   "name": "python",
   "version": "3.9.2 (v3.9.2:1a79785e3e, Feb 19 2021, 09:06:10) \n[Clang 6.0 (clang-600.0.57)]"
  },
  "orig_nbformat": 4,
  "vscode": {
   "interpreter": {
    "hash": "397704579725e15f5c7cb49fe5f0341eb7531c82d19f2c29d197e8b64ab5776b"
   }
  }
 },
 "nbformat": 4,
 "nbformat_minor": 2
}
