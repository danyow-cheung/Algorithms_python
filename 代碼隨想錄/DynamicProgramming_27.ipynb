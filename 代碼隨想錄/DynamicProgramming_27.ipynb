{
 "cells": [
  {
   "attachments": {},
   "cell_type": "markdown",
   "metadata": {},
   "source": [
    "# 最佳買賣股票時機含冷凍期\n",
    "\n",
    "## 問題\n",
    "\n",
    "给定一个整数数组，其中第 i 个元素代表了第 i 天的股票价格 。\n",
    "\n",
    "设计一个算法计算出最大利润。在满足以下约束条件下，你可以尽可能地完成更多的交易（多次买卖一支股票）:\n",
    "\n",
    "你不能同时参与多笔交易（你必须在再次购买前出售掉之前的股票）。\n",
    "卖出股票后，你无法在第二天买入股票 (即冷冻期为 1 天)。\n",
    "\n",
    "示例:\n",
    "输入: [1,2,3,0,2]\n",
    "\n",
    "输出: 3\n",
    "\n",
    "解释: 对应的交易状态为: [买入, 卖出, 冷冻期, 买入, 卖出]\n",
    "\n",
    "## 代碼\n"
   ]
  },
  {
   "attachments": {},
   "cell_type": "markdown",
   "metadata": {},
   "source": [
    "j的状态为：\n",
    "\n",
    "0. 状态一\n",
    "1. 状态二\n",
    "2. 状态三\n",
    "3. 状态四\n",
    "   \n",
    "<img src= 'https://img-blog.csdnimg.cn/518d5baaf33f4b2698064f8efb42edbf.png'>"
   ]
  },
  {
   "cell_type": "code",
   "execution_count": 1,
   "metadata": {},
   "outputs": [],
   "source": [
    "class Solution(object):\n",
    "    def maxProfit(self, prices):\n",
    "        \"\"\"\n",
    "        :type prices: List[int]\n",
    "        :rtype: int\n",
    "        \"\"\"\n",
    "        n = len(prices)\n",
    "        if n==0:\n",
    "            return 0 \n",
    "        dp = [[0]*4 for i in range(n)]\n",
    "        dp[0][0] = -prices[0]\n",
    "        for i in range(1,n):\n",
    "            dp[i][0] = max(dp[i-1][0],max(dp[i-1][3],dp[i-1][1])-prices[i])\n",
    "            dp[i][1] = max(dp[i-1][1],dp[i-1][3])\n",
    "            dp[i][2] = dp[i-1][0]+prices[i]\n",
    "            dp[i][3] = dp[i-1][2]\n",
    "        return max(dp[n-1][3],dp[n-1][1],dp[n-1][2])"
   ]
  },
  {
   "cell_type": "code",
   "execution_count": null,
   "metadata": {},
   "outputs": [],
   "source": []
  }
 ],
 "metadata": {
  "kernelspec": {
   "display_name": "Python 3",
   "language": "python",
   "name": "python3"
  },
  "language_info": {
   "codemirror_mode": {
    "name": "ipython",
    "version": 3
   },
   "file_extension": ".py",
   "mimetype": "text/x-python",
   "name": "python",
   "nbconvert_exporter": "python",
   "pygments_lexer": "ipython3",
   "version": "3.9.2"
  },
  "orig_nbformat": 4,
  "vscode": {
   "interpreter": {
    "hash": "397704579725e15f5c7cb49fe5f0341eb7531c82d19f2c29d197e8b64ab5776b"
   }
  }
 },
 "nbformat": 4,
 "nbformat_minor": 2
}
