{
 "cells": [
  {
   "cell_type": "markdown",
   "metadata": {},
   "source": [
    "# 二叉搜索树的最小绝对差\n",
    "\n",
    "\n",
    "## 问题\n",
    "给你一棵所有节点为非负值的二叉搜索树，请你计算树中任意两节点的差的绝对值的最小值。\n",
    "\n",
    "示例：\n",
    "\n",
    "<img src ='https://img-blog.csdnimg.cn/20201014223400123.png'>\n",
    "\n",
    "树中至少有2个节点\n",
    "\n",
    "## 代码\n",
    "\n",
    "在一个有序数组上求两个数最小差值，这是不是就是一道送分题了。\n",
    "\n",
    "最直观的想法，就是把**二叉搜索树转换成有序数组，然后遍历一遍数组，就统计出来最小差值了**。\n",
    "\n",
    "还需要一个pre节点记录cur节点前一个节点。\n",
    "\n"
   ]
  },
  {
   "cell_type": "code",
   "execution_count": 1,
   "metadata": {},
   "outputs": [],
   "source": [
    "# Definition for a binary tree node.\n",
    "# class TreeNode(object):\n",
    "#     def __init__(self, val=0, left=None, right=None):\n",
    "#         self.val = val\n",
    "#         self.left = left\n",
    "#         self.right = right\n",
    "class Solution(object):\n",
    "    def getMinimumDifference(self, root):\n",
    "        \"\"\"\n",
    "        :type root: TreeNode\n",
    "        :rtype: int\n",
    "        \"\"\"\n",
    "        r = float(\"inf\")\n",
    "        # 存储二叉搜索树上的所有元素\n",
    "\n",
    "        stack = []\n",
    "        # 把二叉搜索树转换为有序数组\n",
    "        def buildaList(root):\n",
    "            # 中序遍历\n",
    "            if not root:\n",
    "                return None \n",
    "            if root.left:\n",
    "                buildaList(root.left)\n",
    "            stack.append(root.val)\n",
    "            if root.right:\n",
    "                buildaList(root.right)\n",
    "            return stack\n",
    "\n",
    "        buildaList(root)\n",
    "        # 统计有序数组的最小差值\n",
    "        for i in range(len(stack)-1):\n",
    "            r = min(abs(stack[i]-stack[i+1]),r)\n",
    "        return r"
   ]
  },
  {
   "cell_type": "code",
   "execution_count": null,
   "metadata": {},
   "outputs": [],
   "source": []
  }
 ],
 "metadata": {
  "kernelspec": {
   "display_name": "Python 3.9.2 64-bit",
   "language": "python",
   "name": "python3"
  },
  "language_info": {
   "codemirror_mode": {
    "name": "ipython",
    "version": 3
   },
   "file_extension": ".py",
   "mimetype": "text/x-python",
   "name": "python",
   "nbconvert_exporter": "python",
   "pygments_lexer": "ipython3",
   "version": "3.9.2"
  },
  "orig_nbformat": 4,
  "vscode": {
   "interpreter": {
    "hash": "397704579725e15f5c7cb49fe5f0341eb7531c82d19f2c29d197e8b64ab5776b"
   }
  }
 },
 "nbformat": 4,
 "nbformat_minor": 2
}
