{
 "cells": [
  {
   "cell_type": "markdown",
   "metadata": {},
   "source": [
    "# 复原ip地址\n",
    "\n",
    "## 问题\n",
    "\n",
    "给定一个只包含数字的字符串，复原它并返回所有可能的 IP 地址格式。\n",
    "\n",
    "有效的 IP 地址 正好由四个整数（每个整数位于 0 到 255 之间组成，且不能含有前导 0），整数之间用 '.' 分隔。\n",
    "\n",
    "例如：\"0.1.2.201\" 和 \"192.168.1.1\" 是 有效的 IP 地址，但是 \"0.011.255.245\"、\"192.168.1.312\" 和 \"192.168@1.1\" 是 无效的 IP 地址。\n",
    "\n",
    "示例 1：\n",
    "\n",
    "输入：s = \"25525511135\"<br>\n",
    "输出：[\"255.255.11.135\",\"255.255.111.35\"]\n",
    "\n",
    "<img src = 'https://img-blog.csdnimg.cn/20201123203735933.png'>\n",
    "\n",
    "\n",
    "## 代码\n",
    "\n"
   ]
  },
  {
   "cell_type": "code",
   "execution_count": null,
   "metadata": {},
   "outputs": [],
   "source": [
    "class Solution(object):\n",
    "    def __init__(self):\n",
    "        self.res = []\n",
    "        self.path = []\n",
    "\n",
    "       \n",
    "\n",
    "    def restoreIpAddresses(self, s):\n",
    "        \"\"\"\n",
    "        :type s: str\n",
    "        :rtype: List[str]\n",
    "        \"\"\"\n",
    "        self.backtracking(s,0,0)\n",
    "        return self.res \n",
    "\n",
    "\n",
    "    def isValid(self,s,start,end):\n",
    "        # 验证字符串是否超过设定的规则\n",
    "        # 段位以0为开头的数字不合法\n",
    "        # 段位里有非正整数字符不合法\n",
    "        # 段位如果大于255了不合法\n",
    "        if start>end:\n",
    "            return False \n",
    "        \n",
    "        if s[start]=='0' and start!=end:\n",
    "            return False \n",
    "        \n",
    "        if not 0<= int(s[start:end+1])<=255:\n",
    "            return False \n",
    "\n",
    "        return True \n",
    "\n",
    "        \n",
    "    def backtracking(self,s,startIdx,pointNum):\n",
    "        # 当pointNum为3则说明字符串被分为了4段\n",
    "        if pointNum==3:\n",
    "            # 验证第四段分割字符串是否合法，合法则放进res\n",
    "            if self.isValid(s,startIdx,len(s)-1):\n",
    "                self.res.append(s[:])\n",
    "            return \n",
    "        #单层递归\n",
    "        for i in range(startIdx,len(s)):\n",
    "            if self.isValid(s,startIdx,i):\n",
    "                s = s[:i+1]+'.'+s[i+1:]\n",
    "                pointNum+=1\n",
    "                # 递归调用时，下一层递归的startIndex要从i+2开始（因为需要在字符串中加入了分隔符.）\n",
    "                # ，同时记录分割符的数量pointNum 要 +1。\n",
    "                self.backtracking(s,i+2,pointNum)\n",
    "                pointNum-=1\n",
    "                s = s[:i+1] + s[i+2:]\n",
    "                # self.path.pop() \n",
    "            else:\n",
    "                break\n",
    "        \n"
   ]
  }
 ],
 "metadata": {
  "kernelspec": {
   "display_name": "Python 3.9.2 64-bit",
   "language": "python",
   "name": "python3"
  },
  "language_info": {
   "name": "python",
   "version": "3.9.2"
  },
  "orig_nbformat": 4,
  "vscode": {
   "interpreter": {
    "hash": "397704579725e15f5c7cb49fe5f0341eb7531c82d19f2c29d197e8b64ab5776b"
   }
  }
 },
 "nbformat": 4,
 "nbformat_minor": 2
}
