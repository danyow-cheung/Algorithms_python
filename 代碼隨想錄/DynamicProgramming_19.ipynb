{
 "cells": [
  {
   "cell_type": "code",
   "execution_count": null,
   "id": "78e0678b",
   "metadata": {},
   "outputs": [],
   "source": []
  },
  {
   "cell_type": "markdown",
   "id": "847a1f6a",
   "metadata": {},
   "source": [
    "# 背包递推公式\n",
    "\n",
    "- 问是否能装满背包（或者最多装多少）dp[j] = max(dp[j],dp[j-nums[i]]+nums[i])\n",
    "    1. 分割等和子集\n",
    "    2. 最后一块石头的重量ll \n",
    "    \n",
    "- 问装满背包有几种方法dp[j]+=dp[j-nums[i]]\n",
    "    1. 目标和\n",
    "    2. 零钱兑换ll\n",
    "    3. 组合总和lV\n",
    "    4. 爬楼梯进阶版(完全背包)\n",
    "    \n",
    "- 问背包装满最大价值 dp[j]=max(dp[j],dp[j-weight[i]]+value[i])\n",
    "    1. 一和零\n",
    "   \n",
    "- 问装满背包所有物品的最小个数 dp[j] = min(dp[j-coins[i]]+1,dp[j])\n",
    "    1. 零钱兑换\n",
    "    2. 完全平方数\n",
    "    "
   ]
  }
 ],
 "metadata": {
  "kernelspec": {
   "display_name": "Python 3 (ipykernel)",
   "language": "python",
   "name": "python3"
  },
  "language_info": {
   "codemirror_mode": {
    "name": "ipython",
    "version": 3
   },
   "file_extension": ".py",
   "mimetype": "text/x-python",
   "name": "python",
   "nbconvert_exporter": "python",
   "pygments_lexer": "ipython3",
   "version": "3.9.13"
  }
 },
 "nbformat": 4,
 "nbformat_minor": 5
}
