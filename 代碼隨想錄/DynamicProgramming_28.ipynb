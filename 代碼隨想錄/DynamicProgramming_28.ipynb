{
 "cells": [
  {
   "attachments": {},
   "cell_type": "markdown",
   "metadata": {},
   "source": [
    "# 買賣股票的最佳時機含手續費\n",
    "\n",
    "## 問題\n",
    "\n",
    "给定一个整数数组 prices，其中第 i 个元素代表了第 i 天的股票价格 ；非负整数 fee 代表了交易股票的手续费用。\n",
    "\n",
    "你可以无限次地完成交易，但是你每笔交易都需要付手续费。如果你已经购买了一个股票，在卖出它之前你就不能再继续购买股票了。\n",
    "\n",
    "返回获得利润的最大值。\n",
    "\n",
    "注意：这里的一笔交易指买入持有并卖出股票的整个过程，每笔交易你只需要为支付一次手续费。\n",
    "\n",
    "示例 1: \n",
    "\n",
    "输入: prices = [1, 3, 2, 8, 4, 9], fee = 2 \n",
    "\n",
    "输出: 8\n",
    "\n",
    "解释: 能够达到的最大利润: 在此处买入 prices[0] = 1 在此处卖出 prices[3] = 8 在此处买入 prices[4] = 4 在此处卖出 prices[5] = 9 总利润: ((8 - 1) - 2) + ((9 - 4) - 2) = 8.\n",
    "\n",
    "\n",
    "## 代碼\n"
   ]
  },
  {
   "cell_type": "code",
   "execution_count": null,
   "metadata": {},
   "outputs": [],
   "source": [
    "class Solution(object):\n",
    "    def maxProfit(self, prices, fee):\n",
    "        \"\"\"\n",
    "        :type prices: List[int]\n",
    "        :type fee: int\n",
    "        :rtype: int\n",
    "        \"\"\"\n",
    "        n = len(prices)\n",
    "        dp = [[0]*2 for i in range(n)]\n",
    "        dp[0][0] = -prices[0]\n",
    "        for i in range(1,n):\n",
    "            dp[i][0] = max(dp[i-1][0],dp[i-1][1]-prices[i])\n",
    "            dp[i][1] = max(dp[i-1][1],dp[i-1][0]+prices[i]-fee)\n",
    "        return max(dp[n-1][0],dp[n-1][1])"
   ]
  }
 ],
 "metadata": {
  "language_info": {
   "name": "python"
  },
  "orig_nbformat": 4
 },
 "nbformat": 4,
 "nbformat_minor": 2
}
