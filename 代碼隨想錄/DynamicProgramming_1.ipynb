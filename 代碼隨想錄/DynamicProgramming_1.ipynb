{
 "cells": [
  {
   "cell_type": "markdown",
   "metadata": {},
   "source": [
    "# 斐波那契数\n",
    "\n",
    "## 問題\n",
    "\n",
    "\n",
    "斐波那契数，通常用 F(n) 表示，形成的序列称为 斐波那契数列 。该数列由 0 和 1 开始，后面的每一项数字都是前面两项数字的和。也就是： F(0) = 0，F(1) = 1 F(n) = F(n - 1) + F(n - 2)，其中 n > 1 给你n ，请计算 F(n) 。\n",
    "\n",
    "示例 1：\n",
    "\n",
    "- 输入：2\n",
    "- 输出：1\n",
    "- 解释：F(2) = F(1) + F(0) = 1 + 0 = 1\n",
    "\n",
    "示例 2：\n",
    "\n",
    "- 输入：3\n",
    "- 输出：2\n",
    "- 解释：F(3) = F(2) + F(1) = 1 + 1 = 2\n",
    "\n",
    "示例 3：\n",
    "\n",
    "- 输入：4\n",
    "- 输出：3\n",
    "- 解释：F(4) = F(3) + F(2) = 2 + 1 = 3\n",
    "\n",
    "## 代碼\n",
    "\n"
   ]
  },
  {
   "cell_type": "markdown",
   "metadata": {},
   "source": [
    "可以使用遞歸通過，但是按照動態規劃的模式先來簡單了解一下流程\n",
    "\n",
    "\n",
    "<u>動態規劃五部曲</u>\n",
    "1. 確定dp數組以及下標的含義\n",
    "   > 第i個數的斐波那契數值為dp[i]\n",
    "2. 確定遞歸公式\n",
    "   > dp[i] = dp[i-1]+dp[i-2]\n",
    "3. dp數組如何初始化\n",
    "   > 題目中已經給出\n",
    "   > dp[0]=0\n",
    "   > dp[1]=1\n",
    "4. 確定遍歷順序\n",
    "   > 從前向後\n",
    "5. 舉例推倒dp數組\n",
    "   "
   ]
  },
  {
   "cell_type": "code",
   "execution_count": null,
   "metadata": {},
   "outputs": [],
   "source": [
    "class Solution(object):\n",
    "    def fib(self, n):\n",
    "        \"\"\"\n",
    "        :type n: int\n",
    "        :rtype: int\n",
    "        \"\"\"\n",
    "        if n <=1:\n",
    "            return n \n",
    "        dp = [0]*(n+1)\n",
    "        dp[0]=0\n",
    "        dp[1]=1\n",
    "        for i in range(2,n+1):\n",
    "            dp[i]=dp[i-1]+dp[i-2]\n",
    "        return dp[n]\n",
    "\n"
   ]
  }
 ],
 "metadata": {
  "kernelspec": {
   "display_name": "Python 3.9.2 64-bit",
   "language": "python",
   "name": "python3"
  },
  "language_info": {
   "name": "python",
   "version": "3.9.2"
  },
  "orig_nbformat": 4,
  "vscode": {
   "interpreter": {
    "hash": "397704579725e15f5c7cb49fe5f0341eb7531c82d19f2c29d197e8b64ab5776b"
   }
  }
 },
 "nbformat": 4,
 "nbformat_minor": 2
}
