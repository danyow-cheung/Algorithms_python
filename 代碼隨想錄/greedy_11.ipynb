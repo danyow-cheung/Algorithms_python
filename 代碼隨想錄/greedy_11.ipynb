{
 "cells": [
  {
   "cell_type": "markdown",
   "metadata": {},
   "source": [
    "# 根据身高重建队列\n",
    "\n",
    "## 问题\n",
    "\n",
    "假设有打乱顺序的一群人站成一个队列，数组 people 表示队列中一些人的属性（不一定按顺序）。每个 people[i] = [hi, ki] 表示第 i 个人的身高为 hi ，前面 正好 有 ki 个身高大于或等于 hi 的人。\n",
    "\n",
    "请你重新构造并返回输入数组 people 所表示的队列。返回的队列应该格式化为数组 queue ，其中 queue[j] = [hj, kj] 是队列中第 j 个人的属性（queue[0] 是排在队列前面的人）。\n",
    "\n",
    "示例 1：\n",
    "\n",
    "- 输入：people = [[7,0],[4,4],[7,1],[5,0],[6,1],[5,2]]\n",
    "- 输出：[[5,0],[7,0],[5,2],[6,1],[4,4],[7,1]]\n",
    "- 解释：\n",
    "    - 编号为 0 的人身高为 5 ，没有身高更高或者相同的人排在他前面。\n",
    "    - 编号为 1 的人身高为 7 ，没有身高更高或者相同的人排在他前面。\n",
    "    - 编号为 2 的人身高为 5 ，有 2 个身高更高或者相同的人排在他前面，即编号为 0 和 1 的人。\n",
    "    - 编号为 3 的人身高为 6 ，有 1 个身高更高或者相同的人排在他前面，即编号为 1 的人。\n",
    "    - 编号为 4 的人身高为 4 ，有 4 个身高更高或者相同的人排在他前面，即编号为 0、1、2、3 的人。\n",
    "    - 编号为 5 的人身高为 7 ，有 1 个身高更高或者相同的人排在他前面，即编号为 1 的人。\n",
    "    - 因此 [[5,0],[7,0],[5,2],[6,1],[4,4],[7,1]] 是重新构造后的队列。\n",
    "\n",
    "## 代码\n"
   ]
  },
  {
   "cell_type": "markdown",
   "metadata": {},
   "source": [
    "解题步骤\n",
    "1. 按照身高h来排序，身高一定是从大到下排\n",
    "   \n",
    "   【局部最优：优先按照身高高的people的k来插入，插入操作过后的people满足队列属性】  \n",
    "   【全局最优：最后都做完插入操作，整个队列满足题目队列属性】\n",
    "   "
   ]
  },
  {
   "cell_type": "markdown",
   "metadata": {},
   "source": [
    "回归本题，整个插入过程如下：\n",
    "\n",
    "排序完的people： [[7,0], [7,1], [6,1], [5,0], [5,2]，[4,4]]\n",
    "\n",
    "插入的过程：\n",
    "\n",
    "- 插入[7,0]：[[7,0]]\n",
    "- 插入[7,1]：[[7,0],[7,1]]\n",
    "- 插入[6,1]：[[7,0],[6,1],[7,1]]\n",
    "- 插入[5,0]：[[5,0],[7,0],[6,1],[7,1]]\n",
    "- 插入[5,2]：[[5,0],[7,0],[5,2],[6,1],[7,1]]\n",
    "- 插入[4,4]：[[5,0],[7,0],[5,2],[6,1],[4,4],[7,1]]"
   ]
  },
  {
   "cell_type": "code",
   "execution_count": 3,
   "metadata": {},
   "outputs": [
    {
     "name": "stdout",
     "output_type": "stream",
     "text": [
      "[[7, 0], [7, 1], [6, 1], [5, 0], [5, 2], [4, 4]]\n"
     ]
    }
   ],
   "source": [
    "class Solution(object):\n",
    "    def reconstructQueue(self, people):\n",
    "        \"\"\"\n",
    "        :type people: List[List[int]]\n",
    "        :rtype: List[List[int]]\n",
    "        \"\"\"\n",
    "        # 按照身高从大到小排序\n",
    "        #  lambda返回的是一个元组：当-x[0](维度h）相同时，再根据x[1]（维度k）从小到大排序\n",
    "        people.sort(key=lambda x:(-x[0],x[1]))\n",
    "        print(people)\n",
    "        que = []\n",
    "\n",
    "        # 根据每一个元素的第二维度k，贪心算法进行插入\n",
    "        for p in people:\n",
    "            que.insert(p[1],p)\n",
    "        return que \n",
    "\n",
    "\n",
    "people = [[7,0],[4,4],[7,1],[5,0],[6,1],[5,2]]\n",
    "obj = Solution().reconstructQueue(people)"
   ]
  },
  {
   "cell_type": "code",
   "execution_count": null,
   "metadata": {},
   "outputs": [],
   "source": []
  }
 ],
 "metadata": {
  "kernelspec": {
   "display_name": "Python 3.9.2 64-bit",
   "language": "python",
   "name": "python3"
  },
  "language_info": {
   "codemirror_mode": {
    "name": "ipython",
    "version": 3
   },
   "file_extension": ".py",
   "mimetype": "text/x-python",
   "name": "python",
   "nbconvert_exporter": "python",
   "pygments_lexer": "ipython3",
   "version": "3.9.2"
  },
  "orig_nbformat": 4,
  "vscode": {
   "interpreter": {
    "hash": "397704579725e15f5c7cb49fe5f0341eb7531c82d19f2c29d197e8b64ab5776b"
   }
  }
 },
 "nbformat": 4,
 "nbformat_minor": 2
}
