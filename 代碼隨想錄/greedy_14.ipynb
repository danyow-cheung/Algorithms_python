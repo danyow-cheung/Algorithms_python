{
 "cells": [
  {
   "cell_type": "markdown",
   "metadata": {},
   "source": [
    "# 划分字母区间\n",
    "\n"
   ]
  },
  {
   "cell_type": "markdown",
   "metadata": {},
   "source": [
    "## 问题\n",
    "\n",
    "字符串 S 由小写字母组成。我们要把这个字符串划分为尽可能多的片段，同一字母最多出现在一个片段中。返回一个表示每个字符串片段的长度的列表。\n",
    "\n",
    "示例：\n",
    "\n",
    "- 输入：S = \"ababcbacadefegdehijhklij\"\n",
    "- 输出：[9,7,8] 解释： 划分结果为 \"ababcbaca\", \"defegde\", \"hijhklij\"。 每个字母最多出现在一个片段中。 像 \"ababcbacadefegde\", \"hijhklij\" 的划分是错误的，因为划分的片段数较少。\n",
    "\n",
    "\n",
    "提示：\n",
    "\n",
    "- S的长度在[1, 500]之间。\n",
    "- S只包含小写字母 'a' 到 'z' 。\n",
    "\n",
    "## 代码\n",
    "\n",
    "在遍历的过程中相当于是要找每一个字母的边界，如果找到之前遍历过的所有字母的最远边界，说明这个边界就是分割点了。此时前面出现过所有字母，最远也就到这个边界了。\n",
    "\n",
    "可以分为如下两步：\n",
    "\n",
    "- 统计每一个字符最后出现的位置\n",
    "- 从头遍历字符，并更新字符的最远出现下标，如果找到字符最远出现位置下标和当前下标相等了，则找到了分割点\n",
    "<img src = 'https://img-blog.csdnimg.cn/20201222191924417.png'>"
   ]
  },
  {
   "cell_type": "code",
   "execution_count": 1,
   "metadata": {},
   "outputs": [],
   "source": [
    "class Solution(object):\n",
    "    def partitionLabels(self, s):\n",
    "        \"\"\"\n",
    "        :type s: str\n",
    "        :rtype: List[int]\n",
    "        \"\"\"\n",
    "        # hash[i] 为字符出现=[27]\n",
    "        hash = [0]*26\n",
    "\n",
    "        # 统计最最后一个字符出现的位置\n",
    "        for i in range(len(s)):\n",
    "            hash[ord(s[i])-ord('a')]=i \n",
    "        \n",
    "        result = []\n",
    "        left =0 \n",
    "        right =0 \n",
    "        for i in range(len(s)):\n",
    "            right = max(right,hash[ord(s[i])-ord('a')])\n",
    "            if i==right:\n",
    "                result.append(right-left+1)\n",
    "                left = i+1\n",
    "\n",
    "        return result"
   ]
  },
  {
   "cell_type": "code",
   "execution_count": null,
   "metadata": {},
   "outputs": [],
   "source": []
  }
 ],
 "metadata": {
  "kernelspec": {
   "display_name": "Python 3.9.2 64-bit",
   "language": "python",
   "name": "python3"
  },
  "language_info": {
   "codemirror_mode": {
    "name": "ipython",
    "version": 3
   },
   "file_extension": ".py",
   "mimetype": "text/x-python",
   "name": "python",
   "nbconvert_exporter": "python",
   "pygments_lexer": "ipython3",
   "version": "3.9.2"
  },
  "orig_nbformat": 4,
  "vscode": {
   "interpreter": {
    "hash": "397704579725e15f5c7cb49fe5f0341eb7531c82d19f2c29d197e8b64ab5776b"
   }
  }
 },
 "nbformat": 4,
 "nbformat_minor": 2
}
