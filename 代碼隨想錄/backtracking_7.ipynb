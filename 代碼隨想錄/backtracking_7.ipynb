{
 "cells": [
  {
   "cell_type": "markdown",
   "metadata": {},
   "source": [
    "#  分割回文串\n",
    "\n",
    "## 问题\n",
    "\n",
    "给定一个字符串 s，将 s 分割成一些子串，使每个子串都是回文串。\n",
    "\n",
    "返回 s 所有可能的分割方案。\n",
    "\n",
    "示例: 输入: \"aab\" 输出: [ [\"aa\",\"b\"], [\"a\",\"a\",\"b\"] ]\n",
    "<img src='https://code-thinking.cdn.bcebos.com/pics/131.%E5%88%86%E5%89%B2%E5%9B%9E%E6%96%87%E4%B8%B2.jpg' >\n",
    "\n",
    "## 代码\n"
   ]
  },
  {
   "cell_type": "code",
   "execution_count": 2,
   "metadata": {},
   "outputs": [],
   "source": [
    "'''报超时错误'''\n",
    "class Solution(object):\n",
    "    def __init__(self):\n",
    "        self.path = []\n",
    "        self.res= []\n",
    "\n",
    "    def partition(self, s):\n",
    "        \"\"\"\n",
    "        :type s: str\n",
    "        :rtype: List[List[str]]\n",
    "        \"\"\"\n",
    "        # 调用回溯函数\n",
    "        self.backtracking(s,0)\n",
    "        return self.res \n",
    "\n",
    "    def isPalindrome(self,s,start,end):\n",
    "        # 检查字符串是否是字符串\n",
    "        while start<end:\n",
    "            if s[start]!=s[end]:\n",
    "\n",
    "                return False \n",
    "        start+=1\n",
    "        end-=1 \n",
    "        return True  \n",
    "\n",
    "    def backtracking(self,s,startIdx):\n",
    "        # 如果起始位置已经大于s的大小，说明已经找到一组分割方案\n",
    "        if startIdx>=len(s):\n",
    "            self.res.append(self.path[:])\n",
    "            return \n",
    "        # 当层递归逻辑\n",
    "        for i in range(startIdx,len(s)):\n",
    "                \n",
    "            if self.isPalindrome(s,startIdx,i):\n",
    "                self.path.append(s[startIdx:i+1])\n",
    "\n",
    "                '''\n",
    "                回溯\n",
    "                切割的位置，不能重复切割，所以startIdx+1\n",
    "                '''\n",
    "                self.backtracking(s,i+1)\n",
    "                # 取消操作\n",
    "                self.path.pop()\n",
    "            else:\n",
    "                continue \n",
    "        \n",
    "    "
   ]
  },
  {
   "cell_type": "code",
   "execution_count": 3,
   "metadata": {},
   "outputs": [],
   "source": [
    "class Solution(object):\n",
    "    def __init__(self):\n",
    "        self.path = []\n",
    "        self.res= []\n",
    "\n",
    "    def partition(self, s):\n",
    "        \"\"\"\n",
    "        :type s: str\n",
    "        :rtype: List[List[str]]\n",
    "        \"\"\"\n",
    "        # 调用回溯函数\n",
    "        self.backtracking(s,0)\n",
    "        return self.res \n",
    "\n",
    "\n",
    "    def backtracking(self,s,startIdx):\n",
    "        # 如果起始位置已经大于s的大小，说明已经找到一组分割方案\n",
    "        if startIdx>=len(s):\n",
    "            self.res.append(self.path[:])\n",
    "            return \n",
    "        # 当层递归逻辑\n",
    "        for i in range(startIdx,len(s)):\n",
    "            # 判断回文子串\n",
    "            temp = s[startIdx:i+1]\n",
    "            if temp == temp[::-1]:\n",
    "                self.path.append(temp)\n",
    "                self.backtracking(s,i+1)\n",
    "                self.path.pop()\n",
    "            else:\n",
    "                continue \n",
    "        \n",
    "    "
   ]
  }
 ],
 "metadata": {
  "kernelspec": {
   "display_name": "Python 3.9.2 64-bit",
   "language": "python",
   "name": "python3"
  },
  "language_info": {
   "codemirror_mode": {
    "name": "ipython",
    "version": 3
   },
   "file_extension": ".py",
   "mimetype": "text/x-python",
   "name": "python",
   "nbconvert_exporter": "python",
   "pygments_lexer": "ipython3",
   "version": "3.9.2"
  },
  "orig_nbformat": 4,
  "vscode": {
   "interpreter": {
    "hash": "397704579725e15f5c7cb49fe5f0341eb7531c82d19f2c29d197e8b64ab5776b"
   }
  }
 },
 "nbformat": 4,
 "nbformat_minor": 2
}
