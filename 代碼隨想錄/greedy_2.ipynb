{
 "cells": [
  {
   "cell_type": "markdown",
   "metadata": {},
   "source": [
    "# 摆动序列\n",
    "\n",
    "## 问题\n",
    "如果连续数字之间的差严格地在正数和负数之间交替，则数字序列称为摆动序列。第一个差（如果存在的话）可能是正数或负数。少于两个元素的序列也是摆动序列。\n",
    "\n",
    "给定一个整数序列，返回作为摆动序列的最长子序列的长度。 通过从原始序列中删除一些（也可以不删除）元素来获得子序列，剩下的元素保持其原始顺序。\n",
    "\n",
    "\n",
    "## 代码\n"
   ]
  },
  {
   "cell_type": "code",
   "execution_count": 2,
   "metadata": {},
   "outputs": [],
   "source": [
    "class Solution(object):\n",
    "    def wiggleMaxLength(self, nums):\n",
    "        \"\"\"\n",
    "        :type nums: List[int]\n",
    "        :rtype: int\n",
    "        \"\"\"\n",
    "        if len(nums)<=1:\n",
    "            return len(nums)\n",
    "        # 存储当前一对的差值\n",
    "        curDiff = 0 \n",
    "        # 存储前一对差值\n",
    "        preDiff = 0\n",
    "        # 记录峰值个数\n",
    "        result = 1 \n",
    "        \n",
    "        for i in range(len(nums)-1):\n",
    "            curDiff = nums[i+1]-nums[i]\n",
    "            # 出现峰值\n",
    "            if (curDiff >0 and preDiff<=0 )or (preDiff>=0 and curDiff<0):\n",
    "                result+=1\n",
    "                preDiff = curDiff\n",
    "\n",
    "        return result\n",
    "\n",
    "nums =[1,7,4,9,2,5]\n",
    "obj = Solution().wiggleMaxLength(nums)"
   ]
  }
 ],
 "metadata": {
  "kernelspec": {
   "display_name": "Python 3.9.2 64-bit",
   "language": "python",
   "name": "python3"
  },
  "language_info": {
   "codemirror_mode": {
    "name": "ipython",
    "version": 3
   },
   "file_extension": ".py",
   "mimetype": "text/x-python",
   "name": "python",
   "nbconvert_exporter": "python",
   "pygments_lexer": "ipython3",
   "version": "3.9.2"
  },
  "orig_nbformat": 4,
  "vscode": {
   "interpreter": {
    "hash": "397704579725e15f5c7cb49fe5f0341eb7531c82d19f2c29d197e8b64ab5776b"
   }
  }
 },
 "nbformat": 4,
 "nbformat_minor": 2
}
