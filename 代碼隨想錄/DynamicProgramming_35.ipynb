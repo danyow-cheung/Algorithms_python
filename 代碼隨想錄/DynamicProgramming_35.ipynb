{
 "cells": [
  {
   "attachments": {},
   "cell_type": "markdown",
   "metadata": {},
   "source": [
    "# 不同的子序列\n",
    "\n",
    "## 问题\n",
    "给定一个字符串 s 和一个字符串 t ，计算在 s 的子序列中 t 出现的个数。\n",
    "\n",
    "字符串的一个 子序列 是指，通过删除一些（也可以不删除）字符且不干扰剩余字符相对位置所组成的新字符串。（例如，\"ACE\" 是 \"ABCDE\" 的一个子序列，而 \"AEC\" 不是）\n",
    "\n",
    "题目数据保证答案符合 32 位带符号整数范围\n",
    "\n",
    "<img src = 'https://code-thinking.cdn.bcebos.com/pics/115.%E4%B8%8D%E5%90%8C%E7%9A%84%E5%AD%90%E5%BA%8F%E5%88%97%E7%A4%BA%E4%BE%8B.jpg'>\n",
    "\n",
    "## 代码\n"
   ]
  },
  {
   "attachments": {},
   "cell_type": "markdown",
   "metadata": {},
   "source": [
    "<img src = 'https://code-thinking.cdn.bcebos.com/pics/115.%E4%B8%8D%E5%90%8C%E7%9A%84%E5%AD%90%E5%BA%8F%E5%88%97.jpg'>"
   ]
  },
  {
   "cell_type": "code",
   "execution_count": null,
   "metadata": {},
   "outputs": [],
   "source": [
    "class Solution(object):\n",
    "    def numDistinct(self, s, t):\n",
    "        \"\"\"\n",
    "        :type s: str\n",
    "        :type t: str\n",
    "        :rtype: int\n",
    "        \"\"\"\n",
    "        dp = [[0]*(len(t)+1) for _ in range(len(s)+1)]\n",
    "        for i in range(len(s)):\n",
    "            dp[i][0]=1 \n",
    "        for j in range(1,len(t)):\n",
    "            dp[0][j] =0 \n",
    "        for i in range(1,len(s)+1):\n",
    "            for j in range(1,len(t)+1):\n",
    "                if s[i-1]==t[j-1]:\n",
    "                    dp[i][j] = dp[i-1][j-1] + dp[i-1][j]\n",
    "                else:\n",
    "                    dp[i][j] = dp[i-1][j]\n",
    "        return dp[-1][-1]"
   ]
  }
 ],
 "metadata": {
  "language_info": {
   "name": "python"
  },
  "orig_nbformat": 4
 },
 "nbformat": 4,
 "nbformat_minor": 2
}
