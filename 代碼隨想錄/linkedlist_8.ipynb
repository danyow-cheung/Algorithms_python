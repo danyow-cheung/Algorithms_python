{
 "cells": [
  {
   "cell_type": "markdown",
   "metadata": {},
   "source": [
    "# 環形鏈表II \n",
    "## 問題\n",
    "题意： 给定一个链表，返回链表开始入环的第一个节点。 如果链表无环，则返回 null。\n",
    "\n",
    "为了表示给定链表中的环，使用整数 pos 来表示链表尾连接到链表中的位置（索引从 0 开始）。 如果 pos 是 -1，则在该链表中没有环。\n",
    "\n",
    "**说明**：不允许修改给定的链表。\n",
    "## 代碼\n",
    "1. 雙指針\n",
    "2. 集合\n",
    "3. 列表\n",
    "\n",
    "<img src = \"https://img-blog.csdnimg.cn/20210318162938397.png\">\n",
    "\n",
    "\n",
    "### 雙指針\n",
    "那么相遇时： \n",
    "- slow指针走过的节点数为: x + y， \n",
    "- fast指针走过的节点数：x + y + n (y + z)，\n",
    "- n为fast指针在环内走了n圈才遇到slow指针， \n",
    "- （y+z）为 一圈内节点的个数A。\n",
    "\n",
    "因为fast指针是一步走两个节点，slow指针一步走一个节点， 所以 fast指针走过的节点数 = slow指针走过的节点数 * 2：\n",
    "\n",
    "(x + y) * 2 = x + y + n (y + z)\n",
    "\n",
    "两边消掉一个（x+y）: **x + y = n (y + z)**\n",
    "\n",
    "因为要找环形的入口，那么要求的是x，因为x表示 头结点到 环形入口节点的的距离。\n",
    "\n",
    "所以要求x ，将x单独放在左面：x = n (y + z) - y"
   ]
  },
  {
   "cell_type": "code",
   "execution_count": null,
   "metadata": {},
   "outputs": [],
   "source": [
    "# Definition for singly-linked list.\n",
    "# class ListNode(object):\n",
    "#     def __init__(self, x):\n",
    "#         self.val = x\n",
    "#         self.next = None\n",
    "\n",
    "class Solution(object):\n",
    "    def detectCycle(self, head):\n",
    "        \"\"\"\n",
    "        :type head: ListNode\n",
    "        :rtype: ListNode\n",
    "        \"\"\"\n",
    "        slow = head\n",
    "        fast = head\n",
    "        while fast and fast.next :\n",
    "            slow = head.next \n",
    "            fast = head.next.next \n",
    "            # 雙指針相遇\n",
    "            if slow == fast:\n",
    "                \n",
    "                p = slow \n",
    "                q = fast \n",
    "                while p!=q:\n",
    "                    p = p.next \n",
    "                    q = q.next \n",
    "                return p \n",
    "        return None "
   ]
  },
  {
   "cell_type": "markdown",
   "metadata": {},
   "source": [
    "參考<br>\n",
    "https://leetcode.com/problems/linked-list-cycle-ii/discuss/2647253/Full-Beginner-Python-Explanation-List-Set-Two-Pointers"
   ]
  },
  {
   "cell_type": "markdown",
   "metadata": {},
   "source": [
    "### 列表"
   ]
  },
  {
   "cell_type": "code",
   "execution_count": null,
   "metadata": {},
   "outputs": [],
   "source": [
    "# Definition for singly-linked list.\n",
    "# class ListNode(object):\n",
    "#     def __init__(self, x):\n",
    "#         self.val = x\n",
    "#         self.next = None\n",
    "\n",
    "class Solution(object):\n",
    "    def detectCycle(self, head):\n",
    "        \"\"\"\n",
    "        :type head: ListNode\n",
    "        :rtype: ListNode\n",
    "        \"\"\"\n",
    "        res = []\n",
    "        while head:\n",
    "            if head in res:\n",
    "                return head \n",
    "            res.append(head)\n",
    "            head = head.next \n",
    "        # 沒有找到環\n",
    "        return None \n",
    "        "
   ]
  },
  {
   "cell_type": "markdown",
   "metadata": {},
   "source": [
    "### 集合"
   ]
  },
  {
   "cell_type": "code",
   "execution_count": null,
   "metadata": {},
   "outputs": [],
   "source": [
    "# Definition for singly-linked list.\n",
    "# class ListNode(object):\n",
    "#     def __init__(self, x):\n",
    "#         self.val = x\n",
    "#         self.next = None\n",
    "\n",
    "class Solution(object):\n",
    "    def detectCycle(self, head):\n",
    "        \"\"\"\n",
    "        :type head: ListNode\n",
    "        :rtype: ListNode\n",
    "        \"\"\"\n",
    "        res = set()\n",
    "        while head:\n",
    "            if head in res:\n",
    "                return head \n",
    "            res.add(head)\n",
    "            head = head.next \n",
    "        # 沒有找到環\n",
    "        return None \n",
    "        "
   ]
  },
  {
   "cell_type": "markdown",
   "metadata": {},
   "source": [
    "### 雙指針"
   ]
  },
  {
   "cell_type": "code",
   "execution_count": null,
   "metadata": {},
   "outputs": [],
   "source": [
    "# Definition for singly-linked list.\n",
    "# class ListNode(object):\n",
    "#     def __init__(self, x):\n",
    "#         self.val = x\n",
    "#         self.next = None\n",
    "\n",
    "class Solution(object):\n",
    "    def detectCycle(self, head):\n",
    "        \"\"\"\n",
    "        :type head: ListNode\n",
    "        :rtype: ListNode\n",
    "        \"\"\"\n",
    "        slow = head \n",
    "        fast = head \n",
    "\n",
    "        while fast and fast.next:\n",
    "            slow = head.next \n",
    "            fast = head.next.next \n",
    "            if slow == fast:\n",
    "                # 找到入店,head從第一位開始，slow等著\n",
    "                while head!=slow:\n",
    "                    # why here\n",
    "                    head = head.next \n",
    "                    slow = slow.next \n",
    "                return slow \n",
    "        return None \n",
    "        "
   ]
  }
 ],
 "metadata": {
  "kernelspec": {
   "display_name": "Python 3.9.2 64-bit",
   "language": "python",
   "name": "python3"
  },
  "language_info": {
   "name": "python",
   "version": "3.9.2"
  },
  "orig_nbformat": 4,
  "vscode": {
   "interpreter": {
    "hash": "397704579725e15f5c7cb49fe5f0341eb7531c82d19f2c29d197e8b64ab5776b"
   }
  }
 },
 "nbformat": 4,
 "nbformat_minor": 2
}
