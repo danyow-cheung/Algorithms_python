{
 "cells": [
  {
   "cell_type": "markdown",
   "metadata": {},
   "source": [
    "# 螺旋矩陣"
   ]
  },
  {
   "cell_type": "markdown",
   "metadata": {},
   "source": [
    "## 問題\n",
    "给定一个正整数 n，生成一个包含 1 到 n^2 所有元素，且元素按顺时针顺序螺旋排列的正方形矩阵。\n",
    "\n",
    "\n",
    "<u>示例</u>:<br>\n",
    "输入: 3 输出: [ [ 1, 2, 3 ], [ 8, 9, 4 ], [ 7, 6, 5 ] ]\n",
    "<br>\n",
    "<img src=\"https://assets.leetcode.com/uploads/2020/11/13/spiraln.jpg\"/>"
   ]
  },
  {
   "cell_type": "markdown",
   "metadata": {},
   "source": [
    "而求解本题依然是要坚持**循环不变量**原则。模拟顺时针画矩阵的过程:\n",
    "- 填充上行从左到右\n",
    "- 填充右列从上到下\n",
    "- 填充下行从右到左\n",
    "- 填充左列从下到上\n",
    "  \n",
    "由外向内一圈一圈这么画下去。\n",
    "\n",
    "【左閉右合】"
   ]
  },
  {
   "cell_type": "markdown",
   "metadata": {},
   "source": [
    "\n",
    "## 代碼\n",
    "- 以螺旋形式逐层导线测量（每個方向單獨一個循環）\n",
    "- 优化螺旋导线（變量存儲x,y的值）\n"
   ]
  },
  {
   "cell_type": "code",
   "execution_count": 3,
   "metadata": {},
   "outputs": [],
   "source": [
    "def func_1(n):\n",
    "    nums = [[0]*n for _ in range(n)]\n",
    "    start_x,start_y = 0,0\n",
    "    # 重複(n+1)/2層\n",
    "    loop,mid = n//2,n//2 \n",
    "    count = 1 \n",
    "    for offset in range(1,loop+1):\n",
    "        for i in range(start_y,n-offset):\n",
    "            nums[start_x][i]=count \n",
    "            count+= 1\n",
    "\n",
    "        for i in range(start_x,n-offset):\n",
    "            nums[i][n-offset]=count\n",
    "            count+=1 \n",
    "\n",
    "        for i in range(n-offset,start_y,-1):\n",
    "            nums[n-offset][i]=count\n",
    "            count+=1 \n",
    "        for i in range(n-offset,start_x,-1):\n",
    "            nums[i][start_y]=count\n",
    "            count+=1 \n",
    "        start_x+=1 \n",
    "        start_y+=1\n",
    "    if n%2==0:\n",
    "        nums[mid][mid]=count\n",
    "    return nums"
   ]
  },
  {
   "cell_type": "code",
   "execution_count": 4,
   "metadata": {},
   "outputs": [
    {
     "data": {
      "text/plain": [
       "[[1, 2, 3], [8, 0, 4], [7, 6, 5]]"
      ]
     },
     "execution_count": 4,
     "metadata": {},
     "output_type": "execute_result"
    }
   ],
   "source": [
    "n = 3 \n",
    "func_1(n)"
   ]
  }
 ],
 "metadata": {
  "kernelspec": {
   "display_name": "Python 3.9.2 64-bit",
   "language": "python",
   "name": "python3"
  },
  "language_info": {
   "codemirror_mode": {
    "name": "ipython",
    "version": 3
   },
   "file_extension": ".py",
   "mimetype": "text/x-python",
   "name": "python",
   "nbconvert_exporter": "python",
   "pygments_lexer": "ipython3",
   "version": "3.9.2"
  },
  "orig_nbformat": 4,
  "vscode": {
   "interpreter": {
    "hash": "397704579725e15f5c7cb49fe5f0341eb7531c82d19f2c29d197e8b64ab5776b"
   }
  }
 },
 "nbformat": 4,
 "nbformat_minor": 2
}
