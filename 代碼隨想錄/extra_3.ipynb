{
 "cells": [
  {
   "attachments": {},
   "cell_type": "markdown",
   "metadata": {},
   "source": [
    "# 独一无二的出现次数\n",
    "\n",
    "## 问题\n",
    "\n",
    "给你一个整数数组 arr，请你帮忙统计数组中每个数的出现次数。\n",
    "\n",
    "如果每个数的出现次数都是独一无二的，就返回 true；否则返回 false。\n",
    "\n",
    "示例 1：\n",
    "\n",
    "输入：arr = [1,2,2,1,1,3]\n",
    "\n",
    "输出：true\n",
    "\n",
    "解释：在该数组中，1 出现了 3 次，2 出现了 2 次，3 只出现了 1 次。没有两个数的出现次数相同。\n",
    "\n",
    "## 代码\n"
   ]
  },
  {
   "cell_type": "code",
   "execution_count": null,
   "metadata": {},
   "outputs": [],
   "source": [
    "class Solution(object):\n",
    "    def uniqueOccurrences(self, arr):\n",
    "        \"\"\"\n",
    "        :type arr: List[int]\n",
    "        :rtype: bool\n",
    "        \"\"\"\n",
    "        import collections\n",
    "        count = collections.Counter(arr)\n",
    "        print(count)\n",
    "        ans = set()\n",
    "        for key,value in count.items():\n",
    "            # print(count[key],count[key+1])\n",
    "            if count[key] not in ans:\n",
    "                ans.add(count[key])\n",
    "            elif count[key] in ans:\n",
    "                return False \n",
    "\n",
    "        # print(ans)\n",
    "\n",
    "        return True \n"
   ]
  }
 ],
 "metadata": {
  "language_info": {
   "name": "python"
  },
  "orig_nbformat": 4
 },
 "nbformat": 4,
 "nbformat_minor": 2
}
