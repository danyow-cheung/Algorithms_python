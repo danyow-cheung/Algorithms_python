{
 "cells": [
  {
   "attachments": {},
   "cell_type": "markdown",
   "metadata": {},
   "source": [
    "# 回文子串\n",
    "\n",
    "## 問題\n",
    "给定一个字符串，你的任务是计算这个字符串中有多少个回文子串。\n",
    "\n",
    "具有不同开始位置或结束位置的子串，即使是由相同的字符组成，也会被视作不同的子串。\n",
    "示例 1：\n",
    "\n",
    "输入：\"abc\" \n",
    "\n",
    "输出：3 \n",
    "\n",
    "解释：三个回文子串: \"a\", \"b\", \"c\"\n",
    "\n",
    "## 代碼\n"
   ]
  },
  {
   "attachments": {},
   "cell_type": "markdown",
   "metadata": {},
   "source": [
    "動態規劃"
   ]
  },
  {
   "cell_type": "code",
   "execution_count": null,
   "metadata": {},
   "outputs": [],
   "source": [
    "class Solution(object):\n",
    "    def countSubstrings(self, s):\n",
    "        \"\"\"\n",
    "        :type s: str\n",
    "        :rtype: int\n",
    "        \"\"\"\n",
    "        dp = [[False]*(len(s)) for i in range(len(s))]\n",
    "        result = 0 \n",
    "        for i in range(len(s)-1,-1,-1):\n",
    "            for j in range(i,len(s)):\n",
    "                if s[i]==s[j]:\n",
    "                    if j-i<=1:\n",
    "                        result+=1\n",
    "                        dp[i][j]=True\n",
    "                    elif dp[i+1][j-1]:\n",
    "                        result+=1\n",
    "                        dp[i][j]=True\n",
    "        return result"
   ]
  },
  {
   "attachments": {},
   "cell_type": "markdown",
   "metadata": {},
   "source": [
    "雙指針"
   ]
  },
  {
   "cell_type": "code",
   "execution_count": null,
   "metadata": {},
   "outputs": [],
   "source": [
    "class Solution(object):\n",
    "    def countSubstrings(self, s):\n",
    "        \"\"\"\n",
    "        :type s: str\n",
    "        :rtype: int\n",
    "        \"\"\"\n",
    "        result = 0\n",
    "        for i in range(len(s)):\n",
    "            result+= self.extend(s,i,i,len(s)) # 以i為中心\n",
    "            result+=self.extend(s,i,i+1,len(s)) # 以i和i+1為中心\n",
    "        return result\n",
    "        \n",
    "    def extend(self,s,i,j,n):\n",
    "        res = 0 \n",
    "        while i>=0 and j<n and s[i]==s[j]:\n",
    "            i-=1\n",
    "            j+=1\n",
    "            res+=1\n",
    "        return res "
   ]
  }
 ],
 "metadata": {
  "language_info": {
   "name": "python"
  },
  "orig_nbformat": 4
 },
 "nbformat": 4,
 "nbformat_minor": 2
}
