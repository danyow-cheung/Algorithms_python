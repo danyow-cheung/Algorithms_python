{
 "cells": [
  {
   "cell_type": "markdown",
   "metadata": {},
   "source": [
    "# 电话号码的字母组合\n",
    "\n",
    "## 问题\n",
    "给定一个仅包含数字 2-9 的字符串，返回所有它能表示的字母组合。\n",
    "\n",
    "给出数字到字母的映射如下（与电话按键相同）。注意 1 不对应任何字母。\n",
    "\n",
    "\n",
    "<img src = 'https://img-blog.csdnimg.cn/2020102916424043.png'>\n",
    "示例: 输入：\"23\" 输出：[\"ad\", \"ae\", \"af\", \"bd\", \"be\", \"bf\", \"cd\", \"ce\", \"cf\"].\n",
    "\n",
    "说明：尽管上面的答案是按字典序排列的，但是你可以任意选择答案输出的顺序。\n",
    "\n",
    "\n",
    "\n",
    "## 代码\n",
    "理解本题后，要解决如下三个问题：\n",
    "\n",
    "- 数字和字母如何映射\n",
    "- 两个字母就两个for循环，三个字符我就三个for循环，以此类推，然后发现代码根本写不出来\n",
    "- 输入1 * #按键等等异常情况\n"
   ]
  },
  {
   "cell_type": "code",
   "execution_count": null,
   "metadata": {},
   "outputs": [],
   "source": [
    "class Solution(object):\n",
    "    def letterCombinations(self, digits):\n",
    "        \"\"\"\n",
    "        :type digits: str\n",
    "        :rtype: List[str]\n",
    "        \"\"\"\n",
    "        def backtracking(digit,index,answer):\n",
    "            # 回溯函数没有返回值\n",
    "            if index == len(digits):\n",
    "                res.append(answer)\n",
    "                return \n",
    "            # 单层递归逻辑\n",
    "            letters = map[digits[index]]\n",
    "            for letter in letters:\n",
    "                backtracking(digits,index+1,answer+letter)\n",
    "        res =[]\n",
    "        map = {\"2\":\"abc\", '3':\"def\", '4':\"ghi\", '5':\"jkl\", '6':\"mno\", '7':\"pqrs\", '8':\"tuv\", '9':\"wxyz\"}\n",
    "        if not digits:\n",
    "            return []\n",
    "        backtracking(digits,0,\"\")\n",
    "        return res "
   ]
  }
 ],
 "metadata": {
  "kernelspec": {
   "display_name": "Python 3.9.2 64-bit",
   "language": "python",
   "name": "python3"
  },
  "language_info": {
   "name": "python",
   "version": "3.9.2"
  },
  "orig_nbformat": 4,
  "vscode": {
   "interpreter": {
    "hash": "397704579725e15f5c7cb49fe5f0341eb7531c82d19f2c29d197e8b64ab5776b"
   }
  }
 },
 "nbformat": 4,
 "nbformat_minor": 2
}
