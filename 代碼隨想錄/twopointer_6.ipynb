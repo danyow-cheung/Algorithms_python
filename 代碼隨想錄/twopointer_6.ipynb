{
 "cells": [
  {
   "cell_type": "markdown",
   "metadata": {},
   "source": [
    "# 删除链表的倒数第N个节点\n",
    "\n",
    "\n",
    "## 问题\n",
    "给你一个链表，删除链表的**倒数**第 n 个结点，并且返回链表的头结点。\n",
    "\n",
    "进阶：你能尝试使用一趟扫描实现吗？\n",
    "\n",
    "\n",
    "## 代码\n"
   ]
  },
  {
   "cell_type": "code",
   "execution_count": 13,
   "metadata": {},
   "outputs": [],
   "source": [
    "# Definition for singly-linked list.\n",
    "# class ListNode(object):\n",
    "#     def __init__(self, val=0, next=None):\n",
    "#         self.val = val\n",
    "#         self.next = next\n",
    "class Solution(object):\n",
    "    def removeNthFromEnd(self, head, n):\n",
    "        \"\"\"\n",
    "        :type head: ListNode\n",
    "        :type n: int\n",
    "        :rtype: ListNode\n",
    "        \"\"\"\n",
    "        \n",
    "        cur = head\n",
    "        \n",
    "        count = 0 \n",
    "        while cur != None :\n",
    "            count+=1 \n",
    "            cur = cur.next\n",
    "        # 删除元素对应的索引\n",
    "        idx = count-n \n",
    "        \n",
    "        # 针对于head=[1],n=1,就是[],也可以是head.next\n",
    "        if count ==n:return head.next\n",
    "        \n",
    "        cur = head \n",
    "        for i in range(1,idx):\n",
    "            # 循环遍历到第2位\n",
    "            cur = cur.next \n",
    "        # 删除，只需要把指针指向下下一位\n",
    "        cur.next = cur.next.next \n",
    "        return head \n",
    "           "
   ]
  }
 ],
 "metadata": {
  "kernelspec": {
   "display_name": "Python 3.9.2 64-bit",
   "language": "python",
   "name": "python3"
  },
  "language_info": {
   "codemirror_mode": {
    "name": "ipython",
    "version": 3
   },
   "file_extension": ".py",
   "mimetype": "text/x-python",
   "name": "python",
   "nbconvert_exporter": "python",
   "pygments_lexer": "ipython3",
   "version": "3.9.2"
  },
  "orig_nbformat": 4,
  "vscode": {
   "interpreter": {
    "hash": "397704579725e15f5c7cb49fe5f0341eb7531c82d19f2c29d197e8b64ab5776b"
   }
  }
 },
 "nbformat": 4,
 "nbformat_minor": 2
}
