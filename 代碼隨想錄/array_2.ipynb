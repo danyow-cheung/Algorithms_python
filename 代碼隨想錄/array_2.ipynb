{
 "cells": [
  {
   "cell_type": "markdown",
   "metadata": {},
   "source": [
    "# 二分查找"
   ]
  },
  {
   "cell_type": "markdown",
   "metadata": {},
   "source": [
    "## 題目\n",
    "给定一个 n 个元素有序的（升序）整型数组 nums 和一个目标值 target  ，写一个函数搜索 nums 中的 target，如果目标值存在返回下标，否则返回 -1。\n",
    "\n",
    "<u>示例</u><br>\n",
    "nums = [-1,0,3,5,9,12],target = 9,output = 4 \n",
    "\n",
    "前提條件\n",
    "- 有序數組\n",
    "- 數組無重複元素"
   ]
  },
  {
   "cell_type": "markdown",
   "metadata": {},
   "source": [
    "**區間定義**，核心是循環不變量\n",
    "兩種不同二分寫法\n",
    "1. while(left <= right)\n",
    "2. if (nums[mid]>target)"
   ]
  },
  {
   "cell_type": "markdown",
   "metadata": {},
   "source": [
    "# 代碼\n",
    "1. 左閉右閉區間: func_1()\n",
    "2. 左閉右開區間: func_2()"
   ]
  },
  {
   "cell_type": "code",
   "execution_count": 4,
   "metadata": {},
   "outputs": [],
   "source": [
    "nums = [-1,0,3,5,9,12]\n",
    "target = 9"
   ]
  },
  {
   "cell_type": "code",
   "execution_count": 11,
   "metadata": {},
   "outputs": [],
   "source": [
    "def func_1(nums,target):\n",
    "    left = 0 \n",
    "    right = len(nums)-1\n",
    "    while left<= right:\n",
    "        mid = (left+right)//2 \n",
    "        if target<nums[mid]:\n",
    "            right = mid-1 \n",
    "        elif target > nums[mid]:\n",
    "            left = mid +1 \n",
    "        else:\n",
    "            return mid \n"
   ]
  },
  {
   "cell_type": "code",
   "execution_count": 12,
   "metadata": {},
   "outputs": [],
   "source": [
    "def func_2(nums,target):\n",
    "    l = 0 \n",
    "    r = len(nums)-1 \n",
    "    while (l<=r):\n",
    "        m = round(l+(r-l)/2)\n",
    "        if nums[m] == target:\n",
    "            return m\n",
    "        elif nums[m]>target:\n",
    "            l = m-1 \n",
    "        else:\n",
    "            l = m+1 \n",
    "    return -1 "
   ]
  },
  {
   "cell_type": "code",
   "execution_count": 13,
   "metadata": {},
   "outputs": [
    {
     "data": {
      "text/plain": [
       "4"
      ]
     },
     "execution_count": 13,
     "metadata": {},
     "output_type": "execute_result"
    }
   ],
   "source": [
    "func_1(nums,target)"
   ]
  },
  {
   "cell_type": "code",
   "execution_count": 14,
   "metadata": {},
   "outputs": [
    {
     "data": {
      "text/plain": [
       "4"
      ]
     },
     "execution_count": 14,
     "metadata": {},
     "output_type": "execute_result"
    }
   ],
   "source": [
    "func_2(nums,target)"
   ]
  },
  {
   "attachments": {},
   "cell_type": "markdown",
   "metadata": {},
   "source": [
    "# 二刷1.25 \n",
    "\n",
    "二分查找涉及很多的邊界條件，邏輯比較簡單。\n",
    "但是**區間的定義**，需要保持不變量\n"
   ]
  },
  {
   "cell_type": "code",
   "execution_count": null,
   "metadata": {},
   "outputs": [],
   "source": [
    "class Solution(object):\n",
    "    def search_v1(self, nums, target):\n",
    "        \"\"\"\n",
    "        左閉右閉區間\n",
    "        \"\"\"\n",
    "\n",
    "        left=  0\n",
    "        right = len(nums)-1\n",
    "\n",
    "        while left<= right:\n",
    "\n",
    "            mid = left + (right-left)//2\n",
    "            if nums[mid]==target:\n",
    "                return mid\n",
    "\n",
    "            elif nums[mid]<target:\n",
    "                left = mid+1\n",
    "            else:\n",
    "                right = mid -1\n",
    "\n",
    "        return -1\n",
    "\n",
    "    def search_v2(self, nums, target):\n",
    "            \"\"\"\n",
    "            左閉右開區間\n",
    "            \"\"\"\n",
    "\n",
    "            left=  0\n",
    "            # diff from v1 \n",
    "            right = len(nums)\n",
    "            # diff from v1 \n",
    "            while left<right:\n",
    "                mid = left + (right-left)//2\n",
    "                if nums[mid]==target:\n",
    "                    return mid\n",
    "\n",
    "                elif nums[mid]<target:\n",
    "                    left = mid+1\n",
    "                else:\n",
    "                    right = mid -1\n",
    "            return -1\n",
    "\n"
   ]
  }
 ],
 "metadata": {
  "kernelspec": {
   "display_name": "Python 3.9.2 64-bit",
   "language": "python",
   "name": "python3"
  },
  "language_info": {
   "codemirror_mode": {
    "name": "ipython",
    "version": 3
   },
   "file_extension": ".py",
   "mimetype": "text/x-python",
   "name": "python",
   "nbconvert_exporter": "python",
   "pygments_lexer": "ipython3",
   "version": "3.9.2 (v3.9.2:1a79785e3e, Feb 19 2021, 09:06:10) \n[Clang 6.0 (clang-600.0.57)]"
  },
  "orig_nbformat": 4,
  "vscode": {
   "interpreter": {
    "hash": "397704579725e15f5c7cb49fe5f0341eb7531c82d19f2c29d197e8b64ab5776b"
   }
  }
 },
 "nbformat": 4,
 "nbformat_minor": 2
}
