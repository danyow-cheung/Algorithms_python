{
 "cells": [
  {
   "cell_type": "markdown",
   "metadata": {},
   "source": [
    "# 跳跃游戏II\n",
    "\n",
    "\n",
    "## 问题\n",
    "给定一个非负整数数组，你最初位于数组的第一个位置。\n",
    "\n",
    "数组中的每个元素代表你在该位置可以跳跃的最大长度。\n",
    "\n",
    "你的目标是使用最少的跳跃次数到达数组的最后一个位置。\n",
    "\n",
    "示例:\n",
    "\n",
    "- 输入: [2,3,1,1,4]\n",
    "- 输出: 2\n",
    "- 解释: 跳到最后一个位置的最小跳跃数是 2。从下标为 0 跳到下标为 1 的位置，跳 1 步，然后跳 3 步到达数组的最后一个位置。\n",
    "说明: 假设你总是可以到达数组的最后一个位置。\n",
    "\n",
    "\n",
    "## 代码\n",
    "\n",
    "\n",
    "要从覆盖范围出发，不管怎么跳，覆盖范围内一定是可以跳到的，以最小的步数增加覆盖范围，覆盖范围一旦覆盖了终点，得到的就是最小步数！\n",
    "\n",
    "这里需要统计两个覆盖范围，当前这一步的最大覆盖和下一步最大覆盖\n",
    "\n"
   ]
  },
  {
   "cell_type": "markdown",
   "metadata": {},
   "source": [
    "<img src = 'https://img-blog.csdnimg.cn/20201201232309103.png'>"
   ]
  },
  {
   "cell_type": "code",
   "execution_count": null,
   "metadata": {},
   "outputs": [],
   "source": [
    "class Solution(object):\n",
    "    def jump(self, nums):\n",
    "        \"\"\"\n",
    "        :type nums: List[int]\n",
    "        :rtype: int\n",
    "        \"\"\"\n",
    "        if len(nums)==1:\n",
    "            return 0\n",
    "        # 当前覆盖最远距离下标\n",
    "        curDistance = 0\n",
    "        # 记录走的最大步数\n",
    "        ans = 0 \n",
    "        # 下一步覆盖最远距离下标\n",
    "        nextDistance = 0 \n",
    "        for i in range(len(nums)):\n",
    "            # 更新下一步覆盖最远距离下标\n",
    "            nextDistance = max(nums[i]+i,nextDistance)\n",
    "            # 如果遇到当前最短距离下标\n",
    "            if i==curDistance:\n",
    "                # 如果当前覆盖最远距离下标不是终点\n",
    "                if curDistance!= len(nums)-1:\n",
    "                    \n",
    "                    ans+=1\n",
    "                    # 更新当前覆盖最远距离下标\n",
    "                    curDistance = nextDistance\n",
    "                    if (nextDistance>=len(nums)-1):\n",
    "                        break\n",
    "        \n",
    "        return ans \n"
   ]
  }
 ],
 "metadata": {
  "language_info": {
   "name": "python"
  },
  "orig_nbformat": 4
 },
 "nbformat": 4,
 "nbformat_minor": 2
}
