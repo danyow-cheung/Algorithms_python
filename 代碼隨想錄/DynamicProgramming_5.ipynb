{
 "cells": [
  {
   "cell_type": "markdown",
   "metadata": {},
   "source": [
    "# 整數拆分\n",
    "\n",
    "## 問題\n",
    "给定一个正整数 n，将其拆分为至少两个正整数的和，并使这些整数的乘积最大化。 返回你可以获得的最大乘积。\n",
    "\n",
    "示例 1:\n",
    "\n",
    "- 输入: 2\n",
    "- 输出: 1\n",
    "- 解释: 2 = 1 + 1, 1 × 1 = 1。\n",
    "\n",
    "## 代碼\n",
    "\n"
   ]
  },
  {
   "cell_type": "markdown",
   "metadata": {},
   "source": [
    "- 確定dp數組以及下標含義\n",
    "  > dp[i]分拆數字，可以得到最大乘積為dp[i]\n",
    "- 確定遞推公式\n",
    "  有兩種渠道獲得dp[i]\n",
    "  - i*(j-1)直接相乘\n",
    "  - j*dp[i-j]相當于拆分(i-j)\n",
    "  - "
   ]
  },
  {
   "cell_type": "code",
   "execution_count": 1,
   "metadata": {},
   "outputs": [],
   "source": [
    "class Solution(object):\n",
    "    def integerBreak(self, n):\n",
    "        \"\"\"\n",
    "        :type n: int\n",
    "        :rtype: int\n",
    "        \"\"\"\n",
    "        dp = [0]*(n+1)\n",
    "        dp[2]=1\n",
    "        for i in range(3,n+1):\n",
    "            for j in range(1,i/2+1):\n",
    "                dp[i] = max(dp[i],max((i-j)*j,dp[i-j]*j))\n",
    "        return dp[n]\n"
   ]
  },
  {
   "cell_type": "code",
   "execution_count": null,
   "metadata": {},
   "outputs": [],
   "source": []
  }
 ],
 "metadata": {
  "kernelspec": {
   "display_name": "Python 3.9.2 64-bit",
   "language": "python",
   "name": "python3"
  },
  "language_info": {
   "codemirror_mode": {
    "name": "ipython",
    "version": 3
   },
   "file_extension": ".py",
   "mimetype": "text/x-python",
   "name": "python",
   "nbconvert_exporter": "python",
   "pygments_lexer": "ipython3",
   "version": "3.9.2"
  },
  "orig_nbformat": 4,
  "vscode": {
   "interpreter": {
    "hash": "397704579725e15f5c7cb49fe5f0341eb7531c82d19f2c29d197e8b64ab5776b"
   }
  }
 },
 "nbformat": 4,
 "nbformat_minor": 2
}
