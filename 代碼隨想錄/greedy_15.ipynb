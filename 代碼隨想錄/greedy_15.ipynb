{
 "cells": [
  {
   "cell_type": "markdown",
   "metadata": {},
   "source": [
    "# 合并区间\n",
    "\n",
    "## 问题\n",
    "给出一个区间的集合，请合并所有重叠的区间。\n",
    "\n",
    "示例 1:\n",
    "\n",
    "- 输入: intervals = [[1,3],[2,6],[8,10],[15,18]]\n",
    "- 输出: [[1,6],[8,10],[15,18]]\n",
    "- 解释: 区间 [1,3] 和 [2,6] 重叠, 将它们合并为 [1,6].\n",
    "\n",
    "\n",
    "## 代码"
   ]
  },
  {
   "cell_type": "markdown",
   "metadata": {},
   "source": [
    "<img src= 'https://img-blog.csdnimg.cn/20201223200632791.png'>"
   ]
  },
  {
   "cell_type": "code",
   "execution_count": null,
   "metadata": {},
   "outputs": [],
   "source": [
    "class Solution(object):\n",
    "    def merge(self, intervals):\n",
    "        \"\"\"\n",
    "        :type intervals: List[List[int]]\n",
    "        :rtype: List[List[int]]\n",
    "        \"\"\"\n",
    "        if len(intervals)==0:\n",
    "            return 0 \n",
    "        \n",
    "        intervals.sort(key =lambda x:x[0])\n",
    "        result = []\n",
    "        result.append(intervals[0])\n",
    "\n",
    "        for i in range(1,len(intervals)):\n",
    "            last = result[-1]\n",
    "            if last[1] >= intervals[i][0]:\n",
    "                result[-1] = [last[0],max(last[1],intervals[i][1])]\n",
    "            else:\n",
    "                result.append(intervals[i])\n",
    "\n",
    "        \n",
    "        return result"
   ]
  }
 ],
 "metadata": {
  "kernelspec": {
   "display_name": "Python 3.9.2 64-bit",
   "language": "python",
   "name": "python3"
  },
  "language_info": {
   "name": "python",
   "version": "3.9.2"
  },
  "orig_nbformat": 4,
  "vscode": {
   "interpreter": {
    "hash": "397704579725e15f5c7cb49fe5f0341eb7531c82d19f2c29d197e8b64ab5776b"
   }
  }
 },
 "nbformat": 4,
 "nbformat_minor": 2
}
