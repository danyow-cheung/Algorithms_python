{
 "cells": [
  {
   "cell_type": "markdown",
   "metadata": {},
   "source": [
    "# 二叉搜索树中的插入操作\n",
    "\n",
    "\n",
    "## 问题\n",
    "给定二叉搜索树（BST）的根节点和要插入树中的值，将值插入二叉搜索树。 返回插入后二叉搜索树的根节点。 输入数据保证，新值和原始二叉搜索树中的任意节点值都不同。\n",
    "\n",
    "注意，可能存在多种有效的插入方式，只要树在插入后仍保持为二叉搜索树即可。 你可以返回任意有效的结果。\n",
    "<img src = \"https://img-blog.csdnimg.cn/20201019173259554.png\">\n",
    "\n",
    "## 代码\n",
    "\n",
    "只要遍历二叉搜索树，找到空节点 插入元素就可以了，那么这道题其实就简单了。"
   ]
  },
  {
   "cell_type": "code",
   "execution_count": null,
   "metadata": {},
   "outputs": [],
   "source": [
    "# Definition for a binary tree node.\n",
    "class TreeNode(object):\n",
    "    def __init__(self, val=0, left=None, right=None):\n",
    "        self.val = val\n",
    "        self.left = left\n",
    "        self.right = right\n",
    "class Solution(object):\n",
    "    def insertIntoBST(self, root, val):\n",
    "        \"\"\"\n",
    "        :type root: TreeNode\n",
    "        :type val: int\n",
    "        :rtype: TreeNode\n",
    "        \"\"\"\n",
    "        if root is None:\n",
    "            \n",
    "            return TreeNode(val) \n",
    "        \n",
    "        if root.val > val:\n",
    "            root.left = self.insertIntoBST(root.left,val)\n",
    "        if root.val < val:\n",
    "            root.right = self.insertIntoBST(root.right,val)\n",
    "\n",
    "        return root \n",
    "\n"
   ]
  }
 ],
 "metadata": {
  "language_info": {
   "name": "python"
  },
  "orig_nbformat": 4
 },
 "nbformat": 4,
 "nbformat_minor": 2
}
