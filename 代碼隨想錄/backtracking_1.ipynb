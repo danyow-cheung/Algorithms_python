{
 "cells": [
  {
   "cell_type": "markdown",
   "metadata": {},
   "source": [
    "# 组合\n",
    "\n",
    "## 问题\n",
    "给定两个整数 n 和 k，返回 1 ... n 中所有可能的 k 个数的组合。\n",
    "\n",
    "示例:<br>\n",
    "输入: n = 4, k = 2<br>\n",
    "输出:<br>\n",
    "[\n",
    "[2,4],\n",
    "[3,4],\n",
    "[2,3],\n",
    "[1,2],\n",
    "[1,3],\n",
    "[1,4],\n",
    "]\n",
    "\n",
    "\n",
    "## 代码\n",
    "\n"
   ]
  },
  {
   "cell_type": "code",
   "execution_count": null,
   "metadata": {},
   "outputs": [],
   "source": [
    "class Solution(object):\n",
    "    def combine(self, n, k):\n",
    "        \"\"\"\n",
    "        :type n: int\n",
    "        :type k: int\n",
    "        :rtype: List[List[int]]\n",
    "        \"\"\"\n",
    "        result = []\n",
    "        path = []\n",
    "        def backtracking(n,k,startIdx):\n",
    "            if len(path)==k:\n",
    "                result.append(path[:])\n",
    "                return \n",
    "\n",
    "            \n",
    "            for i in range(startIdx,n+1):\n",
    "                path.append(i)\n",
    "                backtracking(n,k,i+1)\n",
    "                path.pop()\n",
    "        \n",
    "        backtracking(n,k,1)\n",
    "        return result \n",
    "\n"
   ]
  }
 ],
 "metadata": {
  "kernelspec": {
   "display_name": "Python 3.9.2 64-bit",
   "language": "python",
   "name": "python3"
  },
  "language_info": {
   "name": "python",
   "version": "3.9.2"
  },
  "orig_nbformat": 4,
  "vscode": {
   "interpreter": {
    "hash": "397704579725e15f5c7cb49fe5f0341eb7531c82d19f2c29d197e8b64ab5776b"
   }
  }
 },
 "nbformat": 4,
 "nbformat_minor": 2
}
