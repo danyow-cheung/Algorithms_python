{
 "cells": [
  {
   "cell_type": "markdown",
   "metadata": {},
   "source": [
    "# 鏈表理論基礎\n",
    "1. 單鏈表<br>\n",
    "   单链表中的指针域只能指向节点的下一个节点。\n",
    "\n",
    "2. 双链表<br>\n",
    "   每個節點都有兩個指針域，一個指向下一節點，一個指向上一節點\n",
    "3. 循环链表<br>\n",
    "   鏈表首尾相連\n",
    "4. 鏈表的存儲方式<br>\n",
    "   不連續存儲"
   ]
  },
  {
   "cell_type": "markdown",
   "metadata": {},
   "source": [
    "## 5.鏈表的定義"
   ]
  },
  {
   "cell_type": "code",
   "execution_count": 1,
   "metadata": {},
   "outputs": [],
   "source": [
    "class Node(object):\n",
    "    '''單向鏈表的節點'''\n",
    "    def __init__(self,item):\n",
    "        #item存放數據元素\n",
    "        self.item = item \n",
    "        # _next是下一個節點的標示\n",
    "        self.next=None "
   ]
  },
  {
   "cell_type": "markdown",
   "metadata": {},
   "source": [
    "单链表的操作\n",
    "- is_empty() 链表是否为空\n",
    "- length() 链表长度\n",
    "- travel() 遍历整个链表\n",
    "- add(item) 链表头部添加元素\n",
    "- append(item) 链表尾部添加元素\n",
    "- insert(pos, item) 指定位置添加元素\n",
    "- remove(item) 删除节点\n",
    "- search(item) 查找节点是否存在"
   ]
  },
  {
   "cell_type": "markdown",
   "metadata": {},
   "source": [
    "## 6.鏈表的實現"
   ]
  },
  {
   "cell_type": "code",
   "execution_count": 4,
   "metadata": {},
   "outputs": [],
   "source": [
    "class SingleLinkedList(object):\n",
    "    '''單鏈表'''\n",
    "    def __init__(self):\n",
    "        self._head =None \n",
    "        \n",
    "    def is_empty(self):\n",
    "        '''判斷鏈表是否為空'''\n",
    "        return self._head == None\n",
    "    \n",
    "    def length(self):\n",
    "        '''鏈表的長度'''\n",
    "        # cur初始值向頭節點\n",
    "        cur = self._head\n",
    "        count = 0 \n",
    "        # 尾節點指向None，當未到達尾部\n",
    "        while cur!= None:\n",
    "            count+=1 \n",
    "            # 將cur後移一個節點\n",
    "            cur = cur.next \n",
    "        return count \n",
    "    def travel(self):\n",
    "        '''遍歷鏈表'''\n",
    "        cur = self._head\n",
    "        while cur!=None:\n",
    "            print(cur.item)\n",
    "            cur = cur.next \n",
    "        print(\"\")\n",
    "    def add(self,item):\n",
    "        '''頭部添加元素'''\n",
    "        # 先創建一個保存item值的節點\n",
    "        node = SingleLinkedList(item)\n",
    "        # 將新節點的鏈接域next指向頭節點，既_head指向的位置\n",
    "        node.next = self._head \n",
    "        # 將鏈表的頭_head指向新節點\n",
    "        self._head=node \n",
    "    def append(self,item):\n",
    "        '''尾部添加元素'''\n",
    "        node =SingleLinkedList(item)\n",
    "        # 先判斷鏈表是否為空，若是空鏈表，則將_head指向新節點\n",
    "        if self.is_empty():\n",
    "            self._head=node \n",
    "        # 若不為空，則找到尾部，將尾節點的next指向新節點\n",
    "        else:\n",
    "            cur = self._head \n",
    "            while cur.next!=None:\n",
    "                cur = cur.next \n",
    "            cur.next = node \n",
    "    \n",
    "    def insert(self,pos,item):\n",
    "        '''指定位置添加元素'''\n",
    "        # 若指定元素pos為第一個元素之前，則執行頭部插入\n",
    "        if pos<=0:\n",
    "            self.add(item)\n",
    "        # 若指定位置超過鏈表尾部，就尾部插入\n",
    "        elif pos>(self.length()-1):\n",
    "            self.append(item)\n",
    "        # 找到指定位置\n",
    "        else:\n",
    "            node = SingleLinkedList(item)\n",
    "            count = 0 \n",
    "            # pre用來指向指定位置pos的前一個位置pos-1，初始從頭節點開始移動到指定位置\n",
    "            pre = self._head \n",
    "            while count<(pos-1):\n",
    "                count += 1\n",
    "                pre = pre.next \n",
    "            #先將新節點node的next指向插入位置的節點\n",
    "            node.next = pre.next \n",
    "            # 將插入位置的前一個節點的next指向新節點\n",
    "            pre.next = node \n",
    "    def remove(self,item):\n",
    "        '''刪除節點'''\n",
    "        cur = self._head \n",
    "        pre =None \n",
    "        while cur!= None:\n",
    "            # 找到指定元素\n",
    "            if cur.item == item:\n",
    "                # 如果第一个就是删除的节点\n",
    "                if not pre:\n",
    "                    # 将头指针指向头节点的后一个节点\n",
    "                    self._head = cur.next \n",
    "                else:\n",
    "                    # 将删除位置前一个节点的next指向删除位置的后一个节点\n",
    "                    pre.next = cur.next \n",
    "                break \n",
    "            else:\n",
    "                # 继续按链表后移节点\n",
    "                pre = cur \n",
    "                cur = cur.next \n",
    "    def search(self,item):\n",
    "        '''鏈表查找節點是否存在，並返回True或者False'''\n",
    "        cur = self._head \n",
    "        while cur!=None:\n",
    "            if cur.item==item:\n",
    "                return True\n",
    "            cur = cur.next \n",
    "        return False \n"
   ]
  }
 ],
 "metadata": {
  "kernelspec": {
   "display_name": "Python 3.9.2 64-bit",
   "language": "python",
   "name": "python3"
  },
  "language_info": {
   "codemirror_mode": {
    "name": "ipython",
    "version": 3
   },
   "file_extension": ".py",
   "mimetype": "text/x-python",
   "name": "python",
   "nbconvert_exporter": "python",
   "pygments_lexer": "ipython3",
   "version": "3.9.2"
  },
  "orig_nbformat": 4,
  "vscode": {
   "interpreter": {
    "hash": "397704579725e15f5c7cb49fe5f0341eb7531c82d19f2c29d197e8b64ab5776b"
   }
  }
 },
 "nbformat": 4,
 "nbformat_minor": 2
}
