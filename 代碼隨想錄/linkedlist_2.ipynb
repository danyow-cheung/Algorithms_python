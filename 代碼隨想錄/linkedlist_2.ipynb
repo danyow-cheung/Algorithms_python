{
 "cells": [
  {
   "cell_type": "markdown",
   "metadata": {},
   "source": [
    "# 移除鏈表元素"
   ]
  },
  {
   "cell_type": "markdown",
   "metadata": {},
   "source": [
    "## 問題\n",
    "题意：删除链表中等于给定值 val 的所有节点。\n",
    "\n",
    "<u>示例 1</u><br>\n",
    "输入：head = [1,2,6,3,4,5,6], val = 6\n",
    "输出：[1,2,3,4,5]\n",
    "\n",
    "<u>示例 2</u><br>\n",
    "输入：head = [], val = 1\n",
    "输出：[]\n",
    "\n",
    "<u>示例 3</u><br>\n",
    "输入：head = [7,7,7,7], val = 7\n",
    "输出：[]"
   ]
  },
  {
   "cell_type": "markdown",
   "metadata": {},
   "source": [
    "## 代碼"
   ]
  },
  {
   "cell_type": "code",
   "execution_count": 1,
   "metadata": {},
   "outputs": [],
   "source": [
    "# Definition for singly-linked list.\n",
    "# class ListNode(object):\n",
    "#     def __init__(self, val=0, next=None):\n",
    "#         self.val = val\n",
    "#         self.next = next\n",
    "class Solution(object):\n",
    "    def removeElements(self, head, val):\n",
    "        \"\"\"\n",
    "        :type head: ListNode\n",
    "        :type val: int\n",
    "        :rtype: ListNode\n",
    "        \"\"\"\n",
    "        #判錯處理以及只包含一個節點的特殊情況\n",
    "        while head is not None and head.val ==val:\n",
    "            head= head.next\n",
    "        \n",
    "        cur = head \n",
    "        # cur不為空\n",
    "        while cur is  not None:\n",
    "            # 下一位置滿足條件的\n",
    "            if cur.next is not None and cur.next.val == val :\n",
    "                # 跳過下一位=（刪除該元素）\n",
    "                cur.next = cur.next.next\n",
    "            else:\n",
    "                # 否則，過一遍下一位\n",
    "                cur = cur.next\n",
    "        return head \n"
   ]
  },
  {
   "cell_type": "code",
   "execution_count": null,
   "metadata": {},
   "outputs": [],
   "source": [
    "# Definition for singly-linked list.\n",
    "class ListNode(object):\n",
    "    def __init__(self, val=0, next=None):\n",
    "        self.val = val\n",
    "        self.next = next\n",
    "class Solution(object):\n",
    "    def removeElements(self, head, val):\n",
    "        \"\"\"\n",
    "        :type head: ListNode\n",
    "        :type val: int\n",
    "        :rtype: ListNode\n",
    "        \"\"\"\n",
    "        # 創建一個虛擬節點，在head前面\n",
    "        dummy_head = ListNode(next=head)\n",
    "        cur = dummy_head \n",
    "        while cur.next is not None:\n",
    "            if cur.next.val == val:\n",
    "                cur.next = cur.next.next\n",
    "            else:\n",
    "                cur = cur.next\n",
    "        \n",
    "        #返回原數組\n",
    "        return dummy_head.next"
   ]
  }
 ],
 "metadata": {
  "kernelspec": {
   "display_name": "Python 3.9.2 64-bit",
   "language": "python",
   "name": "python3"
  },
  "language_info": {
   "codemirror_mode": {
    "name": "ipython",
    "version": 3
   },
   "file_extension": ".py",
   "mimetype": "text/x-python",
   "name": "python",
   "nbconvert_exporter": "python",
   "pygments_lexer": "ipython3",
   "version": "3.9.2"
  },
  "orig_nbformat": 4,
  "vscode": {
   "interpreter": {
    "hash": "397704579725e15f5c7cb49fe5f0341eb7531c82d19f2c29d197e8b64ab5776b"
   }
  }
 },
 "nbformat": 4,
 "nbformat_minor": 2
}
