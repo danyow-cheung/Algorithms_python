{
 "cells": [
  {
   "attachments": {},
   "cell_type": "markdown",
   "metadata": {},
   "source": [
    "# 買賣股票的最佳時機\n",
    "\n",
    "## 問題\n",
    "\n",
    "给定一个数组 prices ，它的第 i 个元素 prices[i] 表示一支给定股票第 i 天的价格。\n",
    "\n",
    "你只能选择 某一天 买入这只股票，并选择在 未来的某一个不同的日子 卖出该股票。设计一个算法来计算你所能获取的最大利润。\n",
    "\n",
    "返回你可以从这笔交易中获取的最大利润。如果你不能获取任何利润，返回 0 。\n",
    "\n",
    "示例 1：\n",
    "\n",
    "输入：[7,1,5,3,6,4]\n",
    "\n",
    "输出：5\n",
    "\n",
    "解释：在第 2 天（股票价格 = 1）的时候买入，在第 5 天（股票价格 = 6）的时候卖出，最大利润 = 6-1 = 5 。注意利润不能是 7-1 = 6, 因为卖出价格需要大于买入价格；同时，你不能在买入前卖出股票。\n",
    "\n",
    "示例 2：\n",
    "\n",
    "输入：prices = [7,6,4,3,1]\n",
    "\n",
    "输出：0\n",
    "\n",
    "解释：在这种情况下, 没有交易完成, 所以最大利润为 0。\n",
    "\n",
    "\n",
    "\n",
    "## 代碼\n"
   ]
  },
  {
   "cell_type": "code",
   "execution_count": null,
   "metadata": {},
   "outputs": [],
   "source": [
    "class Solution(object):\n",
    "    def maxProfit(self, prices):\n",
    "        \"\"\"\n",
    "        :type prices: List[int]\n",
    "        :rtype: int\n",
    "        動態規劃\n",
    "        \"\"\"\n",
    "        l = len(prices)\n",
    "        if l==0:\n",
    "            return 0 \n",
    "        dp = [[0] *2 for _ in range(l)]  \n",
    "\n",
    "        dp[0][0] = -prices[0]\n",
    "        dp[0][1] = 0 \n",
    "        for i in range(1,l):\n",
    "            dp[i][0] = max(dp[i-1][0],-prices[i])\n",
    "            dp[i][1] = max(dp[i-1][1],prices[i]+dp[i-1][0])\n",
    "        return dp[l-1][1]\n",
    "\n"
   ]
  }
 ],
 "metadata": {
  "kernelspec": {
   "display_name": "Python 3",
   "language": "python",
   "name": "python3"
  },
  "language_info": {
   "name": "python",
   "version": "3.9.2 (v3.9.2:1a79785e3e, Feb 19 2021, 09:06:10) \n[Clang 6.0 (clang-600.0.57)]"
  },
  "orig_nbformat": 4,
  "vscode": {
   "interpreter": {
    "hash": "397704579725e15f5c7cb49fe5f0341eb7531c82d19f2c29d197e8b64ab5776b"
   }
  }
 },
 "nbformat": 4,
 "nbformat_minor": 2
}
