{
 "cells": [
  {
   "attachments": {},
   "cell_type": "markdown",
   "metadata": {},
   "source": [
    "# 最長遞增子序列\n",
    "\n",
    "## 問題\n",
    "给你一个整数数组 nums ，找到其中最长严格递增子序列的长度。\n",
    "\n",
    "子序列是由数组派生而来的序列，删除（或不删除）数组中的元素而不改变其余元素的顺序。例如，[3,6,2,7] 是数组 [0,3,1,6,2,2,7] 的子序列。\n",
    "\n",
    "示例 1：\n",
    "\n",
    "- 输入：nums = [10,9,2,5,3,7,101,18]\n",
    "- 输出：4\n",
    "- 解释：最长递增子序列是 [2,3,7,101]，因此长度为 4 。\n",
    "\n",
    "\n",
    "\n",
    "## 代碼\n"
   ]
  },
  {
   "attachments": {},
   "cell_type": "markdown",
   "metadata": {},
   "source": [
    "**dp[i]表示i之前包括i的以nums[i]结尾的最长递增子序列的长度**\n",
    "\n"
   ]
  },
  {
   "cell_type": "code",
   "execution_count": null,
   "metadata": {},
   "outputs": [],
   "source": [
    "class Solution(object):\n",
    "    def lengthOfLIS(self, nums):\n",
    "        \"\"\"\n",
    "        :type nums: List[int]\n",
    "        :rtype: int\n",
    "        \"\"\"\n",
    "        if len(nums)<=1:\n",
    "            return len(nums)\n",
    "        res = 0 \n",
    "        dp = [1]*len(nums)\n",
    "        for i in range(1,len(nums)):\n",
    "            for j in range(0,i):\n",
    "                if nums[i]>nums[j]:\n",
    "                    dp[i] = max(dp[i],dp[j]+1)\n",
    "            if dp[i]>res:\n",
    "                # 取長的子序列\n",
    "                res = dp[i]\n",
    "        return res "
   ]
  }
 ],
 "metadata": {
  "language_info": {
   "name": "python"
  },
  "orig_nbformat": 4
 },
 "nbformat": 4,
 "nbformat_minor": 2
}
