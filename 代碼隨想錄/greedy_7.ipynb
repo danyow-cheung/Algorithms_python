{
 "cells": [
  {
   "cell_type": "markdown",
   "metadata": {},
   "source": [
    "# K次取反后最大化的数组和\n",
    "\n",
    "## 问题\n",
    "给定一个整数数组 A，我们只能用以下方法修改该数组：我们选择某个索引 i 并将 A[i] 替换为 -A[i]，然后总共重复这个过程 K 次。（我们可以多次选择同一个索引 i。）\n",
    "\n",
    "以这种方式修改数组后，返回数组可能的最大和。\n",
    "\n",
    "示例 1：\n",
    "\n",
    "- 输入：A = [4,2,3], K = 1\n",
    "- 输出：5\n",
    "- 解释：选择索引 (1,) ，然后 A 变为 [4,-2,3]。\n",
    "\n",
    "\n",
    "## 代码\n",
    "解题步骤\n",
    "- 第一步：将数组按照绝对值大小从大到小排序，注意要按照**绝对值**的大小\n",
    "- 第二步：从前向后遍历，遇到负数将其变为正数，同时K--\n",
    "- 第三步：如果K还大于0，那么反复转变数值最小的元素，将K用完\n",
    "- 第四步：求和\n"
   ]
  },
  {
   "cell_type": "code",
   "execution_count": 3,
   "metadata": {},
   "outputs": [],
   "source": [
    "class Solution(object):\n",
    "    def largestSumAfterKNegations(self, nums, k):\n",
    "        \"\"\"\n",
    "        :type nums: List[int]\n",
    "        :type k: int\n",
    "        :rtype: int\n",
    "\n",
    "\n",
    "        \"\"\"\n",
    "        # 对原数组进行排序，以绝对值来做index\n",
    "        nums = sorted(nums,key=abs,reverse=True)\n",
    "        for i in range(len(nums)):\n",
    "            if nums[i]<0 and k>0:\n",
    "                nums[i] *= -1\n",
    "                k-=1\n",
    "        # 如果还存在k，就反复变换\n",
    "        if k>0:\n",
    "            \n",
    "            nums[-1]*= (-1)**k \n",
    "        return sum(nums)\n",
    "\n",
    "\n",
    "nums = [4,2,3]\n",
    "nums = [3,-1,0,2]\n",
    "k = 1\n",
    "k =3 \n",
    "obj = Solution().largestSumAfterKNegations(nums,k)"
   ]
  },
  {
   "cell_type": "code",
   "execution_count": null,
   "metadata": {},
   "outputs": [],
   "source": []
  }
 ],
 "metadata": {
  "kernelspec": {
   "display_name": "Python 3.9.2 64-bit",
   "language": "python",
   "name": "python3"
  },
  "language_info": {
   "codemirror_mode": {
    "name": "ipython",
    "version": 3
   },
   "file_extension": ".py",
   "mimetype": "text/x-python",
   "name": "python",
   "nbconvert_exporter": "python",
   "pygments_lexer": "ipython3",
   "version": "3.9.2"
  },
  "orig_nbformat": 4,
  "vscode": {
   "interpreter": {
    "hash": "397704579725e15f5c7cb49fe5f0341eb7531c82d19f2c29d197e8b64ab5776b"
   }
  }
 },
 "nbformat": 4,
 "nbformat_minor": 2
}
