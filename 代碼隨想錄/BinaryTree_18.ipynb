{
 "cells": [
  {
   "cell_type": "markdown",
   "metadata": {},
   "source": [
    "# 合并二叉树\n",
    "\n",
    "## 问题\n",
    "给定两个二叉树，想象当你将它们中的一个覆盖到另一个上时，两个二叉树的一些节点便会重叠。\n",
    "\n",
    "你需要将他们合并为一个新的二叉树。合并的规则是如果两个节点重叠，那么将他们的值相加作为节点合并后的新值，否则不为 NULL 的节点将直接作为新二叉树的节点。\n",
    "\n",
    "<img src = 'https://img-blog.csdnimg.cn/20210204153634809.png'>\n",
    "\n",
    "## 代码\n",
    "\n"
   ]
  },
  {
   "cell_type": "code",
   "execution_count": null,
   "metadata": {},
   "outputs": [],
   "source": [
    "# Definition for a binary tree node.\n",
    "class TreeNode(object):\n",
    "    def __init__(self, val=0, left=None, right=None):\n",
    "        self.val = val\n",
    "        self.left = left\n",
    "        self.right = right\n",
    "class Solution(object):\n",
    "    def mergeTrees(self, root1, root2):\n",
    "        \"\"\"\n",
    "        :type root1: TreeNode\n",
    "        :type root2: TreeNode\n",
    "        :rtype: TreeNode\n",
    "        \"\"\"\n",
    "        # 直接在root1上进行操作\n",
    "        if  root1 and root2:\n",
    "           \n",
    "            root = TreeNode(root1.val + root2.val) # 中\n",
    "            root.left = self.mergeTrees(root1.left, root2.left) #左\n",
    "            root.right = self.mergeTrees(root1.right, root2.right) # 右\n",
    "\n",
    "            return root\n",
    "        else:\n",
    "            return root1 or root2"
   ]
  }
 ],
 "metadata": {
  "kernelspec": {
   "display_name": "Python 3.9.2 64-bit",
   "language": "python",
   "name": "python3"
  },
  "language_info": {
   "name": "python",
   "version": "3.9.2"
  },
  "orig_nbformat": 4,
  "vscode": {
   "interpreter": {
    "hash": "397704579725e15f5c7cb49fe5f0341eb7531c82d19f2c29d197e8b64ab5776b"
   }
  }
 },
 "nbformat": 4,
 "nbformat_minor": 2
}
