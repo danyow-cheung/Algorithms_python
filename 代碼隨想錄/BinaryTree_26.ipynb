{
 "cells": [
  {
   "cell_type": "markdown",
   "metadata": {},
   "source": [
    "# 修建二叉搜索树\n",
    "\n",
    "\n",
    "## 问题\n",
    "\n",
    "给定一个二叉搜索树，同时给定最小边界L 和最大边界 R。通过修剪二叉搜索树，使得所有节点的值在[L, R]中 (R>=L) 。你可能需要改变树的根节点，所以结果应当返回修剪好的二叉搜索树的新的根节点。\n",
    "\n",
    "<img src= 'https://img-blog.csdnimg.cn/20201014173115788.png'>\n",
    "\n",
    "\n",
    "## 代码\n",
    "\n"
   ]
  },
  {
   "cell_type": "code",
   "execution_count": null,
   "metadata": {},
   "outputs": [],
   "source": [
    "# Definition for a binary tree node.\n",
    "# class TreeNode(object):\n",
    "#     def __init__(self, val=0, left=None, right=None):\n",
    "#         self.val = val\n",
    "#         self.left = left\n",
    "#         self.right = right\n",
    "class Solution(object):\n",
    "    def trimBST(self, root, low, high):\n",
    "        \"\"\"\n",
    "        :type root: TreeNode\n",
    "        :type low: int\n",
    "        :type high: int\n",
    "        :rtype: TreeNode\n",
    "        \"\"\"\n",
    "        if not root:\n",
    "            return root \n",
    "        if root.val <low:\n",
    "            right = self.trimBST(root.right,low,high)\n",
    "            return right \n",
    "        if root.val >high:\n",
    "            left = self.trimBST(root.left,low,high)\n",
    "            return left \n",
    "        root.left = self.trimBST(root.left,low,high)\n",
    "        root.right = self.trimBST(root.right,low,high)\n",
    "        return root \n",
    "         "
   ]
  }
 ],
 "metadata": {
  "language_info": {
   "name": "python"
  },
  "orig_nbformat": 4
 },
 "nbformat": 4,
 "nbformat_minor": 2
}
