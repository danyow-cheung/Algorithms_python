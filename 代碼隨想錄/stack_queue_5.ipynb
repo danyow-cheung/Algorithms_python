{
 "cells": [
  {
   "cell_type": "markdown",
   "metadata": {},
   "source": [
    "# 删除字符串中的所有相邻重复项\n",
    "\n",
    "## 问题\n",
    "\n",
    "给出由小写字母组成的字符串 S，重复项删除操作会选择两个相邻且相同的字母，并删除它们。\n",
    "\n",
    "在 S 上反复执行重复项删除操作，直到无法继续删除。\n",
    "\n",
    "在完成所有重复项删除操作后返回最终的字符串。答案保证唯一。\n",
    "\n",
    "输入：\"abbaca\"<br>\n",
    "输出：\"ca\"<br>\n",
    "解释：例如，在 \"abbaca\" 中，我们可以删除 \"bb\" 由于两字母相邻且相同，这是此时唯一可以执行删除操作的重复项。之后我们得到字符串 \"aaca\"，其中又只有 \"aa\" 可以执行重复项删除操作，所以最后的字符串为 \"ca\"。\n",
    "## 代码\n"
   ]
  },
  {
   "cell_type": "code",
   "execution_count": 9,
   "metadata": {},
   "outputs": [
    {
     "name": "stdout",
     "output_type": "stream",
     "text": [
      "ca\n"
     ]
    }
   ],
   "source": [
    "from collections import deque\n",
    "\n",
    "\n",
    "class Solution(object):\n",
    "    def removeDuplicates_m1(self, s):\n",
    "        \"\"\"\n",
    "        :type s: str\n",
    "        :rtype: str\n",
    "        \"\"\"\n",
    "        # 使用栈\n",
    "        res = []\n",
    "        for item in s:\n",
    "            # res[-1]就是最后进入的元素\n",
    "            if res and res[-1]==item:\n",
    "                res.pop()\n",
    "            else:\n",
    "                res.append(item)\n",
    "        \n",
    "        return \"\".join(res)\n",
    "\n",
    "    def removeDuplicates_m2(self,s):\n",
    "        # 使用双指针模拟栈\n",
    "        res = list(s)\n",
    "        slow = fast = 0\n",
    "        length = len(res)\n",
    "\n",
    "        while fast < length:\n",
    "            # 如果一样直接换，不一样会把后面填在slow的位置\n",
    "            res[slow]= res[fast]\n",
    "\n",
    "            # 如果发现和前一个一样，就是退一格指针\n",
    "            if slow > 0 and res[slow]==res[slow-1]:\n",
    "                slow -=1 \n",
    "            else:\n",
    "                slow +=1 \n",
    "            fast +=1 \n",
    "        print(\"\".join(res[0:slow]))\n",
    "s = \"abbaca\"\n",
    "obj = Solution().removeDuplicates_m2(s)\n",
    "        "
   ]
  },
  {
   "cell_type": "code",
   "execution_count": null,
   "metadata": {},
   "outputs": [],
   "source": []
  },
  {
   "cell_type": "code",
   "execution_count": null,
   "metadata": {},
   "outputs": [],
   "source": []
  }
 ],
 "metadata": {
  "kernelspec": {
   "display_name": "Python 3.9.2 64-bit",
   "language": "python",
   "name": "python3"
  },
  "language_info": {
   "codemirror_mode": {
    "name": "ipython",
    "version": 3
   },
   "file_extension": ".py",
   "mimetype": "text/x-python",
   "name": "python",
   "nbconvert_exporter": "python",
   "pygments_lexer": "ipython3",
   "version": "3.9.2"
  },
  "orig_nbformat": 4,
  "vscode": {
   "interpreter": {
    "hash": "397704579725e15f5c7cb49fe5f0341eb7531c82d19f2c29d197e8b64ab5776b"
   }
  }
 },
 "nbformat": 4,
 "nbformat_minor": 2
}
