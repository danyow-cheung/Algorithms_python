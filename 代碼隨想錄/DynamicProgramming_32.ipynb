{
 "cells": [
  {
   "attachments": {},
   "cell_type": "markdown",
   "metadata": {},
   "source": [
    "# 不相交的线\n",
    "\n",
    "## 问题\n",
    "我们在两条独立的水平线上按给定的顺序写下 A 和 B 中的整数。\n",
    "\n",
    "现在，我们可以绘制一些连接两个数字 A[i] 和 B[j] 的直线，只要 A[i] == B[j]，且我们绘制的直线不与任何其他连线（非水平线）相交。\n",
    "\n",
    "以这种方法绘制线条，并返回我们可以绘制的最大连线数。\n",
    "\n",
    "\n",
    "\n",
    "<img src= 'https://img-blog.csdnimg.cn/2021032116363533.png'>\n",
    "\n",
    "## 代码\n"
   ]
  },
  {
   "attachments": {},
   "cell_type": "markdown",
   "metadata": {},
   "source": [
    "直线不能相交，这就是说明在字符串A中 找到一个与字符串B相同的子序列，且这个子序列不能改变相对顺序，只要相对顺序不改变，链接相同数字的直线就不会相交。\n",
    "\n",
    "\n",
    "**本题说是求绘制的最大连线数，其实就是求两个字符串的最长公共子序列的长度！**"
   ]
  },
  {
   "cell_type": "code",
   "execution_count": null,
   "metadata": {},
   "outputs": [],
   "source": [
    "class Solution(object):\n",
    "    def maxUncrossedLines(self, text1, text2):\n",
    "        \"\"\"\n",
    "        :type text1: str\n",
    "        :type text2: str\n",
    "        :rtype: int\n",
    "        \"\"\"\n",
    "        len1, len2 = len(text1)+1, len(text2)+1\n",
    "        dp = [[0 for _ in range(len1)] for _ in range(len2)] # 先对dp数组做初始化操作\n",
    "        for i in range(1, len2):\n",
    "            for j in range(1, len1): # 开始列出状态转移方程\n",
    "                if text1[j-1] == text2[i-1]:\n",
    "                    dp[i][j] = dp[i-1][j-1]+1\n",
    "                else:\n",
    "                    dp[i][j] = max(dp[i-1][j], dp[i][j-1])\n",
    "        return dp[-1][-1]"
   ]
  }
 ],
 "metadata": {
  "kernelspec": {
   "display_name": "Python 3",
   "language": "python",
   "name": "python3"
  },
  "language_info": {
   "name": "python",
   "version": "3.9.2 (v3.9.2:1a79785e3e, Feb 19 2021, 09:06:10) \n[Clang 6.0 (clang-600.0.57)]"
  },
  "orig_nbformat": 4,
  "vscode": {
   "interpreter": {
    "hash": "397704579725e15f5c7cb49fe5f0341eb7531c82d19f2c29d197e8b64ab5776b"
   }
  }
 },
 "nbformat": 4,
 "nbformat_minor": 2
}
