{
 "cells": [
  {
   "cell_type": "markdown",
   "metadata": {},
   "source": [
    "# 分发饼干\n",
    "\n",
    "## 问题\n",
    "\n",
    "假设你是一位很棒的家长，想要给你的孩子们一些小饼干。但是，每个孩子最多只能给一块饼干。\n",
    "\n",
    "对每个孩子 i，都有一个胃口值 g[i]，这是能让孩子们满足胃口的饼干的最小尺寸；并且每块饼干 j，都有一个尺寸 s[j] 。如果 s[j] >= g[i]，我们可以将这个饼干 j 分配给孩子 i ，这个孩子会得到满足。你的目标是尽可能满足越多数量的孩子，并输出这个最大数值\n",
    "\n",
    "\n",
    "## 代码\n",
    "思路：大尺寸的饼干既可以满足胃口大的孩子也可以满足胃口小的孩子，那应该优先满足胃口大"
   ]
  },
  {
   "cell_type": "code",
   "execution_count": 19,
   "metadata": {},
   "outputs": [
    {
     "name": "stdout",
     "output_type": "stream",
     "text": [
      "2\n"
     ]
    }
   ],
   "source": [
    "class Solution(object):\n",
    "    def findContentChildren(self, g, s):\n",
    "        \"\"\"\n",
    "        :type g: List[int]3个女\n",
    "        :type s: List[int]饼干\n",
    "        :rtype: int\n",
    "        \"\"\"\n",
    "        g.sort()\n",
    "        s.sort()\n",
    "        count = 0 \n",
    "        start =len(s)-1\n",
    "        # 优先考虑胃口大小\n",
    "        for i in range(len(g)-1,-1,-1):\n",
    "            #print(s[i])\n",
    "            if start>=0 and s[start]>g[i] :\n",
    "                start-=1 \n",
    "                count +=1\n",
    "        print(count)\n",
    "        return count \n",
    "    def findContentChildren_v2(self,g,s):\n",
    "        # 优先考虑饼干数量\n",
    "        g.sort()\n",
    "        s.sort()\n",
    "        res = 0 \n",
    "        for i in range(len(s)):\n",
    "            if res<len(g) and g[res]<=s[i] :\n",
    "                res+=1\n",
    "        return res \n",
    "\n",
    "g = [1,2,3]\n",
    "s = [1,1]\n",
    "\n",
    "g = [1,2]\n",
    "s = [1,2,3]\n",
    "obj = Solution().findContentChildren(g,s)     "
   ]
  },
  {
   "cell_type": "code",
   "execution_count": null,
   "metadata": {},
   "outputs": [],
   "source": []
  }
 ],
 "metadata": {
  "kernelspec": {
   "display_name": "Python 3.9.2 64-bit",
   "language": "python",
   "name": "python3"
  },
  "language_info": {
   "codemirror_mode": {
    "name": "ipython",
    "version": 3
   },
   "file_extension": ".py",
   "mimetype": "text/x-python",
   "name": "python",
   "nbconvert_exporter": "python",
   "pygments_lexer": "ipython3",
   "version": "3.9.2"
  },
  "orig_nbformat": 4,
  "vscode": {
   "interpreter": {
    "hash": "397704579725e15f5c7cb49fe5f0341eb7531c82d19f2c29d197e8b64ab5776b"
   }
  }
 },
 "nbformat": 4,
 "nbformat_minor": 2
}
