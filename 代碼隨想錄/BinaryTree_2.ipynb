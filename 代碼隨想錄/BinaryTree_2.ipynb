{
 "cells": [
  {
   "cell_type": "markdown",
   "metadata": {},
   "source": [
    "# 二叉树的递归遍历\n",
    "递归三要素\n",
    "1. 确定递归函数的参数和返回值\n",
    "2. 确定终止条件\n",
    "3. 确定单层递归的逻辑"
   ]
  },
  {
   "cell_type": "markdown",
   "metadata": {},
   "source": [
    "# 前序遍历\n",
    "\n"
   ]
  },
  {
   "cell_type": "code",
   "execution_count": null,
   "metadata": {},
   "outputs": [],
   "source": [
    "# Definition for a binary tree node.\n",
    "class TreeNode(object):\n",
    "    def __init__(self, val=0, left=None, right=None):\n",
    "        self.val = val\n",
    "        self.left = left\n",
    "        self.right = right\n",
    "class Solution(object):\n",
    "    def preorderTraversal(self, root):\n",
    "        \"\"\"\n",
    "        :type root: TreeNode\n",
    "        :rtype: List[int]\n",
    "        \"\"\"\n",
    "        res = []\n",
    "    \n",
    "        def loop_traversals(root):\n",
    "            if root == None:\n",
    "                return\n",
    "            res.append(root.val)\n",
    "            loop_traversals(root.left)\n",
    "            loop_traversals(root.right)\n",
    "\n",
    "        loop_traversals(root)\n",
    "        return res \n",
    "\n",
    "\n",
    "        \n",
    "    def preorderTraversal_leetcode(self,root):\n",
    "        if not root:return []\n",
    "        ans,stack = [],[root]\n",
    "        while stack:\n",
    "            curr = stack.pop()\n",
    "            ans.append(curr.val)\n",
    "\n",
    "            if curr.right:\n",
    "                stack.append(curr.right)\n",
    "            if curr.left:\n",
    "                stack.append(curr.left)\n",
    "\n",
    "        return ans"
   ]
  },
  {
   "cell_type": "markdown",
   "metadata": {},
   "source": [
    "# 中序遍历\n",
    "\n"
   ]
  },
  {
   "cell_type": "code",
   "execution_count": null,
   "metadata": {},
   "outputs": [],
   "source": [
    "# Definition for a binary tree node.\n",
    "class TreeNode(object):\n",
    "    def __init__(self, val=0, left=None, right=None):\n",
    "        self.val = val\n",
    "        self.left = left\n",
    "        self.right = right\n",
    "class Solution(object):\n",
    "    def inorderTraversal(self, root):\n",
    "        \"\"\"\n",
    "        :type root: TreeNode\n",
    "        :rtype: List[int]\n",
    "        \"\"\"\n",
    "        res = [] \n",
    "\n",
    "        def loop_traversals(root):\n",
    "            if root == None:\n",
    "                return \n",
    "\n",
    "            loop_traversals(root.left)\n",
    "            res.append(root.val)\n",
    "            loop_traversals(root.right)\n",
    "        loop_traversals(root)\n",
    "        return res \n"
   ]
  },
  {
   "cell_type": "markdown",
   "metadata": {},
   "source": [
    "# 后序遍历\n",
    "\n"
   ]
  },
  {
   "cell_type": "code",
   "execution_count": null,
   "metadata": {},
   "outputs": [],
   "source": [
    "# Definition for a binary tree node.\n",
    "class TreeNode(object):\n",
    "    def __init__(self, val=0, left=None, right=None):\n",
    "        self.val = val\n",
    "        self.left = left\n",
    "        self.right = right\n",
    "class Solution(object):\n",
    "    def postorderTraversal(self, root):\n",
    "        \"\"\"\n",
    "        :type root: TreeNode\n",
    "        :rtype: List[int]\n",
    "        \"\"\"\n",
    "        res =[]\n",
    "        def loop(root):\n",
    "            if root == None:return \n",
    "            loop(root.left)\n",
    "            loop(root.right)\n",
    "            res.append(root.val)\n",
    "        loop(root)\n",
    "        return res \n",
    "        "
   ]
  }
 ],
 "metadata": {
  "kernelspec": {
   "display_name": "Python 3.9.2 64-bit",
   "language": "python",
   "name": "python3"
  },
  "language_info": {
   "name": "python",
   "version": "3.9.2"
  },
  "orig_nbformat": 4,
  "vscode": {
   "interpreter": {
    "hash": "397704579725e15f5c7cb49fe5f0341eb7531c82d19f2c29d197e8b64ab5776b"
   }
  }
 },
 "nbformat": 4,
 "nbformat_minor": 2
}
