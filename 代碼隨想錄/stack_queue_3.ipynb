{
 "cells": [
  {
   "cell_type": "markdown",
   "metadata": {},
   "source": [
    "# 用队列实现栈\n",
    "\n",
    "## 问题\n",
    "使用队列实现栈的下列操作：\n",
    "\n",
    "push(x) -- 元素 x 入栈\n",
    "pop() -- 移除栈顶元素\n",
    "top() -- 获取栈顶元素\n",
    "empty() -- 返回栈是否为空\n",
    "\n",
    "## 代码"
   ]
  },
  {
   "cell_type": "code",
   "execution_count": null,
   "metadata": {},
   "outputs": [],
   "source": [
    "from collections import deque\n",
    "class MyStack(object):\n",
    "\n",
    "    def __init__(self):\n",
    "        \n",
    "        self.stack = deque()\n",
    "\n",
    "    def push(self, x):\n",
    "        \"\"\"\n",
    "        :type x: int\n",
    "        :rtype: None\n",
    "        \"\"\"\n",
    "        self.stack.append(x)\n",
    "\n",
    "    def pop(self):\n",
    "        \"\"\"\n",
    "        :rtype: int\n",
    "        \"\"\"\n",
    "        # 确保队列不为空\n",
    "        if self.empty():\n",
    "            return None \n",
    "        for i in range(len(self.stack)-1):\n",
    "            self.stack.append(self.stack.popleft())\n",
    "        return self.stack.popleft()\n",
    "\n",
    "    def top(self):\n",
    "        \"\"\"\n",
    "        :rtype: int\n",
    "        \"\"\"\n",
    "        if self.empty():\n",
    "            return None \n",
    "\n",
    "        return self.stack[-1]\n",
    "        \n",
    "\n",
    "    def empty(self):\n",
    "        \"\"\"\n",
    "        :rtype: bool\n",
    "        \"\"\"\n",
    "        return not self.stack\n",
    "\n",
    "# Your MyStack object will be instantiated and called as such:\n",
    "# obj = MyStack()\n",
    "# obj.push(x)\n",
    "# param_2 = obj.pop()\n",
    "# param_3 = obj.top()\n",
    "# param_4 = obj.empty()"
   ]
  }
 ],
 "metadata": {
  "language_info": {
   "name": "python"
  },
  "orig_nbformat": 4
 },
 "nbformat": 4,
 "nbformat_minor": 2
}
