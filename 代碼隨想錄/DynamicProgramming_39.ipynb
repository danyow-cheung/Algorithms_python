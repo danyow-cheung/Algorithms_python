{
 "cells": [
  {
   "attachments": {},
   "cell_type": "markdown",
   "metadata": {},
   "source": [
    "# 最長回文子序列\n",
    "\n",
    "## 問題\n",
    "给定一个字符串 s ，找到其中最长的回文子序列，并返回该序列的长度。可以假设 s 的最大长度为 1000 。\n",
    "\n",
    "示例 1: \n",
    "\n",
    "输入: \"bbbab\" \n",
    "\n",
    "输出: 4 \n",
    "\n",
    "一个可能的最长回文子序列为 \"bbbb\"。\n",
    "\n",
    "\n",
    "##  代碼\n"
   ]
  },
  {
   "attachments": {},
   "cell_type": "markdown",
   "metadata": {},
   "source": [
    "**回文子串是要连续的，<u>回文子序列可不是连续的！</u>** 回文子串，回文子序列都是动态规划经典题目。\n",
    "\n"
   ]
  },
  {
   "cell_type": "code",
   "execution_count": null,
   "metadata": {},
   "outputs": [],
   "source": [
    "class Solution(object):\n",
    "    def longestPalindromeSubseq(self, s):\n",
    "        \"\"\"\n",
    "        :type s: str\n",
    "        :rtype: int\n",
    "        \"\"\"\n",
    "        dp = [[0]*len(s) for i in range(len(s))]\n",
    "        for i in range(len(s)):\n",
    "            dp[i][i] =1 \n",
    "        for i in range(len(s)-1,-1,-1):\n",
    "            for j in range(i+1,len(s)):\n",
    "                if s[i]==s[j]:\n",
    "                    dp[i][j] = dp[i+1][j-1]+2\n",
    "                else:\n",
    "                    dp[i][j] = max(dp[i+1][j],dp[i][j-1])\n",
    "        return dp[0][-1]\n",
    "        "
   ]
  }
 ],
 "metadata": {
  "language_info": {
   "name": "python"
  },
  "orig_nbformat": 4
 },
 "nbformat": 4,
 "nbformat_minor": 2
}
