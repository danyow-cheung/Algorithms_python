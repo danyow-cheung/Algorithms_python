{
 "cells": [
  {
   "attachments": {},
   "cell_type": "markdown",
   "metadata": {},
   "source": [
    "# 不同的二叉搜索樹\n",
    "\n",
    "## 問題\n",
    "\n",
    "给定一个整数 n，求以 1 ... n 为节点组成的二叉搜索树有多少种？\n",
    "\n",
    "<img src = 'https://img-blog.csdnimg.cn/20210113161941835.png'>"
   ]
  },
  {
   "attachments": {},
   "cell_type": "markdown",
   "metadata": {},
   "source": [
    "dp[3]，就是 元素1为头结点搜索树的数量 + 元素2为头结点搜索树的数量 + 元素3为头结点搜索树的数量\n",
    "\n",
    "元素1为头结点搜索树的数量 = 右子树有2个元素的搜索树数量 * 左子树有0个元素的搜索树数量\n",
    "\n",
    "元素2为头结点搜索树的数量 = 右子树有1个元素的搜索树数量 * 左子树有1个元素的搜索树数量\n",
    "\n",
    "元素3为头结点搜索树的数量 = 右子树有0个元素的搜索树数量 * 左子树有2个元素的搜索树数量\n",
    "\n",
    "有2个元素的搜索树数量就是dp[2]。\n",
    "\n",
    "有1个元素的搜索树数量就是dp[1]。\n",
    "\n",
    "有0个元素的搜索树数量就是dp[0]。\n",
    "\n",
    "所以dp[3] = dp[2] * dp[0] + dp[1] * dp[1] + dp[0] * dp[2]\n",
    "\n",
    "\n",
    "<img src = 'https://img-blog.csdnimg.cn/20210107093226241.png'>"
   ]
  },
  {
   "attachments": {},
   "cell_type": "markdown",
   "metadata": {},
   "source": [
    "## 代碼\n",
    "- 確定dp數組以及下標含義\n",
    "  > dp[i]:1到i節點組成的二叉搜索樹的個數為dp[i]\n",
    "\n",
    "- 確定遞推公式\n",
    "  > dp[i] += dp[j-1]*dp[i-j]\n",
    "  > j-1為頭節點左子樹節點數量，i-j以j為頭節點右子樹節點數量\n",
    "- dp數組如何初始化\n",
    "  > dp[0] = 1 \n",
    "- 確定遍歷順序\n",
    "  > dp[i]+=dp[j-1]*dp[i-j]\n",
    "  > 節點數為i的狀態是依靠i之前節點數的狀態\n",
    "  > 遍歷i裡面每一個數作為頭節點的狀態，用j進行遍歷\n",
    "\n",
    "- 舉例推導dp數組\n",
    "  <img src ='https://img-blog.csdnimg.cn/20210107093253987.png'>"
   ]
  },
  {
   "cell_type": "code",
   "execution_count": null,
   "metadata": {},
   "outputs": [],
   "source": [
    "class Solution(object):\n",
    "    def numTrees(self, n):\n",
    "        \"\"\"\n",
    "        :type n: int\n",
    "        :rtype: int\n",
    "        \"\"\"\n",
    "        dp = [0]*(n+1)\n",
    "        dp[0] =1 \n",
    "        # dp[1] = 1\n",
    "\n",
    "        for i in range(n+1):\n",
    "            for j in range(i+1):\n",
    "                dp[i] += dp[j-1]*dp[i-j]\n",
    "        return dp[n]"
   ]
  }
 ],
 "metadata": {
  "kernelspec": {
   "display_name": "Python 3",
   "language": "python",
   "name": "python3"
  },
  "language_info": {
   "name": "python",
   "version": "3.9.2 (v3.9.2:1a79785e3e, Feb 19 2021, 09:06:10) \n[Clang 6.0 (clang-600.0.57)]"
  },
  "orig_nbformat": 4,
  "vscode": {
   "interpreter": {
    "hash": "397704579725e15f5c7cb49fe5f0341eb7531c82d19f2c29d197e8b64ab5776b"
   }
  }
 },
 "nbformat": 4,
 "nbformat_minor": 2
}
