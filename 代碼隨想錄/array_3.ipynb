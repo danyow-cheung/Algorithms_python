{
 "cells": [
  {
   "cell_type": "markdown",
   "metadata": {},
   "source": [
    "# 移除元素"
   ]
  },
  {
   "cell_type": "markdown",
   "metadata": {},
   "source": [
    "## 題目\n",
    "给你一个数组 nums 和一个值 val，你需要 原地 移除所有数值等于 val 的元素，并返回移除后数组的新长度。\n",
    "**不要使用额外的数组空间，你必须仅使用 O(1) 额外空间并原地修改输入数组。**\n",
    "元素的顺序可以改变。你不需要考虑数组中超出新长度后面的元素。\n",
    "\n",
    "<u>示例</u>\n",
    "1. nums = [3,2,2,3], val = 3, 函数应该返回新的长度 2, 并且 nums 中的前两个元素均为 2。 你不需要考虑数组中超出新长度后面的元素。\n",
    "2. nums = [0,1,2,2,3,0,4,2], val = 2, 函数应该返回新的长度 5, 并且 nums 中的前五个元素为 0, 1, 3, 0, 4。"
   ]
  },
  {
   "cell_type": "markdown",
   "metadata": {},
   "source": [
    "数组的元素在内存地址中是连续的，不能单独删除数组中的某个元素，只能覆盖。"
   ]
  },
  {
   "cell_type": "markdown",
   "metadata": {},
   "source": [
    "## 代碼\n",
    "\n",
    "1. 暴力解法: func_1()\n",
    "2. 雙指針法: func_2()\n",
    "   - 快指针：寻找新数组的元素 ，新数组就是不含有目标元素的数组\n",
    "   - 慢指针：指向更新 新数组下标的位置"
   ]
  },
  {
   "cell_type": "code",
   "execution_count": 13,
   "metadata": {},
   "outputs": [],
   "source": [
    "# 開闊了新空間所以打咩\n",
    "def func(nums,val):\n",
    "    res = []\n",
    "    for i in range(len(nums)):\n",
    "        if nums[i] !=val:\n",
    "            res.append(nums[i])\n",
    "    print(res,len(res))"
   ]
  },
  {
   "cell_type": "code",
   "execution_count": 22,
   "metadata": {},
   "outputs": [],
   "source": [
    "def func_2(nums,val):\n",
    "    l = 0 \n",
    "    r = len(nums)-1 \n",
    "    while l<r:\n",
    "        # 不是val可以擴大長度\n",
    "        while l<r and nums[l]!= val:\n",
    "            l+=1 \n",
    "        # 是val，跑\n",
    "        while l<r and nums[r]==val:\n",
    "            r-= 1 \n",
    "        #[main code]\n",
    "        nums[l],nums[r] = nums[r],nums[l]\n",
    "        \n",
    "    print(nums)\n",
    "    if nums[l]==val:\n",
    "        return l \n",
    "    else:\n",
    "        return l+1"
   ]
  },
  {
   "cell_type": "code",
   "execution_count": 24,
   "metadata": {},
   "outputs": [],
   "source": [
    "def func_2_leetcode(nums,val):\n",
    "    slow = 0\n",
    "    for fast in range(len(nums)):\n",
    "        # 找到除去val之外的\n",
    "        if nums[fast] != val:\n",
    "            #[main code]\n",
    "            # 交换数据，就等于没有开辟新空间\n",
    "            nums[slow], nums[fast] = nums[fast], nums[slow]\n",
    "            # +1 是因為下標由0開始\n",
    "            slow += 1     \n",
    "    return slow"
   ]
  },
  {
   "cell_type": "code",
   "execution_count": 25,
   "metadata": {},
   "outputs": [
    {
     "name": "stdout",
     "output_type": "stream",
     "text": [
      "[2, 2, 3, 3]\n",
      "[0, 1, 4, 0, 3, 2, 2, 2]\n"
     ]
    },
    {
     "data": {
      "text/plain": [
       "5"
      ]
     },
     "execution_count": 25,
     "metadata": {},
     "output_type": "execute_result"
    }
   ],
   "source": [
    "nums = [3,2,2,3]\n",
    "val = 3 \n",
    "func_2(nums,val)\n",
    "nums = [0,1,2,2,3,0,4,2]\n",
    "val = 2\n",
    "func_2(nums,val)\n",
    "nums = [0,1,2,2,3,0,4,2]\n",
    "val = 2\n",
    "func_2_leetcode(nums,val)\n"
   ]
  },
  {
   "cell_type": "code",
   "execution_count": null,
   "metadata": {},
   "outputs": [],
   "source": []
  }
 ],
 "metadata": {
  "kernelspec": {
   "display_name": "Python 3.9.2 64-bit",
   "language": "python",
   "name": "python3"
  },
  "language_info": {
   "codemirror_mode": {
    "name": "ipython",
    "version": 3
   },
   "file_extension": ".py",
   "mimetype": "text/x-python",
   "name": "python",
   "nbconvert_exporter": "python",
   "pygments_lexer": "ipython3",
   "version": "3.9.2"
  },
  "orig_nbformat": 4,
  "vscode": {
   "interpreter": {
    "hash": "397704579725e15f5c7cb49fe5f0341eb7531c82d19f2c29d197e8b64ab5776b"
   }
  }
 },
 "nbformat": 4,
 "nbformat_minor": 2
}
