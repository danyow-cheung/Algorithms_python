{
 "cells": [
  {
   "cell_type": "markdown",
   "metadata": {},
   "source": [
    "# 跳跃游戏\n",
    "\n",
    "## 问题\n",
    "\n",
    "\n",
    "给定一个非负整数数组，你最初位于数组的第一个位置。\n",
    "\n",
    "数组中的每个元素代表你在该位置可以跳跃的最大长度。\n",
    "\n",
    "判断你是否能够到达最后一个位置。\n",
    "\n",
    "示例 1:\n",
    "\n",
    "- 输入: [2,3,1,1,4]\n",
    "- 输出: true\n",
    "- 解释: 我们可以先跳 1 步，从位置 0 到达 位置 1, 然后再从位置 1 跳 3 步到达最后一个位置。\n",
    "\n",
    "\n",
    "示例 2:\n",
    "\n",
    "- 输入: [3,2,1,0,4]\n",
    "- 输出: false\n",
    "- 解释: 无论怎样，你总会到达索引为 3 的位置。但该位置的最大跳跃长度是 0 ， 所以你永远不可能到达最后一个位置。\n",
    "\n",
    "## 代码\n",
    "\n",
    "\n",
    "贪心算法局部最优解：每次取最大跳跃步数（取最大覆盖范围），整体最优解：最后得到整体最大覆盖范围，看是否能到终点。\n",
    "\n",
    "<img src = 'https://img-blog.csdnimg.cn/20201124154758229.png'>"
   ]
  },
  {
   "cell_type": "code",
   "execution_count": null,
   "metadata": {},
   "outputs": [],
   "source": [
    "class Solution(object):\n",
    "    def canJump(self, nums):\n",
    "        \"\"\"\n",
    "        :type nums: List[int]\n",
    "        :rtype: bool\n",
    "        \"\"\"\n",
    "        cover = 0\n",
    "        if len(nums)==1:\n",
    "            return True \n",
    "        i = 0\n",
    "        while i <= cover:\n",
    "            cover = max(i+nums[i],cover)\n",
    "            if cover>= len(nums)-1:\n",
    "                return True\n",
    "            i+=1 \n",
    "        return False\n"
   ]
  }
 ],
 "metadata": {
  "language_info": {
   "name": "python"
  },
  "orig_nbformat": 4
 },
 "nbformat": 4,
 "nbformat_minor": 2
}
