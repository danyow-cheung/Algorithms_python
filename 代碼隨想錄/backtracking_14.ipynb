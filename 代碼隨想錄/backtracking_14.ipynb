{
 "cells": [
  {
   "cell_type": "markdown",
   "metadata": {},
   "source": [
    "# 重新安排行程\n",
    "\n",
    "## 问题\n",
    "\n",
    "给定一个机票的字符串二维数组 [from, to]，子数组中的两个成员分别表示飞机出发和降落的机场地点，对该行程进行重新规划排序。所有这些机票都属于一个从 JFK（肯尼迪国际机场）出发的先生，所以该行程必须从 JFK 开始。\n",
    "\n",
    "提示：\n",
    "\n",
    "- 如果存在多种有效的行程，请你按字符自然排序返回最小的行程组合。例如，行程 [\"JFK\", \"LGA\"] 与 [\"JFK\", \"LGB\"] 相比就更小，排序更靠前\n",
    "- 所有的机场都用三个大写字母表示（机场代码）。\n",
    "- 假定所有机票至少存在一种合理的行程。\n",
    "- 所有的机票必须都用一次 且 只能用一次。\n",
    "\n",
    "示例 1：\n",
    "\n",
    "输入：[[\"MUC\", \"LHR\"], [\"JFK\", \"MUC\"], [\"SFO\", \"SJC\"], [\"LHR\", \"SFO\"]]<br>\n",
    "输出：[\"JFK\", \"MUC\", \"LHR\", \"SFO\", \"SJC\"]\n",
    "\n",
    "示例 2：\n",
    "\n",
    "输入：[[\"JFK\",\"SFO\"],[\"JFK\",\"ATL\"],[\"SFO\",\"ATL\"],[\"ATL\",\"JFK\"],[\"ATL\",\"SFO\"]]<br>\n",
    "输出：[\"JFK\",\"ATL\",\"JFK\",\"SFO\",\"ATL\",\"SFO\"]\n",
    "解释：另一种有效的行程是 [\"JFK\",\"SFO\",\"ATL\",\"JFK\",\"ATL\",\"SFO\"]。但是它自然排序更大更靠后\n",
    "\n",
    "\n",
    "## 代码\n",
    "\n",
    "<img src ='https://img-blog.csdnimg.cn/2020111518065555.png'>"
   ]
  },
  {
   "cell_type": "code",
   "execution_count": 1,
   "metadata": {},
   "outputs": [
    {
     "name": "stdout",
     "output_type": "stream",
     "text": [
      "defaultdict(<class 'list'>, {'MUC': ['LHR'], 'JFK': ['MUC'], 'SFO': ['SJC'], 'LHR': ['SFO']})\n"
     ]
    }
   ],
   "source": [
    "class Solution(object):\n",
    "    def findItinerary(self, tickets):\n",
    "        \"\"\"\n",
    "        :type tickets: List[List[str]]\n",
    "        :rtype: List[str]\n",
    "        \"\"\"\n",
    "        from collections import defaultdict\n",
    "        # default(list)为了方便直接append\n",
    "        tickets_dict = defaultdict(list)\n",
    "        for item in tickets:\n",
    "            # item[0]做key\n",
    "            # item[1]做value\n",
    "            tickets_dict[item[0]].append(item[1])\n",
    "        print(tickets_dict)\n",
    "        # 给每一个机场的到达机场排序，小的在前面，在回溯首先被pop(0)出去\n",
    "        # 这样最先找到path的就是排序最小的答案，直接返回\n",
    "        for airport in tickets_dict:\n",
    "            tickets_dict[airport].sort()\n",
    "            path = [\"JFK\"]\n",
    "\n",
    "            def backtracking(startIdx):\n",
    "                # 终止条件\n",
    "                if len(path)==len(tickets)+1:\n",
    "                    return True \n",
    "                for _ in tickets_dict[startIdx]:\n",
    "                    # 必须及时删除，避免出现死循环\n",
    "                    endIdx = tickets_dict[startIdx].pop(0)\n",
    "                    path.append(endIdx)\n",
    "                    # 只要找到一个就可以返回\n",
    "                    if backtracking(endIdx):\n",
    "                        return True \n",
    "                    path.pop()\n",
    "                    tickets_dict[startIdx].append(endIdx)\n",
    "        backtracking('JFK')\n",
    "        return path \n",
    "\n",
    "                \n",
    "tickets = [[\"MUC\",\"LHR\"],[\"JFK\",\"MUC\"],[\"SFO\",\"SJC\"],[\"LHR\",\"SFO\"]]\n",
    "obj = Solution().findItinerary(tickets)"
   ]
  },
  {
   "cell_type": "code",
   "execution_count": null,
   "metadata": {},
   "outputs": [],
   "source": []
  }
 ],
 "metadata": {
  "kernelspec": {
   "display_name": "Python 3.9.2 64-bit",
   "language": "python",
   "name": "python3"
  },
  "language_info": {
   "codemirror_mode": {
    "name": "ipython",
    "version": 3
   },
   "file_extension": ".py",
   "mimetype": "text/x-python",
   "name": "python",
   "nbconvert_exporter": "python",
   "pygments_lexer": "ipython3",
   "version": "3.9.2"
  },
  "orig_nbformat": 4,
  "vscode": {
   "interpreter": {
    "hash": "397704579725e15f5c7cb49fe5f0341eb7531c82d19f2c29d197e8b64ab5776b"
   }
  }
 },
 "nbformat": 4,
 "nbformat_minor": 2
}
