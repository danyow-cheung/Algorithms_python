{
 "cells": [
  {
   "attachments": {},
   "cell_type": "markdown",
   "metadata": {},
   "source": [
    "# 零錢兌換II\n",
    "\n",
    "## 問題\n",
    "给定不同面额的硬币和一个总金额。写出函数来计算可以凑成总金额的硬币组合数。假设每一种面额的硬币有无限个。\n",
    "\n",
    "示例 1:\n",
    "\n",
    "输入: amount = 5, coins = [1, 2, 5]\n",
    "输出: 4\n",
    "解释: 有四种方式可以凑成总金额:\n",
    "\n",
    "5=5\n",
    "\n",
    "5=2+2+1\n",
    "\n",
    "5=2+1+1+1\n",
    "\n",
    "5=1+1+1+1+1\n",
    "\n",
    "\n",
    "## 代碼\n",
    "\n",
    "\n"
   ]
  },
  {
   "attachments": {},
   "cell_type": "markdown",
   "metadata": {},
   "source": [
    "在求装满背包有几种方案的时候，认清遍历顺序是非常关键的。\n",
    "\n",
    "**如果求组合数就是外层for循环遍历物品，内层for遍历背包。**\n",
    "\n",
    "**如果求排列数就是外层for遍历背包，内层for循环遍历物品**"
   ]
  },
  {
   "cell_type": "code",
   "execution_count": null,
   "metadata": {},
   "outputs": [],
   "source": [
    "class Solution(object):\n",
    "    def change(self, amount, coins):\n",
    "        \"\"\"\n",
    "        :type amount: int\n",
    "        :type coins: List[int]\n",
    "        :rtype: int\n",
    "        \"\"\"\n",
    "        dp = [0]*(amount+1)\n",
    "        dp[0]=1 \n",
    "        for i in range(len(coins)):\n",
    "            for j in range(coins[i],amount+1):\n",
    "                dp[j] += dp[j-coins[i]]\n",
    "        return dp[amount]\n",
    "        "
   ]
  }
 ],
 "metadata": {
  "kernelspec": {
   "display_name": "Python 3",
   "language": "python",
   "name": "python3"
  },
  "language_info": {
   "name": "python",
   "version": "3.9.2 (v3.9.2:1a79785e3e, Feb 19 2021, 09:06:10) \n[Clang 6.0 (clang-600.0.57)]"
  },
  "orig_nbformat": 4,
  "vscode": {
   "interpreter": {
    "hash": "397704579725e15f5c7cb49fe5f0341eb7531c82d19f2c29d197e8b64ab5776b"
   }
  }
 },
 "nbformat": 4,
 "nbformat_minor": 2
}
