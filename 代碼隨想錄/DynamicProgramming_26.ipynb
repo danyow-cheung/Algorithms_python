{
 "cells": [
  {
   "attachments": {},
   "cell_type": "markdown",
   "metadata": {},
   "source": [
    "# 買賣股票的最佳時機IV\n",
    "\n",
    "## 問題\n",
    "\n",
    "给定一个整数数组 prices ，它的第 i 个元素 prices[i] 是一支给定的股票在第 i 天的价格。\n",
    "\n",
    "设计一个算法来计算你所能获取的最大利润。你最多可以完成 k 笔交易。\n",
    "\n",
    "注意：你不能同时参与多笔交易（你必须在再次购买前出售掉之前的股票）。\n",
    "\n",
    "示例 1： \n",
    "\n",
    "输入：k = 2, prices = [2,4,1] \n",
    "\n",
    "输出：2 \n",
    "\n",
    "解释：在第 1 天 (股票价格 = 2) 的时候买入，在第 2 天 (股票价格 = 4) 的时候卖出，这笔交易所能获得利润 = 4-2 = 2。\n",
    "\n",
    "## 代碼\n"
   ]
  },
  {
   "attachments": {},
   "cell_type": "markdown",
   "metadata": {},
   "source": [
    "在动态规划：123.买卖股票的最佳时机III (opens new window)中，我是定义了一个二维dp数组，本题其实依然可以用一个二维dp数组。\n",
    "\n",
    "使用二维数组 dp[i][j] ：第i天的状态为j，所剩下的最大现金是dp[i][j]\n",
    "\n",
    "j的状态表示为：\n",
    "\n",
    "0. 表示不操作\n",
    "1. 第一次买入\n",
    "2. 第一次卖出\n",
    "3. 第二次买入\n",
    "4. 第二次卖出\n",
    ".....\n",
    "\n",
    "大家应该发现规律了吧 ，除了0以外，偶数就是卖出，奇数就是买入。\n",
    "\n",
    "题目要求是至多有K笔交易，那么j的范围就定义为 2 * k + 1 就可以了。\n",
    "\n",
    "所以二维dp数组的C++定义为：\n"
   ]
  },
  {
   "cell_type": "code",
   "execution_count": 2,
   "metadata": {},
   "outputs": [
    {
     "data": {
      "text/plain": [
       "[[0, 0, 0, 0, 0], [0, 0, 0, 0, 0], [0, 0, 0, 0, 0], [0, 0, 0, 0, 0]]"
      ]
     },
     "execution_count": 2,
     "metadata": {},
     "output_type": "execute_result"
    }
   ],
   "source": [
    "k = 2\n",
    "prices = [2,2,1,3]\n",
    "dp = [[0]*(2*k+1) for i in range(len(prices))]\n",
    "dp"
   ]
  },
  {
   "attachments": {},
   "cell_type": "markdown",
   "metadata": {},
   "source": [
    "<img src= 'https://img-blog.csdnimg.cn/20201229100358221.png'>"
   ]
  },
  {
   "cell_type": "code",
   "execution_count": 3,
   "metadata": {},
   "outputs": [
    {
     "name": "stdout",
     "output_type": "stream",
     "text": [
      "[[0, -2, 0, -2, 0], [0, 0, 0, 0, 0], [0, 0, 0, 0, 0]]\n"
     ]
    }
   ],
   "source": [
    "class Solution(object):\n",
    "    def maxProfit(self, k, prices):\n",
    "        \"\"\"\n",
    "        :type k: int\n",
    "        :type prices: List[int]\n",
    "        :rtype: int\n",
    "        \"\"\"\n",
    "        if len(prices)==0:\n",
    "            return 0 \n",
    "        dp = [[0]*(2*k+1)for i in range(len(prices))]\n",
    "\n",
    "        for j in range(1,2*k,2):\n",
    "            dp[0][j] =-prices[0]\n",
    "        \n",
    "        for i in range(1,len(prices)):\n",
    "            for j in range(0,2*k-1,2):\n",
    "                dp[i][j+1] = max(dp[i-1][j+1],dp[i-1][j]-prices[i])\n",
    "                dp[i][j+2] = max(dp[i-1][j+2],dp[i-1][j+1]+prices[i])\n",
    "        return dp[-1][2*k]\n",
    "\n",
    "k = 2\n",
    "prices = [2,4,1]\n",
    "\n",
    "obj = Solution().maxProfit(k,prices)"
   ]
  },
  {
   "cell_type": "code",
   "execution_count": null,
   "metadata": {},
   "outputs": [],
   "source": []
  }
 ],
 "metadata": {
  "kernelspec": {
   "display_name": "Python 3",
   "language": "python",
   "name": "python3"
  },
  "language_info": {
   "codemirror_mode": {
    "name": "ipython",
    "version": 3
   },
   "file_extension": ".py",
   "mimetype": "text/x-python",
   "name": "python",
   "nbconvert_exporter": "python",
   "pygments_lexer": "ipython3",
   "version": "3.9.2"
  },
  "orig_nbformat": 4,
  "vscode": {
   "interpreter": {
    "hash": "397704579725e15f5c7cb49fe5f0341eb7531c82d19f2c29d197e8b64ab5776b"
   }
  }
 },
 "nbformat": 4,
 "nbformat_minor": 2
}
