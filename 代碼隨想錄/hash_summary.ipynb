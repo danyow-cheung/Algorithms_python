{
 "cells": [
  {
   "cell_type": "markdown",
   "metadata": {},
   "source": [
    "# 總結\n",
    "\n",
    "## 哈希表理論基礎\n",
    "一般哈希表用來快速判斷一個元素是否出現在集合裡\n",
    "- 哈希函數\n",
    "  傳入的key映射到符號表的索引上\n",
    "- 哈希碰撞\n",
    "  多個key映射到相同索引上情景，處理碰撞的普遍方法是拉鍊法和線性探測法\n",
    "  "
   ]
  }
 ],
 "metadata": {
  "language_info": {
   "name": "python"
  },
  "orig_nbformat": 4
 },
 "nbformat": 4,
 "nbformat_minor": 2
}
