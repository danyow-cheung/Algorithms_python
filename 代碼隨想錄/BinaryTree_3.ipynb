{
 "cells": [
  {
   "cell_type": "markdown",
   "metadata": {},
   "source": [
    "# 二叉树的迭代遍历\n",
    "**递归的实现就是，每一次递归调用都会把函数的局部变量，参数值和返回地址等压到调用栈中。**\n",
    "递归返回的时候，从栈顶弹出上一次递归的各项参数\n",
    "\n",
    "## 前序遍历（迭代法）\n",
    "前序遍历是中左右，<u>每次先处理的是中间节点，那么先将根节点放入栈中，然后讲右孩子加入栈，再加入左孩子</u><br>\n",
    "先加入右孩子的原因是，出栈的时候的顺序是中左右"
   ]
  },
  {
   "cell_type": "code",
   "execution_count": null,
   "metadata": {},
   "outputs": [],
   "source": [
    "class Solution(object):\n",
    "    def preorderTraversal(self, root):\n",
    "        if root == None:return\n",
    "\n",
    "        stack = [root]\n",
    "        res =[]\n",
    "        while stack:\n",
    "            # 弹出元素\n",
    "            node = stack.pop()\n",
    "            # 中节点先处理\n",
    "            res.append(node.val)\n",
    "            # 先处理右节点\n",
    "            if node.left:\n",
    "                # stack不同\n",
    "                stack.append(node.right)\n",
    "            if node.left:\n",
    "                # stack\n",
    "                stack.append(node.left)\n",
    "        return res \n",
    "        \n",
    "                "
   ]
  },
  {
   "cell_type": "markdown",
   "metadata": {},
   "source": [
    "## 中序遍历\n",
    "左中右，先访问的是二叉树顶部的节点，然后一层层向下访问，直到到达树左面的最底部，再开始处理节点。**<u>这就造成了处理顺序和访问顺序不一致的情况</u>**\n",
    "<br>\n",
    "\n",
    "\n",
    "#### <u>在使用迭代法写中序遍历，需要借用到指针的遍历来帮助访问节点，栈则用来处理节点上的元素</u>\n",
    "\n"
   ]
  },
  {
   "cell_type": "code",
   "execution_count": 1,
   "metadata": {},
   "outputs": [],
   "source": [
    "class Solution(object):\n",
    "    def preorderTraversal(self, root):\n",
    "        if root == None:return\n",
    "\n",
    "        # 不能提前将root节点加入stack中\n",
    "        stack =[]\n",
    "        res = []\n",
    "        cur = root \n",
    "        while cur or stack:\n",
    "            # 先迭代访问最底层的左子树节点\n",
    "            if cur:\n",
    "                stack.append(cur)\n",
    "                cur = cur.next \n",
    "            \n",
    "            # 到达最左节点后处理栈顶点\n",
    "            else:\n",
    "                cur = stack.pop()\n",
    "                res.append(cur.val)\n",
    "                # 取栈定元素右节点\n",
    "                cur = cur.right\n",
    "        return res "
   ]
  },
  {
   "cell_type": "markdown",
   "metadata": {},
   "source": [
    "## 后序遍历（迭代法）\n",
    "后序遍历只需要稍微调整前序代码就好了"
   ]
  },
  {
   "cell_type": "code",
   "execution_count": null,
   "metadata": {},
   "outputs": [],
   "source": [
    "class Solution(object):\n",
    "    def preorderTraversal(self, root):\n",
    "        if root == None:return\n",
    "\n",
    "        stack = [root]\n",
    "        res =[]\n",
    "        while stack:\n",
    "            # 弹出元素\n",
    "            node = stack.pop()\n",
    "            # 中节点先处理\n",
    "            res.append(node.val)\n",
    "            # 先处理左节点\n",
    "            if node.left:\n",
    "                # stack\n",
    "                stack.append(node.left)\n",
    "\n",
    "            \n",
    "            if node.right:\n",
    "                # stack不同\n",
    "                stack.append(node.right)\n",
    "        # 将最终的数组翻转\n",
    "        return res[::-1] \n",
    "                "
   ]
  }
 ],
 "metadata": {
  "kernelspec": {
   "display_name": "Python 3.9.2 64-bit",
   "language": "python",
   "name": "python3"
  },
  "language_info": {
   "codemirror_mode": {
    "name": "ipython",
    "version": 3
   },
   "file_extension": ".py",
   "mimetype": "text/x-python",
   "name": "python",
   "nbconvert_exporter": "python",
   "pygments_lexer": "ipython3",
   "version": "3.9.2"
  },
  "orig_nbformat": 4,
  "vscode": {
   "interpreter": {
    "hash": "397704579725e15f5c7cb49fe5f0341eb7531c82d19f2c29d197e8b64ab5776b"
   }
  }
 },
 "nbformat": 4,
 "nbformat_minor": 2
}
