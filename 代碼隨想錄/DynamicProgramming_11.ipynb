{
 "cells": [
  {
   "attachments": {},
   "cell_type": "markdown",
   "metadata": {},
   "source": [
    "# 一和零\n",
    "\n",
    "## 問題\n",
    "\n",
    "给你一个二进制字符串数组 strs 和两个整数 m 和 n 。\n",
    "\n",
    "请你找出并返回 strs 的最大子集的大小，该子集中 最多 有 m 个 0 和 n 个 1 。\n",
    "\n",
    "如果 x 的所有元素也是 y 的元素，集合 x 是集合 y 的 子集 。\n",
    "\n",
    "示例 1：\n",
    "\n",
    "输入：strs = [\"10\", \"0001\", \"111001\", \"1\", \"0\"], m = 5, n = 3 \n",
    "\n",
    "输出：4\n",
    "\n",
    "解释：最多有 5 个 0 和 3 个 1 的最大子集是 {\"10\",\"0001\",\"1\",\"0\"} ，因此答案是 4 。 其他满足题意但较小的子集包括 {\"0001\",\"1\"} 和 {\"10\",\"1\",\"0\"} 。{\"111001\"} 不满足题意，因为它含 4 个 1 ，大于 n 的值 3 。\n",
    "\n",
    "\n",
    "\n",
    "\n",
    "\n",
    "## 代碼\n"
   ]
  },
  {
   "attachments": {},
   "cell_type": "markdown",
   "metadata": {},
   "source": [
    "dp[i][j] 可以由前一个strs里的字符串推导出来，strs里的字符串有zeroNum个0，oneNum个1。\n",
    "\n",
    "dp[i][j] 就可以是 dp[i - zeroNum][j - oneNum] + 1。\n",
    "\n",
    "然后我们在遍历的过程中，取dp[i][j]的最大值。\n",
    "\n",
    "所以递推公式：dp[i][j] = max(dp[i][j], dp[i - zeroNum][j - oneNum] + 1);\n",
    "\n",
    "\n"
   ]
  },
  {
   "cell_type": "code",
   "execution_count": 9,
   "metadata": {},
   "outputs": [
    {
     "name": "stdout",
     "output_type": "stream",
     "text": [
      "[[0, 0, 0, 0], [0, 0, 0, 0], [0, 0, 0, 0], [0, 0, 0, 0], [0, 0, 0, 0], [0, 0, 0, 0]]\n",
      "4\n"
     ]
    }
   ],
   "source": [
    "class Solution(object):\n",
    "    def findMaxForm(self, strs, m, n):\n",
    "        \"\"\"\n",
    "        :type strs: List[str]\n",
    "        :type m: int\n",
    "        :type n: int\n",
    "        :rtype: int\n",
    "        \"\"\"\n",
    "        dp = [[0]*(n+1)for _ in range(m+1)]\n",
    "        print(dp)\n",
    "        zeroNum = 0\n",
    "        oneNum = 0\n",
    "        # 遍歷物品\n",
    "        \n",
    "        \n",
    "        for i in strs:\n",
    "            oneNum = i.count('1')\n",
    "            zeroNum = i.count('0')\n",
    "            \n",
    "            # 遍歷背包容量並且從後往前遍歷\n",
    "            for i in range(m,zeroNum-1,-1):\n",
    "                for j in range(n,oneNum-1,-1):\n",
    "                    dp[i][j] = max(dp[i][j],dp[i-zeroNum][j-oneNum]+1)\n",
    "        print(dp[m][n])\n",
    "        return dp[m][n]\n",
    "        \n",
    "\n",
    "\n",
    "strs = [\"10\",\"0001\",\"111001\",\"1\",\"0\"]\n",
    "m = 5 \n",
    "n = 3\n",
    "obj = Solution().findMaxForm(strs,m,n)"
   ]
  },
  {
   "cell_type": "code",
   "execution_count": null,
   "metadata": {},
   "outputs": [],
   "source": []
  }
 ],
 "metadata": {
  "kernelspec": {
   "display_name": "Python 3",
   "language": "python",
   "name": "python3"
  },
  "language_info": {
   "codemirror_mode": {
    "name": "ipython",
    "version": 3
   },
   "file_extension": ".py",
   "mimetype": "text/x-python",
   "name": "python",
   "nbconvert_exporter": "python",
   "pygments_lexer": "ipython3",
   "version": "3.9.2"
  },
  "orig_nbformat": 4,
  "vscode": {
   "interpreter": {
    "hash": "397704579725e15f5c7cb49fe5f0341eb7531c82d19f2c29d197e8b64ab5776b"
   }
  }
 },
 "nbformat": 4,
 "nbformat_minor": 2
}
