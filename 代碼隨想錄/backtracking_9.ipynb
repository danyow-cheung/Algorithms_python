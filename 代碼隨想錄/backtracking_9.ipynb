{
 "cells": [
  {
   "cell_type": "markdown",
   "metadata": {},
   "source": [
    "# 子集\n",
    "\n",
    "## 问题\n",
    "\n",
    "给定一组不含重复元素的整数数组 nums，返回该数组所有可能的子集（幂集）。\n",
    "\n",
    "说明：解集不能包含重复的子集。\n",
    "\n",
    "示例: 输入: nums = [1,2,3] 输出: [ [3],   [1],   [2],   [1,2,3],   [1,3],   [2,3],   [1,2],   [] ]\n",
    "\n",
    "\n",
    "\n",
    "## 代码\n",
    "\n",
    "<img src= 'https://img-blog.csdnimg.cn/202011232041348.png'>"
   ]
  },
  {
   "cell_type": "markdown",
   "metadata": {},
   "source": [
    "**求解子集问题，不需要任何的剪枝，因为子集就是遍历整棵树**"
   ]
  },
  {
   "cell_type": "code",
   "execution_count": null,
   "metadata": {},
   "outputs": [],
   "source": [
    "class Solution(object):\n",
    "    def subsets(self, nums):\n",
    "        \"\"\"\n",
    "        :type nums: List[int]\n",
    "        :rtype: List[List[int]]\n",
    "        \"\"\"\n",
    "        path = []\n",
    "        res = []\n",
    "        def backtracking(nums,startIdx):\n",
    "            # 要记得[:]中间的分号啊\n",
    "            res.append(path[:])\n",
    "            if startIdx==len(nums):\n",
    "                return \n",
    "            for i in range(startIdx,len(nums)):\n",
    "                path.append(nums[i])\n",
    "                # i+1不是原来index的值\n",
    "                backtracking(nums,i+1)\n",
    "                path.pop()\n",
    "\n",
    "        backtracking(nums,0)\n",
    "        return res "
   ]
  }
 ],
 "metadata": {
  "kernelspec": {
   "display_name": "Python 3.9.2 64-bit",
   "language": "python",
   "name": "python3"
  },
  "language_info": {
   "name": "python",
   "version": "3.9.2"
  },
  "orig_nbformat": 4,
  "vscode": {
   "interpreter": {
    "hash": "397704579725e15f5c7cb49fe5f0341eb7531c82d19f2c29d197e8b64ab5776b"
   }
  }
 },
 "nbformat": 4,
 "nbformat_minor": 2
}
