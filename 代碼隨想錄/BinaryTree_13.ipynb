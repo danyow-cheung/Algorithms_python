{
 "cells": [
  {
   "cell_type": "markdown",
   "metadata": {},
   "source": [
    "# 左叶子之和\n",
    "\n",
    "## 问题\n",
    "计算给定二叉树的所有左叶子之和。\n",
    "\n",
    "<img src = \"https://img-blog.csdnimg.cn/20210204151927654.png\" >\n",
    "\n",
    "\n",
    "\n",
    "## 代码\n",
    "- 叶子节点是没有左孩子和右孩子的节点\n",
    "- **判断当前节点是不是左叶子是无法判断的，必须要通过节点的父节点来判断其左孩子是不是左叶子**\n"
   ]
  },
  {
   "cell_type": "code",
   "execution_count": null,
   "metadata": {},
   "outputs": [],
   "source": [
    "# Definition for a binary tree node.\n",
    "# class TreeNode(object):\n",
    "#     def __init__(self, val=0, left=None, right=None):\n",
    "#         self.val = val\n",
    "#         self.left = left\n",
    "#         self.right = right\n",
    "class Solution(object):\n",
    "    def sumOfLeftLeaves(self, root):\n",
    "        \"\"\"\n",
    "        :type root: TreeNode\n",
    "        :rtype: int\n",
    "        【递归】\n",
    "        \"\"\"\n",
    "        if not root:\n",
    "            return 0 \n",
    "        # 左子树上的左叶子\n",
    "        left_left_sum = self.sumOfLeftLeaves(root.left)\n",
    "        # 右子树上的左叶子\n",
    "        right_left_sum = self.sumOfLeftLeaves(root.right)\n",
    "        \n",
    "        # 当前叶子数值\n",
    "        cur_left_val = 0\n",
    "        # 当前父节点有左节点且，该左节点是没有下一层左节点和右子节点\n",
    "        # 即为所求\n",
    "        if root.right and not root.left.left and not root.left.right:\n",
    "            cur_left_val = root.left.val\n",
    "        \n",
    "        return cur_left_val + left_left_sum + right_left_sum\n",
    "       "
   ]
  }
 ],
 "metadata": {
  "language_info": {
   "name": "python"
  },
  "orig_nbformat": 4
 },
 "nbformat": 4,
 "nbformat_minor": 2
}
