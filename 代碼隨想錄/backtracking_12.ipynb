{
 "cells": [
  {
   "cell_type": "markdown",
   "metadata": {},
   "source": [
    "# 全排列\n",
    "\n",
    "## 问题\n",
    "给定一个 没有重复 数字的序列，返回其所有可能的全排列。\n",
    "\n",
    "示例:\n",
    "\n",
    "输入: [1,2,3]\n",
    "\n",
    "输出: [ [1,2,3], [1,3,2], [2,1,3], [2,3,1], [3,1,2], [3,2,1] ]\n",
    "\n",
    "\n",
    "## 代码\n",
    "\n"
   ]
  },
  {
   "cell_type": "code",
   "execution_count": null,
   "metadata": {},
   "outputs": [],
   "source": [
    "class Solution(object):\n",
    "    def permute(self, nums):\n",
    "        \"\"\"\n",
    "        :type nums: List[int]\n",
    "        :rtype: List[List[int]]\n",
    "        \"\"\"\n",
    "        res = []\n",
    "        path = []\n",
    "        used = [False]*len(nums)\n",
    "        def backtracking(nums):\n",
    "            # 找到一组结果\n",
    "            if len(path)==len(nums):\n",
    "                res.append(path[:])\n",
    "                return \n",
    "            for i in range(len(nums)):\n",
    "                # path已经收录的元素，直接跳过\n",
    "                if used[i]==True:\n",
    "                    continue\n",
    "                used[i]=True\n",
    "                path.append(nums[i])\n",
    "                backtracking(nums)\n",
    "                path.pop()\n",
    "                used[i]=False  \n",
    "        backtracking(nums)\n",
    "        return res \n"
   ]
  }
 ],
 "metadata": {
  "kernelspec": {
   "display_name": "Python 3.9.2 64-bit",
   "language": "python",
   "name": "python3"
  },
  "language_info": {
   "name": "python",
   "version": "3.9.2"
  },
  "orig_nbformat": 4,
  "vscode": {
   "interpreter": {
    "hash": "397704579725e15f5c7cb49fe5f0341eb7531c82d19f2c29d197e8b64ab5776b"
   }
  }
 },
 "nbformat": 4,
 "nbformat_minor": 2
}
