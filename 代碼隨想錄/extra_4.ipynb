{
 "cells": [
  {
   "attachments": {},
   "cell_type": "markdown",
   "metadata": {},
   "source": [
    "# 旋转数组\n",
    "> 动态规划\n",
    "\n",
    "## 问题\n",
    "\n",
    "给定一个数组，将数组中的元素向右移动 k 个位置，其中 k 是非负数。\n",
    "\n",
    "进阶：\n",
    "\n",
    "尽可能想出更多的解决方案，至少有三种不同的方法可以解决这个问题。 你可以使用空间复杂度为 O(1) 的 原地 算法解决这个问题吗？\n",
    "\n",
    "示例 1:\n",
    "\n",
    "输入: nums = [1,2,3,4,5,6,7], k = 3\n",
    "\n",
    "输出: [5,6,7,1,2,3,4]\n",
    "\n",
    "解释: 向右旋转 1 步: [7,1,2,3,4,5,6]。 向右旋转 2 步: [6,7,1,2,3,4,5]。 向右旋转 3 步: [5,6,7,1,2,3,4]。\n",
    "\n",
    "\n",
    "\n",
    "\n",
    "## 代码"
   ]
  },
  {
   "attachments": {},
   "cell_type": "markdown",
   "metadata": {},
   "source": [
    "本题是右旋转，其实就是反转的顺序改动一下，优先反转整个字符串，步骤如下：\n",
    "\n",
    "- 反转整个字符串\n",
    "- 反转区间为前k的子串\n",
    "- 反转区间为k到末尾的子串\n",
    "需要注意的是，本题还有一个小陷阱，题目输入中，如果k大于nums.size了应该怎么办？\n",
    "\n",
    "举个例子，比较容易想，\n",
    "\n",
    "例如，1,2,3,4,5,6,7 如果右移动15次的话，是 7 1 2 3 4 5 6 。\n",
    "\n",
    "所以其实就是右移 k % nums.size() 次，即：15 % 7 = 1"
   ]
  },
  {
   "cell_type": "code",
   "execution_count": null,
   "metadata": {},
   "outputs": [],
   "source": [
    "class Solution(object):\n",
    "    def rotate(self, nums, k):\n",
    "        \"\"\"\n",
    "        :type nums: List[int]\n",
    "        :type k: int\n",
    "        :rtype: None Do not return anything, modify nums in-place instead.\n",
    "        \"\"\"\n",
    "        def reverse(i,j):\n",
    "            while i<j:\n",
    "                nums[i],nums[j] = nums[j],nums[i]\n",
    "                i+=1 \n",
    "                j-=1 \n",
    "        n = len(nums)\n",
    "        k %= n \n",
    "        reverse(0,n-1)\n",
    "        reverse(0,k-1)\n",
    "        reverse(k,n-1)"
   ]
  }
 ],
 "metadata": {
  "language_info": {
   "name": "python"
  },
  "orig_nbformat": 4
 },
 "nbformat": 4,
 "nbformat_minor": 2
}
