{
 "cells": [
  {
   "cell_type": "markdown",
   "metadata": {},
   "source": [
    "# 二叉树的所有路径\n",
    "\n",
    "## 问题\n",
    "\n",
    "给定一个二叉树，返回所有从根节点到叶子节点的路径。\n",
    "\n",
    "说明: 叶子节点是指没有子节点的节点。\n",
    "<img src = 'https://img-blog.csdnimg.cn/2021020415161576.png'>\n",
    "\n",
    "## 代码\n",
    "使用到回溯算法，因为我们要把路径记录下来，需要回溯来回退一一个路径在进入另一个路径。\n",
    "<img src = \"https://img-blog.csdnimg.cn/20210204151702443.png\">\n"
   ]
  },
  {
   "cell_type": "code",
   "execution_count": null,
   "metadata": {},
   "outputs": [],
   "source": [
    "# Definition for a binary tree node.\n",
    "# class TreeNode(object):\n",
    "#     def __init__(self, val=0, left=None, right=None):\n",
    "#         self.val = val\n",
    "#         self.left = left\n",
    "#         self.right = right\n",
    "class Solution(object):\n",
    "    def binaryTreePaths(self, root):\n",
    "        \"\"\"\n",
    "        :type root: TreeNode\n",
    "        :rtype: List[str]\n",
    "        递归+隐形回溯\n",
    "        \"\"\"\n",
    "        path = \"\"\n",
    "        res = []\n",
    "        if not root:\n",
    "            return res \n",
    "        self.traversal(root,path,res)\n",
    "        return res \n",
    "    \n",
    "    def traversal(self,root,path,res):\n",
    "        # 前序遍历\n",
    "        path += str(root.val)\n",
    "        # 当前节点为叶子节点，则直接输出\n",
    "        if not root.left and not root.right:\n",
    "            res.append(path)\n",
    "\n",
    "        if root.left:\n",
    "            # 加上‘-〉’隐藏回溯\n",
    "            self.traversal(root.left,path+'->',res)\n",
    "        if root.right:\n",
    "            # 同理\n",
    "            self.traversal(root.right,path+'->',res)\n",
    "        \n"
   ]
  }
 ],
 "metadata": {
  "kernelspec": {
   "display_name": "Python 3.9.2 64-bit",
   "language": "python",
   "name": "python3"
  },
  "language_info": {
   "name": "python",
   "version": "3.9.2"
  },
  "orig_nbformat": 4,
  "vscode": {
   "interpreter": {
    "hash": "397704579725e15f5c7cb49fe5f0341eb7531c82d19f2c29d197e8b64ab5776b"
   }
  }
 },
 "nbformat": 4,
 "nbformat_minor": 2
}
