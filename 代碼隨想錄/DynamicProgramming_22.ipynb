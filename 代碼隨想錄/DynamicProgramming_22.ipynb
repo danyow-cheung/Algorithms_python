{
 "cells": [
  {
   "attachments": {},
   "cell_type": "markdown",
   "id": "2330e683",
   "metadata": {},
   "source": [
    "# 打家劫舍III\n",
    "## 问题\n",
    "\n",
    "在上次打劫完一条街道之后和一圈房屋后，小偷又发现了一个新的可行窃的地区。这个地区只有一个入口，我们称之为“根”。 除了“根”之外，每栋房子有且只有一个“父“房子与之相连。一番侦察之后，聪明的小偷意识到“这个地方的所有房屋的排列类似于一棵二叉树”。 如果两个直接相连的房子在同一天晚上被打劫，房屋将自动报警。\n",
    "\n",
    "计算在不触动警报的情况下，小偷一晚能够盗取的最高金额。\n",
    "\n",
    "示例 1：\n",
    "<img src= 'https://img-blog.csdnimg.cn/20210223173849619.png'>\n",
    "\n",
    "\n",
    "## 代码\n",
    "\n",
    "如果抢了当前节点，两个孩子就不能动，如果没抢当前节点，就可以考虑抢左右孩子（注意这里说的是“考虑”）\n",
    "\n",
    "```\n",
    "class Solution{\n",
    "    public:\n",
    "    int rob(TreeNode *root){\n",
    "        int (root==NULL)return 0 ;\n",
    "        int (root.left==NULL && root->right==NULL)return root->val;\n",
    "        // 偷父节点\n",
    "        int val1 = root->val;\n",
    "        int(root->left) val1 += rob(root->left->left)+rob(root->left->right)\n",
    "        int (root->right) val1+=rob(root->right->left) + rob(root->left->right)\n",
    "\n",
    "        //不偷父节点\n",
    "        int val2 = rob(root->left)+rob(root->right);\n",
    "        return max(val1,val2)\n",
    "    }\n",
    "}\n",
    "```"
   ]
  },
  {
   "attachments": {},
   "cell_type": "markdown",
   "id": "96fa2da8",
   "metadata": {},
   "source": [
    "暴力递归"
   ]
  },
  {
   "cell_type": "code",
   "execution_count": 3,
   "id": "80cb2fd3",
   "metadata": {},
   "outputs": [
    {
     "name": "stdout",
     "output_type": "stream",
     "text": [
      "[2, 3, 0]\n",
      "[0, 3, 3]\n",
      "3 3\n"
     ]
    }
   ],
   "source": [
    "# Definition for a binary tree node.\n",
    "# class TreeNode(object):\n",
    "#     def __init__(self, val=0, left=None, right=None):\n",
    "#         self.val = val\n",
    "#         self.left = left\n",
    "#         self.right = right\n",
    "class Solution(object):\n",
    "    def rob(self, root):\n",
    "        \"\"\"\n",
    "        :type root: TreeNode\n",
    "        :rtype: int\n",
    "        \"\"\"\n",
    "        if root is None:\n",
    "            return 0 \n",
    "        if root.left is None and root.right is None:\n",
    "            return root.val \n",
    "\n",
    "        # 偷父节点  \n",
    "        val = root,val \n",
    "        if root.left:\n",
    "            val += self.rob(root.left.left)+self.rob(root.left.right)\n",
    "        if root.right:\n",
    "            val += self.rob(root.right.left)+self.rob(root.right.right)\n",
    "        # 不偷父节点\n",
    "        val2 = self.rob(root.left)+self.rob(root.right)\n",
    "        return max(val,val2)\n",
    "        \n",
    "        "
   ]
  },
  {
   "attachments": {},
   "cell_type": "markdown",
   "id": "d09b6e04",
   "metadata": {},
   "source": [
    "记忆化递归"
   ]
  },
  {
   "cell_type": "code",
   "execution_count": null,
   "id": "098dd5fa",
   "metadata": {},
   "outputs": [],
   "source": [
    "# Definition for a binary tree node.\n",
    "# class TreeNode(object):\n",
    "#     def __init__(self, val=0, left=None, right=None):\n",
    "#         self.val = val\n",
    "#         self.left = left\n",
    "#         self.right = right\n",
    "class Solution(object):\n",
    "    memory = {}\n",
    "        \n",
    "    def rob(self, root):\n",
    "        \"\"\"\n",
    "        :type root: TreeNode\n",
    "        :rtype: int\n",
    "        \"\"\"\n",
    "        if root is None:\n",
    "            return 0 \n",
    "\n",
    "        if root.left is None and root.right is None:\n",
    "            return root.val \n",
    "        \n",
    "        if self.memory.get(root) is not None:\n",
    "            return self.memory[root]\n",
    "        # 偷父节点\n",
    "        val1 = root.val\n",
    "        if root.left:\n",
    "            val1+=self.rob(root.left.left)+self.rob(root.left.right)\n",
    "        if root.right:\n",
    "            val1+=self.rob(root.right.left)+self.rob(root.right.right)\n",
    "\n",
    "        # 不偷父节点\n",
    "        val2 = self.rob(root.left)+self.rob(root.right)\n",
    "        self.memory[root] = max(val1,val2)\n",
    "        return max(val1,val2)\n",
    "        "
   ]
  },
  {
   "attachments": {},
   "cell_type": "markdown",
   "id": "86e72d98",
   "metadata": {},
   "source": [
    "动态规划\n"
   ]
  },
  {
   "cell_type": "code",
   "execution_count": null,
   "id": "c8bb5187",
   "metadata": {},
   "outputs": [],
   "source": [
    "# Definition for a binary tree node.\n",
    "# class TreeNode(object):\n",
    "#     def __init__(self, val=0, left=None, right=None):\n",
    "#         self.val = val\n",
    "#         self.left = left\n",
    "#         self.right = right\n",
    "class Solution(object):\n",
    "    def rob(self, root):\n",
    "        '''\n",
    "        dp数组以及下标的含义\n",
    "        1. 下标为0记录--不偷节点--所得到的最大金钱\n",
    "        2. 下标为1记录--偷节点--所得到的最大金钱\n",
    "        '''\n",
    "        dp = self.traversal(root)\n",
    "        return max(dp)\n",
    "    \n",
    "    '''使用后序遍历,因为要通过递归函数的返回值来做下一步计算'''\n",
    "    def traversal(self,node):\n",
    "        # 递归终止条件，就是遇到了空节点\n",
    "        if not node:\n",
    "            return (0,0)\n",
    "        left = self.traversal(node.left)\n",
    "        right = self.traversal(node.right)\n",
    "\n",
    "        # 不偷当前节点\n",
    "        val_0 = max(left[0],left[1])+max(right[0],right[1])\n",
    "\n",
    "        # 偷当前节点\n",
    "        val_1 = node.val + left[0]+right[0]\n",
    "        return (val_0,val_1)\n",
    "        "
   ]
  }
 ],
 "metadata": {
  "kernelspec": {
   "display_name": "Python 3",
   "language": "python",
   "name": "python3"
  },
  "language_info": {
   "codemirror_mode": {
    "name": "ipython",
    "version": 3
   },
   "file_extension": ".py",
   "mimetype": "text/x-python",
   "name": "python",
   "nbconvert_exporter": "python",
   "pygments_lexer": "ipython3",
   "version": "3.9.2 (v3.9.2:1a79785e3e, Feb 19 2021, 09:06:10) \n[Clang 6.0 (clang-600.0.57)]"
  },
  "vscode": {
   "interpreter": {
    "hash": "397704579725e15f5c7cb49fe5f0341eb7531c82d19f2c29d197e8b64ab5776b"
   }
  }
 },
 "nbformat": 4,
 "nbformat_minor": 5
}
