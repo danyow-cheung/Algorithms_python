{
 "cells": [
  {
   "attachments": {},
   "cell_type": "markdown",
   "metadata": {},
   "source": [
    "# 最长公共子序列\n",
    "\n",
    "## 问题\n",
    "给定两个字符串 text1 和 text2，返回这两个字符串的最长公共子序列的长度。\n",
    "\n",
    "一个字符串的 子序列 是指这样一个新的字符串：它是由原字符串在不改变字符的相对顺序的情况下删除某些字符（也可以不删除任何字符）后组成的新字符串。\n",
    "\n",
    "例如，\"ace\" 是 \"abcde\" 的子序列，但 \"aec\" 不是 \"abcde\" 的子序列。两个字符串的「公共子序列」是这两个字符串所共同拥有的子序列。\n",
    "\n",
    "若这两个字符串没有公共子序列，则返回 0。\n",
    "\n",
    "示例 1:\n",
    "\n",
    "输入：text1 = \"abcde\", text2 = \"ace\" \n",
    "\n",
    "输出：3 \n",
    "\n",
    "解释：最长公共子序列是 \"ace\"，它的长度为 3。\n",
    "\n",
    "## 代码\n"
   ]
  },
  {
   "attachments": {},
   "cell_type": "markdown",
   "metadata": {},
   "source": [
    "<img src= 'https://img-blog.csdnimg.cn/20210210150215918.jpg'>"
   ]
  },
  {
   "cell_type": "code",
   "execution_count": null,
   "metadata": {},
   "outputs": [],
   "source": [
    "class Solution(object):\n",
    "    def longestCommonSubsequence(self, text1, text2):\n",
    "        \"\"\"\n",
    "        :type text1: str\n",
    "        :type text2: str\n",
    "        :rtype: int\n",
    "        \"\"\"\n",
    "        len1, len2 = len(text1)+1, len(text2)+1\n",
    "        dp = [[0 for _ in range(len1)] for _ in range(len2)] # 先对dp数组做初始化操作\n",
    "        for i in range(1, len2):\n",
    "            for j in range(1, len1): # 开始列出状态转移方程\n",
    "                if text1[j-1] == text2[i-1]:\n",
    "                    dp[i][j] = dp[i-1][j-1]+1\n",
    "                else:\n",
    "                    dp[i][j] = max(dp[i-1][j], dp[i][j-1])\n",
    "        return dp[-1][-1]"
   ]
  }
 ],
 "metadata": {
  "language_info": {
   "name": "python"
  },
  "orig_nbformat": 4
 },
 "nbformat": 4,
 "nbformat_minor": 2
}
