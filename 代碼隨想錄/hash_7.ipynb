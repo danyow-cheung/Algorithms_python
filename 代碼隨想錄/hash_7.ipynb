{
 "cells": [
  {
   "cell_type": "markdown",
   "metadata": {},
   "source": [
    "# 三數之和\n",
    "\n",
    "## 問題\n",
    "给你一个包含 n 个整数的数组 nums，判断 nums 中是否存在三个元素 a，b，c ，使得 a + b + c = 0 ？请你找出所有满足条件且不重复的三元组。\n",
    "\n",
    "**注意： 答案中不可以包含重复的三元组。**\n",
    "\n",
    "<u>示例：</u><br>\n",
    "给定数组 nums = [-1, 0, 1, 2, -1, -4]，\n",
    "\n",
    "满足要求的三元组集合为： [ [-1, 0, 1], [-1, -1, 2] ]\n",
    "\n",
    "\n",
    "\n",
    "\n",
    "## 代碼\n",
    "- 雙指針法"
   ]
  },
  {
   "cell_type": "code",
   "execution_count": null,
   "metadata": {},
   "outputs": [],
   "source": [
    "class Solution:\n",
    "    def threeSum(self, nums):\n",
    "        ans = []\n",
    "        n = len(nums)\n",
    "        # 排序之後進行指針湊數 \n",
    "        nums.sort()\n",
    "        for i in range(n):\n",
    "            left = i + 1\n",
    "            right = n - 1\n",
    "            if nums[i] > 0:\n",
    "                break\n",
    "            # 去重--為了沒有重複的四元組合\n",
    "            if i >= 1 and nums[i] == nums[i - 1]:\n",
    "                continue\n",
    "            while left < right:\n",
    "                total = nums[i] + nums[left] + nums[right]\n",
    "                if total > 0:\n",
    "                    right -= 1\n",
    "                elif total < 0:\n",
    "                    left += 1\n",
    "                else:\n",
    "                    ans.append([nums[i], nums[left], nums[right]])\n",
    "                    while left != right and nums[left] == nums[left + 1]: left += 1\n",
    "                    while left != right and nums[right] == nums[right - 1]: right -= 1\n",
    "                    left += 1\n",
    "                    right -= 1\n",
    "        return ans\n",
    "\n",
    "            "
   ]
  }
 ],
 "metadata": {
  "kernelspec": {
   "display_name": "Python 3.9.2 64-bit",
   "language": "python",
   "name": "python3"
  },
  "language_info": {
   "name": "python",
   "version": "3.9.2"
  },
  "orig_nbformat": 4,
  "vscode": {
   "interpreter": {
    "hash": "397704579725e15f5c7cb49fe5f0341eb7531c82d19f2c29d197e8b64ab5776b"
   }
  }
 },
 "nbformat": 4,
 "nbformat_minor": 2
}
