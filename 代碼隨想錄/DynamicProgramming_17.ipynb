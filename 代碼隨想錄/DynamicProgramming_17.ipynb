{
 "cells": [
  {
   "attachments": {},
   "cell_type": "markdown",
   "metadata": {},
   "source": [
    "# 完全平方數\n",
    "\n",
    "## 問題\n",
    "给定正整数 n，找到若干个完全平方数（比如 1, 4, 9, 16, ...）使得它们的和等于 n。你需要让组成和的完全平方数的个数最少。\n",
    "\n",
    "给你一个整数 n ，返回和为 n 的完全平方数的 最少数量 。\n",
    "\n",
    "完全平方数 是一个整数，其值等于另一个整数的平方；换句话说，其值等于一个整数自乘的积。例如，1、4、9 和 16 都是完全平方数，而 3 和 11 不是。\n",
    "\n",
    "示例 1： 输入：n = 12 输出：3 解释：12 = 4 + 4 + 4\n",
    "\n",
    "示例 2： 输入：n = 13 输出：2 解释：13 = 4 + 9\n",
    "\n",
    "\n",
    "## 代碼\n"
   ]
  },
  {
   "cell_type": "markdown",
   "metadata": {},
   "source": []
  }
 ],
 "metadata": {
  "language_info": {
   "name": "python"
  },
  "orig_nbformat": 4
 },
 "nbformat": 4,
 "nbformat_minor": 2
}
