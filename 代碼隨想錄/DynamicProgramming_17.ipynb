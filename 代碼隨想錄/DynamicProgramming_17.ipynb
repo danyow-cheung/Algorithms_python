{
 "cells": [
  {
   "cell_type": "markdown",
   "metadata": {},
   "source": [
    "# 完全平方數\n",
    "\n",
    "## 問題\n",
    "给定正整数 n，找到若干个完全平方数（比如 1, 4, 9, 16, ...）使得它们的和等于 n。你需要让组成和的完全平方数的个数最少。\n",
    "\n",
    "给你一个整数 n ，返回和为 n 的完全平方数的 最少数量 。\n",
    "\n",
    "完全平方数 是一个整数，其值等于另一个整数的平方；换句话说，其值等于一个整数自乘的积。例如，1、4、9 和 16 都是完全平方数，而 3 和 11 不是。\n",
    "\n",
    "示例 1： 输入：n = 12 输出：3 解释：12 = 4 + 4 + 4\n",
    "\n",
    "示例 2： 输入：n = 13 输出：2 解释：13 = 4 + 9\n",
    "\n",
    "\n",
    "## 代碼\n"
   ]
  },
  {
   "cell_type": "markdown",
   "metadata": {},
   "source": [
    "我来把题目翻译一下：**完全平方数就是物品（可以无限件使用），凑个正整数n就是背包，问凑满这个背包最少有多少物品？**\n"
   ]
  },
  {
   "cell_type": "markdown",
   "metadata": {},
   "source": [
    "递推公式：dp[j] = min(dp[j - i * i] + 1, dp[j]);"
   ]
  },
  {
   "cell_type": "markdown",
   "metadata": {},
   "source": [
    "<img src = 'https://img-blog.csdnimg.cn/20210202112617341.jpg'>"
   ]
  },
  {
   "cell_type": "code",
   "execution_count": 6,
   "metadata": {},
   "outputs": [],
   "source": [
    "class Solution(object):\n",
    "    def numSquares(self, n):\n",
    "        \"\"\"\n",
    "        :type n: int\n",
    "        :rtype: int\n",
    "        \"\"\"\n",
    "        '''版本一：先遍历背包，再遍历物品'''\n",
    "        # 初始化\n",
    "        nums = [i**2 for i in range(1,n+1) if i**2<=n]\n",
    "#         print(nums)\n",
    "        dp=[10**4]*(n+1)\n",
    "        dp[0]= 0 \n",
    "#         print(dp)\n",
    "        # 先遍历背包，\n",
    "        for j in range(1,n+1):\n",
    "            # 遍历物品\n",
    "            for num in nums:\n",
    "                if j>= num:\n",
    "                    dp[j] = min(dp[j],dp[j-num]+1)\n",
    "        return dp[n]\n",
    "    def numSquares_v2(self,n):\n",
    "        '''版本二：先遍历物品，再遍历背包'''\n",
    "        # 初始化\n",
    "        nums = [i**2 for i in range(1,n+1)if i**2<=n]\n",
    "        dp = [10**4]*(n+1)\n",
    "        dp[0]=0\n",
    "        # 遍历物品\n",
    "        for num in nums:\n",
    "            for j in range(num,n+1):\n",
    "                dp[j] = min(dp[j],dp[j-num]+1)\n",
    "        return dp[n]\n",
    "    \n",
    "n = 3 \n",
    "obj = Solution().numSquares(n)\n"
   ]
  },
  {
   "cell_type": "code",
   "execution_count": null,
   "metadata": {},
   "outputs": [],
   "source": []
  }
 ],
 "metadata": {
  "kernelspec": {
   "display_name": "Python 3 (ipykernel)",
   "language": "python",
   "name": "python3"
  },
  "language_info": {
   "codemirror_mode": {
    "name": "ipython",
    "version": 3
   },
   "file_extension": ".py",
   "mimetype": "text/x-python",
   "name": "python",
   "nbconvert_exporter": "python",
   "pygments_lexer": "ipython3",
   "version": "3.9.13"
  }
 },
 "nbformat": 4,
 "nbformat_minor": 2
}
