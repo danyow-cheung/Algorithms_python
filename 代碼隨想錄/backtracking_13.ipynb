{
 "cells": [
  {
   "cell_type": "markdown",
   "metadata": {},
   "source": [
    "# 排列问题（二）\n",
    "\n",
    "## 问题\n",
    "\n",
    "\n",
    "给定一个可包含重复数字的序列 nums ，按任意顺序 返回所有不重复的全排列。\n",
    "\n",
    "示例 1：\n",
    "\n",
    "输入：nums = [1,1,2]\n",
    "\n",
    "输出： [[1,1,2], [1,2,1], [2,1,1]]\n",
    "\n",
    "示例 2：\n",
    "\n",
    "输入：nums = [1,2,3]\n",
    "\n",
    "输出：[[1,2,3],[1,3,2],[2,1,3],[2,3,1],[3,1,2],[3,2,1]]\n",
    "\n",
    "\n",
    "\n",
    "## 代码\n",
    "\n"
   ]
  },
  {
   "cell_type": "code",
   "execution_count": 3,
   "metadata": {},
   "outputs": [
    {
     "name": "stdout",
     "output_type": "stream",
     "text": [
      "[[1, 1, 2], [1, 2, 1], [2, 1, 1]]\n"
     ]
    }
   ],
   "source": [
    "class Solution(object):\n",
    "    def permuteUnique(self, nums):\n",
    "        \"\"\"\n",
    "        :type nums: List[int]\n",
    "        :rtype: List[List[int]]\n",
    "        \"\"\"\n",
    "        used= [False]*len(nums)\n",
    "        res = []\n",
    "        path= []\n",
    "        nums.sort()\n",
    "        \n",
    "        def backtracking(nums,used):\n",
    "            if len(path)==len(nums):\n",
    "                res.append(path[:])\n",
    "                return \n",
    "            for i in range(len(nums)):\n",
    "                # used[i-1]==true说明【同一树枝】nums[i-1]使用过\n",
    "                # used[i-1]==False说明【同一树层】nums[i-1]使用过\n",
    "                # 如果同一树层nums[i-1]使用过则直接跳过\n",
    "                if (i>0 and nums[i]==nums[i-1] and used[i-1]==False):\n",
    "                    continue\n",
    "                if used[i]==False:\n",
    "                    used[i]=True \n",
    "                    path.append(nums[i])\n",
    "                    backtracking(nums,used)\n",
    "                    path.pop()\n",
    "                    used[i]=False \n",
    "        backtracking(nums,used)\n",
    "        print(res)\n",
    "        return res \n",
    "       \n",
    "nums = [1,1,2]\n",
    "obj = Solution().permuteUnique(nums)"
   ]
  },
  {
   "cell_type": "code",
   "execution_count": null,
   "metadata": {},
   "outputs": [],
   "source": []
  }
 ],
 "metadata": {
  "kernelspec": {
   "display_name": "Python 3.9.2 64-bit",
   "language": "python",
   "name": "python3"
  },
  "language_info": {
   "codemirror_mode": {
    "name": "ipython",
    "version": 3
   },
   "file_extension": ".py",
   "mimetype": "text/x-python",
   "name": "python",
   "nbconvert_exporter": "python",
   "pygments_lexer": "ipython3",
   "version": "3.9.2"
  },
  "orig_nbformat": 4,
  "vscode": {
   "interpreter": {
    "hash": "397704579725e15f5c7cb49fe5f0341eb7531c82d19f2c29d197e8b64ab5776b"
   }
  }
 },
 "nbformat": 4,
 "nbformat_minor": 2
}
