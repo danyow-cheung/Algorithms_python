{
 "cells": [
  {
   "attachments": {},
   "cell_type": "markdown",
   "metadata": {},
   "source": [
    "# 每日溫度\n",
    "> 單調輚\n",
    "\n",
    "\n",
    "## 問題\n",
    "\n",
    "\n",
    "请根据每日 气温 列表，重新生成一个列表。对应位置的输出为：要想观测到更高的气温，至少需要等待的天数。如果气温在这之后都不会升高，请在该位置用 0 来代替。\n",
    "\n",
    "例如，\n",
    "\n",
    "给定一个列表 temperatures = [73, 74, 75, 71, 69, 72, 76, 73]，\n",
    "\n",
    "你的输出应该是 [1, 1, 4, 2, 1, 1, 0, 0]。\n",
    "\n",
    "提示：气温 列表长度的范围是 [1, 30000]。每个气温的值的均为华氏度，都是在 [30, 100] 范围内的整数。\n",
    "\n",
    "\n",
    "## 代碼\n"
   ]
  },
  {
   "attachments": {},
   "cell_type": "markdown",
   "metadata": {},
   "source": [
    "那有同学就问了，我怎么能想到用单调栈呢？ 什么时候用单调栈呢？\n",
    "\n",
    "**通常是一维数组，要寻找任一个元素的右边或者左边第一个比自己大或者小的元素的位置，**此时我们就要想到可以用单调栈了。\n",
    "\n",
    "\n",
    "\n",
    "单调栈的本质**是空间换时间**，因为在遍历的过程中需要用一个栈来记录右边第一个比当前元素高的元素，优点是只需要遍历一次。\n"
   ]
  },
  {
   "attachments": {},
   "cell_type": "markdown",
   "metadata": {},
   "source": [
    "- 情况一：当前遍历的元素T[i]小于栈顶元素T[st.top()]的情况\n",
    "- 情况二：当前遍历的元素T[i]等于栈顶元素T[st.top()]的情况\n",
    "- 情况三：当前遍历的元素T[i]大于栈顶元素T[st.top()]的情况"
   ]
  },
  {
   "cell_type": "code",
   "execution_count": 1,
   "metadata": {},
   "outputs": [],
   "source": [
    "class Solution(object):\n",
    "    def dailyTemperatures(self, temperatures):\n",
    "        \"\"\"\n",
    "        :type temperatures: List[int]\n",
    "        :rtype: List[int]\n",
    "        \"\"\"\n",
    "        answer = [0]*len(temperatures)\n",
    "        stack = [0]\n",
    "        for i in range(1,len(temperatures)):\n",
    "            # 情況1和情況2\n",
    "            if temperatures[i]<=temperatures[stack[-1]]:\n",
    "                stack.append(i)\n",
    "            # 情況3\n",
    "            else:\n",
    "                while len(stack)!= 0 and temperatures[i]>temperatures[stack[-1]]:\n",
    "                    answer[stack[-1]]=i-stack[-1]\n",
    "                    stack.pop()\n",
    "                stack.append(i)\n",
    "        return answer"
   ]
  },
  {
   "cell_type": "code",
   "execution_count": null,
   "metadata": {},
   "outputs": [],
   "source": []
  }
 ],
 "metadata": {
  "kernelspec": {
   "display_name": "Python 3",
   "language": "python",
   "name": "python3"
  },
  "language_info": {
   "codemirror_mode": {
    "name": "ipython",
    "version": 3
   },
   "file_extension": ".py",
   "mimetype": "text/x-python",
   "name": "python",
   "nbconvert_exporter": "python",
   "pygments_lexer": "ipython3",
   "version": "3.9.2 (v3.9.2:1a79785e3e, Feb 19 2021, 09:06:10) \n[Clang 6.0 (clang-600.0.57)]"
  },
  "orig_nbformat": 4,
  "vscode": {
   "interpreter": {
    "hash": "397704579725e15f5c7cb49fe5f0341eb7531c82d19f2c29d197e8b64ab5776b"
   }
  }
 },
 "nbformat": 4,
 "nbformat_minor": 2
}
