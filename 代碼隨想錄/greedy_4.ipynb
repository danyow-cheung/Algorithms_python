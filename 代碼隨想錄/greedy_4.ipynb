{
 "cells": [
  {
   "cell_type": "markdown",
   "metadata": {},
   "source": [
    "# 买卖股票的最佳时机II\n",
    "\n",
    "## 问题\n",
    "给定一个数组，它的第 i 个元素是一支给定股票第 i 天的价格。\n",
    "\n",
    "设计一个算法来计算你所能获取的最大利润。你可以尽可能地完成更多的交易（多次买卖一支股票）。\n",
    "\n",
    "注意：你不能同时参与多笔交易（你必须在再次购买前出售掉之前的股票）。\n",
    "\n",
    "示例 1:\n",
    "\n",
    "- 输入: [7,1,5,3,6,4]\n",
    "- 输出: 7\n",
    "- 解释: 在第 2 天（股票价格 = 1）的时候买入，在第 3 天（股票价格 = 5）的时候卖出, 这笔交易所能获得利润 = 5-1 = 4。随后，在第 4 天（股票价格 = 3）的时候买入，在第 5 天（股票价格 = 6）的时候卖出, 这笔交易所能获得利润 = 6-3 = 3 。\n",
    "\n",
    "\n",
    "示例 2:\n",
    "\n",
    "- 输入: [1,2,3,4,5]\n",
    "- 输出: 4\n",
    "- 解释: 在第 1 天（股票价格 = 1）的时候买入，在第 5 天 （股票价格 = 5）的时候卖出, 这笔交易所能获得利润 = 5-1 = 4 。注意你不能在第 1 天和第 2 天接连购买股票，之后再将它们卖出。因为这样属于同时参与了多笔交易，你必须在再次购买前出售掉之前的股票。\n",
    "\n",
    "\n",
    "示例 3:\n",
    "- 输入: [7,6,4,3,1]\n",
    "- 输出: 0\n",
    "- 解释: 在这种情况下, 没有交易完成, 所以最大利润为 0。\n",
    "\n",
    "## 代码\n",
    "\n",
    "\n",
    "<img src = 'https://img-blog.csdnimg.cn/2020112917480858.png'>"
   ]
  },
  {
   "cell_type": "markdown",
   "metadata": {},
   "source": [
    "**收集正利润的区间，就是股票买卖区间**\n"
   ]
  },
  {
   "cell_type": "code",
   "execution_count": null,
   "metadata": {},
   "outputs": [],
   "source": [
    "class Solution(object):\n",
    "    def maxProfit(self, prices):\n",
    "        \"\"\"\n",
    "        :type prices: List[int]\n",
    "        :rtype: int\n",
    "        \"\"\"\n",
    "        res = 0 \n",
    "        # 不算第一天，第一天没有利润\n",
    "        for i in range(1,len(prices)):\n",
    "            res += max(prices[i]-prices[i-1],0)\n",
    "        return res \n"
   ]
  }
 ],
 "metadata": {
  "language_info": {
   "name": "python"
  },
  "orig_nbformat": 4
 },
 "nbformat": 4,
 "nbformat_minor": 2
}
