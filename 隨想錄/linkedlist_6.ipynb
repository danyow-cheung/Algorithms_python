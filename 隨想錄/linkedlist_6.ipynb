{
 "cells": [
  {
   "cell_type": "markdown",
   "metadata": {},
   "source": [
    "# 刪除鏈表的倒數第N個節點\n",
    "## 問題\n",
    "给你一个链表，删除链表的倒数第 n 个结点，并且返回链表的头结点。\n",
    "进阶：你能尝试使用一趟扫描实现吗？\n",
    "\n",
    "\n",
    "<u>示例</u><br>\n",
    "- 输入：head = [1,2,3,4,5], n = 2 输出：[1,2,3,5] \n",
    "- 输入：head = [1], n = 1 输出：[] \n",
    "- 输入：head = [1,2], n = 1 输出：[1]\n",
    "<img src =\"https://img-blog.csdnimg.cn/20210510085957392.png\">\n",
    "\n",
    "\n",
    "## 代碼\n",
    "1. 雙指針"
   ]
  },
  {
   "cell_type": "code",
   "execution_count": null,
   "metadata": {},
   "outputs": [],
   "source": [
    "# Definition for singly-linked list.\n",
    "class ListNode(object):\n",
    "    def __init__(self, val=0, next=None):\n",
    "        self.val = val\n",
    "        self.next = next\n",
    "class Solution(object):\n",
    "    def removeNthFromEnd(self, head, n):\n",
    "        \"\"\"\n",
    "        :type head: ListNode\n",
    "        :type n: int\n",
    "        :rtype: ListNode\n",
    "        \"\"\"\n",
    "        fast = head \n",
    "        # 循環遍歷到n的前一位n-1\n",
    "        for _ in range(n):\n",
    "            fast = fast.next\n",
    "        # 如果不存在就返回後一個\n",
    "        if not fast:\n",
    "            return head.next \n",
    "        \n",
    "        slow = head \n",
    "        # 如果存在\n",
    "        # 不理解就看圖\n",
    "        while fast.next:\n",
    "            # 跳過當前這一個，走到後一個\n",
    "            fast =fast.next \n",
    "            slow = slow.next.next \n",
    "        return head \n"
   ]
  },
  {
   "cell_type": "markdown",
   "metadata": {},
   "source": [
    "<img src =\"src/remove_index.png\">"
   ]
  }
 ],
 "metadata": {
  "kernelspec": {
   "display_name": "Python 3.9.2 64-bit",
   "language": "python",
   "name": "python3"
  },
  "language_info": {
   "name": "python",
   "version": "3.9.2"
  },
  "orig_nbformat": 4,
  "vscode": {
   "interpreter": {
    "hash": "397704579725e15f5c7cb49fe5f0341eb7531c82d19f2c29d197e8b64ab5776b"
   }
  }
 },
 "nbformat": 4,
 "nbformat_minor": 2
}
