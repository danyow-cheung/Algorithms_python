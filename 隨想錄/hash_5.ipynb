{
 "cells": [
  {
   "cell_type": "code",
   "execution_count": null,
   "metadata": {},
   "outputs": [],
   "source": []
  },
  {
   "cell_type": "markdown",
   "metadata": {},
   "source": [
    "# 四數相加\n",
    "\n",
    "## 問題\n",
    "\n",
    "给定四个包含整数的数组列表 A , B , C , D ,计算有多少个元组 (i, j, k, l) ，使得 A[i] + B[j] + C[k] + D[l] = 0。\n",
    "\n",
    "为了使问题简单化，所有的 A, B, C, D 具有相同的长度 N，且 0 ≤ N ≤ 500 。所有整数的范围在 -2^28 到 2^28 - 1 之间，最终结果不会超过 2^31 - 1 。\n",
    "\n",
    "\n",
    "<u>示例</u><br>\n",
    "Input: nums1 = [1,2], nums2 = [-2,-1], nums3 = [-1,2], nums4 = [0,2]\n",
    "\n",
    "Output: 2\n",
    "\n",
    "Explanation:\n",
    "\n",
    "The two tuples are:\n",
    "1. (0, 0, 0, 1) -> nums1[0] + nums2[0] + nums3[0] + nums4[1] = 1 + (-2) + (-1) + 2 = 0\n",
    "2. (1, 1, 0, 0) -> nums1[1] + nums2[1] + nums3[0] + nums4[0] = 2 + (-1) + (-1) + 0 = 0\n",
    "   \n",
    "## 代碼\n",
    "\n",
    "1. 首先定义 一个unordered_map，key放a和b两数之和，value 放a和b两数之和出现的次数。\n",
    "2. 遍历大A和大B数组，统计两个数组元素之和，和出现的次数，放到map中。\n",
    "3. 定义int变量count，用来统计 a+b+c+d = 0 出现的次数。\n",
    "4. 在遍历大C和大D数组，找到如果 0-(c+d) 在map中出现过的话，就用count把map中key对应的value也就是出现次数统计出来。\n",
    "5. 最后返回统计值 count 就可以了\n",
    "\n"
   ]
  },
  {
   "cell_type": "code",
   "execution_count": 2,
   "metadata": {},
   "outputs": [],
   "source": [
    "class Solution(object):\n",
    "    def fourSumCount(self, nums1, nums2, nums3, nums4):\n",
    "        \"\"\"\n",
    "        :type nums1: List[int]\n",
    "        :type nums2: List[int]\n",
    "        :type nums3: List[int]\n",
    "        :type nums4: List[int]\n",
    "        :rtype: int\n",
    "        \"\"\"\n",
    "        hashmap = dict()\n",
    "        for i in nums1:\n",
    "            for j in nums2:\n",
    "                if i+j in hashmap:\n",
    "                    hashmap[i+j]+=1 \n",
    "\n",
    "                else:\n",
    "                    hashmap[i+j]=1 \n",
    "        count = 0\n",
    "\n",
    "        for i in nums3:\n",
    "            for j in nums4:\n",
    "                key = -i-j \n",
    "                if key in hashmap:\n",
    "                    count += hashmap[key]\n",
    "\n",
    "        return count \n",
    "        "
   ]
  },
  {
   "cell_type": "code",
   "execution_count": null,
   "metadata": {},
   "outputs": [],
   "source": []
  }
 ],
 "metadata": {
  "kernelspec": {
   "display_name": "Python 3.9.2 64-bit",
   "language": "python",
   "name": "python3"
  },
  "language_info": {
   "codemirror_mode": {
    "name": "ipython",
    "version": 3
   },
   "file_extension": ".py",
   "mimetype": "text/x-python",
   "name": "python",
   "nbconvert_exporter": "python",
   "pygments_lexer": "ipython3",
   "version": "3.9.2"
  },
  "orig_nbformat": 4,
  "vscode": {
   "interpreter": {
    "hash": "397704579725e15f5c7cb49fe5f0341eb7531c82d19f2c29d197e8b64ab5776b"
   }
  }
 },
 "nbformat": 4,
 "nbformat_minor": 2
}
