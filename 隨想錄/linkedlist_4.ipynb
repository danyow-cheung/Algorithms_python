{
 "cells": [
  {
   "cell_type": "markdown",
   "metadata": {},
   "source": [
    "# 翻轉鏈表\n",
    "\n",
    "\n",
    "## 問題\n",
    "题意：反转一个单链表。\n",
    "\n",
    "示例: 输入: 1->2->3->4->5->NULL 输出: 5->4->3->2->1->NULL\n",
    "\n",
    "\n",
    "## 代碼"
   ]
  }
 ],
 "metadata": {
  "kernelspec": {
   "display_name": "Python 3.9.2 64-bit",
   "language": "python",
   "name": "python3"
  },
  "language_info": {
   "name": "python",
   "version": "3.9.2"
  },
  "orig_nbformat": 4,
  "vscode": {
   "interpreter": {
    "hash": "397704579725e15f5c7cb49fe5f0341eb7531c82d19f2c29d197e8b64ab5776b"
   }
  }
 },
 "nbformat": 4,
 "nbformat_minor": 2
}
