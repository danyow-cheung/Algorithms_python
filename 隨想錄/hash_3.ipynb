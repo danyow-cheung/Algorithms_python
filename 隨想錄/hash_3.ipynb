{
 "cells": [
  {
   "cell_type": "markdown",
   "metadata": {},
   "source": [
    "# 快樂數\n",
    "## 問題\n",
    "编写一个算法来判断一个数 n 是不是快乐数。\n",
    "\n",
    "「快乐数」定义为：对于一个正整数，每一次将该数替换为它每个位置上的数字的平方和，然后重复这个过程直到这个数变为 1，也可能是 无限循环 但始终变不到 1。如果 可以变为  1，那么这个数就是快乐数。\n",
    "如果 n 是快乐数就返回 True ；不是，则返回 False 。\n",
    "\n",
    "<u>示例</u><br>\n",
    "\n",
    "Input: n = 19\n",
    "\n",
    "Output: true\n",
    "\n",
    "Explanation:\n",
    "\n",
    "12 + 92 = 82\n",
    "\n",
    "82 + 22 = 68\n",
    "\n",
    "62 + 82 = 100\n",
    "\n",
    "12 + 02 + 02 = 1\n",
    "\n",
    "\n",
    "## 代碼"
   ]
  },
  {
   "cell_type": "code",
   "execution_count": 9,
   "metadata": {},
   "outputs": [],
   "source": [
    "class Solution(object):\n",
    "    def isHappy(self, n):\n",
    "        \"\"\"\n",
    "        :type n: int\n",
    "        :rtype: bool\n",
    "        \"\"\"\n",
    "        def getNext(n):\n",
    "            num = str(n)\n",
    "            sum = 0\n",
    "            for i in num:\n",
    "                i = int(i) **2\n",
    "                sum += i \n",
    "            return sum \n",
    "        \n",
    "        # 集合作為數據結構，防止有重複\n",
    "        res = set()\n",
    "        while n!=1 and n not in res:\n",
    "            res.add(n)\n",
    "            n = getNext(n)\n",
    "        # 返回是真還是假\n",
    "        return n==1 \n",
    "\n",
    "n = 19\n",
    "obj = Solution().isHappy(n)       \n"
   ]
  }
 ],
 "metadata": {
  "kernelspec": {
   "display_name": "Python 3.9.2 64-bit",
   "language": "python",
   "name": "python3"
  },
  "language_info": {
   "codemirror_mode": {
    "name": "ipython",
    "version": 3
   },
   "file_extension": ".py",
   "mimetype": "text/x-python",
   "name": "python",
   "nbconvert_exporter": "python",
   "pygments_lexer": "ipython3",
   "version": "3.9.2"
  },
  "orig_nbformat": 4,
  "vscode": {
   "interpreter": {
    "hash": "397704579725e15f5c7cb49fe5f0341eb7531c82d19f2c29d197e8b64ab5776b"
   }
  }
 },
 "nbformat": 4,
 "nbformat_minor": 2
}
