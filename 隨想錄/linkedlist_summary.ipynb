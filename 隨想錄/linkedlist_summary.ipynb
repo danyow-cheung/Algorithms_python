{
 "cells": [
  {
   "cell_type": "markdown",
   "metadata": {},
   "source": [
    "# 總結\n",
    "\n",
    "\n",
    "## 鏈表的理論基礎\n",
    "- 链表的种类主要为：单链表，双链表，循环链表\n",
    "- 链表的存储方式：链表的节点在内存中是分散存储的，通过指针连在一起。\n",
    "- 链表是如何进行增删改查的。\n",
    "- 数组和链表在不同场景下的性能分析。\n",
    "\n",
    "\n",
    "## 鏈表的經典題目\n",
    "雙指針方法\n",
    "\n",
    "## 環形鏈表\n",
    "\n",
    "<img src =\"https://code-thinking-1253855093.file.myqcloud.com/pics/%E9%93%BE%E8%A1%A8%E6%80%BB%E7%BB%93.png\">"
   ]
  }
 ],
 "metadata": {
  "kernelspec": {
   "display_name": "Python 3.9.2 64-bit",
   "language": "python",
   "name": "python3"
  },
  "language_info": {
   "name": "python",
   "version": "3.9.2"
  },
  "orig_nbformat": 4,
  "vscode": {
   "interpreter": {
    "hash": "397704579725e15f5c7cb49fe5f0341eb7531c82d19f2c29d197e8b64ab5776b"
   }
  }
 },
 "nbformat": 4,
 "nbformat_minor": 2
}
