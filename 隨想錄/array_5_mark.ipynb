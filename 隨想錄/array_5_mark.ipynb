{
 "cells": [
  {
   "cell_type": "markdown",
   "metadata": {},
   "source": [
    "# 長度最小的子數組【滑動窗口】"
   ]
  },
  {
   "cell_type": "markdown",
   "metadata": {},
   "source": [
    "## 題目\n",
    "\n",
    "给定一个含有 n 个正整数的数组和一个正整数 s ，找出该数组中**满足其和** ≥ s 的长度最小的 连续 子数组，并返回其长度。如果不存在符合条件的子数组，返回 0。\n",
    "\n",
    "<u>示例</u><br>\n",
    "输入：s = 7, nums = [2,3,1,2,4,3] 输出：2 解释：子数组 [4,3] 是该条件下的长度最小的子数组。"
   ]
  },
  {
   "cell_type": "markdown",
   "metadata": {},
   "source": [
    "## 代碼\n",
    "1. 暴力循環(超時)\n",
    "2. 滑動窗口\n"
   ]
  },
  {
   "cell_type": "code",
   "execution_count": 24,
   "metadata": {},
   "outputs": [],
   "source": [
    "# def func_1(s,nums):\n",
    "#     res = 0\n",
    "#     for i in range(len(nums)):\n",
    "#         sum = 0\n",
    "#         for j in range(i,len(nums)):\n",
    "#             sum += nums[j]\n",
    "\n",
    "#             if sum>=s:\n",
    "#                 res_len = j-i+1\n",
    "#                 #res = res if res>res_len else res_len\n",
    "#                 break\n",
    "                \n",
    "#     print(res) "
   ]
  },
  {
   "cell_type": "markdown",
   "metadata": {},
   "source": [
    "**滑動窗口**\n",
    "只用一个for循环，那么这个循环的索引，一定是表示 滑动窗口的终止位置。\n",
    "\n",
    "在本题中实现滑动窗口，主要确定如下三点：\n",
    "- 窗口内是什么？\n",
    "  <br>【窗口是滿足其和>=s的長度最小的連續子數組】\n",
    "  \n",
    "- 如何移动窗口的起始位置？\n",
    "  <br>【如果当前窗口的值<U>大于</u>s了，窗口就要向前移动了（也就是该缩小了）】\n",
    "  \n",
    "- 如何移动窗口的结束位置？\n",
    "  <br>【窗口的结束位置就是遍历数组的指针，也就是for循环里的索引。】\n",
    "\n",
    "滑动窗口的精妙之处在于根据当前子序列和大小的情况，**不断调节子序列的起始位置**。从而将O(n^2)暴力解法降为O(n)。"
   ]
  },
  {
   "cell_type": "code",
   "execution_count": null,
   "metadata": {},
   "outputs": [],
   "source": [
    "from math import inf \n",
    "class Solution(object):\n",
    "    def func_2(self, target, nums):\n",
    "        \"\"\"\n",
    "        :type target: int\n",
    "        :type nums: List[int]\n",
    "        :rtype: int\n",
    "        滑動窗口\n",
    "        \"\"\"\n",
    "        sum = 0 \n",
    "        # 無限大的數\n",
    "        res = inf\n",
    "\n",
    "        left = 0\n",
    "        for i in range(len(nums)):\n",
    "            sum += nums[i]\n",
    "            # while>if \n",
    "            while sum>= target:\n",
    "                # 【這一步是main key】\n",
    "                res = min(res,i-left+1)\n",
    "                sum-=nums[left]\n",
    "                left+=1\n",
    "        return res if res!=inf else 0"
   ]
  },
  {
   "cell_type": "code",
   "execution_count": 25,
   "metadata": {},
   "outputs": [
    {
     "name": "stdout",
     "output_type": "stream",
     "text": [
      "0\n"
     ]
    }
   ],
   "source": [
    "s = 7\n",
    "nums = [2,3,1,2,4,3]\n",
    "func_2(s,nums)"
   ]
  },
  {
   "cell_type": "code",
   "execution_count": null,
   "metadata": {},
   "outputs": [],
   "source": []
  }
 ],
 "metadata": {
  "kernelspec": {
   "display_name": "Python 3.9.2 64-bit",
   "language": "python",
   "name": "python3"
  },
  "language_info": {
   "codemirror_mode": {
    "name": "ipython",
    "version": 3
   },
   "file_extension": ".py",
   "mimetype": "text/x-python",
   "name": "python",
   "nbconvert_exporter": "python",
   "pygments_lexer": "ipython3",
   "version": "3.9.2"
  },
  "orig_nbformat": 4,
  "vscode": {
   "interpreter": {
    "hash": "397704579725e15f5c7cb49fe5f0341eb7531c82d19f2c29d197e8b64ab5776b"
   }
  }
 },
 "nbformat": 4,
 "nbformat_minor": 2
}
