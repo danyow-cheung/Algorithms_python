{
 "cells": [
  {
   "cell_type": "markdown",
   "metadata": {},
   "source": [
    "# 贖金信\n",
    "## 問題\n",
    "给定一个赎金信 (ransom) 字符串和一个杂志(magazine)字符串，判断第一个字符串 ransom 能不能由第二个字符串 magazines 里面的字符构成。如果可以构成，返回 true ；否则返回 false。\n",
    "\n",
    "(题目说明：为了不暴露赎金信字迹，要从杂志上搜索各个需要的字母，组成单词来表达意思。杂志字符串中的每个字符只能在赎金信字符串中使用一次。)\n",
    "\n",
    "\n",
    "## 代碼\n",
    "\n",
    "本题判断第一个字符串ransom能不能由第二个字符串magazines里面的字符构成，但是这里需要注意两点。\n",
    "\n",
    "- 第一点“为了不暴露赎金信字迹，要从杂志上搜索各个需要的字母，组成单词来表达意思”  这里说明杂志里面的字母不可重复使用。\n",
    "\n",
    "- 第二点 “你可以假设两个字符串均只含有小写字母。” 说明只有小写字母，这一点很重要\n",
    "\n",
    "\n",
    "\n",
    "<br>\n",
    "**借鑑hash_1.ipynb**\n",
    "\n",
    "```\n",
    "class Solution(object):\n",
    "    def isAnagram(self, s, t):\n",
    "        \"\"\"\n",
    "        :type s: str\n",
    "        :type t: str\n",
    "        :rtype: bool\n",
    "        計算字符串中出現字母的次數是否相同\n",
    "        \"\"\"\n",
    "        res = [0]*26\n",
    "        for i in range(len(s)):\n",
    "            res[ord(s[i])-ord('a')]+=1 \n",
    "        for i in range(len(t)):\n",
    "            res[ord(t[i])-ord('a')]-=1 \n",
    "\n",
    "        for i in range(26):\n",
    "            if res[i]!=0:\n",
    "                return False \n",
    "        return True \n",
    "```\n"
   ]
  },
  {
   "cell_type": "code",
   "execution_count": 1,
   "metadata": {},
   "outputs": [],
   "source": [
    "class Solution(object):\n",
    "    def canConstruct(self, ransomNote, magazine):\n",
    "        \"\"\"\n",
    "        :type ransomNote: str\n",
    "        :type magazine: str\n",
    "        :rtype: bool\n",
    "        \"\"\"\n",
    "        res = [0]*26\n",
    "        for i in ransomNote:\n",
    "            res[ord(i) - ord(\"a\")] += 1\n",
    "        for i in magazine:\n",
    "            # \n",
    "            if  res[ord(i) - ord(\"a\")]==0:\n",
    "                return False \n",
    "            else:\n",
    "                res[ord(i) - ord(\"a\")]-=1 \n",
    "        return True "
   ]
  },
  {
   "cell_type": "code",
   "execution_count": null,
   "metadata": {},
   "outputs": [],
   "source": [
    "from collections import Counter    \n",
    "class Solution(object):\n",
    "    def canConstruct(self, ransomNote, magazine):\n",
    "        \"\"\"\n",
    "        :type s: str\n",
    "        :type t: str\n",
    "        :rtype: bool\n",
    "       \n",
    "        \"\"\"\n",
    "        # leetcode上更方便的方法\n",
    "        \n",
    "        rans = Counter(ransomNote)\n",
    "        maga = Counter(magazine)\n",
    "        #diff只保留值大于0的符号，当c1里面的符号个数小于c2时，不会被保留\n",
    "        #所以diff只保留下了，magazine不能表达的\n",
    "        diff = rans - maga \n",
    "        if len(diff)==0:\n",
    "            return True\n",
    "        return False  \n",
    "        \n",
    "\n",
    "\n",
    "\n",
    "        "
   ]
  }
 ],
 "metadata": {
  "kernelspec": {
   "display_name": "Python 3.9.2 64-bit",
   "language": "python",
   "name": "python3"
  },
  "language_info": {
   "codemirror_mode": {
    "name": "ipython",
    "version": 3
   },
   "file_extension": ".py",
   "mimetype": "text/x-python",
   "name": "python",
   "nbconvert_exporter": "python",
   "pygments_lexer": "ipython3",
   "version": "3.9.2"
  },
  "orig_nbformat": 4,
  "vscode": {
   "interpreter": {
    "hash": "397704579725e15f5c7cb49fe5f0341eb7531c82d19f2c29d197e8b64ab5776b"
   }
  }
 },
 "nbformat": 4,
 "nbformat_minor": 2
}
