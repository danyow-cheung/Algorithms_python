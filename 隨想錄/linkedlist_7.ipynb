{
 "cells": [
  {
   "cell_type": "markdown",
   "metadata": {},
   "source": [
    "# 鏈表相交\n",
    "## 問題\n",
    "给你两个单链表的头节点 headA 和 headB ，请你找出并返回两个单链表相交的起始节点。如果两个链表没有交点，返回 null 。\n",
    "\n",
    "<u>示例</u>\n",
    "<br><img src=\"https://assets.leetcode.com/uploads/2021/03/05/160_example_1_1.png\">\n",
    "\n",
    "\n",
    "- Input: intersectVal = 8, listA = [4,1,8,4,5], listB = [5,6,1,8,4,5], skipA = 2, skipB = 3\n",
    "- Output: Intersected at '8'\n",
    "\n",
    "\n",
    "## 代碼"
   ]
  },
  {
   "cell_type": "markdown",
   "metadata": {},
   "source": [
    "求兩個鏈表交點節點的指針，交點指的是指針相等。節點元素數組相等則節點指針相等\n",
    "**求某一段元素為相同的**"
   ]
  },
  {
   "cell_type": "code",
   "execution_count": null,
   "metadata": {},
   "outputs": [],
   "source": [
    "# Definition for singly-linked list.\n",
    "class ListNode(object):\n",
    "    def __init__(self, x):\n",
    "        self.val = x\n",
    "        self.next = None\n",
    "\n",
    "class Solution(object):\n",
    "    def getIntersectionNode(self, headA, headB):\n",
    "        \"\"\"\n",
    "        :type head1, head1: ListNode\n",
    "        :rtype: ListNode\n",
    "        \"\"\"\n",
    "        curA = headA \n",
    "        curB = headB\n",
    "        # 找到最短的鏈表，然後用最短的鏈表做返回結果\n",
    "        curA_len = self.linked_list_len(curA)\n",
    "        curB_len = self.linked_list_len(curB)\n",
    "        # 求出差值\n",
    "        diff = abs(curA_len-curB_len)\n",
    "\n",
    "        if curA_len>curB_len:\n",
    "            while diff:\n",
    "                curA = curA.next \n",
    "                diff -= 1\n",
    "\n",
    "        # elif curB_len>curA_len:\n",
    "        else:\n",
    "            while diff:\n",
    "                curB = curB.next \n",
    "                diff-=1\n",
    "        while curA:\n",
    "            # 判斷是否為相等的條件，不止包含值相等而是指針\n",
    "            if curA == curB:return curA \n",
    "            curA = curA.next \n",
    "            curB = curB.next \n",
    "        return None \n",
    "        \n",
    "        # 都有後面的值\n",
    "        # while curA.next and curB.next:\n",
    "    \n",
    "    def linked_list_len(self,head):\n",
    "        i = 0\n",
    "        # 求出鏈表的長度\n",
    "        while head:\n",
    "            i += 1 \n",
    "            head =head.next \n",
    "        return i \n",
    "    \n",
    "\n",
    "\n",
    "        \n",
    "        "
   ]
  },
  {
   "cell_type": "markdown",
   "metadata": {},
   "source": [
    "更為簡單的版本，但有點看不懂"
   ]
  },
  {
   "cell_type": "code",
   "execution_count": null,
   "metadata": {},
   "outputs": [],
   "source": [
    "class Solution:\n",
    "    def getIntersectionNode(self, headA, headB):\n",
    "        l1,l2 = headA,headB \n",
    "        while l1!=l2:\n",
    "            # l1有後續的節點，否則遍歷headB裡面的\n",
    "            l1 = l1.next if l1 else headB \n",
    "            # 同理上述\n",
    "            l2 = l2.next if l2 else headA \n",
    "        # 結束循環後，返回任意的都是相交列表\n",
    "        return l2 \n",
    "    "
   ]
  }
 ],
 "metadata": {
  "kernelspec": {
   "display_name": "Python 3.9.2 64-bit",
   "language": "python",
   "name": "python3"
  },
  "language_info": {
   "name": "python",
   "version": "3.9.2"
  },
  "orig_nbformat": 4,
  "vscode": {
   "interpreter": {
    "hash": "397704579725e15f5c7cb49fe5f0341eb7531c82d19f2c29d197e8b64ab5776b"
   }
  }
 },
 "nbformat": 4,
 "nbformat_minor": 2
}
